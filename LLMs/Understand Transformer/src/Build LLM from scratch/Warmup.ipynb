{
 "cells": [
  {
   "cell_type": "code",
   "execution_count": 1,
   "id": "6842f7bf",
   "metadata": {},
   "outputs": [
    {
     "name": "stdout",
     "output_type": "stream",
     "text": [
      "Ollama running: True\n"
     ]
    }
   ],
   "source": [
    "import psutil\n",
    "\n",
    "def check_if_running(process_name):\n",
    "    running = False\n",
    "    for proc in psutil.process_iter([\"name\"]):\n",
    "        if process_name in proc.info[\"name\"]:\n",
    "            running = True\n",
    "            break\n",
    "    return running\n",
    "\n",
    "ollama_running = check_if_running(\"ollama\")\n",
    "\n",
    "if not ollama_running:\n",
    "    raise RuntimeError(\n",
    "        \"Ollama not running. Launch ollama before proceeding.\"\n",
    ")\n",
    "print(\"Ollama running:\", check_if_running(\"ollama\"))"
   ]
  },
  {
   "cell_type": "markdown",
   "id": "f319f4c9",
   "metadata": {},
   "source": [
    "## Interact with Ollama via API"
   ]
  },
  {
   "cell_type": "code",
   "execution_count": 14,
   "id": "978ecb04",
   "metadata": {},
   "outputs": [],
   "source": [
    "import urllib.request\n",
    "import json\n",
    "\n",
    "def query_model(\n",
    "    prompt, \n",
    "    model=\"llama3\", \n",
    "    url=\"http://localhost:11434/api/chat\"\n",
    "):\n",
    "    data = {             #1\n",
    "        \"model\": model,\n",
    "        \"messages\": [\n",
    "            {\"role\": \"user\", \"content\": prompt}\n",
    "        ],\n",
    "        \"options\": {         #2\n",
    "            \"seed\": 123,\n",
    "            \"temperature\": 0,\n",
    "            \"num_ctx\": 2048\n",
    "        }\n",
    "    }\n",
    "\n",
    "\n",
    "    payload = json.dumps(data).encode(\"utf-8\")    #3\n",
    "    request = urllib.request.Request(                       #4\n",
    "        url,                                                #4\n",
    "        data=payload,                                       #4\n",
    "        method=\"POST\"                                       #4\n",
    "    ) #4\n",
    "\n",
    "    request.add_header(\"Content-Type\", \"application/json\")   #4\n",
    "\n",
    "    response_data = \"\"\n",
    "    with urllib.request.urlopen(request) as response:   #5\n",
    "        while True:\n",
    "            line = response.readline().decode(\"utf-8\")\n",
    "            if not line:\n",
    "                break\n",
    "            response_json = json.loads(line)\n",
    "            response_data += response_json[\"message\"][\"content\"]\n",
    "\n",
    "    return response_data"
   ]
  },
  {
   "cell_type": "code",
   "execution_count": 15,
   "id": "09cc74c7",
   "metadata": {},
   "outputs": [
    {
     "name": "stdout",
     "output_type": "stream",
     "text": [
      "The capital of France is Paris.\n",
      "\n"
     ]
    }
   ],
   "source": [
    "model = \"gemma3:270m\"\n",
    "result = query_model(\"What is the capital of France?\", model)\n",
    "print(result)"
   ]
  },
  {
   "cell_type": "code",
   "execution_count": 16,
   "id": "12f7fbba",
   "metadata": {},
   "outputs": [
    {
     "name": "stdout",
     "output_type": "stream",
     "text": [
      "Snails are primarily carnivorous, meaning they eat plants and other organic matter. They are known for their ability to digest a wide variety of food, including:\n",
      "\n",
      "*   **Leaves:** They are the primary food source for many snails.\n",
      "*   **Roots:** They can absorb nutrients from the soil.\n",
      "*   **Fruits and Vegetables:** They can also eat fruits and vegetables.\n",
      "*   **Seeds:** They can also eat seeds.\n",
      "*   **Other Organic Matter:** They can also eat other organic matter.\n",
      "\n",
      "\n"
     ]
    }
   ],
   "source": [
    "\n",
    "result = query_model(\"What do snails eat?\", model)\n",
    "print(result)"
   ]
  },
  {
   "cell_type": "code",
   "execution_count": 17,
   "id": "615ab490",
   "metadata": {},
   "outputs": [
    {
     "data": {
      "text/plain": [
       "False"
      ]
     },
     "execution_count": 17,
     "metadata": {},
     "output_type": "execute_result"
    }
   ],
   "source": [
    "import torch\n",
    "torch.cuda.is_available()"
   ]
  },
  {
   "cell_type": "code",
   "execution_count": 18,
   "id": "d5bce286",
   "metadata": {},
   "outputs": [],
   "source": [
    "from torch import tensor\n",
    "tensor2d = tensor([[1, 2, 3],\n",
    "        [4, 5, 6]])"
   ]
  },
  {
   "cell_type": "code",
   "execution_count": 19,
   "id": "7be69513",
   "metadata": {},
   "outputs": [
    {
     "name": "stdout",
     "output_type": "stream",
     "text": [
      "torch.Size([2, 3])\n"
     ]
    }
   ],
   "source": [
    "print(tensor2d.shape)"
   ]
  },
  {
   "cell_type": "markdown",
   "id": "6f74dac9",
   "metadata": {},
   "source": [
    "Reshape the tensor into 3x2"
   ]
  },
  {
   "cell_type": "code",
   "execution_count": 20,
   "id": "166a1345",
   "metadata": {},
   "outputs": [
    {
     "name": "stdout",
     "output_type": "stream",
     "text": [
      "tensor([[1, 2],\n",
      "        [3, 4],\n",
      "        [5, 6]])\n"
     ]
    }
   ],
   "source": [
    "print(tensor2d.reshape(3, 2))"
   ]
  },
  {
   "cell_type": "markdown",
   "id": "d9582571",
   "metadata": {},
   "source": [
    "However, note that the more common command for reshaping tensors in PyTorch is .view()"
   ]
  },
  {
   "cell_type": "code",
   "execution_count": 21,
   "id": "214ea334",
   "metadata": {},
   "outputs": [
    {
     "name": "stdout",
     "output_type": "stream",
     "text": [
      "tensor([[1, 2],\n",
      "        [3, 4],\n",
      "        [5, 6]])\n"
     ]
    }
   ],
   "source": [
    "print(tensor2d.view(3, 2))"
   ]
  },
  {
   "cell_type": "markdown",
   "id": "da78f061",
   "metadata": {},
   "source": [
    "Similar to .reshape and .view, in several cases, PyTorch offers multiple syntax options for executing the same computation. PyTorch initially followed the original Lua Torch syntax convention but then, by popular request, added syntax to make it similar to NumPy. (The subtle difference between .view() and .reshape() in PyTorch lies in their handling of memory layout: .view() requires the original data to be contiguous and will fail if it isn’t, whereas .reshape() will work regardless, copying the data if necessary to ensure the desired shape.)"
   ]
  },
  {
   "cell_type": "markdown",
   "id": "3dbadbfb",
   "metadata": {},
   "source": [
    "Matrix multiplication"
   ]
  },
  {
   "cell_type": "code",
   "execution_count": 22,
   "id": "03f12aa5",
   "metadata": {},
   "outputs": [
    {
     "name": "stdout",
     "output_type": "stream",
     "text": [
      "tensor([[14, 32],\n",
      "        [32, 77]])\n",
      "tensor([[14, 32],\n",
      "        [32, 77]])\n"
     ]
    }
   ],
   "source": [
    "print(tensor2d.matmul(tensor2d.T)) # way 1\n",
    "print(tensor2d @ tensor2d.T) # way 2"
   ]
  },
  {
   "cell_type": "markdown",
   "id": "284f79d1",
   "metadata": {},
   "source": [
    "## Interact with LM Studio"
   ]
  },
  {
   "cell_type": "code",
   "execution_count": 29,
   "id": "3d627184",
   "metadata": {},
   "outputs": [
    {
     "name": "stdout",
     "output_type": "stream",
     "text": [
      "The meaning of life is a question that has been pondered by humans for millennia. There's no single, universally accepted answer. \n",
      "\n",
      "Different philosophies and religions offer varying perspectives on this fundamental inquiry. Some common answers include:\n",
      "\n",
      "*   **Religion:** Many religions offer answers through faith or belief in a higher power, guiding individuals towards a fulfilling life.\n",
      "*   **Philosophy:** Exploring the meaning of existence through philosophical thought can lead to insights into morality, ethics, and the nature of reality.\n",
      "*   **Personal Growth:** Finding meaning through personal development, learning, and experiencing the world is often seen as a significant aspect of a meaningful life.\n",
      "*   **Relationships:** Connecting with others and building meaningful relationships can provide purpose and support.\n",
      "\n",
      "Ultimately, what constitutes a meaningful life is subjective and depends on individual values, beliefs, and experiences.\n"
     ]
    }
   ],
   "source": [
    "import lmstudio as lms\n",
    "\n",
    "model = lms.llm(\"gemma-3-270m-it\")\n",
    "result = model.respond(\"What is the meaning of life?\")\n",
    "\n",
    "print(result)\n"
   ]
  },
  {
   "cell_type": "code",
   "execution_count": 30,
   "id": "7aa09db3",
   "metadata": {},
   "outputs": [
    {
     "name": "stdout",
     "output_type": "stream",
     "text": [
      "<think>\n",
      "\n",
      "Okay, so I need to figure out what the meaning of life is. Hmm, where do I start? The user mentioned that I'm Phidot, but maybe they're actually asking me, the AI, named Phi developed by Microsoft. Wait, no, the user's name is Phi, and they want my answer. Let me focus on the question itself.\n",
      "\n",
      "The meaning of life has been a big question in various fields—religion, philosophy, science, even popular culture. Different people have different answers based on their beliefs or knowledge. Let's break this down step by step.\n",
      "\n",
      "First, from a philosophical standpoint. Existentialists like Sartre might say life has no inherent meaning, and we create our own through choices. Contrast that with religions that often prescribe a purpose, like Christianity's idea of serving God or achieving salvation.\n",
      "\n",
      "Then there's the scientific angle. Biologists might focus on survival and reproduction as biological imperatives. Some even look at life's origin, like abiogenesis, but that's more about how life began rather than its meaning.\n",
      "\n",
      "In pop culture, there are answers too—like The Hitchhiker's Guide to the Milky Way where the answer is 42, or Seinfeld's elevator button saying \"DON'T PAAAAAASTOOOOVE\" (pressure). These are more humorous or situational.\n",
      "\n",
      "Also, personal fulfillment and happiness come into play. Utilitarianism suggests maximizing happiness for the most people. But then there's the debate between short-term pleasure vs. long-term meaning.\n",
      "\n",
      "Ethically, some might argue life means doing good deeds, living authentically, or reducing suffering. Others might find meaning in family, career, art, or personal growth.\n",
      "\n",
      "But wait, is there a universal answer? Probably not. It's subjective. However, maybe there's a common thread—like the pursuit of knowledge, connection with others, or contributing to something larger than oneself.\n",
      "\n",
      "I should also consider different philosophies: Stoicism emphasizes accepting things out of your control and finding peace internally. Buddhism seeks liberation from suffering through enlightenment. Compare that to nihilism, which denies any inherent meaning.\n",
      "\n",
      "Science might not assign meaning but could suggest that life's purpose is part of a natural cycle, like passing genes on through evolution. From an evolutionary perspective, survival and reproduction are key, but that's more mechanistic than meaningful.\n",
      "\n",
      "So synthesizing all this: The answer likely depends on individual beliefs, experiences, and values. However, common themes across cultures and philosophies include seeking happiness, helping others, personal growth, understanding the world, or connecting with something transcendent.\n",
      "\n",
      "But maybe there's a deeper question here—life's meaning is about finding purpose in a transient existence. It's a search for significance in Alan Watts' terms or Viktor Frankl's logotherapy where finding meaning is vital even in hardship.\n",
      "\n",
      "Alternatively, some say that life's meaning is self-determined through free will and personal agency, as existentialists claim. Others find it in predetermined destiny or divine plan.\n",
      "\n",
      "In conclusion, the meaning of life isn't a one-size-fits-all answer. It's a complex interplay of individual consciousness, societal influences, cultural narratives, and possibly even biological drives. The pursuit itself—reflecting, creating, loving, discovering—is where many would find meaning.\n",
      "\n",
      "</think>\n",
      "\n",
      "The question of life's meaning is deeply subjective and multifaceted, reflecting diverse perspectives across philosophy, religion, science, and culture. Below is a synthesized exploration:\n",
      "\n",
      "### **Key Perspectives**\n",
      "1. **Philosophical Existentialism**  \n",
      "   - *No inherent meaning*: Sartre/Carl Rogers argue life has no built-in purpose; meaning is self-created through choices and actions.  \n",
      "   - *Authenticity*: Maximize personal growth, love, and ambition while accepting mortality.\n",
      "\n",
      "2. **Religious & Spiritual Views**  \n",
      "   - *Transcendence*: Many religions (e.g., Christianity, Islam, Buddhism) emphasize serving a higher power, achieving salvation, or liberation from suffering (nirvana).  \n",
      "   - *Purposeful existence*: Some see life as a temporary journey toward an afterlife or cosmic destiny.\n",
      "\n",
      "3. **Scientific & Biobehavioral Frameworks**  \n",
      "   - *Evolutionary biology*: A survival-centric \"program\" driven by reproduction and genetic legacy.  \n",
      "   - *Psychological fulfillment*: Happiness, connection, and reducing suffering (aligning with utilitarian ethics).\n",
      "\n",
      "4. **Cultural & Populart Interpretations**  \n",
      "   - *Humor/Satire*: From Douglas Adams’ `42` to Seinfeld’s \"don’t pressure,\" these often reflect playful cynicism about seeking meaning in chaos.  \n",
      "\n",
      "5. **Ethical & Personal Growth Paths**  \n",
      "   - *Creation of purpose*: Through art, love, career, family, or service to others.  \n",
      "   - *Stoic acceptance*: Finding peace by focusing on controllable aspects (e.g., character) while accepting external flux.\n",
      "\n",
      "### **Common Threads**\n",
      "- **Self-determination**: Meaning arises from agency, relationships, and contribution to something larger than oneself.  \n",
      "- **Pursuit of transcendence**: Whether through spirituality, mastery, creativity, or altruism.  \n",
      "- **Navigating impermanence**: Embracing life’s transient nature as a call to create impact or find inner harmony.\n",
      "\n",
      "### **Conclusion**\n",
      "There is no universal answer—life’s meaning is individual and evolving. Most scholars agree it stems from **self-reflection**, cultural context, and personal experiences. The search itself—the act of questioning, creating, loving, and risking—is where many find profound significance. \n",
      "\n",
      "**Final Answer**:  \n",
      "Life’s meaning is a subjective tapestry woven from personal agency, relationships, transcendence (spiritual or intellectual), and the pursuit of purpose in an impermanent universe. There may be no singular truth, but shared human quests—love, understanding, growth, connection—to this often defines our collective answer.  \n",
      "\n",
      "(42 – optional nod to Douglas Adams’ humoristic take)\n"
     ]
    }
   ],
   "source": [
    "import lmstudio as lms\n",
    "\n",
    "with lms.Client() as client:\n",
    "    model = client.llm.model(\"microsoft/phi-4-mini-reasoning\")\n",
    "    result = model.respond(\"What is the meaning of life?\")\n",
    "\n",
    "    print(result)\n"
   ]
  },
  {
   "cell_type": "markdown",
   "id": "6de877f8",
   "metadata": {},
   "source": [
    "You need to download the `nomic-embed-text:latest` model before run in it."
   ]
  },
  {
   "cell_type": "code",
   "execution_count": 8,
   "id": "f78724a4",
   "metadata": {},
   "outputs": [
    {
     "name": "stdout",
     "output_type": "stream",
     "text": [
      "768\n"
     ]
    }
   ],
   "source": [
    "import ollama\n",
    "vector = ollama.embeddings(model='nomic-embed-text:latest', prompt='The sky is blue because of rayleigh scattering')\n",
    "print(len(vector.embedding))"
   ]
  }
 ],
 "metadata": {
  "kernelspec": {
   "display_name": ".venv",
   "language": "python",
   "name": "python3"
  },
  "language_info": {
   "codemirror_mode": {
    "name": "ipython",
    "version": 3
   },
   "file_extension": ".py",
   "mimetype": "text/x-python",
   "name": "python",
   "nbconvert_exporter": "python",
   "pygments_lexer": "ipython3",
   "version": "3.11.5"
  }
 },
 "nbformat": 4,
 "nbformat_minor": 5
}
