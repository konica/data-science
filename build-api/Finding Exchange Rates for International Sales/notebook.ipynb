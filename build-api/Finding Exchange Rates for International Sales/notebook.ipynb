{
 "cells": [
  {
   "cell_type": "markdown",
   "id": "377201b3-e64a-46d5-87fc-3ec811e8b349",
   "metadata": {
    "collapsed": false,
    "jupyter": {
     "outputs_hidden": false,
     "source_hidden": false
    }
   },
   "source": [
    "![Header image](resources/image.jpg)\n",
    "\n",
    "Exciting times! \n",
    "\n",
    "You've been running our very successful gadget webshop 'DataGadgets' for a few years and have recently expanded into new territories. While you've been focussed on the US market for the first five years of our existence, you now are shipping our cool data gadgets to the UK and Europe, too! But now our in-house built reporting has broken! Transactions don't only come in USD, but you're also receiving transactions in EUR and GPB. \n",
    "\n",
    "To better understand the volume of transactions being made, you should convert the non-USD transactions to USD and sum up the total. To do this, however, you'll need to use the proper exchange rates. \n",
    "\n",
    "In this project, you'll start with a CSV file containing all e-commerce transactions made on January 21st, but in their original currencies. Your job is to calculate the total sum in USD of all transactions so you know how much USD you sold on January 21st. To do this, you'll need to convert any non-USD transactions to USD using the exchange rate from January 21st, 2024. \n",
    "\n",
    "To get the exchange rates from January 21st, 2024, you'll rely on [VAT Comply rates API's](https://www.vatcomply.com/documentation#rates) public and free currency exchange API. You'll also use `pandas` to load the CSV file into a DataFrame and the `requests` package to make interacting with the API easier. \n",
    "\n",
    "You need to update the `orders` DataFrame so the final version has two new columns: `exchange_rate` and `amount_usd`. The final version should look as follows:\n",
    "\n",
    "| `amount` | `currency` | `exchange_rate` | `amount_usd` |\n",
    "|-|-|-|-|\n",
    "| 43.75 | EUR | ... | ... |\n",
    "| 385.5 | GBP | ... | ... |\n",
    "| 495.5 | GBP | ... | ... |\n",
    "| 117.99 | GBP | ... | ... |\n",
    "| 624 | USD | ... | ... |"
   ]
  },
  {
   "cell_type": "code",
   "execution_count": null,
   "id": "1a3a3879-8758-438c-9062-c24f4d8a15e1",
   "metadata": {
    "executionCancelledAt": null,
    "executionTime": null,
    "lastExecutedAt": null,
    "lastExecutedByKernel": null,
    "lastScheduledRunId": null,
    "lastSuccessfullyExecutedCode": null,
    "outputsMetadata": {
     "0": {
      "height": 550,
      "tableState": {},
      "type": "dataFrame"
     }
    }
   },
   "outputs": [],
   "source": [
    "# Import required packages/libraries\n",
    "import pandas as pd\n",
    "import requests\n",
    "\n",
    "# Read the CSV file into a DataFrame\n",
    "orders = pd.read_csv('data/orders-2024-01-21.csv')\n",
    "orders.head()\n",
    "\n"
   ]
  },
  {
   "cell_type": "code",
   "execution_count": null,
   "id": "53db96bd-df3b-4d11-8d2d-d283fa11952a",
   "metadata": {},
   "outputs": [
    {
     "name": "stdout",
     "output_type": "stream",
     "text": [
      "{'EUR': {'name': 'Euro', 'symbol': 'EUR'}, 'USD': {'name': 'US Dollar', 'symbol': 'USD'}, 'JPY': {'name': 'Japanese Yen', 'symbol': 'JPY'}, 'BGN': {'name': 'Bulgarian Lev', 'symbol': 'BGN'}, 'CZK': {'name': 'Czech Koruna', 'symbol': 'CZK'}, 'DKK': {'name': 'Danish Krone', 'symbol': 'DKK'}, 'GBP': {'name': 'British Pound', 'symbol': 'GBP'}, 'HUF': {'name': 'Hungarian Forint', 'symbol': 'HUF'}, 'PLN': {'name': 'Polish Zloty', 'symbol': 'PLN'}, 'RON': {'name': 'Romanian Leu', 'symbol': 'RON'}, 'SEK': {'name': 'Swedish Krona', 'symbol': 'SEK'}, 'CHF': {'name': 'Swiss Franc', 'symbol': 'CHF'}, 'ISK': {'name': 'Icelandic Króna', 'symbol': 'ISK'}, 'NOK': {'name': 'Norwegian Krone', 'symbol': 'NOK'}, 'HRK': {'name': 'Croatian Kuna', 'symbol': 'HRK'}, 'RUB': {'name': 'Russian Ruble', 'symbol': 'RUB'}, 'TRY': {'name': 'Turkish Lira', 'symbol': 'TRY'}, 'AUD': {'name': 'Australian Dollar', 'symbol': 'AUD'}, 'BRL': {'name': 'Brazilian Real', 'symbol': 'BRL'}, 'CAD': {'name': 'Canadian Dollar', 'symbol': 'CAD'}, 'CNY': {'name': 'Chinese Yuan', 'symbol': 'CNY'}, 'HKD': {'name': 'Hong Kong Dollar', 'symbol': 'HKD'}, 'IDR': {'name': 'Indonesian Rupiah', 'symbol': 'IDR'}, 'ILS': {'name': 'Israeli New Shekel', 'symbol': 'ILS'}, 'INR': {'name': 'Indian Rupee', 'symbol': 'INR'}, 'KRW': {'name': 'South Korean Won', 'symbol': 'KRW'}, 'MXN': {'name': 'Mexican Peso', 'symbol': 'MXN'}, 'MYR': {'name': 'Malaysian Ringgit', 'symbol': 'MYR'}, 'NZD': {'name': 'New Zealand Dollar', 'symbol': 'NZD'}, 'PHP': {'name': 'Philippine Peso', 'symbol': 'PHP'}, 'SGD': {'name': 'Singapore Dollar', 'symbol': 'SGD'}, 'THB': {'name': 'Thai Baht', 'symbol': 'THB'}, 'ZAR': {'name': 'South African Rand', 'symbol': 'ZAR'}}\n"
     ]
    }
   ],
   "source": [
    "\n",
    "base_url= 'https://api.vatcomply.com/'\n",
    "# Get supporeted currencies\n",
    "response = requests.get(f'{base_url}currencies')\n",
    "supported_currencies = response.json()\n",
    "print(supported_currencies)\n"
   ]
  },
  {
   "cell_type": "code",
   "execution_count": 16,
   "id": "c44cdf9d",
   "metadata": {},
   "outputs": [
    {
     "name": "stdout",
     "output_type": "stream",
     "text": [
      "{'EUR': 0.918526683200147, 'USD': 1.0, 'GBP': 0.788325525856526}\n"
     ]
    }
   ],
   "source": [
    "# Get exchange rates for a specific date\n",
    "base_url= 'https://api.vatcomply.com/'\n",
    "params = {\n",
    "    'base': 'USD',\n",
    "    'symbols': 'EUR,GBP,USD',\n",
    "    'date': '2024-01-21'\n",
    "}\n",
    "\n",
    "response = requests.get(f'{base_url}rates', params=params)\n",
    "exchange_rates = response.json()[\"rates\"]\n",
    "print(exchange_rates)"
   ]
  },
  {
   "cell_type": "code",
   "execution_count": 18,
   "id": "6dd0eff1",
   "metadata": {},
   "outputs": [
    {
     "data": {
      "application/vnd.microsoft.datawrangler.viewer.v0+json": {
       "columns": [
        {
         "name": "index",
         "rawType": "int64",
         "type": "integer"
        },
        {
         "name": "amount",
         "rawType": "float64",
         "type": "float"
        },
        {
         "name": "currency",
         "rawType": "object",
         "type": "string"
        },
        {
         "name": "exchange_rate",
         "rawType": "float64",
         "type": "float"
        },
        {
         "name": "amount_usd",
         "rawType": "float64",
         "type": "float"
        }
       ],
       "ref": "38c06208-ccce-4f40-b4be-8db41ee9ff9c",
       "rows": [
        [
         "0",
         "43.75",
         "EUR",
         "0.918526683200147",
         "40.18554239000643"
        ],
        [
         "1",
         "385.5",
         "GBP",
         "0.788325525856526",
         "303.8994902176908"
        ],
        [
         "2",
         "495.5",
         "GBP",
         "0.788325525856526",
         "390.6152980619087"
        ],
        [
         "3",
         "117.99",
         "GBP",
         "0.788325525856526",
         "93.0145287958115"
        ],
        [
         "4",
         "624.0",
         "USD",
         "1.0",
         "624.0"
        ]
       ],
       "shape": {
        "columns": 4,
        "rows": 5
       }
      },
      "text/html": [
       "<div>\n",
       "<style scoped>\n",
       "    .dataframe tbody tr th:only-of-type {\n",
       "        vertical-align: middle;\n",
       "    }\n",
       "\n",
       "    .dataframe tbody tr th {\n",
       "        vertical-align: top;\n",
       "    }\n",
       "\n",
       "    .dataframe thead th {\n",
       "        text-align: right;\n",
       "    }\n",
       "</style>\n",
       "<table border=\"1\" class=\"dataframe\">\n",
       "  <thead>\n",
       "    <tr style=\"text-align: right;\">\n",
       "      <th></th>\n",
       "      <th>amount</th>\n",
       "      <th>currency</th>\n",
       "      <th>exchange_rate</th>\n",
       "      <th>amount_usd</th>\n",
       "    </tr>\n",
       "  </thead>\n",
       "  <tbody>\n",
       "    <tr>\n",
       "      <th>0</th>\n",
       "      <td>43.75</td>\n",
       "      <td>EUR</td>\n",
       "      <td>0.918527</td>\n",
       "      <td>40.185542</td>\n",
       "    </tr>\n",
       "    <tr>\n",
       "      <th>1</th>\n",
       "      <td>385.50</td>\n",
       "      <td>GBP</td>\n",
       "      <td>0.788326</td>\n",
       "      <td>303.899490</td>\n",
       "    </tr>\n",
       "    <tr>\n",
       "      <th>2</th>\n",
       "      <td>495.50</td>\n",
       "      <td>GBP</td>\n",
       "      <td>0.788326</td>\n",
       "      <td>390.615298</td>\n",
       "    </tr>\n",
       "    <tr>\n",
       "      <th>3</th>\n",
       "      <td>117.99</td>\n",
       "      <td>GBP</td>\n",
       "      <td>0.788326</td>\n",
       "      <td>93.014529</td>\n",
       "    </tr>\n",
       "    <tr>\n",
       "      <th>4</th>\n",
       "      <td>624.00</td>\n",
       "      <td>USD</td>\n",
       "      <td>1.000000</td>\n",
       "      <td>624.000000</td>\n",
       "    </tr>\n",
       "  </tbody>\n",
       "</table>\n",
       "</div>"
      ],
      "text/plain": [
       "   amount currency  exchange_rate  amount_usd\n",
       "0   43.75      EUR       0.918527   40.185542\n",
       "1  385.50      GBP       0.788326  303.899490\n",
       "2  495.50      GBP       0.788326  390.615298\n",
       "3  117.99      GBP       0.788326   93.014529\n",
       "4  624.00      USD       1.000000  624.000000"
      ]
     },
     "execution_count": 18,
     "metadata": {},
     "output_type": "execute_result"
    }
   ],
   "source": [
    "# Add exchange rates and calculate amounts in USD\n",
    "orders[\"exchange_rate\"] = orders[\"currency\"].map(exchange_rates)\n",
    "orders[\"amount_usd\"] = orders[\"amount\"] * orders[\"exchange_rate\"]\n",
    "orders.head()"
   ]
  }
 ],
 "metadata": {
  "editor": "DataLab",
  "kernelspec": {
   "display_name": ".venv",
   "language": "python",
   "name": "python3"
  },
  "language_info": {
   "codemirror_mode": {
    "name": "ipython",
    "version": 3
   },
   "file_extension": ".py",
   "mimetype": "text/x-python",
   "name": "python",
   "nbconvert_exporter": "python",
   "pygments_lexer": "ipython3",
   "version": "3.12.9"
  }
 },
 "nbformat": 4,
 "nbformat_minor": 5
}
