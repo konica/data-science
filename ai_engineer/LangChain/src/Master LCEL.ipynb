{
 "cells": [
  {
   "cell_type": "code",
   "execution_count": 3,
   "id": "4228b435",
   "metadata": {},
   "outputs": [
    {
     "name": "stderr",
     "output_type": "stream",
     "text": [
      "C:\\Users\\Trung Thao\\AppData\\Local\\Temp\\ipykernel_6116\\3303334236.py:6: LangChainDeprecationWarning: The class `ChatOpenAI` was deprecated in LangChain 0.0.10 and will be removed in 1.0. An updated version of the class exists in the :class:`~langchain-openai package and should be used instead. To use it run `pip install -U :class:`~langchain-openai` and import as `from :class:`~langchain_openai import ChatOpenAI``.\n",
      "  llm = ChatOpenAI(model=\"gpt-4o-mini\", temperature=0.5)\n"
     ]
    },
    {
     "name": "stdout",
     "output_type": "stream",
     "text": [
      "Why did the dog sit in the shade?\n",
      "\n",
      "Because he didn’t want to become a hot dog!\n"
     ]
    }
   ],
   "source": [
    "from langchain_core.runnables import RunnableLambda\n",
    "from langchain_core.output_parsers import StrOutputParser\n",
    "from langchain.prompts import PromptTemplate, ChatPromptTemplate\n",
    "from langchain.chat_models import ChatOpenAI\n",
    "\n",
    "llm = ChatOpenAI(model=\"gpt-4o-mini\", temperature=0.5)\n",
    "\n",
    "template = \"Tell me a joke about {topic}.\"\n",
    "prompt = PromptTemplate(\n",
    "    input_variables=[\"topic\"],\n",
    "    template=template,\n",
    ")\n",
    "\n",
    "def format_prompt(variables) -> str:\n",
    "    return prompt.format(**variables)\n",
    "\n",
    "chain = RunnableLambda(format_prompt) | llm | StrOutputParser()\n",
    "\n",
    "response = chain.invoke({\"topic\": \"dogs\"})\n",
    "print(response)  #\n",
    "\n",
    "\n"
   ]
  },
  {
   "cell_type": "markdown",
   "id": "5f7829e5",
   "metadata": {},
   "source": [
    "Create parallel branches using the | operator"
   ]
  },
  {
   "cell_type": "code",
   "execution_count": null,
   "id": "3219f389",
   "metadata": {},
   "outputs": [],
   "source": [
    "from langchain.prompts import PromptTemplate, ChatPromptTemplate\n",
    "\n",
    "parallel_chains = {\n",
    "    \"summary\": ChatPromptTemplate.from_template(\"Summarize the following text: {text}\") | llm | StrOutputParser(),\n",
    "    \"translation\": ChatPromptTemplate.from_template(\"Translate the following text: {text} into Vietnamese\") | llm | StrOutputParser(),\n",
    "    \"sentiment\": ChatPromptTemplate.from_template(\"Determine the sentiment of the following text: {text}\") | llm | StrOutputParser(),\n",
    "}"
   ]
  },
  {
   "cell_type": "code",
   "execution_count": 7,
   "id": "326bcd15",
   "metadata": {},
   "outputs": [
    {
     "name": "stdout",
     "output_type": "stream",
     "text": [
      "{'summary': 'The author expresses a strong enthusiasm for programming in Python.', 'translation': 'The translation of \"I love programming in Python!\" into Vietnamese is \"Tôi thích lập trình bằng Python!\"', 'sentiment': ChatPromptValue(messages=[HumanMessage(content='Determine the sentiment of the following text: I love programming in Python!', additional_kwargs={}, response_metadata={})])}\n"
     ]
    }
   ],
   "source": [
    "from langchain_core.runnables import RunnableParallel\n",
    "\n",
    "# Create a RunnableParallel object from the dictionary\n",
    "parallel = RunnableParallel(parallel_chains)\n",
    "\n",
    "# Invoke all chains in parallel\n",
    "result = parallel.invoke({\"text\": \"I love programming in Python!\"})\n",
    "print(result)"
   ]
  },
  {
   "cell_type": "markdown",
   "id": "1e71ec70",
   "metadata": {},
   "source": []
  }
 ],
 "metadata": {
  "kernelspec": {
   "display_name": ".venv",
   "language": "python",
   "name": "python3"
  },
  "language_info": {
   "codemirror_mode": {
    "name": "ipython",
    "version": 3
   },
   "file_extension": ".py",
   "mimetype": "text/x-python",
   "name": "python",
   "nbconvert_exporter": "python",
   "pygments_lexer": "ipython3",
   "version": "3.11.5"
  }
 },
 "nbformat": 4,
 "nbformat_minor": 5
}
