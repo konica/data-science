{
 "cells": [
  {
   "cell_type": "markdown",
   "id": "6601337a",
   "metadata": {},
   "source": [
    "# Overview\n",
    "Here are the high-level steps to create manual vector store with PostgreSQL and use them to build RAG agent instead of the built-in PGvector. \n",
    "- Load and split documents into chunks as is\n",
    "- Use sqlalchemy to create tables and store embeddings into them\n",
    "- Create indexes on the embedding field\n",
    "- Define the retrieval function calling to find top-k relevant based on the user query\n",
    "- Build the RAG agent from the prebuilt react agent from Langraph"
   ]
  },
  {
   "cell_type": "markdown",
   "id": "a53ebbb6",
   "metadata": {},
   "source": [
    "# Implementation\n",
    "## "
   ]
  },
  {
   "cell_type": "markdown",
   "id": "d5b5a375",
   "metadata": {},
   "source": []
  }
 ],
 "metadata": {
  "language_info": {
   "name": "python"
  }
 },
 "nbformat": 4,
 "nbformat_minor": 5
}
