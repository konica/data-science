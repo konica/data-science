{
 "cells": [
  {
   "cell_type": "code",
   "execution_count": 1,
   "id": "61baf413-6464-4c1c-a52d-b3764c124602",
   "metadata": {
    "executionCancelledAt": null,
    "executionTime": 51,
    "lastExecutedAt": 1748303751406,
    "lastExecutedByKernel": "28ecba72-403c-478c-8f92-adb9098c61a8",
    "lastScheduledRunId": null,
    "lastSuccessfullyExecutedCode": "# Set your API key to a variable\nimport os\nopenai_api_key = os.environ[\"OPENAI_API_KEY\"]\n\n# Import the required packages\n# from langchain_google_genai import ChatGoogleGenerativeAI\nfrom langchain_core.prompts import ChatPromptTemplate\nfrom langchain_openai import ChatOpenAI\nfrom langchain_community.document_loaders import UnstructuredHTMLLoader\nfrom langchain_openai import OpenAIEmbeddings\nfrom langchain_core.runnables import RunnablePassthrough\nfrom langchain_text_splitters import RecursiveCharacterTextSplitter\nfrom langchain_chroma import Chroma"
   },
   "outputs": [],
   "source": [
    "# Set your API key to a variable\n",
    "import os\n",
    "openai_api_key = os.environ[\"OPENAI_API_KEY\"]\n",
    "\n",
    "# Import the required packages\n",
    "# from langchain_google_genai import ChatGoogleGenerativeAI\n",
    "from langchain_core.prompts import ChatPromptTemplate\n",
    "from langchain_openai import ChatOpenAI\n",
    "from langchain_community.document_loaders import UnstructuredHTMLLoader\n",
    "from langchain_openai import OpenAIEmbeddings\n",
    "from langchain_core.runnables import RunnablePassthrough\n",
    "from langchain_text_splitters import RecursiveCharacterTextSplitter\n",
    "from langchain_chroma import Chroma"
   ]
  },
  {
   "cell_type": "code",
   "execution_count": 2,
   "id": "bed58c70-1315-409c-a590-a4c7af3cad80",
   "metadata": {
    "executionCancelledAt": null,
    "executionTime": 47,
    "lastExecutedAt": 1748303751454,
    "lastExecutedByKernel": "28ecba72-403c-478c-8f92-adb9098c61a8",
    "lastScheduledRunId": null,
    "lastSuccessfullyExecutedCode": "# Load the HTML as a LangChain document loader\nloader = UnstructuredHTMLLoader(file_path=\"data/mg-zs-warning-messages.html\")\ncar_docs = loader.load()"
   },
   "outputs": [],
   "source": [
    "# Load the HTML as a LangChain document loader\n",
    "loader = UnstructuredHTMLLoader(file_path=\"data/mg-zs-warning-messages.html\")\n",
    "car_docs = loader.load()"
   ]
  },
  {
   "cell_type": "code",
   "execution_count": 3,
   "id": "636184c7-8491-4bcb-93c5-6c22dd6f8c2b",
   "metadata": {
    "executionCancelledAt": null,
    "executionTime": 51,
    "lastExecutedAt": 1748303751506,
    "lastExecutedByKernel": "28ecba72-403c-478c-8f92-adb9098c61a8",
    "lastScheduledRunId": null,
    "lastSuccessfullyExecutedCode": "# Instantiate RecursiveCharacterTextSplitter\ntext_splitter = RecursiveCharacterTextSplitter(\n    chunk_size=1000,  # Maximum size of each chunk\n    chunk_overlap=200  # Overlap between chunks\n)"
   },
   "outputs": [],
   "source": [
    "# Instantiate RecursiveCharacterTextSplitter\n",
    "text_splitter = RecursiveCharacterTextSplitter(\n",
    "    chunk_size=1000,  # Maximum size of each chunk\n",
    "    chunk_overlap=200  # Overlap between chunks\n",
    ")"
   ]
  },
  {
   "cell_type": "markdown",
   "id": "5b7d194b-fdab-40ec-894c-950af05741d7",
   "metadata": {
    "customType": "ai-prompt-history",
    "readOnly": true
   },
   "source": [
    "Split text from car_docs"
   ]
  },
  {
   "cell_type": "code",
   "execution_count": 4,
   "id": "fd6dad60-d08f-450f-813d-31c2fa9686a6",
   "metadata": {
    "executionCancelledAt": null,
    "executionTime": 53,
    "lastExecutedAt": 1748303751559,
    "lastExecutedByKernel": "28ecba72-403c-478c-8f92-adb9098c61a8",
    "lastScheduledRunId": null,
    "lastSuccessfullyExecutedCode": "# Split the text from car_docs into chunks\ncar_doc_chunks = text_splitter.split_documents(car_docs)\n\n# Display the number of chunks created\nlen(car_doc_chunks)\nprint(car_doc_chunks)\n",
    "outputsMetadata": {
     "0": {
      "height": 480,
      "type": "stream"
     }
    }
   },
   "outputs": [
    {
     "name": "stdout",
     "output_type": "stream",
     "text": [
      "9\n",
      "[Document(metadata={'source': 'data/mg-zs-warning-messages.html'}, page_content='Warning Message Procedure Cruise Control Fault Indicates that the cruise control system has detected a fault. Please consult an MG Authorised Repairer as soon as possible. Active Speed Limiter Fault Indicates that the active speed limit system has detected a fault. Contact an MG Authorised Repairer as soon as possible. Engine Coolant Temperature High High engine coolant temperature could result in severe damage. As soon as conditions permit, safely stop the vehicle and switch off the engine and contact an MG Authorised Repairer immediately. Engine Coolant Temperature Sensor Fault Indicates that the engine coolant temperature sensor has failed. As soon as conditions permit, safely stop the vehicle and switch off the engine and contact an MG Authorised Repairer immediately.'), Document(metadata={'source': 'data/mg-zs-warning-messages.html'}, page_content='Warning Message Procedure Low Oil Pressure Indicates that the oil pressure is too low, which may result in severe engine damage. As soon as safety permits, stop the car, switch off the engine and check the engine oil level. Contact an MG Authorised Repairer as soon as possible. Engine Fault Indicates that a failure has occurred that will effect engine performance and emissions. Contact an MG Authorised Repairer as soon as possible. Check Engine Indicates that a failure has occurred that may severely damage the engine. As soon as conditions permit, safely stop the vehicle , switch off the engine and contact an MG Authorised Repairer immediately.'), Document(metadata={'source': 'data/mg-zs-warning-messages.html'}, page_content='Warning Message Procedure Stop Start System Fault Indicates that the Stop/Start intelligent fuel saving system has detected a fault. Please consult an MG Authorised Repairer as soon as possible. Clutch Switch Fault Indicates that the clutch switch has detected a fault. Please consult an MG Authorised Repairer as soon as possible. Gasoline Particular Filter Full Indicates that the gasoline particular filter is full. Please consult an MG Authorised Repairer as soon as possible. Ignition System Fault Indicates that the ignition system has detected a fault. Please consult an MG Authorised Repairer immediately.'), Document(metadata={'source': 'data/mg-zs-warning-messages.html'}, page_content='Warning Message Procedure Start Stop Button Fault Indicates that the Start Stop button has detected a fault. Please consult an MG Authorised Repairer immediately. Passive Entry Fault Indicates that the passive keyless entry (PKE) function has detected a fault. Please consult an MG Authorised Repairer as soon as possible. ABS Fault Indicates that the anti-lock brake system (ABS) has failed and the ABS function is about to be disabled. Please consult an MG Authorised Repairer immediately.'), Document(metadata={'source': 'data/mg-zs-warning-messages.html'}, page_content='Warning Message Procedure Brake Fault Indicates that the brake fluid could be low or a fault has been detected in the Electronic Brake-force Distribution (EBD) system. As soon as safety permits, stop the car, switch off the engine and check the brake fluid level. Contact an MG Authorised Repairer as soon as possible. Stability Control Fault Indicates that the stability control system has detected a fault. Please consult an MG Authorised Repairer immediately. Traction Control Fault Indicates that the traction control system has detected a fault. Please consult an MG Authorised Repairer immediately.'), Document(metadata={'source': 'data/mg-zs-warning-messages.html'}, page_content='Warning Message Procedure EPB System Fault Indicates that the electronic parking brake system (EPB) has detected a fault. Please consult an MG Authorised Repairer as soon as possible. Park Brake Force Not Enough Indicates that there is an issue with the electronic parking brake, it may not be able to provide adequate clamping force. Contact an MG Authorised Repairer as soon as possible. Autohold Fault Indicates that the Autohold System has detected a fault. Please consult an MG Authorised Repairer as soon as possible. Hill Descent Control Fault Indicates that the hill descent control system has detected a fault. Please consult an MG Authorised Repairer as soon as possible.'), Document(metadata={'source': 'data/mg-zs-warning-messages.html'}, page_content='Warning Message Procedure EPS Performance Reduced Indicates that the electric power steering system has a general failure and that the steering performance has been reduced. As soon as conditions permit, safely stop the vehicle and switch off the engine. After a short while, start the engine, drive the vehicle a short distance and monitor the operation of the steering, if the message is still displayed or the steering assistance reduced please contact an MG Authorised Repairer immediately. EPS Assistance Failure Indicates that the electric power steering system has failed. Please consult an MG Authorised Repairer immediately.'), Document(metadata={'source': 'data/mg-zs-warning-messages.html'}, page_content='Warning Message Procedure Steering Angle Fault Indicates that the steering angle sensor has failed. Please consult an MG Authorised Repairer as soon as possible. Steering Angle Uncalibrated Indicates that the steering angle sensor is not calibrated. Please consult an MG Authorised Repairer as soon as possible. ESCL Fault Indicates that a fault has been detected with the Electronic Steering Column Lock (ESCL). As soon as conditions permit, safely stop the vehicle and switch off the engine. Contact an MG Authorised Repairer as soon as possible. Fuel Sensor Fault Indicates that fuel sensor has detected a fault. Please consult an MG Authorised Repairer as soon as possible.'), Document(metadata={'source': 'data/mg-zs-warning-messages.html'}, page_content='Warning Message Procedure Airbag Fault Indicates that the Airbag system has detected a fault. As soon as conditions permit, safely stop the vehicle and switch off the engine and contact an MG Authorised Repairer immediately. Front Left/Front Right/Rear Left/Rear Right Tyre Sensor Battery Low Indicates that the Tyre Pressure Monitoring system has detected that a tyre pressure sensor has a low battery. Please consult an MG Authorised Repairer as soon as possible. TPMS Fault Indicates that the tyre pressure monitoring system has detected a fault. Please consult an MG Authorised Repairer as soon as possible.\\n\\nWarning Message Procedure 12V Battery Charging System Fault Indicates that the 12V battery charging system has failed. Please consult an MG Authorised Repairer immediately. Rear Drive Assist System Fault Indicates that the rear drive assist system (RDA) has detected a fault. Please consult an MG Authorised Repairer as soon as possible.')]\n"
     ]
    }
   ],
   "source": [
    "# Split the text from car_docs into chunks\n",
    "car_doc_chunks = text_splitter.split_documents(car_docs)\n",
    "\n",
    "# Display the number of chunks created\n",
    "print(len(car_doc_chunks))\n",
    "print(car_doc_chunks)\n"
   ]
  },
  {
   "cell_type": "markdown",
   "id": "e4a5f39e-c854-44e1-9422-a793313f7bfb",
   "metadata": {
    "customType": "ai-prompt-history",
    "readOnly": true
   },
   "source": [
    "Use Chroma to store chunks"
   ]
  },
  {
   "cell_type": "markdown",
   "id": "ec38a3fe-ba96-4917-824a-9328651fec68",
   "metadata": {},
   "source": [
    "Now, let's store the document chunks in a Chroma vector store. Chroma is a vector database that can be used to store and query embeddings efficiently."
   ]
  },
  {
   "cell_type": "code",
   "execution_count": 5,
   "id": "9a7a6c39-5d85-4388-8543-43f3d1bc55be",
   "metadata": {
    "executionCancelledAt": null,
    "executionTime": 542,
    "lastExecutedAt": 1748303752102,
    "lastExecutedByKernel": "28ecba72-403c-478c-8f92-adb9098c61a8",
    "lastScheduledRunId": null,
    "lastSuccessfullyExecutedCode": "from langchain.vectorstores import Chroma\nfrom langchain.embeddings import OpenAIEmbeddings\n\n# Initialize the OpenAI embeddings\nembeddings = OpenAIEmbeddings(openai_api_key=openai_api_key)\n\n# Create a Chroma vector store from the document chunks\nvector_store = Chroma.from_documents(car_doc_chunks, embeddings)\n\n# Display the number of vectors stored\nlen(vector_store)",
    "outputsMetadata": {
     "0": {
      "height": 143,
      "type": "stream"
     }
    }
   },
   "outputs": [
    {
     "name": "stderr",
     "output_type": "stream",
     "text": [
      "C:\\Users\\Trung Thao\\AppData\\Local\\Temp\\ipykernel_20044\\1169415459.py:5: LangChainDeprecationWarning: The class `OpenAIEmbeddings` was deprecated in LangChain 0.0.9 and will be removed in 1.0. An updated version of the class exists in the :class:`~langchain-openai package and should be used instead. To use it run `pip install -U :class:`~langchain-openai` and import as `from :class:`~langchain_openai import OpenAIEmbeddings``.\n",
      "  embeddings = OpenAIEmbeddings(openai_api_key=openai_api_key)\n"
     ]
    },
    {
     "data": {
      "text/plain": [
       "27"
      ]
     },
     "execution_count": 5,
     "metadata": {},
     "output_type": "execute_result"
    }
   ],
   "source": [
    "from langchain.vectorstores import Chroma\n",
    "from langchain.embeddings import OpenAIEmbeddings\n",
    "\n",
    "# Initialize the OpenAI embeddings\n",
    "embeddings = OpenAIEmbeddings(openai_api_key=openai_api_key)\n",
    "\n",
    "# Create a Chroma vector store from the document chunks\n",
    "vector_store = Chroma.from_documents(car_doc_chunks, embeddings, persist_directory=\"chroma_db\")\n",
    "\n",
    "# Display the number of vectors stored\n",
    "len(vector_store)"
   ]
  },
  {
   "cell_type": "markdown",
   "id": "e2f31fa8-29db-48ad-9859-c389f8efdda3",
   "metadata": {
    "customType": "ai-prompt-history",
    "readOnly": true
   },
   "source": [
    "Create a retriever"
   ]
  },
  {
   "cell_type": "markdown",
   "id": "f9893ab6-63e5-4621-866c-97ca4b6bbb30",
   "metadata": {},
   "source": [
    "Now that we have stored the document chunks in a Chroma vector store, we can create a retriever. A retriever allows us to query the vector store to find the most relevant document chunks for a given query."
   ]
  },
  {
   "cell_type": "code",
   "execution_count": 6,
   "id": "e6cabfc0-c8c4-4694-8fe3-27437f39f35f",
   "metadata": {
    "executionCancelledAt": null,
    "executionTime": 47,
    "lastExecutedAt": 1748303752150,
    "lastExecutedByKernel": "28ecba72-403c-478c-8f92-adb9098c61a8",
    "lastScheduledRunId": null,
    "lastSuccessfullyExecutedCode": "# Create a retriever from the Chroma vector store\nretriever = vector_store.as_retriever()\n\n# # Example query to test the retriever\n# query = \"What is the process of car manufacturing?\"\n\n# # Retrieve the most relevant document chunks\n# relevant_chunks = retriever.get_relevant_documents(query)\n\n# # Display the retrieved chunks\n# for chunk in relevant_chunks:\n#     print(chunk)",
    "outputsMetadata": {
     "0": {
      "height": 122,
      "type": "stream"
     },
     "1": {
      "height": 606,
      "type": "stream"
     }
    }
   },
   "outputs": [
    {
     "name": "stderr",
     "output_type": "stream",
     "text": [
      "C:\\Users\\Trung Thao\\AppData\\Local\\Temp\\ipykernel_20044\\24109770.py:8: LangChainDeprecationWarning: The method `BaseRetriever.get_relevant_documents` was deprecated in langchain-core 0.1.46 and will be removed in 1.0. Use :meth:`~invoke` instead.\n",
      "  relevant_chunks = retriever.get_relevant_documents(query)\n"
     ]
    },
    {
     "name": "stdout",
     "output_type": "stream",
     "text": [
      "page_content='Warning Message Procedure Stop Start System Fault Indicates that the Stop/Start intelligent fuel saving system has detected a fault. Please consult an MG Authorised Repairer as soon as possible. Clutch Switch Fault Indicates that the clutch switch has detected a fault. Please consult an MG Authorised Repairer as soon as possible. Gasoline Particular Filter Full Indicates that the gasoline particular filter is full. Please consult an MG Authorised Repairer as soon as possible. Ignition System Fault Indicates that the ignition system has detected a fault. Please consult an MG Authorised Repairer immediately.' metadata={'source': 'data/mg-zs-warning-messages.html'}\n",
      "page_content='Warning Message Procedure Stop Start System Fault Indicates that the Stop/Start intelligent fuel saving system has detected a fault. Please consult an MG Authorised Repairer as soon as possible. Clutch Switch Fault Indicates that the clutch switch has detected a fault. Please consult an MG Authorised Repairer as soon as possible. Gasoline Particular Filter Full Indicates that the gasoline particular filter is full. Please consult an MG Authorised Repairer as soon as possible. Ignition System Fault Indicates that the ignition system has detected a fault. Please consult an MG Authorised Repairer immediately.' metadata={'source': 'data/mg-zs-warning-messages.html'}\n",
      "page_content='Warning Message Procedure Stop Start System Fault Indicates that the Stop/Start intelligent fuel saving system has detected a fault. Please consult an MG Authorised Repairer as soon as possible. Clutch Switch Fault Indicates that the clutch switch has detected a fault. Please consult an MG Authorised Repairer as soon as possible. Gasoline Particular Filter Full Indicates that the gasoline particular filter is full. Please consult an MG Authorised Repairer as soon as possible. Ignition System Fault Indicates that the ignition system has detected a fault. Please consult an MG Authorised Repairer immediately.' metadata={'source': 'data/mg-zs-warning-messages.html'}\n",
      "page_content='Warning Message Procedure Brake Fault Indicates that the brake fluid could be low or a fault has been detected in the Electronic Brake-force Distribution (EBD) system. As soon as safety permits, stop the car, switch off the engine and check the brake fluid level. Contact an MG Authorised Repairer as soon as possible. Stability Control Fault Indicates that the stability control system has detected a fault. Please consult an MG Authorised Repairer immediately. Traction Control Fault Indicates that the traction control system has detected a fault. Please consult an MG Authorised Repairer immediately.' metadata={'source': 'data/mg-zs-warning-messages.html'}\n"
     ]
    }
   ],
   "source": [
    "# Create a retriever from the Chroma vector store\n",
    "retriever = vector_store.as_retriever()\n",
    "\n",
    "# # Example query to test the retriever\n",
    "query = \"What is the process of car manufacturing?\"\n",
    "\n",
    "# # Retrieve the most relevant document chunks\n",
    "relevant_chunks = retriever.get_relevant_documents(query)\n",
    "\n",
    "# # Display the retrieved chunks\n",
    "for chunk in relevant_chunks:\n",
    "    print(chunk)"
   ]
  },
  {
   "cell_type": "markdown",
   "id": "e67ba6cc-598d-44b7-8157-045073eea822",
   "metadata": {
    "customType": "ai-prompt-history",
    "readOnly": true
   },
   "source": [
    "Initialize ChatOpenAI with model=gpt-4o-mini and temperature=0"
   ]
  },
  {
   "cell_type": "code",
   "execution_count": 7,
   "id": "93627526-ebda-4328-83ca-a6e3f05cd62d",
   "metadata": {
    "executionCancelledAt": null,
    "executionTime": 97,
    "lastExecutedAt": 1748303752248,
    "lastExecutedByKernel": "28ecba72-403c-478c-8f92-adb9098c61a8",
    "lastScheduledRunId": null,
    "lastSuccessfullyExecutedCode": "from langchain.chat_models import ChatOpenAI\n\n# Initialize the ChatOpenAI model with specified parameters\nchat_model = ChatOpenAI(model='gpt-4o-mini', temperature=0, openai_api_key=openai_api_key)",
    "outputsMetadata": {
     "0": {
      "height": 143,
      "type": "stream"
     }
    }
   },
   "outputs": [
    {
     "name": "stderr",
     "output_type": "stream",
     "text": [
      "C:\\Users\\Trung Thao\\AppData\\Local\\Temp\\ipykernel_20044\\3041841681.py:4: LangChainDeprecationWarning: The class `ChatOpenAI` was deprecated in LangChain 0.0.10 and will be removed in 1.0. An updated version of the class exists in the :class:`~langchain-openai package and should be used instead. To use it run `pip install -U :class:`~langchain-openai` and import as `from :class:`~langchain_openai import ChatOpenAI``.\n",
      "  chat_model = ChatOpenAI(model='gpt-4o-mini', temperature=0, openai_api_key=openai_api_key)\n"
     ]
    }
   ],
   "source": [
    "from langchain.chat_models import ChatOpenAI\n",
    "\n",
    "# Initialize the ChatOpenAI model with specified parameters\n",
    "chat_model = ChatOpenAI(model='gpt-4o-mini', temperature=0, openai_api_key=openai_api_key)"
   ]
  },
  {
   "cell_type": "markdown",
   "id": "9e69f7fa-380b-4741-81c7-925e581c2eec",
   "metadata": {
    "customType": "ai-prompt-history",
    "readOnly": true
   },
   "source": [
    "Create ChatPromptTemplate with the context variable"
   ]
  },
  {
   "cell_type": "markdown",
   "id": "6fbbe880-0086-444d-abf6-97f4063769b5",
   "metadata": {},
   "source": [
    "### Create a ChatPromptTemplate\n",
    "\n",
    "To interact with the `ChatOpenAI` model, we need to create a `ChatPromptTemplate`. This template will define the structure of the prompts we send to the model, including any context or variables that should be included."
   ]
  },
  {
   "cell_type": "code",
   "execution_count": 8,
   "id": "80503d46-efde-414b-8be4-bb6fca32346b",
   "metadata": {
    "executionCancelledAt": null,
    "executionTime": 48,
    "lastExecutedAt": 1748303752298,
    "lastExecutedByKernel": "28ecba72-403c-478c-8f92-adb9098c61a8",
    "lastScheduledRunId": null,
    "lastSuccessfullyExecutedCode": "from langchain.prompts import PromptTemplate\n\n# Define a context variable\nprompt = \"\"\"You are an assistant for question-answering tasks. Use the following pieces of retrieved context to answer the question. If you don't know the answer, just say that you don't know. Use three sentences maximum and keep the answer concise.\nQuestion: {question} \nContext: {context} \nAnswer:\n\"\"\"\n\n# Create a ChatPromptTemplate with the context variable\nprompt_template = PromptTemplate(\n    template=prompt\n)\n\n# Example usage of the prompt template\nuser_input = \"How does the car manufacturing process work?\"\nformatted_prompt = prompt_template.invoke({\n    \"question\": user_input,\n    \"context\": \"Fake context\"\n})\n\nprint(formatted_prompt)",
    "outputsMetadata": {
     "0": {
      "height": 80,
      "type": "stream"
     }
    }
   },
   "outputs": [
    {
     "name": "stdout",
     "output_type": "stream",
     "text": [
      "text=\"You are an assistant for question-answering tasks. Use the following pieces of retrieved context to answer the question. If you don't know the answer, just say that you don't know. Use three sentences maximum and keep the answer concise.\\nQuestion: How does the car manufacturing process work? \\nContext: Fake context \\nAnswer:\\n\"\n"
     ]
    }
   ],
   "source": [
    "from langchain.prompts import PromptTemplate\n",
    "\n",
    "# Define a context variable\n",
    "prompt = \"\"\"You are an assistant for question-answering tasks. Use the following pieces of retrieved context to answer the question. If you don't know the answer, just say that you don't know. Use three sentences maximum and keep the answer concise.\n",
    "Question: {question} \n",
    "Context: {context} \n",
    "Answer:\n",
    "\"\"\"\n",
    "\n",
    "# Create a ChatPromptTemplate with the context variable\n",
    "prompt_template = PromptTemplate(\n",
    "    template=prompt\n",
    ")\n",
    "\n",
    "# Example usage of the prompt template\n",
    "user_input = \"How does the car manufacturing process work?\"\n",
    "formatted_prompt = prompt_template.invoke({\n",
    "    \"question\": user_input,\n",
    "    \"context\": \"Fake context\"\n",
    "})\n",
    "\n",
    "print(formatted_prompt)"
   ]
  },
  {
   "cell_type": "code",
   "execution_count": 9,
   "id": "6b4d7177-269f-4919-a9fa-1db09792532b",
   "metadata": {
    "executionCancelledAt": null,
    "executionTime": 52,
    "lastExecutedAt": 1748303752350,
    "lastExecutedByKernel": "28ecba72-403c-478c-8f92-adb9098c61a8",
    "lastScheduledRunId": null,
    "lastSuccessfullyExecutedCode": "# Setup the chain\nrag_chain = (\n    {\"context\": retriever , \"question\": RunnablePassthrough()}\n    | prompt_template\n    | chat_model\n)"
   },
   "outputs": [],
   "source": [
    "# Setup the chain\n",
    "rag_chain = (\n",
    "    {\"context\": retriever , \"question\": RunnablePassthrough()}\n",
    "    | prompt_template\n",
    "    | chat_model\n",
    ")"
   ]
  },
  {
   "cell_type": "code",
   "execution_count": 10,
   "id": "7079141d-438e-4ac9-81af-dc1b5a409943",
   "metadata": {
    "executionCancelledAt": null,
    "executionTime": 997,
    "lastExecutedAt": 1748303753348,
    "lastExecutedByKernel": "28ecba72-403c-478c-8f92-adb9098c61a8",
    "lastScheduledRunId": null,
    "lastSuccessfullyExecutedCode": "# Initialize query\nquery = \"The Gasoline Particular Filter Full warning has appeared. What does this mean and what should I do about it?\"\n\n# Invoke the query\nanswer = rag_chain.invoke(query).content\nprint(answer)",
    "outputsMetadata": {
     "0": {
      "height": 59,
      "type": "stream"
     }
    }
   },
   "outputs": [
    {
     "name": "stdout",
     "output_type": "stream",
     "text": [
      "The \"Gasoline Particular Filter Full\" warning means that the gasoline particulate filter is full and needs attention. You should consult an MG Authorised Repairer as soon as possible to address this issue.\n"
     ]
    }
   ],
   "source": [
    "# Initialize query\n",
    "query = \"The Gasoline Particular Filter Full warning has appeared. What does this mean and what should I do about it?\"\n",
    "\n",
    "# Invoke the query\n",
    "answer = rag_chain.invoke(query).content\n",
    "print(answer)"
   ]
  }
 ],
 "metadata": {
  "colab": {
   "name": "Welcome to DataCamp Workspaces.ipynb",
   "provenance": []
  },
  "kernelspec": {
   "display_name": ".venv",
   "language": "python",
   "name": "python3"
  },
  "language_info": {
   "codemirror_mode": {
    "name": "ipython",
    "version": 3
   },
   "file_extension": ".py",
   "mimetype": "text/x-python",
   "name": "python",
   "nbconvert_exporter": "python",
   "pygments_lexer": "ipython3",
   "version": "3.11.5"
  }
 },
 "nbformat": 4,
 "nbformat_minor": 5
}
