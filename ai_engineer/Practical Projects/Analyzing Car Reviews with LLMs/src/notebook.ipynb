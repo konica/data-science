{
 "cells": [
  {
   "cell_type": "markdown",
   "id": "9aabafca-8129-4943-b865-d5e897637253",
   "metadata": {},
   "source": [
    "![image](car.jpeg)\n",
    "\n",
    "**Car-ing is sharing**, an auto dealership company for car sales and rental, is taking their services to the next level thanks to **Large Language Models (LLMs)**.\n",
    "\n",
    "As their newly recruited AI and NLP developer, you've been asked to prototype a chatbot app with multiple functionalities that not only assist customers but also provide support to human agents in the company.\n",
    "\n",
    "The solution should receive textual prompts and use a variety of pre-trained Hugging Face LLMs to respond to a series of tasks, e.g. classifying the sentiment in a car’s text review, answering a customer question, summarizing or translating text, etc.\n"
   ]
  },
  {
   "cell_type": "code",
   "execution_count": 2,
   "id": "5325a4c0-ceb3-4b66-acd2-5eadcefe3a63",
   "metadata": {
    "collapsed": false,
    "executionCancelledAt": null,
    "executionTime": 3729,
    "jupyter": {
     "outputs_hidden": false,
     "source_hidden": false
    },
    "lastExecutedAt": 1742903661842,
    "lastExecutedByKernel": "213ae9ca-292b-42c1-9555-4af0d572a0c2",
    "lastScheduledRunId": null,
    "lastSuccessfullyExecutedCode": "# Import necessary packages\nimport pandas as pd\nimport torch\n\nfrom transformers import logging\nlogging.set_verbosity(logging.WARNING)",
    "outputsMetadata": {
     "0": {
      "height": 553,
      "type": "stream"
     }
    }
   },
   "outputs": [
    {
     "name": "stderr",
     "output_type": "stream",
     "text": [
      "d:\\GitHub\\Open source\\data-science\\ai_engineer\\Practical Projects\\Analyzing Car Reviews with LLMs\\.venv\\Lib\\site-packages\\tqdm\\auto.py:21: TqdmWarning: IProgress not found. Please update jupyter and ipywidgets. See https://ipywidgets.readthedocs.io/en/stable/user_install.html\n",
      "  from .autonotebook import tqdm as notebook_tqdm\n"
     ]
    }
   ],
   "source": [
    "# Import necessary packages\n",
    "import pandas as pd\n",
    "import torch\n",
    "\n",
    "from transformers import logging\n",
    "logging.set_verbosity(logging.WARNING)"
   ]
  },
  {
   "cell_type": "code",
   "execution_count": 2,
   "id": "6c3a3bf7-8675-4fdf-8580-0c69b58f471e",
   "metadata": {
    "executionCancelledAt": null,
    "executionTime": 46,
    "lastExecutedAt": 1730797704457,
    "lastExecutedByKernel": "4dfc7578-341a-4ffd-ad4c-afc159d5a08e",
    "lastScheduledRunId": null,
    "lastSuccessfullyExecutedCode": "# Start your code here!"
   },
   "outputs": [],
   "source": [
    "# Start your code here!"
   ]
  }
 ],
 "metadata": {
  "editor": "DataLab",
  "kernelspec": {
   "display_name": ".venv",
   "language": "python",
   "name": "python3"
  },
  "language_info": {
   "codemirror_mode": {
    "name": "ipython",
    "version": 3
   },
   "file_extension": ".py",
   "mimetype": "text/x-python",
   "name": "python",
   "nbconvert_exporter": "python",
   "pygments_lexer": "ipython3",
   "version": "3.11.9"
  }
 },
 "nbformat": 4,
 "nbformat_minor": 5
}
