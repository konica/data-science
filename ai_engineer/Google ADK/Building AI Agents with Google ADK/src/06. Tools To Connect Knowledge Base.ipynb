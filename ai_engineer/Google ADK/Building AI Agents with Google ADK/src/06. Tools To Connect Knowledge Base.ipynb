{
 "cells": [
  {
   "cell_type": "markdown",
   "id": "34a42b32-2571-42ed-9096-0fe896c433bd",
   "metadata": {},
   "source": [
    "# Talking facts: Connecting to a knowledge base"
   ]
  },
  {
   "cell_type": "markdown",
   "id": "c79550db-1cf1-41fa-a77d-8e9629b3c724",
   "metadata": {},
   "source": [
    "### 🧰 Defining a Tool Function\n",
    "- We saw in the early example a proof of concept of a customer support agent that welcomes users.\n",
    "- In ADK, a **tool** is an external function or utility that an agent can use to assist in answering a user’s question or completing a task.\n",
    "![image-4](images/image-4.png)\n",
    "- To add this capability, we first need a function that the agent can use as a tool.\n",
    "- When creating the `LlmAgent`, we provide an additional parameter `tools=[faq_tool]` to register our FAQ lookup function as a tool the agent can use.\n",
    "- We then create our new support agent and run it."
   ]
  },
  {
   "cell_type": "markdown",
   "id": "36ad6204-8d4b-4dd4-a846-e9e3919e5b53",
   "metadata": {},
   "source": [
    "## ❗️ Note: Run the **hidden cells** below to initialize the agent, before running the rest of the code. ❗️ "
   ]
  },
  {
   "cell_type": "code",
   "execution_count": 1,
   "id": "697e5267-91bc-4ff3-8bb4-dc4733aa2029",
   "metadata": {
    "collapsed": false,
    "executionCancelledAt": null,
    "executionTime": 50,
    "jupyter": {
     "outputs_hidden": false,
     "source_hidden": false
    },
    "lastExecutedAt": 1754097279310,
    "lastExecutedByKernel": "1ecded1c-3f49-46b4-ab25-5a270c20e524",
    "lastScheduledRunId": null,
    "lastSuccessfullyExecutedCode": "import importlib\nimportlib.invalidate_caches()"
   },
   "outputs": [],
   "source": [
    "import importlib\n",
    "importlib.invalidate_caches()"
   ]
  },
  {
   "cell_type": "code",
   "execution_count": 2,
   "id": "8fffa622-0ce7-46aa-801e-31f8bb106b0e",
   "metadata": {
    "collapsed": false,
    "executionCancelledAt": null,
    "executionTime": 48,
    "jupyter": {
     "outputs_hidden": false,
     "source_hidden": false
    },
    "lastExecutedAt": 1754097279358,
    "lastExecutedByKernel": "1ecded1c-3f49-46b4-ab25-5a270c20e524",
    "lastScheduledRunId": null,
    "lastSuccessfullyExecutedCode": "import os\nfrom google.adk.agents import LlmAgent\nfrom google.adk.sessions import InMemorySessionService\nfrom google.adk.runners import Runner\n\nimport os\n\nos.environ[\"OPENAI_API_BASE\"]=\"http://localhost:11434/v1\""
   },
   "outputs": [],
   "source": [
    "import os\n",
    "from google.adk.agents import LlmAgent\n",
    "from google.adk.sessions import InMemorySessionService\n",
    "from google.adk.runners import Runner\n",
    "\n",
    "import os\n"
   ]
  },
  {
   "cell_type": "code",
   "execution_count": 3,
   "id": "2b627e4f-3791-4455-96de-f3010d93242a",
   "metadata": {
    "executionCancelledAt": null,
    "executionTime": 48,
    "lastExecutedAt": 1754097279406,
    "lastExecutedByKernel": "1ecded1c-3f49-46b4-ab25-5a270c20e524",
    "lastScheduledRunId": null,
    "lastSuccessfullyExecutedCode": "from google.adk.tools import FunctionTool\nfrom google.genai import types\nfrom google import genai\nfrom google.adk.models.lite_llm import LiteLlm\nimport litellm \n\nAGENT_MODEL = LiteLlm(model=\"openai/gpt-4o-mini\")\nAPP_NAME = \"adk_course_app\"\nUSER_ID = \"user_123\"\nSESSION_ID = \"support_session\""
   },
   "outputs": [],
   "source": [
    "from google.adk.tools import FunctionTool\n",
    "from google.genai import types\n",
    "from google import genai\n",
    "from google.adk.models.lite_llm import LiteLlm\n",
    "import litellm \n",
    "\n",
    "AGENT_MODEL = LiteLlm(model=\"openai/gpt-4o-mini\")\n",
    "APP_NAME = \"adk_course_app\"\n",
    "USER_ID = \"user_123\"\n",
    "SESSION_ID = \"support_session\""
   ]
  },
  {
   "cell_type": "code",
   "execution_count": 4,
   "id": "ccc42573-9e6c-4920-a4e4-b0baa750c9aa",
   "metadata": {
    "executionCancelledAt": null,
    "executionTime": 51,
    "lastExecutedAt": 1754097279458,
    "lastExecutedByKernel": "1ecded1c-3f49-46b4-ab25-5a270c20e524",
    "lastScheduledRunId": null,
    "lastSuccessfullyExecutedCode": "# Define a simple FAQ knowledge base\nFAQ_DATA = {\n    \"return policy\": \"You can return items within 30 days of purchase.\",\n    \"hours\": \"Our support team is available from 9am to 5pm, Monday to Friday.\",\n    \"contact\": \"You can reach support at help@example.com.\"\n}\n\n# Define the tool function\ndef lookup_faq(question: str) -> str:\n    faq_text = \"\\n\".join(f\"- {k}: {v}\" for k, v in FAQ_DATA.items())\n    prompt = (\n        f\"You are a helpful assistant. Here is a list of FAQs:\\n\\n{faq_text}\\n\\n\"\n        f\"User question: \\\"{question}\\\". \"\n        f\"Reply with the best match or say you don't know.\"\n    )\n    response = litellm.completion(\n        model=\"gpt-4o-mini\",\n        messages=[{\"role\": \"user\", \"content\": prompt}]\n    )\n    return response[\"choices\"][0][\"message\"][\"content\"].strip()"
   },
   "outputs": [],
   "source": [
    "# Define a simple FAQ knowledge base\n",
    "FAQ_DATA = {\n",
    "    \"return policy\": \"You can return items within 30 days of purchase.\",\n",
    "    \"hours\": \"Our support team is available from 9am to 5pm, Monday to Friday.\",\n",
    "    \"contact\": \"You can reach support at help@example.com.\"\n",
    "}\n",
    "\n",
    "# Define the tool function\n",
    "def lookup_faq(question: str) -> str:\n",
    "    faq_text = \"\\n\".join(f\"- {k}: {v}\" for k, v in FAQ_DATA.items())\n",
    "    prompt = (\n",
    "        f\"You are a helpful assistant. Here is a list of FAQs:\\n\\n{faq_text}\\n\\n\"\n",
    "        f\"User question: \\\"{question}\\\". \"\n",
    "        f\"Reply with the best match or say you don't know.\"\n",
    "    )\n",
    "    response = litellm.completion(\n",
    "        model=\"gpt-4o-mini\",\n",
    "        messages=[{\"role\": \"user\", \"content\": prompt}]\n",
    "    )\n",
    "    return response[\"choices\"][0][\"message\"][\"content\"].strip()"
   ]
  },
  {
   "cell_type": "code",
   "execution_count": 5,
   "id": "528245c6-3a31-4ed0-8af0-3f094f67ddfe",
   "metadata": {
    "executionCancelledAt": null,
    "executionTime": 48,
    "lastExecutedAt": 1754097279506,
    "lastExecutedByKernel": "1ecded1c-3f49-46b4-ab25-5a270c20e524",
    "lastScheduledRunId": null,
    "lastSuccessfullyExecutedCode": "# Wrap the tool\nfaq_tool = FunctionTool(func=lookup_faq)\n\nsupport_agent = LlmAgent(\n    name=\"SupportAgent\",\n    description=\"An agent that answers users' questions based on a set of FAQs.\",\n    instruction=\"Use the FAQ tool to help answer customer questions.\",\n    model=AGENT_MODEL,\n    tools=[faq_tool]\n)"
   },
   "outputs": [],
   "source": [
    "# Wrap the tool\n",
    "faq_tool = FunctionTool(func=lookup_faq)\n",
    "\n",
    "support_agent = LlmAgent(\n",
    "    name=\"SupportAgent\",\n",
    "    description=\"An agent that answers users' questions based on a set of FAQs.\",\n",
    "    instruction=\"Use the FAQ tool to help answer customer questions.\",\n",
    "    model=AGENT_MODEL,\n",
    "    tools=[faq_tool]\n",
    ")"
   ]
  },
  {
   "cell_type": "code",
   "execution_count": 6,
   "id": "e6092ecc-94be-4d2b-82b0-b0ba164b53ff",
   "metadata": {
    "executionCancelledAt": null,
    "executionTime": 2707,
    "lastExecutedAt": 1754097282214,
    "lastExecutedByKernel": "1ecded1c-3f49-46b4-ab25-5a270c20e524",
    "lastScheduledRunId": null,
    "lastSuccessfullyExecutedCode": "# Set up session service and runner\nsession_service = InMemorySessionService()\nawait session_service.create_session(app_name=APP_NAME, user_id=USER_ID, session_id=SESSION_ID)\nrunner = Runner(agent=support_agent, app_name=APP_NAME, session_service=session_service)\n\n# Define and call the agent asynchronously\nasync def call_agent_async(query: str):\n    print(f\"\\n>>> User Query: {query}\")\n    content = types.Content(role='user', parts=[types.Part(text=query)])\n    final_response_text = \"Agent did not produce a final response.\"\n\n    async for event in runner.run_async(user_id=USER_ID, session_id=SESSION_ID, new_message=content):\n        if event.is_final_response():\n            if event.content and event.content.parts:\n                final_response_text = event.content.parts[0].text\n            break\n\n    print(f\"<<< Agent Response: {final_response_text}\")\n\n# Run the agent\nawait call_agent_async(\"What is your return policy?\")",
    "outputsMetadata": {
     "0": {
      "height": 59,
      "type": "stream"
     }
    }
   },
   "outputs": [
    {
     "name": "stdout",
     "output_type": "stream",
     "text": [
      "\n",
      ">>> User Query: What is your return policy?\n",
      "<<< Agent Response: Our return policy allows you to return items within 30 days of purchase.\n"
     ]
    }
   ],
   "source": [
    "# Set up session service and runner\n",
    "session_service = InMemorySessionService()\n",
    "await session_service.create_session(app_name=APP_NAME, user_id=USER_ID, session_id=SESSION_ID)\n",
    "runner = Runner(agent=support_agent, app_name=APP_NAME, session_service=session_service)\n",
    "\n",
    "# Define and call the agent asynchronously\n",
    "async def call_agent_async(query: str):\n",
    "    print(f\"\\n>>> User Query: {query}\")\n",
    "    content = types.Content(role='user', parts=[types.Part(text=query)])\n",
    "    final_response_text = \"Agent did not produce a final response.\"\n",
    "\n",
    "    async for event in runner.run_async(user_id=USER_ID, session_id=SESSION_ID, new_message=content):\n",
    "        if event.is_final_response():\n",
    "            if event.content and event.content.parts:\n",
    "                final_response_text = event.content.parts[0].text\n",
    "            break\n",
    "\n",
    "    print(f\"<<< Agent Response: {final_response_text}\")\n",
    "\n",
    "# Run the agent\n",
    "await call_agent_async(\"What is your return policy?\")"
   ]
  },
  {
   "cell_type": "code",
   "execution_count": 7,
   "id": "0bcdfd5d-35e1-4a78-aa93-dc3b44ddd09a",
   "metadata": {
    "executionCancelledAt": null,
    "executionTime": 1911,
    "lastExecutedAt": 1754097284126,
    "lastExecutedByKernel": "1ecded1c-3f49-46b4-ab25-5a270c20e524",
    "lastScheduledRunId": null,
    "lastSuccessfullyExecutedCode": "await call_agent_async(\"What is contact I can reach?\")",
    "outputsMetadata": {
     "0": {
      "height": 59,
      "type": "stream"
     }
    }
   },
   "outputs": [
    {
     "name": "stdout",
     "output_type": "stream",
     "text": [
      "\n",
      ">>> User Query: What is contact I can reach?\n",
      "<<< Agent Response: You can reach support at help@example.com.\n"
     ]
    }
   ],
   "source": [
    "await call_agent_async(\"What is contact I can reach?\")"
   ]
  },
  {
   "cell_type": "markdown",
   "id": "4fa507ee-55ff-47e7-98dd-6b658b076cd8",
   "metadata": {},
   "source": [
    "- With this tool-enabled agent, we’ve introduced a best practice: **augmenting AI agents with tools for interaction with specific information**."
   ]
  }
 ],
 "metadata": {
  "editor": "DataLab",
  "kernelspec": {
   "display_name": ".venv",
   "language": "python",
   "name": "python3"
  },
  "language_info": {
   "codemirror_mode": {
    "name": "ipython",
    "version": 3
   },
   "file_extension": ".py",
   "mimetype": "text/x-python",
   "name": "python",
   "nbconvert_exporter": "python",
   "pygments_lexer": "ipython3",
   "version": "3.11.5"
  }
 },
 "nbformat": 4,
 "nbformat_minor": 5
}
