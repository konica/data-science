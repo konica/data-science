{
 "cells": [
  {
   "cell_type": "markdown",
   "id": "4a5d5534-1f0f-4d39-a845-b04850217e02",
   "metadata": {},
   "source": [
    "# In the loop: Running our agent"
   ]
  },
  {
   "cell_type": "markdown",
   "id": "44752f6f-e143-41b1-951e-9999f18fc28c",
   "metadata": {},
   "source": [
    "### 💬 Interacting with the agent\n",
    "Now that we have our welcome agent defined, the next step is to interact with it.\n",
    "![image-3](images/image-3.png)\n",
    "Let’s unpack the components we need to run our agent:\n",
    "- **Session Service and Session**: Before the message from the user can be processed, ADK needs to know who is talking and in what context.\n",
    "- **Runner**: Once the session is in place, the `Runner` orchestrates the agent’s reasoning cycle and manages the flow of the conversation turn.\n",
    "- **Asynchronous Execution**: Communicating with an LLM API is an operation that can take a bit of time (since it involves network requests)."
   ]
  },
  {
   "cell_type": "markdown",
   "id": "6ff0eec9-031b-42ff-9f94-ae629b17003e",
   "metadata": {},
   "source": [
    "## ❗️ Note: Run the **hidden cells** below to initialize the agent, before running the rest of the code. ❗️ "
   ]
  },
  {
   "cell_type": "code",
   "execution_count": 23,
   "id": "ae4d4b0e-b40e-4fff-951d-e01b85e46d8b",
   "metadata": {
    "collapsed": false,
    "executionCancelledAt": null,
    "executionTime": 44,
    "jupyter": {
     "outputs_hidden": false,
     "source_hidden": true
    },
    "lastExecutedAt": 1754092968088,
    "lastExecutedByKernel": "514372b7-8ffe-4da0-9f51-8afb6670fea5",
    "lastScheduledRunId": null,
    "lastSuccessfullyExecutedCode": "import importlib\nimportlib.invalidate_caches()"
   },
   "outputs": [],
   "source": [
    "import importlib\n",
    "importlib.invalidate_caches()"
   ]
  },
  {
   "cell_type": "code",
   "execution_count": null,
   "id": "3830b84a-578b-40ca-a3b5-a0b138ec5930",
   "metadata": {
    "collapsed": false,
    "executionCancelledAt": null,
    "executionTime": 55,
    "jupyter": {
     "outputs_hidden": false,
     "source_hidden": true
    },
    "lastExecutedAt": 1754092968144,
    "lastExecutedByKernel": "514372b7-8ffe-4da0-9f51-8afb6670fea5",
    "lastScheduledRunId": null,
    "lastSuccessfullyExecutedCode": "from google.adk.agents import LlmAgent\nfrom google.adk.models.lite_llm import LiteLlm\nimport os\n\nos.environ[\"OPENAI_API_BASE\"]=\"http://localhost:11434/v1\"\n\nAGENT_MODEL = LiteLlm(model=\"openai/gpt-4o-mini\")\n\nagent = LlmAgent(\n    name=\"WelcomeAgent\",\n    description=\"An agent that welcomes the user.\",\n    instruction=\"Always greet the user politely.\",\n    model=AGENT_MODEL\n)"
   },
   "outputs": [],
   "source": [
    "from google.adk.agents import LlmAgent\n",
    "from google.adk.models.lite_llm import LiteLlm\n",
    "import os\n",
    "\n",
    "AGENT_MODEL = LiteLlm(model=\"openai/gpt-4o-mini\")\n",
    "\n",
    "agent = LlmAgent(\n",
    "    name=\"WelcomeAgent\",\n",
    "    description=\"An agent that welcomes the user.\",\n",
    "    instruction=\"Always greet the user politely.\",\n",
    "    model=AGENT_MODEL\n",
    ")"
   ]
  },
  {
   "cell_type": "code",
   "execution_count": 25,
   "id": "6e2a69e7-c0c0-42d2-8e41-d5ceda6345ae",
   "metadata": {
    "executionCancelledAt": null,
    "executionTime": 47,
    "lastExecutedAt": 1754092968192,
    "lastExecutedByKernel": "514372b7-8ffe-4da0-9f51-8afb6670fea5",
    "lastScheduledRunId": null,
    "lastSuccessfullyExecutedCode": "# Install and import required libraries\nimport nest_asyncio\nimport asyncio\nnest_asyncio.apply()  # Required for async in notebooks\n\nfrom google.adk.runners import Runner\nfrom google.adk.sessions import InMemorySessionService\nfrom google.genai import types\n\n# Constants — define application, user, and session identifiers\nAPP_NAME = \"adk_course_app\"    # Name of the ADK application\nUSER_ID = \"user_123\"           # Identifier for the current user\nSESSION_ID = \"welcome_session\" # Identifier for the conversation session"
   },
   "outputs": [],
   "source": [
    "# Install and import required libraries\n",
    "import nest_asyncio\n",
    "import asyncio\n",
    "nest_asyncio.apply()  # Required for async in notebooks\n",
    "\n",
    "from google.adk.runners import Runner\n",
    "from google.adk.sessions import InMemorySessionService\n",
    "from google.genai import types\n",
    "\n",
    "# Constants — define application, user, and session identifiers\n",
    "APP_NAME = \"adk_course_app\"    # Name of the ADK application\n",
    "USER_ID = \"user_123\"           # Identifier for the current user\n",
    "SESSION_ID = \"welcome_session\" # Identifier for the conversation session"
   ]
  },
  {
   "cell_type": "code",
   "execution_count": 27,
   "id": "3e12b4ea-5a92-4757-8e10-21d32aa26613",
   "metadata": {
    "executionCancelledAt": null,
    "executionTime": 47,
    "lastExecutedAt": 1754092968292,
    "lastExecutedByKernel": "514372b7-8ffe-4da0-9f51-8afb6670fea5",
    "lastScheduledRunId": null,
    "lastSuccessfullyExecutedCode": "from google.adk.agents import LlmAgent\n\n# Define the agent\nwelcome_agent = LlmAgent(\n    name=\"WelcomeAgent\",\n    description=\"An agent that welcomes the user.\", \n    instruction=\"Always greet the user politely.\",  \n    model=AGENT_MODEL\n)\n\n# Set up session service and create a session\nsession_service = InMemorySessionService()\nawait session_service.create_session(\n    app_name=APP_NAME, \n    user_id=USER_ID, \n    session_id=SESSION_ID\n)\n\n# Set up a runner to orchestrate the agent\nrunner = Runner(agent=welcome_agent, app_name=APP_NAME, session_service=session_service)"
   },
   "outputs": [],
   "source": [
    "from google.adk.agents import LlmAgent\n",
    "\n",
    "# Define the agent\n",
    "welcome_agent = LlmAgent(\n",
    "    name=\"WelcomeAgent\",\n",
    "    description=\"An agent that welcomes the user.\", \n",
    "    instruction=\"Always greet the user politely.\",  \n",
    "    model=AGENT_MODEL\n",
    ")\n",
    "\n",
    "# Set up session service and create a session\n",
    "session_service = InMemorySessionService()\n",
    "await session_service.create_session(\n",
    "    app_name=APP_NAME, \n",
    "    user_id=USER_ID, \n",
    "    session_id=SESSION_ID\n",
    ")\n",
    "\n",
    "# Set up a runner to orchestrate the agent\n",
    "runner = Runner(agent=welcome_agent, app_name=APP_NAME, session_service=session_service)"
   ]
  },
  {
   "cell_type": "code",
   "execution_count": 28,
   "id": "704fa628-2d4d-49a6-b253-5ce7b29db958",
   "metadata": {
    "executionCancelledAt": null,
    "executionTime": null,
    "lastExecutedAt": null,
    "lastExecutedByKernel": null,
    "lastScheduledRunId": null,
    "lastSuccessfullyExecutedCode": null,
    "outputsMetadata": {
     "0": {
      "height": 80,
      "type": "stream"
     }
    }
   },
   "outputs": [
    {
     "name": "stdout",
     "output_type": "stream",
     "text": [
      "\n",
      ">>> User Query: Hi there!\n",
      "<<< Agent Response: Hello! Welcome! How can I assist you today?\n"
     ]
    }
   ],
   "source": [
    "# Define an asynchronous function to send a query to the agent and handle its response\n",
    "async def call_agent_async(query: str):\n",
    "    print(f\"\\n>>> User Query: {query}\")\n",
    "\n",
    "    # Package the user's query into ADK format\n",
    "    content = types.Content(role='user', parts=[types.Part(text=query)])\n",
    "    final_response_text = \"Agent did not produce a final response.\"\n",
    "\n",
    "    # Iterate through streamed agent responses\n",
    "    async for event in runner.run_async(user_id=USER_ID, session_id=SESSION_ID, new_message=content):\n",
    "        if event.is_final_response(): # Check if this is the final message from the agent\n",
    "            if event.content and event.content.parts:\n",
    "                final_response_text = event.content.parts[0].text # Extract response text\n",
    "            break # Stop listening after final response is received\n",
    "\n",
    "    print(f\"<<< Agent Response: {final_response_text}\")\n",
    "\n",
    "# Run the interaction\n",
    "await call_agent_async(\"Hi there!\")"
   ]
  },
  {
   "cell_type": "code",
   "execution_count": 29,
   "id": "0c1d1e3e-30d0-410d-ac1f-3c2db985a82a",
   "metadata": {
    "executionCancelledAt": null,
    "executionTime": null,
    "lastExecutedAt": null,
    "lastExecutedByKernel": null,
    "lastScheduledRunId": null,
    "lastSuccessfullyExecutedCode": null,
    "outputsMetadata": {
     "0": {
      "height": 549,
      "type": "stream"
     }
    }
   },
   "outputs": [
    {
     "name": "stdout",
     "output_type": "stream",
     "text": [
      "\n",
      ">>> User Query: Compare AI agent and Agentic AI agent.\n",
      "<<< Agent Response: Sure! Here's a brief comparison between AI agents and Agentic AI agents:\n",
      "\n",
      "1. **AI Agent**:\n",
      "   - **Definition**: An AI agent is a software program designed to perform tasks or solve problems based on data and algorithms. They can operate within specific parameters and are often reactive, responding to input or changes in their environment.\n",
      "   - **Functionality**: AI agents can analyze data, make decisions, and execute tasks based on pre-defined rules and learning from past experiences. Examples include chatbots, recommendation systems, and virtual assistants.\n",
      "   - **Autonomy**: While they can be autonomous to some extent, they typically require human oversight and intervention to function optimally and adhere to ethical guidelines.\n",
      "\n",
      "2. **Agentic AI Agent**:\n",
      "   - **Definition**: Agentic AI agents are a subset of AI agents that possess a higher degree of autonomy and agency. They can make independent decisions and take actions based on their understanding of goals, environments, and the potential consequences of their actions.\n",
      "   - **Functionality**: These agents often have advanced capabilities, such as self-improvement, complex problem-solving, and adaptability to dynamic environments. They can learn from their experiences in a more profound and significant way than standard AI agents.\n",
      "   - **Autonomy**: Agentic AI agents operate with a greater level of independence, often implementing their strategies to achieve defined objectives without consistent human intervention. This raises important considerations around ethics, responsibility, and control.\n",
      "\n",
      "In summary, while both types of agents utilize AI technology to perform tasks, agentic AI agents are characterized by their enhanced autonomy and decision-making capabilities. Let me know if you would like more information!\n"
     ]
    }
   ],
   "source": [
    "await call_agent_async(\"Compare AI agent and Agentic AI agent.\")"
   ]
  },
  {
   "cell_type": "markdown",
   "id": "f5f31c01-5034-4226-a216-f39ec0f11914",
   "metadata": {},
   "source": [
    "- After defining the agent, session service, runner, and asynchronous execution, we finally had our agent do what it was meant to do: greet us!"
   ]
  }
 ],
 "metadata": {
  "editor": "DataLab",
  "kernelspec": {
   "display_name": "Python 3 (ipykernel)",
   "language": "python",
   "name": "python3"
  },
  "language_info": {
   "codemirror_mode": {
    "name": "ipython",
    "version": 3
   },
   "file_extension": ".py",
   "mimetype": "text/x-python",
   "name": "python",
   "nbconvert_exporter": "python",
   "pygments_lexer": "ipython3",
   "version": "3.10.12"
  }
 },
 "nbformat": 4,
 "nbformat_minor": 5
}
