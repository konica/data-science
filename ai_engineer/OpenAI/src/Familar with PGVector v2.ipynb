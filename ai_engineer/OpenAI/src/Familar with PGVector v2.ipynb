{
 "cells": [
  {
   "cell_type": "markdown",
   "id": "091cbc16",
   "metadata": {},
   "source": [
    "# Install pgvector to Postgre SQL \n",
    "- Follow the git hub https://github.com/pgvector/pgvector to build and install the vector extension for PostgreSQL server\n",
    "- Create the vector extension in PostgreSQL via admin user\n",
    "- Get started with example in python https://github.com/pgvector/pgvector-python/blob/master/examples/openai/example.py\n",
    "\n",
    "- In Python, also need to install `pgvector` package"
   ]
  },
  {
   "cell_type": "code",
   "execution_count": null,
   "id": "894a27ae",
   "metadata": {},
   "outputs": [],
   "source": [
    "from dotenv import load_dotenv\n",
    "import os\n",
    "load_dotenv()\n",
    "\n",
    "for key, value in os.environ.items():\n",
    "    print(f\"{key} = {value}\")\n"
   ]
  },
  {
   "cell_type": "code",
   "execution_count": null,
   "id": "a00c7852",
   "metadata": {},
   "outputs": [],
   "source": [
    "# %pip install pgvector\n",
    "\n",
    "import os\n",
    "import numpy as np\n",
    "\n",
    "import psycopg2\n",
    "from pgvector.psycopg2 import register_vector\n",
    "\n",
    "# Connect to PostgreSQL (update credentials as needed)\n",
    "conn = psycopg2.connect(\n",
    "    dbname=\"netflix_db\",\n",
    "    user=os.getenv(\"POSTGRES_USERNAME_DB\", \"postgres\"),\n",
    "    password=os.getenv(\"POSTGRES_PASSWORD_DB\", \"Post!234\"),\n",
    "    host=os.getenv(\"POSTGRES_DATABASE_HOST\", \"localhost\"),\n",
    "    port=os.getenv(\"POSTGRES_DATABASE_PORT\", \"5432\")\n",
    ")\n",
    "\n",
    "cur = conn.cursor()\n",
    "cur.execute('CREATE EXTENSION IF NOT EXISTS vector')\n",
    "register_vector(conn)\n",
    "\n",
    "cur.execute('DROP TABLE IF EXISTS documents')\n",
    "cur.execute('CREATE TABLE documents (id bigserial PRIMARY KEY, content text, embedding vector(1536))')\n",
    "conn.commit()\n",
    "cur.close()\n",
    "\n",
    "\n"
   ]
  },
  {
   "cell_type": "markdown",
   "id": "bb633926",
   "metadata": {},
   "source": [
    "Insert rows into `documents` table"
   ]
  },
  {
   "cell_type": "code",
   "execution_count": null,
   "id": "9ac5e641",
   "metadata": {},
   "outputs": [],
   "source": [
    "from openai import OpenAI\n",
    "client = OpenAI()\n",
    "\n",
    "def embed(input):\n",
    "    response = client.embeddings.create(input=input, model='text-embedding-3-small')\n",
    "    return [v.embedding for v in response.data]\n",
    "\n",
    "\n",
    "input = [\n",
    "    'The dog is barking',\n",
    "    'The cat is purring',\n",
    "    'The bear is growling'\n",
    "]\n",
    "embeddings = embed(input)\n",
    "conn.rollback()  # Reset transaction state if previous error occurred\n",
    "cur = conn.cursor()\n",
    "for content, embedding in zip(input, embeddings):\n",
    "    cur.execute('INSERT INTO documents (content, embedding) VALUES (%s, %s)', (content, np.array(embedding)))\n",
    "conn.commit()\n",
    "cur.close()\n"
   ]
  },
  {
   "cell_type": "markdown",
   "id": "d8f88a87",
   "metadata": {},
   "source": [
    "Make search to find text similar with query = 'tiger'"
   ]
  },
  {
   "cell_type": "code",
   "execution_count": null,
   "id": "f0b918e1",
   "metadata": {},
   "outputs": [],
   "source": [
    "query = 'tiger'\n",
    "query_embedding = embed([query])[0]\n",
    "cur = conn.cursor()\n",
    "\n",
    "cur.execute('SELECT content FROM documents ORDER BY embedding <=> %s LIMIT 5', (np.array(query_embedding),))\n",
    "result = cur.fetchall()\n",
    "for row in result:\n",
    "    print(row[0])\n",
    "cur.close()"
   ]
  }
 ],
 "metadata": {
  "kernelspec": {
   "display_name": ".venv",
   "language": "python",
   "name": "python3"
  },
  "language_info": {
   "codemirror_mode": {
    "name": "ipython",
    "version": 3
   },
   "file_extension": ".py",
   "mimetype": "text/x-python",
   "name": "python",
   "nbconvert_exporter": "python",
   "pygments_lexer": "ipython3",
   "version": "3.11.5"
  }
 },
 "nbformat": 4,
 "nbformat_minor": 5
}
