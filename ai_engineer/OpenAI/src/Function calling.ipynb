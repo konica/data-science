{
 "cells": [
  {
   "cell_type": "markdown",
   "id": "8cc716cb",
   "metadata": {},
   "source": [
    "# What is function calling?\n",
    "- Why use function calling?\n",
    "- Use cases for function calling\n",
    "    - Going from unstructured to consistent structured output\n",
    "    - Calling multiple functions to provide complex responses\n",
    "    - Calling external APIs"
   ]
  },
  {
   "cell_type": "code",
   "execution_count": 6,
   "id": "9c8caa50",
   "metadata": {},
   "outputs": [],
   "source": [
    "from openai import OpenAI\n",
    "import json\n",
    "client = OpenAI()"
   ]
  },
  {
   "cell_type": "code",
   "execution_count": 2,
   "id": "d0e3a07b",
   "metadata": {},
   "outputs": [
    {
     "name": "stdout",
     "output_type": "stream",
     "text": [
      "{\n",
      "  \"trees\": [\n",
      "    {\n",
      "      \"common_name\": \"Oak\",\n",
      "      \"scientific_name\": \"Quercus\"\n",
      "    },\n",
      "    {\n",
      "      \"common_name\": \"Maple\",\n",
      "      \"scientific_name\": \"Acer\"\n",
      "    },\n",
      "    {\n",
      "      \"common_name\": \"Pine\",\n",
      "      \"scientific_name\": \"Pinus\"\n",
      "    },\n",
      "    {\n",
      "      \"common_name\": \"Birch\",\n",
      "      \"scientific_name\": \"Betula\"\n",
      "    }\n",
      "  ]\n",
      "}\n"
     ]
    }
   ],
   "source": [
    "response = client.chat.completions.create(\n",
    "    model=\"gpt-4o-mini\",  \n",
    "    messages=[{\"role\": \"user\", \"content\": \"Please write down four trees with their scientific names in json.\"} ],\n",
    "    response_format={\"type\": \"json_object\"})\n",
    "\n",
    "print(response.choices[0].message.content)"
   ]
  },
  {
   "cell_type": "markdown",
   "id": "3f2daba5",
   "metadata": {},
   "source": [
    "## Implementing function calling\n",
    "> from openai import OpenAI  \n",
    "> client = OpenAI(api_key=\"ENTER YOUR KEY HERE\")  \n",
    "> response= client.chat.completions.create(  \n",
    "> &nbsp;&nbsp;&nbsp;&nbsp;model=\"gpt-4o-mini\",  \n",
    "> &nbsp;&nbsp;&nbsp;&nbsp;messages=messages,  \n",
    "> &nbsp;&nbsp;&nbsp;&nbsp;tools=function_definition)\n",
    "\n",
    "Setting up function calling\n",
    "\n",
    "function_definition = [{'type': 'function','function': {'name': 'extract_job_info','description': 'Get the job information from the body of the input text','parameters': {'type': 'object','properties': 'job': {'type': 'string','description': 'Job title'},'location': {'type': 'string','description': 'Office location'},              ...           }    }]\n",
    "\n"
   ]
  },
  {
   "cell_type": "code",
   "execution_count": 12,
   "id": "7f4e7a94",
   "metadata": {},
   "outputs": [
    {
     "name": "stdout",
     "output_type": "stream",
     "text": [
      "Function(arguments='{\"job\": \"Data Scientist\", \"location\": \"San Francisco, CA\"}', name='extract_job_info')\n"
     ]
    }
   ],
   "source": [
    "from openai import OpenAI\n",
    "# client = OpenAI(api_key=\"ENTER YOUR KEY HERE\")\n",
    "\n",
    "function_definition = [{\n",
    "    'type': 'function',\n",
    "    'function': {\n",
    "        'name': 'extract_job_info',\n",
    "        'description': 'Get the job information from the body of the input text',\n",
    "        'parameters': {\n",
    "            'type': 'object',\n",
    "            'properties': {\n",
    "                'job': {\n",
    "                    'type': 'string', \n",
    "                    'description': 'Job title'\n",
    "                },\n",
    "                'location': {\n",
    "                    'type': 'string', 'description': 'Location'\n",
    "                }\n",
    "            }\n",
    "        }\n",
    "    }\n",
    "}]\n",
    "\n",
    "job_description = \"\"\"\n",
    "    \"We are currently seeking a highly skilledData Scientist to join our innovative team atthe company's headquarters in San Francisco,CA. In this role, you will have the opportunityto work on complex data analysis andmodeling projects that drive our strategicdecisions. Requirements: Minimum 3 years ofexperience in data science with Python andAWS, Azure or GCP.\n",
    "\"\"\"\n",
    "\n",
    "messages = [\n",
    "    {\"role\": \"system\", \"content\": \"You are a helpful assistant that extracts job information from text and timezones for the location of the job.\"},\n",
    "    {\"role\": \"user\", \"content\": job_description}\n",
    "]\n",
    "\n",
    "response= client.chat.completions.create(\n",
    "    model=\"gpt-4o-mini\", \n",
    "    messages=messages, \n",
    "    tools=function_definition)\n",
    "\n",
    "print(response.choices[0].message.tool_calls[0].function)  # extract message"
   ]
  },
  {
   "cell_type": "code",
   "execution_count": 13,
   "id": "1d4e2173",
   "metadata": {},
   "outputs": [
    {
     "name": "stdout",
     "output_type": "stream",
     "text": [
      "Function(arguments='{\"timezone\": \"San Francisco, CA\"}', name='get_timezone')\n"
     ]
    }
   ],
   "source": [
    "# Append a new function definition to the list\n",
    "function_definition.append(\n",
    "    {\n",
    "        'type': 'function',\n",
    "        'function': {\n",
    "            'name': 'get_timezone',\n",
    "            'description': 'Return the timezone corresponding to the location in the job advert',\n",
    "            'parameters': {\n",
    "                'type': 'object',\n",
    "                'properties': {\n",
    "                    'timezone': {\n",
    "                        'type': 'string',\n",
    "                        'description': 'Timezone'\n",
    "                    }\n",
    "                }\n",
    "            }\n",
    "        }\n",
    "    })\n",
    "\n",
    "response= client.chat.completions.create(\n",
    "    model=\"gpt-4o-mini\", \n",
    "    messages=messages, \n",
    "    tools=function_definition)\n",
    "print(response.choices[0].message.tool_calls[1].function)  # extract message"
   ]
  },
  {
   "cell_type": "markdown",
   "id": "53e3a927",
   "metadata": {},
   "source": [
    "# Setting specific functions\n",
    "- You can set `tool_choice`\n",
    "    - auto\n",
    "    - a specific function\n",
    "    "
   ]
  },
  {
   "cell_type": "code",
   "execution_count": 14,
   "id": "e3107d51",
   "metadata": {},
   "outputs": [
    {
     "name": "stdout",
     "output_type": "stream",
     "text": [
      "[ChatCompletionMessageToolCall(id='call_CtH1BApXQXsSEJ6ZjVu4l1oO', function=Function(arguments='{\"job\": \"Data Scientist\", \"location\": \"San Francisco, CA\"}', name='extract_job_info'), type='function'), ChatCompletionMessageToolCall(id='call_hHf69pavxF4eyCKfTyjyLXRx', function=Function(arguments='{\"timezone\": \"San Francisco, CA\"}', name='get_timezone'), type='function')]\n",
      "[ChatCompletionMessageToolCall(id='call_vv7d2JgwlQeGGmrMsgoF03GH', function=Function(arguments='{\"job\":\"Data Scientist\",\"location\":\"San Francisco, CA\"}', name='extract_job_info'), type='function')]\n"
     ]
    }
   ],
   "source": [
    "response = client.chat.completions.create(\n",
    "    model=\"gpt-4o-mini\",\n",
    "    messages=messages,\n",
    "    tools=function_definition,\n",
    "    tool_choice='auto')\n",
    "\n",
    "print(response.choices[0].message.tool_calls)\n",
    "\n",
    "response = client.chat.completions.create(\n",
    "    model=\"gpt-4o-mini\",\n",
    "    messages=messages,\n",
    "    tools=function_definition,\n",
    "    tool_choice={'type': 'function', 'function': {'name': 'extract_job_info'} }\n",
    ")\n",
    "\n",
    "print(response.choices[0].message.tool_calls)\n"
   ]
  },
  {
   "cell_type": "markdown",
   "id": "1670eb21",
   "metadata": {},
   "source": [
    "# Use Pydantic to simplify creating function definition"
   ]
  },
  {
   "cell_type": "code",
   "execution_count": 18,
   "id": "111e2250",
   "metadata": {},
   "outputs": [
    {
     "name": "stderr",
     "output_type": "stream",
     "text": [
      "C:\\Users\\dtrun\\AppData\\Local\\Temp\\ipykernel_24720\\2262845222.py:16: PydanticDeprecatedSince20: The `schema` method is deprecated; use `model_json_schema` instead. Deprecated in Pydantic V2.0 to be removed in V3.0. See Pydantic V2 Migration Guide at https://errors.pydantic.dev/2.11/migration/\n",
      "  'parameters': ExtractJobInfoParams.schema()\n",
      "C:\\Users\\dtrun\\AppData\\Local\\Temp\\ipykernel_24720\\2262845222.py:24: PydanticDeprecatedSince20: The `schema` method is deprecated; use `model_json_schema` instead. Deprecated in Pydantic V2.0 to be removed in V3.0. See Pydantic V2 Migration Guide at https://errors.pydantic.dev/2.11/migration/\n",
      "  'parameters': GetTimezoneParams.schema()\n"
     ]
    }
   ],
   "source": [
    "from pydantic import BaseModel, Field\n",
    "\n",
    "class ExtractJobInfoParams(BaseModel):\n",
    "    job: str = Field(..., description=\"Job title\")\n",
    "    location: str = Field(..., description=\"Location\")\n",
    "\n",
    "class GetTimezoneParams(BaseModel):\n",
    "    timezone: str = Field(..., description=\"Timezone\")\n",
    "\n",
    "function_definition = [\n",
    "    {\n",
    "        'type': 'function',\n",
    "        'function': {\n",
    "            'name': 'extract_job_info',\n",
    "            'description': 'Get the job information from the body of the input text',\n",
    "            'parameters': ExtractJobInfoParams.schema()\n",
    "        }\n",
    "    },\n",
    "    {\n",
    "        'type': 'function',\n",
    "        'function': {\n",
    "            'name': 'get_timezone',\n",
    "            'description': 'Return the timezone corresponding to the location in the job advert',\n",
    "            'parameters': GetTimezoneParams.schema()\n",
    "        }\n",
    "    }\n",
    "]"
   ]
  },
  {
   "cell_type": "code",
   "execution_count": 19,
   "id": "69e8a945",
   "metadata": {},
   "outputs": [
    {
     "name": "stdout",
     "output_type": "stream",
     "text": [
      "[ChatCompletionMessageToolCall(id='call_TN84as00MnAd4CtXFH1iOirN', function=Function(arguments='{\"job\": \"Data Scientist\", \"location\": \"San Francisco, CA\"}', name='extract_job_info'), type='function'), ChatCompletionMessageToolCall(id='call_RzVimpfvccHXcFLOGgN1pXhC', function=Function(arguments='{\"timezone\": \"San Francisco, CA\"}', name='get_timezone'), type='function')]\n"
     ]
    }
   ],
   "source": [
    "response = client.chat.completions.create(\n",
    "    model=\"gpt-4o-mini\",\n",
    "    messages=messages,\n",
    "    tools=function_definition,    \n",
    ")\n",
    "\n",
    "print(response.choices[0].message.tool_calls)"
   ]
  },
  {
   "cell_type": "markdown",
   "id": "8d54cd4b",
   "metadata": {},
   "source": [
    "# Calling external APIs\n",
    "- Use `requests` library to call external API\n"
   ]
  },
  {
   "cell_type": "code",
   "execution_count": 21,
   "id": "85b1e613",
   "metadata": {},
   "outputs": [
    {
     "name": "stdout",
     "output_type": "stream",
     "text": [
      "{\n",
      "  \"preference\": null,\n",
      "  \"pagination\": {\n",
      "    \"total\": 96829,\n",
      "    \"limit\": 10,\n",
      "    \"offset\": 0,\n",
      "    \"total_pages\": 9683,\n",
      "    \"current_page\": 1\n",
      "  },\n",
      "  \"data\": [\n",
      "    {\n",
      "      \"_score\": 101.7596,\n",
      "      \"id\": 82410,\n",
      "      \"api_model\": \"artworks\",\n",
      "      \"api_link\": \"https://api.artic.edu/api/v1/artworks/82410\",\n",
      "      \"is_boosted\": false,\n",
      "      \"title\": \"Untitled (Painting)\",\n",
      "      \"thumbnail\": {\n",
      "        \"lqip\": \"data:image/gif;base64,R0lGODlhBgAFAPQAAL9xNL9yOc5pH9BoH8pnJMxpJdFpJ9NsKNZtKNZuKMBxNdaPL8yeJ8yfJ82eK8ucLNOMMtaOMdaPMcGBTdOJS8ybS8CEUdCKUNaPVc6aUNaXU9iQUdWaUgAAAAAAAAAAACH5BAAAAAAALAAAAAAGAAUAAAUYoBUogDJdRCEMFGYcCbJxkLREWvU0jJOFADs=\",\n",
      "        \"width\": 10184,\n",
      "        \"height\": 9067,\n",
      "        \"alt_text\": \"A rectangular painting on light, vivid orange features a deeper orange block set atop a yellow block. The colors of each element are only loosely blended and lightly applied, so various tones are visible.\"\n",
      "      },\n",
      "      \"timestamp\": \"2025-07-22T23:22:34-05:00\"\n",
      "    },\n",
      "    {\n",
      "      \"_score\": 97.03791,\n",
      "      \"id\": 102581,\n",
      "      \"api_model\": \"artworks\",\n",
      "      \"api_link\": \"https://api.artic.edu/api/v1/artworks/102581\",\n",
      "      \"is_boosted\": false,\n",
      "      \"title\": \"Painting\",\n",
      "      \"thumbnail\": {\n",
      "        \"lqip\": \"data:image/gif;base64,R0lGODlhBgAFAPQAAB8hIyAjJCorLCosLCwuLzM0NkZHR0xPTVpdWmVnZGhrZ3Fyb3d2c4uNh4+Qi5OVj5WUkZaWkKOjm76+tMXEvcTGvdLRx+Lh2eTj2Ovq3+3q4O7q4fj67Pn67gAAAAAAACH5BAAAAAAALAAAAAAGAAUAAAUY4CAAAVEoTYJUV8dJx0Q9jrFEEJYxlraFADs=\",\n",
      "        \"width\": 2930,\n",
      "        \"height\": 2250,\n",
      "        \"alt_text\": \"A work made of oil on canvas.\"\n",
      "      },\n",
      "      \"timestamp\": \"2025-07-22T22:29:57-05:00\"\n",
      "    },\n",
      "    {\n",
      "      \"_score\": 91.534584,\n",
      "      \"id\": 8983,\n",
      "      \"api_model\": \"artworks\",\n",
      "      \"api_link\": \"https://api.artic.edu/api/v1/artworks/8983\",\n",
      "      \"is_boosted\": false,\n",
      "      \"title\": \"Painting with Troika\",\n",
      "      \"thumbnail\": {\n",
      "        \"lqip\": \"data:image/gif;base64,R0lGODlhBwAFAPUAAEkzPW82PzY5RC0xdUc0VEI+V0g/XT1GZFBDX3xPSX10Q29oXn5jX3xwWVxadW5tanJtZYU/NYFtaIt7ZbiGV7uIULuOXbiNXoKBZqCLba6Lb8eaYcifcsCXf82jZCJGqTpSpktUia6iiQAAAAAAAAAAAAAAAAAAAAAAAAAAAAAAAAAAAAAAAAAAAAAAAAAAAAAAAAAAAAAAAAAAAAAAAAAAAAAAAAAAAAAAAAAAAAAAAAAAAAAAAAAAAAAAAAAAACH5BAAAAAAALAAAAAAHAAUAAAYhwMdkQ6lYLh8Qx9OBLBwhkYahwEgSkQCgkUEMCIbCQRAEADs=\",\n",
      "        \"width\": 3000,\n",
      "        \"height\": 2136,\n",
      "        \"alt_text\": \"Vibrant colored painting of beachscape with figures, structure, and ox pulled cart.\"\n",
      "      },\n",
      "      \"timestamp\": \"2025-07-22T22:11:57-05:00\"\n",
      "    },\n",
      "    {\n",
      "      \"_score\": 91.17804,\n",
      "      \"id\": 72889,\n",
      "      \"api_model\": \"artworks\",\n",
      "      \"api_link\": \"https://api.artic.edu/api/v1/artworks/72889\",\n",
      "      \"is_boosted\": false,\n",
      "      \"title\": \"Painting\",\n",
      "      \"thumbnail\": {\n",
      "        \"lqip\": \"data:image/gif;base64,R0lGODlhBwAFAPUAADctJTk8PGI3HEI6M0w+MGA5IGM8Imo+IXA1K3xLHFBAM19QPmdBI2ZHIm1FJ2VBKH1PImlVL3pQJ3hSLXlVLnpbKXVTMYRSG4BQJotbIpRcIpBYJJJeJZ1gJYlhNZZhOpNoO45uSZBtSgAAAAAAAAAAAAAAAAAAAAAAAAAAAAAAAAAAAAAAAAAAAAAAAAAAAAAAAAAAAAAAAAAAAAAAAAAAAAAAAAAAAAAAAAAAAAAAAAAAAAAAAAAAAAAAAAAAACH5BAAAAAAALAAAAAAHAAUAAAYhQA6kIEhkLg3M4QGqLDQfh0IUCWw8BIABYZF0GIPQhBIEADs=\",\n",
      "        \"width\": 3000,\n",
      "        \"height\": 2147,\n",
      "        \"alt_text\": \"A work made of oil, gravel, pebbles, and sand on masonite.\"\n",
      "      },\n",
      "      \"timestamp\": \"2025-07-22T22:23:49-05:00\"\n",
      "    },\n",
      "    {\n",
      "      \"_score\": 86.12909,\n",
      "      \"id\": 8987,\n",
      "      \"api_model\": \"artworks\",\n",
      "      \"api_link\": \"https://api.artic.edu/api/v1/artworks/8987\",\n",
      "      \"is_boosted\": false,\n",
      "      \"title\": \"Painting with Green Center\",\n",
      "      \"thumbnail\": {\n",
      "        \"lqip\": \"data:image/gif;base64,R0lGODlhBQAFAPQAAGRoPXRvUG9yVFxod4VfV41rSpBnUqV0TqRsWqR8ZXuCWpKFVaqHUoSHbYeHbpSIYJaNZp6Qbo+Oe42MfZKLcaaLY6qdcY2QiZuYigAAAAAAAAAAAAAAAAAAAAAAAAAAACH5BAAAAAAALAAAAAAFAAUAAAUVYCNdCEMJgRFZCrBUjzMcBIRNSRECADs=\",\n",
      "        \"width\": 2417,\n",
      "        \"height\": 2250,\n",
      "        \"alt_text\": \"Painting of vibrantly colored shapes and lines intersecting and overlapping.\"\n",
      "      },\n",
      "      \"timestamp\": \"2025-07-22T22:11:57-05:00\"\n",
      "    },\n",
      "    {\n",
      "      \"_score\": 81.579254,\n",
      "      \"id\": 77615,\n",
      "      \"api_model\": \"artworks\",\n",
      "      \"api_link\": \"https://api.artic.edu/api/v1/artworks/77615\",\n",
      "      \"is_boosted\": false,\n",
      "      \"title\": \"Painting (Figures with Stars)\",\n",
      "      \"thumbnail\": {\n",
      "        \"lqip\": \"data:image/gif;base64,R0lGODlhBgAFAPQAAFQnHEosJ106NmQ8MnYyN3c2O3M8Png4PVtJPndXNXdDRnRZQHFeTXZVW01Wb11eYmx2eYVdOoo9QZxBTIJRU4BZUaNGT4BkQIprXYdneJN5cXR9lJOPj6aamgAAAAAAACH5BAAAAAAALAAAAAAGAAUAAAUYIHEYy4VIhRIljDVRWoVlDdcNwvZATgCEADs=\",\n",
      "        \"width\": 2794,\n",
      "        \"height\": 2250,\n",
      "        \"alt_text\": \"Five stick-like figures in black and white with orange highlights float against a colorful background, four stars in the left corner.\"\n",
      "      },\n",
      "      \"timestamp\": \"2025-07-22T22:24:35-05:00\"\n",
      "    },\n",
      "    {\n",
      "      \"_score\": 78.285446,\n",
      "      \"id\": 120542,\n",
      "      \"api_model\": \"artworks\",\n",
      "      \"api_link\": \"https://api.artic.edu/api/v1/artworks/120542\",\n",
      "      \"is_boosted\": false,\n",
      "      \"title\": \"Painting (The Circus Horse)\",\n",
      "      \"thumbnail\": {\n",
      "        \"lqip\": \"data:image/gif;base64,R0lGODlhBwAFAPUAAEGPvEmSvV2cwGKfwXKow32rw36swnmpxHmqxnmrxnqqxnurxn2rxX+uxnqry36uyH6vynqvzH2wzH6y0oervYCuyYawxYqzxoSyyoOzzYO0z4a1z4myyI+3yYy3zYOz0YCy0oG21ZG80wAAAAAAAAAAAAAAAAAAAAAAAAAAAAAAAAAAAAAAAAAAAAAAAAAAAAAAAAAAAAAAAAAAAAAAAAAAAAAAAAAAAAAAAAAAAAAAAAAAAAAAAAAAAAAAAAAAACH5BAAAAAAALAAAAAAHAAUAAAYhQJAD8VAUFp+K53JgNEQdjGDA0Uw2AYCFAgkZCJGMJBEEADs=\",\n",
      "        \"width\": 3000,\n",
      "        \"height\": 2191,\n",
      "        \"alt_text\": \"A work made of oil and tempera on canvas.\"\n",
      "      },\n",
      "      \"timestamp\": \"2025-07-22T22:33:32-05:00\"\n",
      "    },\n",
      "    {\n",
      "      \"_score\": 76.16634,\n",
      "      \"id\": 11,\n",
      "      \"api_model\": \"artworks\",\n",
      "      \"api_link\": \"https://api.artic.edu/api/v1/artworks/11\",\n",
      "      \"is_boosted\": false,\n",
      "      \"title\": \"Self-Portrait\",\n",
      "      \"thumbnail\": {\n",
      "        \"lqip\": \"data:image/gif;base64,R0lGODlhBAAFAPQAAB8ZFyEaFiUZFS0aFCkcFSofFi8cFiIcGCceGDEaFDYdFS8hFi4hGS4hGysjHTMgFzQjGDUkGzYkG0MuIQAAAAAAAAAAAAAAAAAAAAAAAAAAAAAAAAAAAAAAAAAAAAAAACH5BAAAAAAALAAAAAAEAAUAAAURIOA0hjBFyRBBykMsRIMcQQgAOw==\",\n",
      "        \"width\": 6125,\n",
      "        \"height\": 8002,\n",
      "        \"alt_text\": \"A work made of oil on canvas.\"\n",
      "      },\n",
      "      \"timestamp\": \"2025-07-22T22:10:26-05:00\"\n",
      "    },\n",
      "    {\n",
      "      \"_score\": 74.69542,\n",
      "      \"id\": 229866,\n",
      "      \"api_model\": \"artworks\",\n",
      "      \"api_link\": \"https://api.artic.edu/api/v1/artworks/229866\",\n",
      "      \"is_boosted\": true,\n",
      "      \"title\": \"Finnish Painting\",\n",
      "      \"thumbnail\": {\n",
      "        \"lqip\": \"data:image/gif;base64,R0lGODlhBAAFAPQAAH1/Snd3UHt2WoOHO4WLPpSWMZ2RSIeEY4yJYIKAaJqLZZCBaZmXYpaXcZ6Ud6uMZaCQdKuUc7qZerCkjQAAAAAAAAAAAAAAAAAAAAAAAAAAAAAAAAAAAAAAAAAAAAAAACH5BAAAAAAALAAAAAAEAAUAAAURoPREkwIMTUAUyGEwTiIsUAgAOw==\",\n",
      "        \"width\": 7327,\n",
      "        \"height\": 9831,\n",
      "        \"alt_text\": \"Bright orange, yellow and salmon make up the ground with writing in green.\"\n",
      "      },\n",
      "      \"timestamp\": \"2025-07-22T22:48:46-05:00\"\n",
      "    },\n",
      "    {\n",
      "      \"_score\": 72.35849,\n",
      "      \"id\": 146990,\n",
      "      \"api_model\": \"artworks\",\n",
      "      \"api_link\": \"https://api.artic.edu/api/v1/artworks/146990\",\n",
      "      \"is_boosted\": false,\n",
      "      \"title\": \"Abstract Painting, 1960-65\",\n",
      "      \"thumbnail\": {\n",
      "        \"lqip\": \"data:image/gif;base64,R0lGODlhBQAFAPQAAA0KGg8PHxAOHRQRHg8NIBAQIRIQIBAQIhERIxESIhMSIxIUIxASJhMTJhUVJBUUJRUVJRYUJRcXJBMVKRgXKBkYKBgZKxgaLQAAAAAAAAAAAAAAAAAAAAAAAAAAAAAAACH5BAAAAAAALAAAAAAFAAUAAAUVIEAwhxAgU5MUigMtxmNRzhBdlRQCADs=\",\n",
      "        \"width\": 2202,\n",
      "        \"height\": 2250,\n",
      "        \"alt_text\": \"A work made of oil on canvas.\"\n",
      "      },\n",
      "      \"timestamp\": \"2025-07-22T22:39:03-05:00\"\n",
      "    }\n",
      "  ],\n",
      "  \"info\": {\n",
      "    \"license_text\": \"The `description` field in this response is licensed under a Creative Commons Attribution 4.0 Generic License (CC-By) and the Terms and Conditions of artic.edu. All other data in this response is licensed under a Creative Commons Zero (CC0) 1.0 designation and the Terms and Conditions of artic.edu.\",\n",
      "    \"license_links\": [\n",
      "      \"https://creativecommons.org/publicdomain/zero/1.0/\",\n",
      "      \"https://www.artic.edu/terms\"\n",
      "    ],\n",
      "    \"version\": \"1.13\"\n",
      "  },\n",
      "  \"config\": {\n",
      "    \"iiif_url\": \"https://www.artic.edu/iiif/2\",\n",
      "    \"website_url\": \"http://www.artic.edu\"\n",
      "  }\n",
      "}\n"
     ]
    }
   ],
   "source": [
    "# Python requests library for APIs\n",
    "import requests\n",
    "url = \"https://api.artic.edu/api/v1/artworks/search\"\n",
    "querystring = { \"q\": \"painting\" }\n",
    "response = requests.request(\"GET\", url, params=querystring)\n",
    "if response.status_code == 200:\n",
    "    data = response.json()\n",
    "    print(json.dumps(data, indent=2))"
   ]
  },
  {
   "cell_type": "code",
   "execution_count": 30,
   "id": "14d66032",
   "metadata": {},
   "outputs": [],
   "source": [
    "def get_artwork(keyword):\n",
    "    url = \"https://api.artic.edu/api/v1/artworks/search\"    \n",
    "    querystring = {\"q\":keyword}    \n",
    "    response = requests.request(\"GET\", url, params=querystring)\n",
    "    return response.text\n"
   ]
  },
  {
   "cell_type": "code",
   "execution_count": 26,
   "id": "cb35bca4",
   "metadata": {},
   "outputs": [],
   "source": [
    "messages=[\n",
    "    {\"role\": \"system\", \"content\": \"You are an AI assistant, a specialist in history of art. You should interpret the user prompt, and based on it extract one     keyword for recommending artwork related to their preference.\"},\n",
    "    {\"role\": \"user\", \"content\": \"I don't have much time to visit the museum and would     like some recommendations. I like the seaside and quiet places.\"}\n",
    "]"
   ]
  },
  {
   "cell_type": "code",
   "execution_count": 27,
   "id": "fe008fac",
   "metadata": {},
   "outputs": [
    {
     "name": "stderr",
     "output_type": "stream",
     "text": [
      "C:\\Users\\dtrun\\AppData\\Local\\Temp\\ipykernel_24720\\329715027.py:11: PydanticDeprecatedSince20: The `schema` method is deprecated; use `model_json_schema` instead. Deprecated in Pydantic V2.0 to be removed in V3.0. See Pydantic V2 Migration Guide at https://errors.pydantic.dev/2.11/migration/\n",
      "  'parameters': ArtworkParams.schema()\n"
     ]
    }
   ],
   "source": [
    "# Declare the function definition\n",
    "class ArtworkParams(BaseModel):\n",
    "    keyword: str = Field(..., description=\"Keyword for artwork search\")\n",
    "\n",
    "function_definition = [\n",
    "    {\n",
    "        'type': 'function',\n",
    "        'function': {\n",
    "            'name': 'get_artwork',\n",
    "            'description': 'Get artwork based on a keyword',\n",
    "            'parameters': ArtworkParams.schema()\n",
    "        }\n",
    "    }\n",
    "]"
   ]
  },
  {
   "cell_type": "code",
   "execution_count": 28,
   "id": "c18c1e33",
   "metadata": {},
   "outputs": [
    {
     "name": "stdout",
     "output_type": "stream",
     "text": [
      "Function(arguments='{\"keyword\":\"seaside\"}', name='get_artwork')\n"
     ]
    }
   ],
   "source": [
    "response = client.chat.completions.create(\n",
    "    model=\"gpt-4o-mini\", \n",
    "    messages=messages,\n",
    "    tools=function_definition)\n",
    "\n",
    "print(response.choices[0].message.tool_calls[0].function)  # extract message\n"
   ]
  },
  {
   "cell_type": "markdown",
   "id": "5fa9f4e6",
   "metadata": {},
   "source": [
    "## Bringing it all together\n",
    "- Get the parsed content of the function calling to call external API\n"
   ]
  },
  {
   "cell_type": "code",
   "execution_count": 29,
   "id": "ee0cb206",
   "metadata": {},
   "outputs": [
    {
     "name": "stdout",
     "output_type": "stream",
     "text": [
      "Here are some recommendations: ['Seaside, Port of Honfleur', 'Little Landscape at the Seaside (Kleine Landschaft am Meer)', 'Museum of Contemporary Art, Niterói, Rio de Janeiro, Brazil, Four Sketches', 'A seaside outing', 'Waitress at a Seaside Teahouse', 'Summer Landscape with Letter Forms', 'Seaside Excursions Southend', 'US Post Office, Seaside, Florida, from the series \"Sweet Earth: Experimental Utopias in America\"', 'Rustic Seaside Scene', 'A Holiday']\n"
     ]
    }
   ],
   "source": [
    "import json\n",
    "\n",
    "if response.choices[0].finish_reason=='tool_calls':\n",
    "    function_call = response.choices[0].message.tool_calls[0].function\n",
    "    if function_call.name == \"get_artwork\":\n",
    "        artwork_keyword = json.loads(function_call.arguments)[\"keyword\"]\n",
    "        artwork = get_artwork(artwork_keyword)\n",
    "        if artwork: \n",
    "            print(f\"Here are some recommendations: {[i['title'] for i in json.loads(artwork)['data']]}\")\n",
    "        else:\n",
    "            print(\"Apologies, I couldn't make any recommendations based on the request.\")\n",
    "    else:\n",
    "        print(\"Apologies, I couldn't find any artwork.\")\n",
    "else:\n",
    "    print(\"I am sorry, but I could not understand your request.\")"
   ]
  }
 ],
 "metadata": {
  "kernelspec": {
   "display_name": ".venv",
   "language": "python",
   "name": "python3"
  },
  "language_info": {
   "codemirror_mode": {
    "name": "ipython",
    "version": 3
   },
   "file_extension": ".py",
   "mimetype": "text/x-python",
   "name": "python",
   "nbconvert_exporter": "python",
   "pygments_lexer": "ipython3",
   "version": "3.13.5"
  }
 },
 "nbformat": 4,
 "nbformat_minor": 5
}
