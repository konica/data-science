{
 "cells": [
  {
   "cell_type": "code",
   "execution_count": null,
   "id": "2a204d8c",
   "metadata": {},
   "outputs": [
    {
     "name": "stdout",
     "output_type": "stream",
     "text": [
      "{\n",
      "  \"id\": \"chatcmpl-BwFyUNou46Xzlvq8z9wv4CaPoDbWe\",\n",
      "  \"choices\": [\n",
      "    {\n",
      "      \"finish_reason\": \"stop\",\n",
      "      \"index\": 0,\n",
      "      \"logprobs\": null,\n",
      "      \"message\": {\n",
      "        \"content\": \"The OpenAI API is an interface provided by OpenAI that allows developers to access and integrate various AI models, including language models like GPT-3, into their applications, products, or services. Through the API, users can perform tasks such as generating text, answering questions, summarizing information, translating languages, and more.\\n\\nKey features include:\\n\\n1. **Text Generation**: You can generate human-like text based on a given prompt.\\n  \\n2. **Conversational Agents**: The API can be used to create chatbots or virtual assistants that can engage in conversations.\\n\\n3. **Customization**: Users can fine-tune the behavior of the model by providing specific instructions or examples.\\n\\n4. **Versatile Applications**: It supports a wide range of applications including content creation, coding assistance, educational tools, and more.\\n\\n5. **Scalability**: The API is designed to handle varying loads, making it suitable for both small projects and large-scale applications.\\n\\nTo use the API, developers typically need to create an account with OpenAI, obtain an API key, and follow the documentation to integrate the API into their coding environment. The API often follows a usage-based pricing model, which is based on the number of tokens processed during interactions with the model.\",\n",
      "        \"refusal\": null,\n",
      "        \"role\": \"assistant\",\n",
      "        \"annotations\": [],\n",
      "        \"audio\": null,\n",
      "        \"function_call\": null,\n",
      "        \"tool_calls\": null\n",
      "      }\n",
      "    }\n",
      "  ],\n",
      "  \"created\": 1753224130,\n",
      "  \"model\": \"gpt-4o-mini-2024-07-18\",\n",
      "  \"object\": \"chat.completion\",\n",
      "  \"service_tier\": \"default\",\n",
      "  \"system_fingerprint\": null,\n",
      "  \"usage\": {\n",
      "    \"completion_tokens\": 254,\n",
      "    \"prompt_tokens\": 14,\n",
      "    \"total_tokens\": 268,\n",
      "    \"completion_tokens_details\": {\n",
      "      \"accepted_prediction_tokens\": 0,\n",
      "      \"audio_tokens\": 0,\n",
      "      \"reasoning_tokens\": 0,\n",
      "      \"rejected_prediction_tokens\": 0\n",
      "    },\n",
      "    \"prompt_tokens_details\": {\n",
      "      \"audio_tokens\": 0,\n",
      "      \"cached_tokens\": 0\n",
      "    }\n",
      "  }\n",
      "}\n"
     ]
    }
   ],
   "source": [
    "from openai import OpenAI\n",
    "import json\n",
    "client = OpenAI()"
   ]
  },
  {
   "cell_type": "code",
   "execution_count": 6,
   "id": "dbab8cd9",
   "metadata": {},
   "outputs": [
    {
     "name": "stdout",
     "output_type": "stream",
     "text": [
      "The OpenAI API is a cloud-based application programming interface that allows developers to access and utilize OpenAI's artificial intelligence models, including language models like GPT (Generative Pre-trained Transformer). With this API, developers can integrate advanced machine learning functionality into their applications, enabling them to perform tasks such as:\n",
      "\n",
      "1. **Natural Language Processing:** Understanding and generating human language, including tasks like text completion, summarization, translation, and sentiment analysis.\n",
      "\n",
      "2. **Conversation:** Building chatbots and virtual assistants that can have human-like conversations with users.\n",
      "\n",
      "3. **Content Generation:** Creating articles, stories, product descriptions, social media posts, and more.\n",
      "\n",
      "4. **Data Analysis:** Analyzing large datasets to extract meaningful insights and patterns.\n",
      "\n",
      "5. **Creative Applications:** Assisting in creative processes, like writing poetry, music, or brainstorming ideas.\n",
      "\n",
      "To use the OpenAI API, developers typically need to register for an API key, which they can then use to authenticate their requests. The API provides various endpoints for different functionalities, and it supports various programming languages through HTTP requests. OpenAI also offers documentation and tutorials to help developers get started with integrating the API into their projects.\n"
     ]
    }
   ],
   "source": [
    "prompt = \"What is the OpenAI API?\"\n",
    "response = client.chat.completions.create(\n",
    "\tmodel=\"gpt-4o-mini\",\n",
    "\tmessages=[{\"role\": \"user\", \"content\": prompt}])\n",
    "# print(json.dumps(response.model_dump(), indent=2))\n",
    "print(response.choices[0].message.content)  # extract message"
   ]
  },
  {
   "cell_type": "markdown",
   "id": "bf24aeaf",
   "metadata": {},
   "source": [
    "## Simple code for chatbot"
   ]
  },
  {
   "cell_type": "code",
   "execution_count": null,
   "id": "c13b5cb1",
   "metadata": {},
   "outputs": [],
   "source": [
    "messages = [{\"role\": \"system\", \"content\": \"You are a data science tutor who provides short, simple explanations.\"}]\n",
    "\n",
    "user_qs = [\"Why is Python so popular?\", \"Summarize this in one sentence.\"]\n",
    "\n",
    "for q in user_qs:\n",
    "\tprint(\"User: \", q)    \n",
    "\tuser_dict = {\"role\": \"user\", \"content\": q}    \t\n",
    "\tmessages.append(user_dict)    # add user question to messages\n",
    "\tresponse = client.chat.completions.create(model=\"gpt-4o-mini\", messages=messages)\n",
    "\t\n",
    "    # etract assistant response and add to messages to maintain context\n",
    "    print(\"Response: \", response.choices[0].message.content)\n",
    "\tassistant_dict = {\"role\": \"assistant\", \"content\": response.choices[0].message.content}    \n",
    "\tmessages.append(assistant_dict)\n",
    "\tprint(\"Assistant: \", response.choices[0].message.content, \"\\n\")"
   ]
  }
 ],
 "metadata": {
  "kernelspec": {
   "display_name": ".venv",
   "language": "python",
   "name": "python3"
  },
  "language_info": {
   "codemirror_mode": {
    "name": "ipython",
    "version": 3
   },
   "file_extension": ".py",
   "mimetype": "text/x-python",
   "name": "python",
   "nbconvert_exporter": "python",
   "pygments_lexer": "ipython3",
   "version": "3.13.5"
  }
 },
 "nbformat": 4,
 "nbformat_minor": 5
}
