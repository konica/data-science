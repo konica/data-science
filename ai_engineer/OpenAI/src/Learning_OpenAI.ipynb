{
 "cells": [
  {
   "cell_type": "code",
   "execution_count": 1,
   "id": "2a204d8c",
   "metadata": {},
   "outputs": [],
   "source": [
    "from openai import OpenAI\n",
    "import json\n",
    "client = OpenAI()"
   ]
  },
  {
   "cell_type": "code",
   "execution_count": 2,
   "id": "dbab8cd9",
   "metadata": {},
   "outputs": [
    {
     "name": "stdout",
     "output_type": "stream",
     "text": [
      "The OpenAI API is a cloud-based interface that allows developers to integrate and utilize OpenAI's advanced language models, including the GPT (Generative Pre-trained Transformer) series. By using the API, developers can build applications that can generate human-like text, answer questions, perform language translation, summarize information, and much more. \n",
      "\n",
      "Features of the OpenAI API include:\n",
      "\n",
      "1. **Natural Language Understanding and Generation**: The API can comprehend prompts and generate relevant and coherent text responses.\n",
      "\n",
      "2. **Customizability**: Developers can fine-tune the models on specific tasks or with specific datasets to better suit their application needs.\n",
      "\n",
      "3. **Versatility**: It supports various tasks such as chatbots, content creation, coding assistance, data analysis, and any other use case that involves processing or generating text.\n",
      "\n",
      "4. **Scalability**: As a cloud service, the API can scale to handle varying loads, making it suitable for both small projects and large-scale applications.\n",
      "\n",
      "5. **Documentation and Community Support**: OpenAI provides comprehensive documentation to help developers implement the API effectively, along with community support for additional resources and shared insights.\n",
      "\n",
      "Overall, the OpenAI API serves as a powerful tool for developers looking to leverage AI capabilities in their software applications.\n"
     ]
    }
   ],
   "source": [
    "prompt = \"What is the OpenAI API?\"\n",
    "response = client.chat.completions.create(\n",
    "\tmodel=\"gpt-4o-mini\",\n",
    "\tmessages=[{\"role\": \"user\", \"content\": prompt}])\n",
    "# print(json.dumps(response.model_dump(), indent=2))\n",
    "print(response.choices[0].message.content)  # extract message"
   ]
  },
  {
   "cell_type": "markdown",
   "id": "bf24aeaf",
   "metadata": {},
   "source": [
    "## Simple code for chatbot"
   ]
  },
  {
   "cell_type": "code",
   "execution_count": 9,
   "id": "c13b5cb1",
   "metadata": {},
   "outputs": [
    {
     "name": "stdout",
     "output_type": "stream",
     "text": [
      "User:  Why is Python so popular?\n",
      "Assistant:  Python is popular for several reasons:\n",
      "\n",
      "1. **Readability**: Its syntax is simple and easy to understand, making it accessible for beginners.\n",
      "\n",
      "2. **Versatility**: It can be used for various fields, including web development, data analysis, artificial intelligence, and automation.\n",
      "\n",
      "3. **Strong Libraries**: Python has a rich ecosystem of libraries and frameworks (like NumPy, Pandas, and TensorFlow) that simplify complex tasks.\n",
      "\n",
      "4. **Community Support**: There is a large, active community that contributes to forums, tutorials, and open-source projects, making help readily available.\n",
      "\n",
      "5. **Cross-Platform**: Python runs on various operating systems (Windows, macOS, Linux), allowing for flexibility in development.\n",
      "\n",
      "These factors combine to make Python a preferred choice for many programmers and data scientists. \n",
      "\n",
      "User:  Summarize this in one sentence.\n",
      "Assistant:  Python's popularity stems from its readability, versatility, strong libraries, active community support, and cross-platform compatibility. \n",
      "\n"
     ]
    }
   ],
   "source": [
    "messages = [{\"role\": \"system\", \"content\": \"You are a data science tutor who provides short, simple explanations.\"}]\n",
    "\n",
    "user_qs = [\"Why is Python so popular?\", \"Summarize this in one sentence.\"]\n",
    "\n",
    "for q in user_qs:\n",
    "\tprint(\"User: \", q)    \n",
    "\tuser_dict = {\"role\": \"user\", \"content\": q}    \t\n",
    "\tmessages.append(user_dict)    # add user question to messages\n",
    "\tresponse = client.chat.completions.create(model=\"gpt-4o-mini\", messages=messages)\n",
    "\t\n",
    "    # etract assistant response and add to messages to maintain context\n",
    "\tassistant_dict = {\"role\": \"assistant\", \"content\": response.choices[0].message.content}    \n",
    "\tmessages.append(assistant_dict)\n",
    "\tprint(\"Assistant: \", response.choices[0].message.content, \"\\n\")"
   ]
  }
 ],
 "metadata": {
  "kernelspec": {
   "display_name": ".venv",
   "language": "python",
   "name": "python3"
  },
  "language_info": {
   "codemirror_mode": {
    "name": "ipython",
    "version": 3
   },
   "file_extension": ".py",
   "mimetype": "text/x-python",
   "name": "python",
   "nbconvert_exporter": "python",
   "pygments_lexer": "ipython3",
   "version": "3.11.5"
  }
 },
 "nbformat": 4,
 "nbformat_minor": 5
}
