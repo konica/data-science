{
 "cells": [
  {
   "cell_type": "markdown",
   "id": "b43ee39e",
   "metadata": {},
   "source": [
    "# Two common usage"
   ]
  }
 ],
 "metadata": {
  "language_info": {
   "name": "python"
  }
 },
 "nbformat": 4,
 "nbformat_minor": 5
}
