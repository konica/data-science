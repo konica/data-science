{
 "cells": [
  {
   "cell_type": "markdown",
   "id": "b5789bc3-b1ae-42c7-94a8-2ef4f89946fc",
   "metadata": {},
   "source": [
    "# Lesson 4: Persistence and Streaming"
   ]
  },
  {
   "cell_type": "code",
   "execution_count": 1,
   "id": "f5762271-8736-4e94-9444-8c92bd0e8074",
   "metadata": {
    "height": 64
   },
   "outputs": [],
   "source": [
    "from dotenv import load_dotenv\n",
    "\n",
    "_ = load_dotenv()"
   ]
  },
  {
   "cell_type": "code",
   "execution_count": 3,
   "id": "d0168aee-bce9-4d60-b827-f86a88187e31",
   "metadata": {
    "height": 115
   },
   "outputs": [],
   "source": [
    "from langgraph.graph import StateGraph, END\n",
    "from typing import TypedDict, Annotated\n",
    "import operator\n",
    "from langchain_core.messages import AnyMessage, SystemMessage, HumanMessage, ToolMessage\n",
    "from langchain_openai import ChatOpenAI\n",
    "from langchain_community.tools.tavily_search import TavilySearchResults\n",
    "from langchain_tavily import TavilySearch\n"
   ]
  },
  {
   "cell_type": "code",
   "execution_count": 4,
   "id": "da06a64f-a2d5-4a66-8090-9ada0930c684",
   "metadata": {
    "height": 30
   },
   "outputs": [],
   "source": [
    "tool = TavilySearch(max_results=2)"
   ]
  },
  {
   "cell_type": "code",
   "execution_count": 5,
   "id": "2589c5b6-6cc2-4594-9a17-dccdcf676054",
   "metadata": {
    "height": 47
   },
   "outputs": [],
   "source": [
    "class AgentState(TypedDict):\n",
    "    messages: Annotated[list[AnyMessage], operator.add]"
   ]
  },
  {
   "cell_type": "code",
   "execution_count": 17,
   "id": "9c033522-d2fc-41ac-8e3c-5e35872bf88d",
   "metadata": {
    "height": 64
   },
   "outputs": [],
   "source": [
    "from langgraph.checkpoint.sqlite import SqliteSaver\n",
    "import sqlite3\n",
    "\n",
    "conn = sqlite3.connect(\"checkpoints.sqlite\", check_same_thread=False)\n",
    "\n",
    "memory = SqliteSaver(conn=conn)\n"
   ]
  },
  {
   "cell_type": "code",
   "execution_count": 18,
   "id": "a2ba84ec-c172-4de7-ac55-e3158a531b23",
   "metadata": {
    "height": 574
   },
   "outputs": [],
   "source": [
    "class Agent:\n",
    "    def __init__(self, model, tools, checkpointer, system=\"\"):\n",
    "        self.system = system\n",
    "        graph = StateGraph(AgentState)\n",
    "        graph.add_node(\"llm\", self.call_openai)\n",
    "        graph.add_node(\"action\", self.take_action)\n",
    "        graph.add_conditional_edges(\"llm\", self.exists_action, {True: \"action\", False: END})\n",
    "        graph.add_edge(\"action\", \"llm\")\n",
    "        graph.set_entry_point(\"llm\")\n",
    "        self.graph = graph.compile(checkpointer=checkpointer)\n",
    "        self.tools = {t.name: t for t in tools}\n",
    "        self.model = model.bind_tools(tools)\n",
    "\n",
    "    def call_openai(self, state: AgentState):\n",
    "        messages = state['messages']\n",
    "        if self.system:\n",
    "            messages = [SystemMessage(content=self.system)] + messages\n",
    "        message = self.model.invoke(messages)\n",
    "        return {'messages': [message]}\n",
    "\n",
    "    def exists_action(self, state: AgentState):\n",
    "        result = state['messages'][-1]\n",
    "        return len(result.tool_calls) > 0\n",
    "\n",
    "    def take_action(self, state: AgentState):\n",
    "        tool_calls = state['messages'][-1].tool_calls\n",
    "        results = []\n",
    "        for t in tool_calls:\n",
    "            print(f\"Calling: {t}\")\n",
    "            result = self.tools[t['name']].invoke(t['args'])\n",
    "            results.append(ToolMessage(tool_call_id=t['id'], name=t['name'], content=str(result)))\n",
    "        print(\"Back to the model!\")\n",
    "        return {'messages': results}"
   ]
  },
  {
   "cell_type": "code",
   "execution_count": 19,
   "id": "876d5092-b8ef-4e38-b4d7-0e80c609bf7a",
   "metadata": {
    "height": 132
   },
   "outputs": [],
   "source": [
    "prompt = \"\"\"You are a smart research assistant. Use the search engine to look up information. \\\n",
    "You are allowed to make multiple calls (either together or in sequence). \\\n",
    "Only look up information when you are sure of what you want. \\\n",
    "If you need to look up some information before asking a follow up question, you are allowed to do that!\n",
    "\"\"\"\n",
    "model = ChatOpenAI(model=\"gpt-4o-mini\")\n",
    "abot = Agent(model, [tool], system=prompt, checkpointer=memory)"
   ]
  },
  {
   "cell_type": "code",
   "execution_count": 20,
   "id": "10084a02-2928-4945-9f7c-ad3f5b33caf7",
   "metadata": {
    "height": 30
   },
   "outputs": [],
   "source": [
    "messages = [HumanMessage(content=\"What is the weather in Saigon?\")]"
   ]
  },
  {
   "cell_type": "code",
   "execution_count": 21,
   "id": "714d1205-f8fc-4912-b148-2a45da99219c",
   "metadata": {
    "height": 30
   },
   "outputs": [],
   "source": [
    "thread = {\"configurable\": {\"thread_id\": \"1\"}}"
   ]
  },
  {
   "cell_type": "code",
   "execution_count": 22,
   "id": "83588e70-254f-4f83-a510-c8ae81e729b0",
   "metadata": {
    "height": 64
   },
   "outputs": [
    {
     "name": "stdout",
     "output_type": "stream",
     "text": [
      "[AIMessage(content='', additional_kwargs={'tool_calls': [{'id': 'call_gy4KY27DxPYWBaeXlLp6sTB6', 'function': {'arguments': '{\"query\":\"current weather Saigon\",\"topic\":\"general\"}', 'name': 'tavily_search'}, 'type': 'function'}], 'refusal': None}, response_metadata={'token_usage': {'completion_tokens': 23, 'prompt_tokens': 1341, 'total_tokens': 1364, 'completion_tokens_details': {'accepted_prediction_tokens': 0, 'audio_tokens': 0, 'reasoning_tokens': 0, 'rejected_prediction_tokens': 0}, 'prompt_tokens_details': {'audio_tokens': 0, 'cached_tokens': 0}}, 'model_name': 'gpt-4o-mini-2024-07-18', 'system_fingerprint': 'fp_34a54ae93c', 'id': 'chatcmpl-C28zFNq6qxHq6zqiCKbORtRK6LTvD', 'service_tier': 'default', 'finish_reason': 'tool_calls', 'logprobs': None}, id='run--9a47dfcf-78c4-43ab-82f4-bbb86100efb9-0', tool_calls=[{'name': 'tavily_search', 'args': {'query': 'current weather Saigon', 'topic': 'general'}, 'id': 'call_gy4KY27DxPYWBaeXlLp6sTB6', 'type': 'tool_call'}], usage_metadata={'input_tokens': 1341, 'output_tokens': 23, 'total_tokens': 1364, 'input_token_details': {'audio': 0, 'cache_read': 0}, 'output_token_details': {'audio': 0, 'reasoning': 0}})]\n",
      "Calling: {'name': 'tavily_search', 'args': {'query': 'current weather Saigon', 'topic': 'general'}, 'id': 'call_gy4KY27DxPYWBaeXlLp6sTB6', 'type': 'tool_call'}\n",
      "Back to the model!\n",
      "[ToolMessage(content='{\\'query\\': \\'current weather Saigon\\', \\'follow_up_questions\\': None, \\'answer\\': None, \\'images\\': [], \\'results\\': [{\\'title\\': \\'Weather in Saigon\\', \\'url\\': \\'https://www.weatherapi.com/\\', \\'content\\': \"{\\'location\\': {\\'name\\': \\'Saigon\\', \\'region\\': \\'\\', \\'country\\': \\'Vietnam\\', \\'lat\\': 10.75, \\'lon\\': 106.6667, \\'tz_id\\': \\'Asia/Ho_Chi_Minh\\', \\'localtime_epoch\\': 1754627248, \\'localtime\\': \\'2025-08-08 11:27\\'}, \\'current\\': {\\'last_updated_epoch\\': 1754626500, \\'last_updated\\': \\'2025-08-08 11:15\\', \\'temp_c\\': 33.2, \\'temp_f\\': 91.8, \\'is_day\\': 1, \\'condition\\': {\\'text\\': \\'Partly cloudy\\', \\'icon\\': \\'//cdn.weatherapi.com/weather/64x64/day/116.png\\', \\'code\\': 1003}, \\'wind_mph\\': 5.6, \\'wind_kph\\': 9.0, \\'wind_degree\\': 259, \\'wind_dir\\': \\'W\\', \\'pressure_mb\\': 1010.0, \\'pressure_in\\': 29.83, \\'precip_mm\\': 0.0, \\'precip_in\\': 0.0, \\'humidity\\': 59, \\'cloud\\': 50, \\'feelslike_c\\': 36.3, \\'feelslike_f\\': 97.3, \\'windchill_c\\': 34.6, \\'windchill_f\\': 94.3, \\'heatindex_c\\': 39.1, \\'heatindex_f\\': 102.3, \\'dewpoint_c\\': 21.4, \\'dewpoint_f\\': 70.5, \\'vis_km\\': 10.0, \\'vis_miles\\': 6.0, \\'uv\\': 11.8, \\'gust_mph\\': 6.4, \\'gust_kph\\': 10.4}}\", \\'score\\': 0.9219187, \\'raw_content\\': None}, {\\'url\\': \\'https://www.metcheck.com/WEATHER/dayforecast.asp?location=Ho+Chi+Minh+City&locationID=2071113&lat=10.82302&lon=106.62965&dateFor=08/08/2025\\', \\'title\\': \\'Weather Forecast for Ho Chi Minh City for Friday 8 August\\', \\'content\\': \\'Time, Weather, Temp, Feels, RainRisk, Amount, Cloud, Dir, Speed, Gust, RH, UV. 0:00, 25 °c, 26 °c, 14%, 0.0mm, 100%, 4mph, 17mph, 85%, 0.\\', \\'score\\': 0.6018984, \\'raw_content\\': None}], \\'response_time\\': 1.39}', name='tavily_search', tool_call_id='call_gy4KY27DxPYWBaeXlLp6sTB6')]\n",
      "[AIMessage(content='The current weather in Saigon (Ho Chi Minh City) is as follows:\\n\\n- Temperature: 33.2°C (feels like 36.3°C)\\n- Condition: Partly cloudy\\n- Wind: 5.6 mph (9.0 kph) from the west\\n- Humidity: 59%\\n- Visibility: 10 km\\n- UV Index: 11.8\\n\\nFor more details, you can check [this weather API](https://www.weatherapi.com/).', additional_kwargs={'refusal': None}, response_metadata={'token_usage': {'completion_tokens': 104, 'prompt_tokens': 2000, 'total_tokens': 2104, 'completion_tokens_details': {'accepted_prediction_tokens': 0, 'audio_tokens': 0, 'reasoning_tokens': 0, 'rejected_prediction_tokens': 0}, 'prompt_tokens_details': {'audio_tokens': 0, 'cached_tokens': 1280}}, 'model_name': 'gpt-4o-mini-2024-07-18', 'system_fingerprint': 'fp_34a54ae93c', 'id': 'chatcmpl-C28zJmQjg5j3WoPrR8FaG44rhVfV7', 'service_tier': 'default', 'finish_reason': 'stop', 'logprobs': None}, id='run--384431eb-6ba9-4830-970d-7d49397a7365-0', usage_metadata={'input_tokens': 2000, 'output_tokens': 104, 'total_tokens': 2104, 'input_token_details': {'audio': 0, 'cache_read': 1280}, 'output_token_details': {'audio': 0, 'reasoning': 0}})]\n"
     ]
    }
   ],
   "source": [
    "for event in abot.graph.stream({\"messages\": messages}, thread):\n",
    "    for v in event.values():\n",
    "        print(v['messages'])"
   ]
  },
  {
   "cell_type": "code",
   "execution_count": 23,
   "id": "6cb3ef4c-58b3-401b-b104-0d51e553d982",
   "metadata": {
    "height": 98
   },
   "outputs": [
    {
     "name": "stdout",
     "output_type": "stream",
     "text": [
      "{'messages': [AIMessage(content='', additional_kwargs={'tool_calls': [{'id': 'call_2y3Nt7NUEFK8KxfdcMLqLIBh', 'function': {'arguments': '{\"query\":\"current weather Hanoi\",\"topic\":\"general\"}', 'name': 'tavily_search'}, 'type': 'function'}], 'refusal': None}, response_metadata={'token_usage': {'completion_tokens': 22, 'prompt_tokens': 2116, 'total_tokens': 2138, 'completion_tokens_details': {'accepted_prediction_tokens': 0, 'audio_tokens': 0, 'reasoning_tokens': 0, 'rejected_prediction_tokens': 0}, 'prompt_tokens_details': {'audio_tokens': 0, 'cached_tokens': 2048}}, 'model_name': 'gpt-4o-mini-2024-07-18', 'system_fingerprint': 'fp_34a54ae93c', 'id': 'chatcmpl-C2910HISpqsKAI0yjk92DCPqK7LCe', 'service_tier': 'default', 'finish_reason': 'tool_calls', 'logprobs': None}, id='run--4babec6d-4899-4ba0-ad66-9218cf0c075d-0', tool_calls=[{'name': 'tavily_search', 'args': {'query': 'current weather Hanoi', 'topic': 'general'}, 'id': 'call_2y3Nt7NUEFK8KxfdcMLqLIBh', 'type': 'tool_call'}], usage_metadata={'input_tokens': 2116, 'output_tokens': 22, 'total_tokens': 2138, 'input_token_details': {'audio': 0, 'cache_read': 2048}, 'output_token_details': {'audio': 0, 'reasoning': 0}})]}\n",
      "Calling: {'name': 'tavily_search', 'args': {'query': 'current weather Hanoi', 'topic': 'general'}, 'id': 'call_2y3Nt7NUEFK8KxfdcMLqLIBh', 'type': 'tool_call'}\n",
      "Back to the model!\n",
      "{'messages': [ToolMessage(content='{\\'query\\': \\'current weather Hanoi\\', \\'follow_up_questions\\': None, \\'answer\\': None, \\'images\\': [], \\'results\\': [{\\'title\\': \\'Weather in Hanoi\\', \\'url\\': \\'https://www.weatherapi.com/\\', \\'content\\': \"{\\'location\\': {\\'name\\': \\'Hanoi\\', \\'region\\': \\'\\', \\'country\\': \\'Vietnam\\', \\'lat\\': 21.0333, \\'lon\\': 105.85, \\'tz_id\\': \\'Asia/Bangkok\\', \\'localtime_epoch\\': 1754627434, \\'localtime\\': \\'2025-08-08 11:30\\'}, \\'current\\': {\\'last_updated_epoch\\': 1754627400, \\'last_updated\\': \\'2025-08-08 11:30\\', \\'temp_c\\': 33.1, \\'temp_f\\': 91.6, \\'is_day\\': 1, \\'condition\\': {\\'text\\': \\'Partly cloudy\\', \\'icon\\': \\'//cdn.weatherapi.com/weather/64x64/day/116.png\\', \\'code\\': 1003}, \\'wind_mph\\': 2.5, \\'wind_kph\\': 4.0, \\'wind_degree\\': 234, \\'wind_dir\\': \\'SW\\', \\'pressure_mb\\': 1008.0, \\'pressure_in\\': 29.77, \\'precip_mm\\': 0.0, \\'precip_in\\': 0.0, \\'humidity\\': 67, \\'cloud\\': 50, \\'feelslike_c\\': 40.7, \\'feelslike_f\\': 105.2, \\'windchill_c\\': 33.1, \\'windchill_f\\': 91.6, \\'heatindex_c\\': 40.7, \\'heatindex_f\\': 105.3, \\'dewpoint_c\\': 25.0, \\'dewpoint_f\\': 77.0, \\'vis_km\\': 10.0, \\'vis_miles\\': 6.0, \\'uv\\': 11.4, \\'gust_mph\\': 2.8, \\'gust_kph\\': 4.6}}\", \\'score\\': 0.9345628, \\'raw_content\\': None}, {\\'url\\': \\'https://www.weatherbug.com/weather-forecast/now/ha-noi-ha-noi-vm\\', \\'title\\': \\'Ha Noi Ha, NOI | Weather Forecasts Now, Live Radar Maps & News\\', \\'content\\': \"Today\\'s Weather - Ha Noi, VNM. August 8, 2025 8:09 AM. WeatherBug. 86°. Feels Like 104°. Hi 95°F Lo 80°F. 50% Chance Rain Showers.\", \\'score\\': 0.92507464, \\'raw_content\\': None}], \\'response_time\\': 1.52}', name='tavily_search', tool_call_id='call_2y3Nt7NUEFK8KxfdcMLqLIBh')]}\n",
      "{'messages': [AIMessage(content='The current weather in Hanoi is as follows:\\n\\n- Temperature: 33.1°C (feels like 40.7°C)\\n- Condition: Partly cloudy\\n- Wind: 2.5 mph (4.0 kph) from the southwest\\n- Humidity: 67%\\n- Visibility: 10 km\\n- UV Index: 11.4\\n\\nFor a more detailed forecast, you can visit [this weather API](https://www.weatherapi.com/).', additional_kwargs={'refusal': None}, response_metadata={'token_usage': {'completion_tokens': 99, 'prompt_tokens': 2723, 'total_tokens': 2822, 'completion_tokens_details': {'accepted_prediction_tokens': 0, 'audio_tokens': 0, 'reasoning_tokens': 0, 'rejected_prediction_tokens': 0}, 'prompt_tokens_details': {'audio_tokens': 0, 'cached_tokens': 2048}}, 'model_name': 'gpt-4o-mini-2024-07-18', 'system_fingerprint': 'fp_34a54ae93c', 'id': 'chatcmpl-C2914YgdaxKsmcAtM5v4O0tm4PEXo', 'service_tier': 'default', 'finish_reason': 'stop', 'logprobs': None}, id='run--0a06932a-a821-4cf6-9b85-53fb4ac2d234-0', usage_metadata={'input_tokens': 2723, 'output_tokens': 99, 'total_tokens': 2822, 'input_token_details': {'audio': 0, 'cache_read': 2048}, 'output_token_details': {'audio': 0, 'reasoning': 0}})]}\n"
     ]
    }
   ],
   "source": [
    "messages = [HumanMessage(content=\"What about in Hanoi?\")]\n",
    "thread = {\"configurable\": {\"thread_id\": \"1\"}}\n",
    "for event in abot.graph.stream({\"messages\": messages}, thread):\n",
    "    for v in event.values():\n",
    "        print(v)"
   ]
  },
  {
   "cell_type": "code",
   "execution_count": 24,
   "id": "dc3293b7-a50c-43c8-a022-8975e1e444b8",
   "metadata": {
    "height": 98
   },
   "outputs": [
    {
     "name": "stdout",
     "output_type": "stream",
     "text": [
      "{'messages': [AIMessage(content='Currently, Saigon is slightly warmer than Hanoi:\\n\\n- **Saigon**: 33.2°C (feels like 36.3°C)\\n- **Hanoi**: 33.1°C (feels like 40.7°C)\\n\\nAlthough Hanoi has a similar temperature, it feels significantly warmer due to higher humidity.', additional_kwargs={'refusal': None}, response_metadata={'token_usage': {'completion_tokens': 69, 'prompt_tokens': 2834, 'total_tokens': 2903, 'completion_tokens_details': {'accepted_prediction_tokens': 0, 'audio_tokens': 0, 'reasoning_tokens': 0, 'rejected_prediction_tokens': 0}, 'prompt_tokens_details': {'audio_tokens': 0, 'cached_tokens': 2688}}, 'model_name': 'gpt-4o-mini-2024-07-18', 'system_fingerprint': 'fp_34a54ae93c', 'id': 'chatcmpl-C291Iy7h8zR3ZF3PJVzQFQsu5pMdr', 'service_tier': 'default', 'finish_reason': 'stop', 'logprobs': None}, id='run--322618f5-7b24-4a44-a4d5-db9b9e6baa55-0', usage_metadata={'input_tokens': 2834, 'output_tokens': 69, 'total_tokens': 2903, 'input_token_details': {'audio': 0, 'cache_read': 2688}, 'output_token_details': {'audio': 0, 'reasoning': 0}})]}\n"
     ]
    }
   ],
   "source": [
    "messages = [HumanMessage(content=\"Which one is warmer?\")]\n",
    "thread = {\"configurable\": {\"thread_id\": \"1\"}}\n",
    "for event in abot.graph.stream({\"messages\": messages}, thread):\n",
    "    for v in event.values():\n",
    "        print(v)"
   ]
  },
  {
   "cell_type": "code",
   "execution_count": 25,
   "id": "0722c3d4-4cbf-43bf-81b0-50f634c4ce61",
   "metadata": {
    "height": 98
   },
   "outputs": [
    {
     "name": "stdout",
     "output_type": "stream",
     "text": [
      "{'messages': [AIMessage(content='Could you please provide more context? Are you comparing two specific locations, objects, or time periods? Let me know, and I can assist you better!', additional_kwargs={'refusal': None}, response_metadata={'token_usage': {'completion_tokens': 32, 'prompt_tokens': 1338, 'total_tokens': 1370, 'completion_tokens_details': {'accepted_prediction_tokens': 0, 'audio_tokens': 0, 'reasoning_tokens': 0, 'rejected_prediction_tokens': 0}, 'prompt_tokens_details': {'audio_tokens': 0, 'cached_tokens': 1280}}, 'model_name': 'gpt-4o-mini-2024-07-18', 'system_fingerprint': 'fp_34a54ae93c', 'id': 'chatcmpl-C291uAn5sh0M0rohgl7J9RiNfzVsB', 'service_tier': 'default', 'finish_reason': 'stop', 'logprobs': None}, id='run--7dac81c3-518a-4275-9af2-beb34f15df16-0', usage_metadata={'input_tokens': 1338, 'output_tokens': 32, 'total_tokens': 1370, 'input_token_details': {'audio': 0, 'cache_read': 1280}, 'output_token_details': {'audio': 0, 'reasoning': 0}})]}\n"
     ]
    }
   ],
   "source": [
    "messages = [HumanMessage(content=\"Which one is warmer?\")]\n",
    "thread = {\"configurable\": {\"thread_id\": \"2\"}}\n",
    "for event in abot.graph.stream({\"messages\": messages}, thread):\n",
    "    for v in event.values():\n",
    "        print(v)"
   ]
  },
  {
   "cell_type": "markdown",
   "id": "ace59a36-3941-459e-b9d1-ac5a4a1ed3ae",
   "metadata": {},
   "source": [
    "## Streaming tokens"
   ]
  },
  {
   "cell_type": "code",
   "execution_count": 35,
   "id": "6b2f82fe-3ec4-4917-be51-9fb10d1317fa",
   "metadata": {
    "height": 81
   },
   "outputs": [],
   "source": [
    "from langgraph.checkpoint.sqlite.aio import AsyncSqliteSaver\n",
    "import sqlite3\n",
    "\n",
    "conn = sqlite3.connect(\"checkpoints.sqlite\", check_same_thread=False)\n",
    "memory = AsyncSqliteSaver(conn=conn)\n",
    "\n"
   ]
  },
  {
   "cell_type": "code",
   "execution_count": 47,
   "id": "c8f27d92",
   "metadata": {},
   "outputs": [],
   "source": [
    "\n",
    "abot = Agent(model, [tool], system=prompt, checkpointer=memory)"
   ]
  },
  {
   "cell_type": "code",
   "execution_count": 52,
   "id": "ee0fe1c7-77e2-499c-a2f9-1f739bb6ddf0",
   "metadata": {
    "height": 200
   },
   "outputs": [
    {
     "name": "stdout",
     "output_type": "stream",
     "text": [
      "Calling: {'name': 'tavily_search', 'args': {'query': 'San Francisco weather'}, 'id': 'call_14yUdl0YRJro6fFRRl2Q011Q', 'type': 'tool_call'}\n",
      "Back to the model!\n",
      "The| current| weather| in| San| Francisco| is| partly| cloudy| with| a| temperature| of| |15|.|6|°C| (|60|.|1|°F|).| The| wind| is| coming| from| the| west|-s|outh|west| at| |9|.|4| mph|,| and| the| humidity| level| is| |86|%.| \n",
      "\n",
      "|For| more| detailed| or| updated| weather| information|,| you| can| visit| [|Weather| API|](|https|://|www|.weather|api|.com|/|).|"
     ]
    }
   ],
   "source": [
    "import nest_asyncio\n",
    "nest_asyncio.apply()\n",
    "\n",
    "messages = [HumanMessage(content=\"What is the weather in SF?\")]\n",
    "thread = {\"configurable\": {\"thread_id\": \"4\"}}\n",
    "async with AsyncSqliteSaver.from_conn_string(\"checkpoints.sqlite\") as memory:\n",
    "    abot = Agent(model, [tool], system=prompt, checkpointer=memory)\n",
    "    async for event in abot.graph.astream_events({\"messages\": messages}, thread, version=\"v1\"):\n",
    "        kind = event[\"event\"]\n",
    "        if kind == \"on_chat_model_stream\":\n",
    "            content = event[\"data\"][\"chunk\"].content\n",
    "            if content:\n",
    "                # Empty content in the context of OpenAI means\n",
    "                # that the model is asking for a tool to be invoked.\n",
    "                # So we only print non-empty content\n",
    "                print(content, end=\"|\")"
   ]
  },
  {
   "cell_type": "code",
   "execution_count": 49,
   "id": "98f303b1-a4d0-408c-8cc0-515ff980717f",
   "metadata": {
    "height": 30
   },
   "outputs": [
    {
     "name": "stdout",
     "output_type": "stream",
     "text": [
      "[2]\n"
     ]
    }
   ],
   "source": [
    "import asyncio\n",
    "\n",
    "from langgraph.checkpoint.sqlite.aio import AsyncSqliteSaver\n",
    "from langgraph.graph import StateGraph\n",
    "\n",
    "async def main():\n",
    "    builder = StateGraph(int)\n",
    "    builder.add_node(\"add_one\", lambda x: x + 1)\n",
    "    builder.set_entry_point(\"add_one\")\n",
    "    builder.set_finish_point(\"add_one\")\n",
    "    async with AsyncSqliteSaver.from_conn_string(\"checkpoints.db\") as memory:\n",
    "        graph = builder.compile(checkpointer=memory)\n",
    "        coro = graph.ainvoke(1, {\"configurable\": {\"thread_id\": \"thread-1\"}})\n",
    "        print(await asyncio.gather(coro))\n",
    "\n",
    "asyncio.run(main())"
   ]
  }
 ],
 "metadata": {
  "kernelspec": {
   "display_name": ".venv",
   "language": "python",
   "name": "python3"
  },
  "language_info": {
   "codemirror_mode": {
    "name": "ipython",
    "version": 3
   },
   "file_extension": ".py",
   "mimetype": "text/x-python",
   "name": "python",
   "nbconvert_exporter": "python",
   "pygments_lexer": "ipython3",
   "version": "3.11.9"
  }
 },
 "nbformat": 4,
 "nbformat_minor": 5
}
