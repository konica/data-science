{
 "cells": [
  {
   "cell_type": "markdown",
   "id": "8ad976db-fb87-4a92-b0d2-06defc098339",
   "metadata": {},
   "source": [
    "# Lesson 5: Human in the Loop"
   ]
  },
  {
   "cell_type": "markdown",
   "id": "91d756c3-9c97-4155-9b56-8ecfed5f1876",
   "metadata": {},
   "source": [
    "Note: This notebook is running in a later version of langgraph that it was filmed with. The later version has a couple of key additions:\n",
    "- Additional state information is stored to memory and displayed when using `get_state()` or `get_state_history()`.\n",
    "- State is additionally stored every state transition while previously it was stored at an interrupt or at the end.\n",
    "These change the command output slightly, but are a useful addtion to the information available."
   ]
  },
  {
   "cell_type": "code",
   "execution_count": 1,
   "id": "f5762271-8736-4e94-9444-8c92bd0e8074",
   "metadata": {},
   "outputs": [],
   "source": [
    "from dotenv import load_dotenv\n",
    "\n",
    "_ = load_dotenv()"
   ]
  },
  {
   "cell_type": "code",
   "execution_count": 61,
   "id": "d0168aee-bce9-4d60-b827-f86a88187e31",
   "metadata": {},
   "outputs": [],
   "source": [
    "from langgraph.graph import StateGraph, END\n",
    "from typing import TypedDict, Annotated\n",
    "import operator\n",
    "from langchain_core.messages import AnyMessage, SystemMessage, HumanMessage, ToolMessage\n",
    "from langchain_openai import ChatOpenAI\n",
    "from langchain_community.tools.tavily_search import TavilySearchResults\n",
    "from langgraph.checkpoint.sqlite import SqliteSaver\n",
    "from langgraph.checkpoint.memory import InMemorySaver\n",
    "import sqlite3\n",
    "\n",
    "conn = sqlite3.connect(\"checkpoint_hulo.sqlite\", check_same_thread=False)\n",
    "\n",
    "memory = SqliteSaver(conn=conn)"
   ]
  },
  {
   "cell_type": "code",
   "execution_count": 63,
   "id": "2589c5b6-6cc2-4594-9a17-dccdcf676054",
   "metadata": {},
   "outputs": [],
   "source": [
    "from uuid import uuid4\n",
    "from langchain_core.messages import AnyMessage, SystemMessage, HumanMessage, AIMessage\n",
    "\n",
    "\"\"\"\n",
    "In previous examples we've annotated the `messages` state key\n",
    "with the default `operator.add` or `+` reducer, which always\n",
    "appends new messages to the end of the existing messages array.\n",
    "\n",
    "Now, to support replacing existing messages, we annotate the\n",
    "`messages` key with a customer reducer function, which replaces\n",
    "messages with the same `id`, and appends them otherwise.\n",
    "\"\"\"\n",
    "def reduce_messages(left: list[AnyMessage], right: list[AnyMessage]) -> list[AnyMessage]:\n",
    "    # assign ids to messages that don't have them\n",
    "    for message in right:\n",
    "        if not message.id:\n",
    "            message.id = str(uuid4())\n",
    "    # merge the new messages with the existing messages\n",
    "    merged = left.copy()\n",
    "    for message in right:\n",
    "        for i, existing in enumerate(merged):\n",
    "            # replace any existing messages with the same id\n",
    "            if existing.id == message.id:\n",
    "                merged[i] = message\n",
    "                break\n",
    "        else:\n",
    "            # append any new messages to the end\n",
    "            merged.append(message)\n",
    "    return merged\n",
    "\n",
    "class AgentState(TypedDict):\n",
    "    messages: Annotated[list[AnyMessage], reduce_messages]"
   ]
  },
  {
   "cell_type": "code",
   "execution_count": 64,
   "id": "a2ba84ec-c172-4de7-ac55-e3158a531b23",
   "metadata": {},
   "outputs": [],
   "source": [
    "tool = TavilySearchResults(max_results=2)"
   ]
  },
  {
   "cell_type": "markdown",
   "id": "d58320dc-c542-4a3c-bcf1-088909f9b075",
   "metadata": {},
   "source": [
    "## Manual human approval"
   ]
  },
  {
   "cell_type": "code",
   "execution_count": 65,
   "id": "46a0e94e-d015-4106-b439-dbcd2fcb8bb0",
   "metadata": {},
   "outputs": [],
   "source": [
    "class Agent:\n",
    "    def __init__(self, model, tools, system=\"\", checkpointer=None):\n",
    "        self.system = system\n",
    "        graph = StateGraph(AgentState)\n",
    "        graph.add_node(\"llm\", self.call_openai)\n",
    "        graph.add_node(\"action\", self.take_action)\n",
    "        graph.add_conditional_edges(\"llm\", self.exists_action, {True: \"action\", False: END})\n",
    "        graph.add_edge(\"action\", \"llm\")\n",
    "        graph.set_entry_point(\"llm\")\n",
    "        self.graph = graph.compile(\n",
    "            checkpointer=checkpointer,\n",
    "            interrupt_before=[\"action\"] # interrupt before taking action to allow human input\n",
    "        )\n",
    "        self.tools = {t.name: t for t in tools}\n",
    "        self.model = model.bind_tools(tools)\n",
    "\n",
    "    def call_openai(self, state: AgentState):\n",
    "        messages = state['messages']\n",
    "        if self.system:\n",
    "            messages = [SystemMessage(content=self.system)] + messages\n",
    "        message = self.model.invoke(messages)\n",
    "        return {'messages': [message]}\n",
    "\n",
    "    def exists_action(self, state: AgentState):\n",
    "        print(state)\n",
    "        result = state['messages'][-1]\n",
    "        return len(result.tool_calls) > 0\n",
    "\n",
    "    def take_action(self, state: AgentState):\n",
    "        tool_calls = state['messages'][-1].tool_calls\n",
    "        results = []\n",
    "        for t in tool_calls:\n",
    "            print(f\"Calling: {t}\")\n",
    "            result = self.tools[t['name']].invoke(t['args'])\n",
    "            results.append(ToolMessage(tool_call_id=t['id'], name=t['name'], content=str(result)))\n",
    "        print(\"Back to the model!\")\n",
    "        return {'messages': results}"
   ]
  },
  {
   "cell_type": "code",
   "execution_count": 66,
   "id": "10084a02-2928-4945-9f7c-ad3f5b33caf7",
   "metadata": {},
   "outputs": [],
   "source": [
    "prompt = \"\"\"You are a smart research assistant. Use the search engine to look up information. \\\n",
    "You are allowed to make multiple calls (either together or in sequence). \\\n",
    "Only look up information when you are sure of what you want. \\\n",
    "If you need to look up some information before asking a follow up question, you are allowed to do that!\n",
    "\"\"\"\n",
    "model = ChatOpenAI(model=\"gpt-4o-mini\")\n",
    "abot = Agent(model, [tool], system=prompt, checkpointer=memory)"
   ]
  },
  {
   "cell_type": "code",
   "execution_count": 67,
   "id": "714d1205-f8fc-4912-b148-2a45da99219c",
   "metadata": {},
   "outputs": [
    {
     "name": "stdout",
     "output_type": "stream",
     "text": [
      "{'messages': [HumanMessage(content='Whats the weather in SF?', additional_kwargs={}, response_metadata={}, id='ef813642-86b5-4a52-88a0-5f5f13d7c549'), AIMessage(content='', additional_kwargs={'tool_calls': [{'id': 'call_mCBLCiHfHUXWAMEQF0Ftp4kL', 'function': {'arguments': '{\"query\":\"San Francisco weather\"}', 'name': 'tavily_search_results_json'}, 'type': 'function'}], 'refusal': None}, response_metadata={'token_usage': {'completion_tokens': 20, 'prompt_tokens': 150, 'total_tokens': 170, 'completion_tokens_details': {'accepted_prediction_tokens': 0, 'audio_tokens': 0, 'reasoning_tokens': 0, 'rejected_prediction_tokens': 0}, 'prompt_tokens_details': {'audio_tokens': 0, 'cached_tokens': 0}}, 'model_name': 'gpt-4o-mini-2024-07-18', 'system_fingerprint': 'fp_34a54ae93c', 'id': 'chatcmpl-C2Aqxr8DH2NH9FCs5ohJxyxwHXmHJ', 'service_tier': 'default', 'finish_reason': 'tool_calls', 'logprobs': None}, id='run--88f80371-3986-4537-9ef9-6722daa6a9b1-0', tool_calls=[{'name': 'tavily_search_results_json', 'args': {'query': 'San Francisco weather'}, 'id': 'call_mCBLCiHfHUXWAMEQF0Ftp4kL', 'type': 'tool_call'}], usage_metadata={'input_tokens': 150, 'output_tokens': 20, 'total_tokens': 170, 'input_token_details': {'audio': 0, 'cache_read': 0}, 'output_token_details': {'audio': 0, 'reasoning': 0}})]}\n",
      "{'messages': [AIMessage(content='', additional_kwargs={'tool_calls': [{'id': 'call_mCBLCiHfHUXWAMEQF0Ftp4kL', 'function': {'arguments': '{\"query\":\"San Francisco weather\"}', 'name': 'tavily_search_results_json'}, 'type': 'function'}], 'refusal': None}, response_metadata={'token_usage': {'completion_tokens': 20, 'prompt_tokens': 150, 'total_tokens': 170, 'completion_tokens_details': {'accepted_prediction_tokens': 0, 'audio_tokens': 0, 'reasoning_tokens': 0, 'rejected_prediction_tokens': 0}, 'prompt_tokens_details': {'audio_tokens': 0, 'cached_tokens': 0}}, 'model_name': 'gpt-4o-mini-2024-07-18', 'system_fingerprint': 'fp_34a54ae93c', 'id': 'chatcmpl-C2Aqxr8DH2NH9FCs5ohJxyxwHXmHJ', 'service_tier': 'default', 'finish_reason': 'tool_calls', 'logprobs': None}, id='run--88f80371-3986-4537-9ef9-6722daa6a9b1-0', tool_calls=[{'name': 'tavily_search_results_json', 'args': {'query': 'San Francisco weather'}, 'id': 'call_mCBLCiHfHUXWAMEQF0Ftp4kL', 'type': 'tool_call'}], usage_metadata={'input_tokens': 150, 'output_tokens': 20, 'total_tokens': 170, 'input_token_details': {'audio': 0, 'cache_read': 0}, 'output_token_details': {'audio': 0, 'reasoning': 0}})]}\n",
      "()\n"
     ]
    }
   ],
   "source": [
    "messages = [HumanMessage(content=\"Whats the weather in SF?\")]\n",
    "thread = {\"configurable\": {\"thread_id\": \"1\"}}\n",
    "for event in abot.graph.stream({\"messages\": messages}, thread):\n",
    "    for v in event.values():\n",
    "        print(v)"
   ]
  },
  {
   "cell_type": "code",
   "execution_count": 80,
   "id": "e2a20c8f",
   "metadata": {},
   "outputs": [],
   "source": [
    "def show_messages_in_snapshot(snapshot):\n",
    "    for message in snapshot.values['messages']:\n",
    "        message.pretty_print()"
   ]
  },
  {
   "cell_type": "code",
   "execution_count": 76,
   "id": "83588e70-254f-4f83-a510-c8ae81e729b0",
   "metadata": {},
   "outputs": [
    {
     "name": "stdout",
     "output_type": "stream",
     "text": [
      "3\n",
      "================================\u001b[1m Human Message \u001b[0m=================================\n",
      "\n",
      "Whats the weather in SF?\n",
      "==================================\u001b[1m Ai Message \u001b[0m==================================\n",
      "Tool Calls:\n",
      "  tavily_search_results_json (call_mCBLCiHfHUXWAMEQF0Ftp4kL)\n",
      " Call ID: call_mCBLCiHfHUXWAMEQF0Ftp4kL\n",
      "  Args:\n",
      "    query: San Francisco weather\n"
     ]
    }
   ],
   "source": [
    "snapshot = abot.graph.get_state(thread)\n",
    "snapshots = abot.graph.get_state_history(thread)\n",
    "print(len(list(snapshots)))\n",
    "for message in snapshot.values['messages']:\n",
    "    message.pretty_print()"
   ]
  },
  {
   "cell_type": "code",
   "execution_count": 77,
   "id": "6cb3ef4c-58b3-401b-b104-0d51e553d982",
   "metadata": {},
   "outputs": [
    {
     "data": {
      "text/plain": [
       "('action',)"
      ]
     },
     "execution_count": 77,
     "metadata": {},
     "output_type": "execute_result"
    }
   ],
   "source": [
    "abot.graph.get_state(thread).next"
   ]
  },
  {
   "cell_type": "markdown",
   "id": "f1f404d5-a3be-42c1-9990-b1e1ee011163",
   "metadata": {},
   "source": [
    "### continue after interrupt"
   ]
  },
  {
   "cell_type": "code",
   "execution_count": 78,
   "id": "dc3293b7-a50c-43c8-a022-8975e1e444b8",
   "metadata": {},
   "outputs": [
    {
     "name": "stdout",
     "output_type": "stream",
     "text": [
      "Calling: {'name': 'tavily_search_results_json', 'args': {'query': 'San Francisco weather'}, 'id': 'call_mCBLCiHfHUXWAMEQF0Ftp4kL', 'type': 'tool_call'}\n",
      "Back to the model!\n",
      "{'messages': [ToolMessage(content='[{\\'title\\': \\'Weather San Francisco in August 2025: Temperature & Climate\\', \\'url\\': \\'https://en.climate-data.org/north-america/united-states-of-america/california/san-francisco-385/t/august-8/\\', \\'content\\': \"| Humidity(%) | 79% | 80% | 78% | 72% | 70% | 69% | 74% | 74% | 71% | 70% | 76% | 78% |\\\\n| Rainy days (d) | 8 | 7 | 6 | 4 | 2 | 1 | 0 | 0 | 0 | 2 | 5 | 7 |\\\\n| avg. Sun hours (hours) | 5.9 | 6.5 | 7.8 | 9.1 | 9.1 | 9.3 | 7.4 | 6.8 | 7.6 | 7.3 | 6.8 | 5.8 | [...] |  |  |  |  |  |  |\\\\n| --- | --- | --- | --- | --- | --- |\\\\n|  | Temperature August | 16.7°C | 62.1°F |  | Precipitation / Rainfall August | 2mm | 0.1 inches |\\\\n|  | Temperature August max. | 22.2°C | 71.9°F |  | Water Temperature August | 14°C | 57°F |\\\\n|  | Temperature August min. | 13.3°C | 55.9°F | [...] San Francisco experiences a mild climate in August, with average temperatures hovering around 62°F (16.7°C). The highest temperatures during this month can reach up to about 72°F (22.2°C), providing a comfortable warmth perfect for outdoor activities. On the cooler side, the lowest temperatures dip to approximately 56°F (13.3°C) typically during early mornings or late evenings. This range of temperatures makes August an ideal time for both locals and tourists to explore the city\\'s attractions\", \\'score\\': 0.94109917}, {\\'title\\': \\'San Francisco weather in August 2025 | Weather25.com\\', \\'url\\': \\'https://www.weather25.com/north-america/usa/california/san-francisco?page=month&month=August\\', \\'content\\': \\'The average weather in San Francisco in August\\\\n----------------------------------------------\\\\n\\\\nThe temperatures in San Francisco in August are comfortable with low of 14°C and and high up to 25°C.\\\\n\\\\nThere is little to no rain in San Francisco during August, so it’s a lot easier to explore the city. Just remember to dress in warm layers, as it can still get pretty chilly.\\\\n\\\\nOur weather forecast can give you a great sense of what weather to expect in San Francisco in August 2025. [...] | 24 Image 51: Partly cloudy 21°/14° | 25 Image 52: Partly cloudy 22°/14° | 26 Image 53: Sunny 23°/15° | 27 Image 54: Partly cloudy 23°/14° | 28 Image 55: Sunny 23°/15° | 29 Image 56: Sunny 22°/15° | 30 Image 57: Sunny 23°/15° |\\\\n| 31 Image 58: Sunny 22°/15° |  |  |  |  |  |  | [...] | 10 Image 37: Sunny 20°/14° | 11 Image 38: Sunny 20°/14° | 12 Image 39: Patchy rain possible 18°/13° | 13 Image 40: Sunny 19°/14° | 14 Image 41: Partly cloudy 18°/13° | 15 Image 42: Sunny 18°/14° | 16 Image 43: Sunny 19°/14° |\\\\n| 17 Image 44: Patchy rain possible 21°/13° | 18 Image 45: Sunny 20°/15° | 19 Image 46: Sunny 21°/15° | 20 Image 47: Partly cloudy 22°/14° | 21 Image 48: Sunny 21°/14° | 22 Image 49: Partly cloudy 22°/14° | 23 Image 50: Partly cloudy 21°/14° |\\', \\'score\\': 0.9407083}]', name='tavily_search_results_json', id='a1f53a99-278f-4400-9e7d-2305ae0bbbfb', tool_call_id='call_mCBLCiHfHUXWAMEQF0Ftp4kL')]}\n",
      "{'messages': [HumanMessage(content='Whats the weather in SF?', additional_kwargs={}, response_metadata={}, id='ef813642-86b5-4a52-88a0-5f5f13d7c549'), AIMessage(content='', additional_kwargs={'tool_calls': [{'id': 'call_mCBLCiHfHUXWAMEQF0Ftp4kL', 'function': {'arguments': '{\"query\":\"San Francisco weather\"}', 'name': 'tavily_search_results_json'}, 'type': 'function'}], 'refusal': None}, response_metadata={'token_usage': {'completion_tokens': 20, 'prompt_tokens': 150, 'total_tokens': 170, 'completion_tokens_details': {'accepted_prediction_tokens': 0, 'audio_tokens': 0, 'reasoning_tokens': 0, 'rejected_prediction_tokens': 0}, 'prompt_tokens_details': {'audio_tokens': 0, 'cached_tokens': 0}}, 'model_name': 'gpt-4o-mini-2024-07-18', 'system_fingerprint': 'fp_34a54ae93c', 'id': 'chatcmpl-C2Aqxr8DH2NH9FCs5ohJxyxwHXmHJ', 'service_tier': 'default', 'finish_reason': 'tool_calls', 'logprobs': None}, id='run--88f80371-3986-4537-9ef9-6722daa6a9b1-0', tool_calls=[{'name': 'tavily_search_results_json', 'args': {'query': 'San Francisco weather'}, 'id': 'call_mCBLCiHfHUXWAMEQF0Ftp4kL', 'type': 'tool_call'}], usage_metadata={'input_tokens': 150, 'output_tokens': 20, 'total_tokens': 170, 'input_token_details': {'audio': 0, 'cache_read': 0}, 'output_token_details': {'audio': 0, 'reasoning': 0}}), ToolMessage(content='[{\\'title\\': \\'Weather San Francisco in August 2025: Temperature & Climate\\', \\'url\\': \\'https://en.climate-data.org/north-america/united-states-of-america/california/san-francisco-385/t/august-8/\\', \\'content\\': \"| Humidity(%) | 79% | 80% | 78% | 72% | 70% | 69% | 74% | 74% | 71% | 70% | 76% | 78% |\\\\n| Rainy days (d) | 8 | 7 | 6 | 4 | 2 | 1 | 0 | 0 | 0 | 2 | 5 | 7 |\\\\n| avg. Sun hours (hours) | 5.9 | 6.5 | 7.8 | 9.1 | 9.1 | 9.3 | 7.4 | 6.8 | 7.6 | 7.3 | 6.8 | 5.8 | [...] |  |  |  |  |  |  |\\\\n| --- | --- | --- | --- | --- | --- |\\\\n|  | Temperature August | 16.7°C | 62.1°F |  | Precipitation / Rainfall August | 2mm | 0.1 inches |\\\\n|  | Temperature August max. | 22.2°C | 71.9°F |  | Water Temperature August | 14°C | 57°F |\\\\n|  | Temperature August min. | 13.3°C | 55.9°F | [...] San Francisco experiences a mild climate in August, with average temperatures hovering around 62°F (16.7°C). The highest temperatures during this month can reach up to about 72°F (22.2°C), providing a comfortable warmth perfect for outdoor activities. On the cooler side, the lowest temperatures dip to approximately 56°F (13.3°C) typically during early mornings or late evenings. This range of temperatures makes August an ideal time for both locals and tourists to explore the city\\'s attractions\", \\'score\\': 0.94109917}, {\\'title\\': \\'San Francisco weather in August 2025 | Weather25.com\\', \\'url\\': \\'https://www.weather25.com/north-america/usa/california/san-francisco?page=month&month=August\\', \\'content\\': \\'The average weather in San Francisco in August\\\\n----------------------------------------------\\\\n\\\\nThe temperatures in San Francisco in August are comfortable with low of 14°C and and high up to 25°C.\\\\n\\\\nThere is little to no rain in San Francisco during August, so it’s a lot easier to explore the city. Just remember to dress in warm layers, as it can still get pretty chilly.\\\\n\\\\nOur weather forecast can give you a great sense of what weather to expect in San Francisco in August 2025. [...] | 24 Image 51: Partly cloudy 21°/14° | 25 Image 52: Partly cloudy 22°/14° | 26 Image 53: Sunny 23°/15° | 27 Image 54: Partly cloudy 23°/14° | 28 Image 55: Sunny 23°/15° | 29 Image 56: Sunny 22°/15° | 30 Image 57: Sunny 23°/15° |\\\\n| 31 Image 58: Sunny 22°/15° |  |  |  |  |  |  | [...] | 10 Image 37: Sunny 20°/14° | 11 Image 38: Sunny 20°/14° | 12 Image 39: Patchy rain possible 18°/13° | 13 Image 40: Sunny 19°/14° | 14 Image 41: Partly cloudy 18°/13° | 15 Image 42: Sunny 18°/14° | 16 Image 43: Sunny 19°/14° |\\\\n| 17 Image 44: Patchy rain possible 21°/13° | 18 Image 45: Sunny 20°/15° | 19 Image 46: Sunny 21°/15° | 20 Image 47: Partly cloudy 22°/14° | 21 Image 48: Sunny 21°/14° | 22 Image 49: Partly cloudy 22°/14° | 23 Image 50: Partly cloudy 21°/14° |\\', \\'score\\': 0.9407083}]', name='tavily_search_results_json', id='a1f53a99-278f-4400-9e7d-2305ae0bbbfb', tool_call_id='call_mCBLCiHfHUXWAMEQF0Ftp4kL'), AIMessage(content=\"The current weather in San Francisco shows mild temperatures typical for this time of year. The average temperatures range from 14°C (57°F) at night to a high of approximately 25°C (77°F) during the day. August usually experiences little to no rain, making it a great time to explore the city. However, it's advisable to dress in layers, as it can still get quite chilly, especially in the evening.\\n\\nFor more specific daily conditions, including cloud cover and potential rain, please check local weather services.\", additional_kwargs={'refusal': None}, response_metadata={'token_usage': {'completion_tokens': 106, 'prompt_tokens': 1159, 'total_tokens': 1265, 'completion_tokens_details': {'accepted_prediction_tokens': 0, 'audio_tokens': 0, 'reasoning_tokens': 0, 'rejected_prediction_tokens': 0}, 'prompt_tokens_details': {'audio_tokens': 0, 'cached_tokens': 0}}, 'model_name': 'gpt-4o-mini-2024-07-18', 'system_fingerprint': 'fp_34a54ae93c', 'id': 'chatcmpl-C2Axq1cHjFDvbbqMBT2BD8Q3vLmZO', 'service_tier': 'default', 'finish_reason': 'stop', 'logprobs': None}, id='run--f684d025-5046-4a4f-88e4-f624f9b91ddb-0', usage_metadata={'input_tokens': 1159, 'output_tokens': 106, 'total_tokens': 1265, 'input_token_details': {'audio': 0, 'cache_read': 0}, 'output_token_details': {'audio': 0, 'reasoning': 0}})]}\n",
      "{'messages': [AIMessage(content=\"The current weather in San Francisco shows mild temperatures typical for this time of year. The average temperatures range from 14°C (57°F) at night to a high of approximately 25°C (77°F) during the day. August usually experiences little to no rain, making it a great time to explore the city. However, it's advisable to dress in layers, as it can still get quite chilly, especially in the evening.\\n\\nFor more specific daily conditions, including cloud cover and potential rain, please check local weather services.\", additional_kwargs={'refusal': None}, response_metadata={'token_usage': {'completion_tokens': 106, 'prompt_tokens': 1159, 'total_tokens': 1265, 'completion_tokens_details': {'accepted_prediction_tokens': 0, 'audio_tokens': 0, 'reasoning_tokens': 0, 'rejected_prediction_tokens': 0}, 'prompt_tokens_details': {'audio_tokens': 0, 'cached_tokens': 0}}, 'model_name': 'gpt-4o-mini-2024-07-18', 'system_fingerprint': 'fp_34a54ae93c', 'id': 'chatcmpl-C2Axq1cHjFDvbbqMBT2BD8Q3vLmZO', 'service_tier': 'default', 'finish_reason': 'stop', 'logprobs': None}, id='run--f684d025-5046-4a4f-88e4-f624f9b91ddb-0', usage_metadata={'input_tokens': 1159, 'output_tokens': 106, 'total_tokens': 1265, 'input_token_details': {'audio': 0, 'cache_read': 0}, 'output_token_details': {'audio': 0, 'reasoning': 0}})]}\n"
     ]
    }
   ],
   "source": [
    "for event in abot.graph.stream(None, thread):\n",
    "    for v in event.values():\n",
    "        print(v)"
   ]
  },
  {
   "cell_type": "code",
   "execution_count": 81,
   "id": "0722c3d4-4cbf-43bf-81b0-50f634c4ce61",
   "metadata": {},
   "outputs": [
    {
     "name": "stdout",
     "output_type": "stream",
     "text": [
      "================================\u001b[1m Human Message \u001b[0m=================================\n",
      "\n",
      "Whats the weather in SF?\n",
      "==================================\u001b[1m Ai Message \u001b[0m==================================\n",
      "Tool Calls:\n",
      "  tavily_search_results_json (call_mCBLCiHfHUXWAMEQF0Ftp4kL)\n",
      " Call ID: call_mCBLCiHfHUXWAMEQF0Ftp4kL\n",
      "  Args:\n",
      "    query: San Francisco weather\n",
      "=================================\u001b[1m Tool Message \u001b[0m=================================\n",
      "Name: tavily_search_results_json\n",
      "\n",
      "[{'title': 'Weather San Francisco in August 2025: Temperature & Climate', 'url': 'https://en.climate-data.org/north-america/united-states-of-america/california/san-francisco-385/t/august-8/', 'content': \"| Humidity(%) | 79% | 80% | 78% | 72% | 70% | 69% | 74% | 74% | 71% | 70% | 76% | 78% |\\n| Rainy days (d) | 8 | 7 | 6 | 4 | 2 | 1 | 0 | 0 | 0 | 2 | 5 | 7 |\\n| avg. Sun hours (hours) | 5.9 | 6.5 | 7.8 | 9.1 | 9.1 | 9.3 | 7.4 | 6.8 | 7.6 | 7.3 | 6.8 | 5.8 | [...] |  |  |  |  |  |  |\\n| --- | --- | --- | --- | --- | --- |\\n|  | Temperature August | 16.7°C | 62.1°F |  | Precipitation / Rainfall August | 2mm | 0.1 inches |\\n|  | Temperature August max. | 22.2°C | 71.9°F |  | Water Temperature August | 14°C | 57°F |\\n|  | Temperature August min. | 13.3°C | 55.9°F | [...] San Francisco experiences a mild climate in August, with average temperatures hovering around 62°F (16.7°C). The highest temperatures during this month can reach up to about 72°F (22.2°C), providing a comfortable warmth perfect for outdoor activities. On the cooler side, the lowest temperatures dip to approximately 56°F (13.3°C) typically during early mornings or late evenings. This range of temperatures makes August an ideal time for both locals and tourists to explore the city's attractions\", 'score': 0.94109917}, {'title': 'San Francisco weather in August 2025 | Weather25.com', 'url': 'https://www.weather25.com/north-america/usa/california/san-francisco?page=month&month=August', 'content': 'The average weather in San Francisco in August\\n----------------------------------------------\\n\\nThe temperatures in San Francisco in August are comfortable with low of 14°C and and high up to 25°C.\\n\\nThere is little to no rain in San Francisco during August, so it’s a lot easier to explore the city. Just remember to dress in warm layers, as it can still get pretty chilly.\\n\\nOur weather forecast can give you a great sense of what weather to expect in San Francisco in August 2025. [...] | 24 Image 51: Partly cloudy 21°/14° | 25 Image 52: Partly cloudy 22°/14° | 26 Image 53: Sunny 23°/15° | 27 Image 54: Partly cloudy 23°/14° | 28 Image 55: Sunny 23°/15° | 29 Image 56: Sunny 22°/15° | 30 Image 57: Sunny 23°/15° |\\n| 31 Image 58: Sunny 22°/15° |  |  |  |  |  |  | [...] | 10 Image 37: Sunny 20°/14° | 11 Image 38: Sunny 20°/14° | 12 Image 39: Patchy rain possible 18°/13° | 13 Image 40: Sunny 19°/14° | 14 Image 41: Partly cloudy 18°/13° | 15 Image 42: Sunny 18°/14° | 16 Image 43: Sunny 19°/14° |\\n| 17 Image 44: Patchy rain possible 21°/13° | 18 Image 45: Sunny 20°/15° | 19 Image 46: Sunny 21°/15° | 20 Image 47: Partly cloudy 22°/14° | 21 Image 48: Sunny 21°/14° | 22 Image 49: Partly cloudy 22°/14° | 23 Image 50: Partly cloudy 21°/14° |', 'score': 0.9407083}]\n",
      "==================================\u001b[1m Ai Message \u001b[0m==================================\n",
      "\n",
      "The current weather in San Francisco shows mild temperatures typical for this time of year. The average temperatures range from 14°C (57°F) at night to a high of approximately 25°C (77°F) during the day. August usually experiences little to no rain, making it a great time to explore the city. However, it's advisable to dress in layers, as it can still get quite chilly, especially in the evening.\n",
      "\n",
      "For more specific daily conditions, including cloud cover and potential rain, please check local weather services.\n"
     ]
    }
   ],
   "source": [
    "snapshot = abot.graph.get_state(thread)\n",
    "show_messages_in_snapshot(snapshot)"
   ]
  },
  {
   "cell_type": "code",
   "execution_count": 82,
   "id": "6b2f82fe-3ec4-4917-be51-9fb10d1317fa",
   "metadata": {},
   "outputs": [
    {
     "data": {
      "text/plain": [
       "()"
      ]
     },
     "execution_count": 82,
     "metadata": {},
     "output_type": "execute_result"
    }
   ],
   "source": [
    "abot.graph.get_state(thread).next"
   ]
  },
  {
   "cell_type": "code",
   "execution_count": 83,
   "id": "ee0fe1c7-77e2-499c-a2f9-1f739bb6ddf0",
   "metadata": {},
   "outputs": [
    {
     "name": "stdout",
     "output_type": "stream",
     "text": [
      "{'messages': [HumanMessage(content='Whats the weather in LA?', additional_kwargs={}, response_metadata={}, id='4ed6e08b-66b2-4ff1-9d52-a75d4e975c22'), AIMessage(content='', additional_kwargs={'tool_calls': [{'id': 'call_BEboBD9ERB4f4JaKur5dXShZ', 'function': {'arguments': '{\"query\":\"current weather in Los Angeles\"}', 'name': 'tavily_search_results_json'}, 'type': 'function'}], 'refusal': None}, response_metadata={'token_usage': {'completion_tokens': 22, 'prompt_tokens': 150, 'total_tokens': 172, 'completion_tokens_details': {'accepted_prediction_tokens': 0, 'audio_tokens': 0, 'reasoning_tokens': 0, 'rejected_prediction_tokens': 0}, 'prompt_tokens_details': {'audio_tokens': 0, 'cached_tokens': 0}}, 'model_name': 'gpt-4o-mini-2024-07-18', 'system_fingerprint': 'fp_34a54ae93c', 'id': 'chatcmpl-C2AzlU7LsTnkyG2zZsbjspFMAbyCY', 'service_tier': 'default', 'finish_reason': 'tool_calls', 'logprobs': None}, id='run--b2d8f5cc-8d1a-4fbf-8d16-274595fdf258-0', tool_calls=[{'name': 'tavily_search_results_json', 'args': {'query': 'current weather in Los Angeles'}, 'id': 'call_BEboBD9ERB4f4JaKur5dXShZ', 'type': 'tool_call'}], usage_metadata={'input_tokens': 150, 'output_tokens': 22, 'total_tokens': 172, 'input_token_details': {'audio': 0, 'cache_read': 0}, 'output_token_details': {'audio': 0, 'reasoning': 0}})]}\n",
      "{'messages': [AIMessage(content='', additional_kwargs={'tool_calls': [{'id': 'call_BEboBD9ERB4f4JaKur5dXShZ', 'function': {'arguments': '{\"query\":\"current weather in Los Angeles\"}', 'name': 'tavily_search_results_json'}, 'type': 'function'}], 'refusal': None}, response_metadata={'token_usage': {'completion_tokens': 22, 'prompt_tokens': 150, 'total_tokens': 172, 'completion_tokens_details': {'accepted_prediction_tokens': 0, 'audio_tokens': 0, 'reasoning_tokens': 0, 'rejected_prediction_tokens': 0}, 'prompt_tokens_details': {'audio_tokens': 0, 'cached_tokens': 0}}, 'model_name': 'gpt-4o-mini-2024-07-18', 'system_fingerprint': 'fp_34a54ae93c', 'id': 'chatcmpl-C2AzlU7LsTnkyG2zZsbjspFMAbyCY', 'service_tier': 'default', 'finish_reason': 'tool_calls', 'logprobs': None}, id='run--b2d8f5cc-8d1a-4fbf-8d16-274595fdf258-0', tool_calls=[{'name': 'tavily_search_results_json', 'args': {'query': 'current weather in Los Angeles'}, 'id': 'call_BEboBD9ERB4f4JaKur5dXShZ', 'type': 'tool_call'}], usage_metadata={'input_tokens': 150, 'output_tokens': 22, 'total_tokens': 172, 'input_token_details': {'audio': 0, 'cache_read': 0}, 'output_token_details': {'audio': 0, 'reasoning': 0}})]}\n",
      "()\n",
      "\n",
      " StateSnapshot(values={'messages': [HumanMessage(content='Whats the weather in LA?', additional_kwargs={}, response_metadata={}, id='4ed6e08b-66b2-4ff1-9d52-a75d4e975c22'), AIMessage(content='', additional_kwargs={'tool_calls': [{'id': 'call_BEboBD9ERB4f4JaKur5dXShZ', 'function': {'arguments': '{\"query\":\"current weather in Los Angeles\"}', 'name': 'tavily_search_results_json'}, 'type': 'function'}], 'refusal': None}, response_metadata={'token_usage': {'completion_tokens': 22, 'prompt_tokens': 150, 'total_tokens': 172, 'completion_tokens_details': {'accepted_prediction_tokens': 0, 'audio_tokens': 0, 'reasoning_tokens': 0, 'rejected_prediction_tokens': 0}, 'prompt_tokens_details': {'audio_tokens': 0, 'cached_tokens': 0}}, 'model_name': 'gpt-4o-mini-2024-07-18', 'system_fingerprint': 'fp_34a54ae93c', 'id': 'chatcmpl-C2AzlU7LsTnkyG2zZsbjspFMAbyCY', 'service_tier': 'default', 'finish_reason': 'tool_calls', 'logprobs': None}, id='run--b2d8f5cc-8d1a-4fbf-8d16-274595fdf258-0', tool_calls=[{'name': 'tavily_search_results_json', 'args': {'query': 'current weather in Los Angeles'}, 'id': 'call_BEboBD9ERB4f4JaKur5dXShZ', 'type': 'tool_call'}], usage_metadata={'input_tokens': 150, 'output_tokens': 22, 'total_tokens': 172, 'input_token_details': {'audio': 0, 'cache_read': 0}, 'output_token_details': {'audio': 0, 'reasoning': 0}})]}, next=('action',), config={'configurable': {'thread_id': '2', 'checkpoint_ns': '', 'checkpoint_id': '1f07421f-121d-6517-8001-30504d5827c8'}}, metadata={'source': 'loop', 'step': 1, 'parents': {}}, created_at='2025-08-08T06:35:57.675445+00:00', parent_config={'configurable': {'thread_id': '2', 'checkpoint_ns': '', 'checkpoint_id': '1f07421f-0644-61ca-8000-71094e357771'}}, tasks=(PregelTask(id='f8a9a78a-258f-fcee-bd21-adbd7f3d154e', name='action', path=('__pregel_pull', 'action'), error=None, interrupts=(), state=None, result=None),), interrupts=()) \n",
      "\n",
      "Calling: {'name': 'tavily_search_results_json', 'args': {'query': 'current weather in Los Angeles'}, 'id': 'call_BEboBD9ERB4f4JaKur5dXShZ', 'type': 'tool_call'}\n",
      "Back to the model!\n",
      "{'messages': [ToolMessage(content='[{\\'title\\': \\'Los Angeles weather in August 2025\\', \\'url\\': \\'https://www.weather25.com/north-america/usa/california/los-angeles?page=month&month=August\\', \\'content\\': \"weather25.com\\\\nSearch\\\\nweather in United States\\\\nRemove from your favorite locations\\\\nAdd to my locations\\\\nShare\\\\nweather in United States\\\\n\\\\n# Los Angeles weather in August 2025\\\\n\\\\nClear\\\\nClear\\\\nClear\\\\nClear\\\\nClear\\\\nClear\\\\nClear\\\\nClear\\\\nClear\\\\nClear\\\\nClear\\\\nClear\\\\nClear\\\\nClear\\\\n\\\\n## The average weather in Los Angeles in August\\\\n\\\\nThe weather in Los Angeles in August is hot. The average temperatures are between 21°C and 31°C. [...] There shouldn\\'t be any rainy days in in Los Angeles during August. Having said that, the days are very hot in August so hanging out outside is more recomanded during the after noons and evening time.\\\\n\\\\nOur weather forecast can give you a great sense of what weather to expect in Los Angeles in August 2025.\\\\n\\\\nIf you’re planning to visit Los Angeles in the near future, we highly recommend that you review the 14 day weather forecast for Los Angeles before you arrive. [...] | 17 Sunny 29° /20° | 18 Sunny 30° /20° | 19 Sunny 30° /20° | 20 Sunny 31° /21° | 21 Sunny 29° /22° | 22 Sunny 28° /21° | 23 Sunny 28° /21° |\\\\n| 24 Sunny 29° /21° | 25 Sunny 30° /22° | 26 Sunny 31° /22° | 27 Sunny 31° /22° | 28 Sunny 30° /21° | 29 Sunny 30° /21° | 30 Sunny 30° /21° |\\\\n| 31 Sunny 30° /22° |  |  |  |  |  |  |\", \\'score\\': 0.8939131}, {\\'title\\': \\'Weather Forecast and Conditions for Los Angeles, CA\\', \\'url\\': \\'https://weather.com/weather/today/l/Los+Angeles+CA?canonicalCityId=7d3c65d8b80674fb48647ddbc936bb8b\\', \\'content\\': \"© The Weather Company, LLC 2025 [...] ## Recent Locations\\\\n\\\\nMenu\\\\n\\\\n## Weather Forecasts\\\\n\\\\n## Radar & Maps\\\\n\\\\n## News & Media\\\\n\\\\n## Products & Account\\\\n\\\\n## Lifestyle\\\\n\\\\n### Specialty Forecasts\\\\n\\\\n# Los Angeles, CA\\\\n\\\\n## Weather Today in Los Angeles, CA\\\\n\\\\n6:09 am\\\\n\\\\n7:47 pm\\\\n\\\\n# Hourly Weather-Los Angeles, CA\\\\n\\\\n## Now\\\\n\\\\nClear\\\\n\\\\n## 1 am\\\\n\\\\nClear\\\\n\\\\n## 2 am\\\\n\\\\nClear\\\\n\\\\n## 3 am\\\\n\\\\nClear\\\\n\\\\nChart small gif\\\\n\\\\n## Don\\'t Miss\\\\n\\\\n## Seasonal Hub\\\\n\\\\n# 10 Day Weather-Los Angeles, CA\\\\n\\\\n## Tonight\\\\n\\\\n## Night\\\\n\\\\nA few passing clouds. Low 64F. Winds light and variable.\\\\n\\\\n## Fri 08\\\\n\\\\n## Day [...] Abundant sunshine. High near 90F. Winds light and variable.\\\\n\\\\n## Night\\\\n\\\\nPartly cloudy. Low 63F. Winds light and variable.\\\\n\\\\n## Sat 09\\\\n\\\\n## Day\\\\n\\\\nSome clouds in the morning will give way to mainly sunny skies for the afternoon. High 86F. Winds light and variable.\\\\n\\\\n## Night\\\\n\\\\nA few clouds overnight. Low 62F. Winds light and variable.\\\\n\\\\n## Sun 10\\\\n\\\\n## Day\\\\n\\\\nSun and a few passing clouds. High 87F. Winds light and variable.\\\\n\\\\n## Night\\\\n\\\\nA mostly clear sky. Low near 65F. Winds light and variable.\\\\n\\\\n## Radar\", \\'score\\': 0.54521364}]', name='tavily_search_results_json', id='d9a5594a-6860-4139-bda7-f6fe90f6da0f', tool_call_id='call_BEboBD9ERB4f4JaKur5dXShZ')]}\n",
      "{'messages': [HumanMessage(content='Whats the weather in LA?', additional_kwargs={}, response_metadata={}, id='4ed6e08b-66b2-4ff1-9d52-a75d4e975c22'), AIMessage(content='', additional_kwargs={'tool_calls': [{'id': 'call_BEboBD9ERB4f4JaKur5dXShZ', 'function': {'arguments': '{\"query\":\"current weather in Los Angeles\"}', 'name': 'tavily_search_results_json'}, 'type': 'function'}], 'refusal': None}, response_metadata={'token_usage': {'completion_tokens': 22, 'prompt_tokens': 150, 'total_tokens': 172, 'completion_tokens_details': {'accepted_prediction_tokens': 0, 'audio_tokens': 0, 'reasoning_tokens': 0, 'rejected_prediction_tokens': 0}, 'prompt_tokens_details': {'audio_tokens': 0, 'cached_tokens': 0}}, 'model_name': 'gpt-4o-mini-2024-07-18', 'system_fingerprint': 'fp_34a54ae93c', 'id': 'chatcmpl-C2AzlU7LsTnkyG2zZsbjspFMAbyCY', 'service_tier': 'default', 'finish_reason': 'tool_calls', 'logprobs': None}, id='run--b2d8f5cc-8d1a-4fbf-8d16-274595fdf258-0', tool_calls=[{'name': 'tavily_search_results_json', 'args': {'query': 'current weather in Los Angeles'}, 'id': 'call_BEboBD9ERB4f4JaKur5dXShZ', 'type': 'tool_call'}], usage_metadata={'input_tokens': 150, 'output_tokens': 22, 'total_tokens': 172, 'input_token_details': {'audio': 0, 'cache_read': 0}, 'output_token_details': {'audio': 0, 'reasoning': 0}}), ToolMessage(content='[{\\'title\\': \\'Los Angeles weather in August 2025\\', \\'url\\': \\'https://www.weather25.com/north-america/usa/california/los-angeles?page=month&month=August\\', \\'content\\': \"weather25.com\\\\nSearch\\\\nweather in United States\\\\nRemove from your favorite locations\\\\nAdd to my locations\\\\nShare\\\\nweather in United States\\\\n\\\\n# Los Angeles weather in August 2025\\\\n\\\\nClear\\\\nClear\\\\nClear\\\\nClear\\\\nClear\\\\nClear\\\\nClear\\\\nClear\\\\nClear\\\\nClear\\\\nClear\\\\nClear\\\\nClear\\\\nClear\\\\n\\\\n## The average weather in Los Angeles in August\\\\n\\\\nThe weather in Los Angeles in August is hot. The average temperatures are between 21°C and 31°C. [...] There shouldn\\'t be any rainy days in in Los Angeles during August. Having said that, the days are very hot in August so hanging out outside is more recomanded during the after noons and evening time.\\\\n\\\\nOur weather forecast can give you a great sense of what weather to expect in Los Angeles in August 2025.\\\\n\\\\nIf you’re planning to visit Los Angeles in the near future, we highly recommend that you review the 14 day weather forecast for Los Angeles before you arrive. [...] | 17 Sunny 29° /20° | 18 Sunny 30° /20° | 19 Sunny 30° /20° | 20 Sunny 31° /21° | 21 Sunny 29° /22° | 22 Sunny 28° /21° | 23 Sunny 28° /21° |\\\\n| 24 Sunny 29° /21° | 25 Sunny 30° /22° | 26 Sunny 31° /22° | 27 Sunny 31° /22° | 28 Sunny 30° /21° | 29 Sunny 30° /21° | 30 Sunny 30° /21° |\\\\n| 31 Sunny 30° /22° |  |  |  |  |  |  |\", \\'score\\': 0.8939131}, {\\'title\\': \\'Weather Forecast and Conditions for Los Angeles, CA\\', \\'url\\': \\'https://weather.com/weather/today/l/Los+Angeles+CA?canonicalCityId=7d3c65d8b80674fb48647ddbc936bb8b\\', \\'content\\': \"© The Weather Company, LLC 2025 [...] ## Recent Locations\\\\n\\\\nMenu\\\\n\\\\n## Weather Forecasts\\\\n\\\\n## Radar & Maps\\\\n\\\\n## News & Media\\\\n\\\\n## Products & Account\\\\n\\\\n## Lifestyle\\\\n\\\\n### Specialty Forecasts\\\\n\\\\n# Los Angeles, CA\\\\n\\\\n## Weather Today in Los Angeles, CA\\\\n\\\\n6:09 am\\\\n\\\\n7:47 pm\\\\n\\\\n# Hourly Weather-Los Angeles, CA\\\\n\\\\n## Now\\\\n\\\\nClear\\\\n\\\\n## 1 am\\\\n\\\\nClear\\\\n\\\\n## 2 am\\\\n\\\\nClear\\\\n\\\\n## 3 am\\\\n\\\\nClear\\\\n\\\\nChart small gif\\\\n\\\\n## Don\\'t Miss\\\\n\\\\n## Seasonal Hub\\\\n\\\\n# 10 Day Weather-Los Angeles, CA\\\\n\\\\n## Tonight\\\\n\\\\n## Night\\\\n\\\\nA few passing clouds. Low 64F. Winds light and variable.\\\\n\\\\n## Fri 08\\\\n\\\\n## Day [...] Abundant sunshine. High near 90F. Winds light and variable.\\\\n\\\\n## Night\\\\n\\\\nPartly cloudy. Low 63F. Winds light and variable.\\\\n\\\\n## Sat 09\\\\n\\\\n## Day\\\\n\\\\nSome clouds in the morning will give way to mainly sunny skies for the afternoon. High 86F. Winds light and variable.\\\\n\\\\n## Night\\\\n\\\\nA few clouds overnight. Low 62F. Winds light and variable.\\\\n\\\\n## Sun 10\\\\n\\\\n## Day\\\\n\\\\nSun and a few passing clouds. High 87F. Winds light and variable.\\\\n\\\\n## Night\\\\n\\\\nA mostly clear sky. Low near 65F. Winds light and variable.\\\\n\\\\n## Radar\", \\'score\\': 0.54521364}]', name='tavily_search_results_json', id='d9a5594a-6860-4139-bda7-f6fe90f6da0f', tool_call_id='call_BEboBD9ERB4f4JaKur5dXShZ'), AIMessage(content='The current weather in Los Angeles, CA is clear with light and variable winds. The temperature is expected to reach a high near 90°F (about 32°C) during the day, while tonight it will drop to a low of around 64°F (about 18°C). \\n\\nYou can find more details about the weather forecast for the upcoming days from this [link](https://weather.com/weather/today/l/Los+Angeles+CA?canonicalCityId=7d3c65d8b80674fb48647ddbc936bb8b).', additional_kwargs={'refusal': None}, response_metadata={'token_usage': {'completion_tokens': 117, 'prompt_tokens': 1025, 'total_tokens': 1142, 'completion_tokens_details': {'accepted_prediction_tokens': 0, 'audio_tokens': 0, 'reasoning_tokens': 0, 'rejected_prediction_tokens': 0}, 'prompt_tokens_details': {'audio_tokens': 0, 'cached_tokens': 0}}, 'model_name': 'gpt-4o-mini-2024-07-18', 'system_fingerprint': 'fp_34a54ae93c', 'id': 'chatcmpl-C2B00OpwULweEehyulgbSd7zO6pjM', 'service_tier': 'default', 'finish_reason': 'stop', 'logprobs': None}, id='run--0623a374-97fd-477c-a645-06dd5c11a3c3-0', usage_metadata={'input_tokens': 1025, 'output_tokens': 117, 'total_tokens': 1142, 'input_token_details': {'audio': 0, 'cache_read': 0}, 'output_token_details': {'audio': 0, 'reasoning': 0}})]}\n",
      "{'messages': [AIMessage(content='The current weather in Los Angeles, CA is clear with light and variable winds. The temperature is expected to reach a high near 90°F (about 32°C) during the day, while tonight it will drop to a low of around 64°F (about 18°C). \\n\\nYou can find more details about the weather forecast for the upcoming days from this [link](https://weather.com/weather/today/l/Los+Angeles+CA?canonicalCityId=7d3c65d8b80674fb48647ddbc936bb8b).', additional_kwargs={'refusal': None}, response_metadata={'token_usage': {'completion_tokens': 117, 'prompt_tokens': 1025, 'total_tokens': 1142, 'completion_tokens_details': {'accepted_prediction_tokens': 0, 'audio_tokens': 0, 'reasoning_tokens': 0, 'rejected_prediction_tokens': 0}, 'prompt_tokens_details': {'audio_tokens': 0, 'cached_tokens': 0}}, 'model_name': 'gpt-4o-mini-2024-07-18', 'system_fingerprint': 'fp_34a54ae93c', 'id': 'chatcmpl-C2B00OpwULweEehyulgbSd7zO6pjM', 'service_tier': 'default', 'finish_reason': 'stop', 'logprobs': None}, id='run--0623a374-97fd-477c-a645-06dd5c11a3c3-0', usage_metadata={'input_tokens': 1025, 'output_tokens': 117, 'total_tokens': 1142, 'input_token_details': {'audio': 0, 'cache_read': 0}, 'output_token_details': {'audio': 0, 'reasoning': 0}})]}\n"
     ]
    }
   ],
   "source": [
    "messages = [HumanMessage(\"Whats the weather in LA?\")]\n",
    "thread = {\"configurable\": {\"thread_id\": \"2\"}}\n",
    "for event in abot.graph.stream({\"messages\": messages}, thread):\n",
    "    for v in event.values():\n",
    "        print(v)\n",
    "while abot.graph.get_state(thread).next:\n",
    "    print(\"\\n\", abot.graph.get_state(thread),\"\\n\")\n",
    "    _input = input(\"proceed?\")\n",
    "    if _input != \"y\":\n",
    "        print(\"aborting\")\n",
    "        break\n",
    "    for event in abot.graph.stream(None, thread):\n",
    "        for v in event.values():\n",
    "            print(v)"
   ]
  },
  {
   "cell_type": "markdown",
   "id": "7bbe5689-54ab-49ca-9055-6e5216abd523",
   "metadata": {},
   "source": [
    "## Modify State\n",
    "Run until the interrupt and then modify the state."
   ]
  },
  {
   "cell_type": "code",
   "execution_count": 84,
   "id": "98f303b1-a4d0-408c-8cc0-515ff980717f",
   "metadata": {},
   "outputs": [
    {
     "name": "stdout",
     "output_type": "stream",
     "text": [
      "{'messages': [HumanMessage(content='Whats the weather in LA?', additional_kwargs={}, response_metadata={}, id='3c4a93d8-4504-43be-8f1f-f982bdf91b45'), AIMessage(content='', additional_kwargs={'tool_calls': [{'id': 'call_Xcs9HpOyILWx6tBpbrSpO4Oy', 'function': {'arguments': '{\"query\":\"current weather in Los Angeles\"}', 'name': 'tavily_search_results_json'}, 'type': 'function'}], 'refusal': None}, response_metadata={'token_usage': {'completion_tokens': 22, 'prompt_tokens': 150, 'total_tokens': 172, 'completion_tokens_details': {'accepted_prediction_tokens': 0, 'audio_tokens': 0, 'reasoning_tokens': 0, 'rejected_prediction_tokens': 0}, 'prompt_tokens_details': {'audio_tokens': 0, 'cached_tokens': 0}}, 'model_name': 'gpt-4o-mini-2024-07-18', 'system_fingerprint': 'fp_34a54ae93c', 'id': 'chatcmpl-C2B1LxYLxm92snb6UnaO1Cd1bOGb1', 'service_tier': 'default', 'finish_reason': 'tool_calls', 'logprobs': None}, id='run--c6557b38-df2b-4850-acf5-5c5ea695ef87-0', tool_calls=[{'name': 'tavily_search_results_json', 'args': {'query': 'current weather in Los Angeles'}, 'id': 'call_Xcs9HpOyILWx6tBpbrSpO4Oy', 'type': 'tool_call'}], usage_metadata={'input_tokens': 150, 'output_tokens': 22, 'total_tokens': 172, 'input_token_details': {'audio': 0, 'cache_read': 0}, 'output_token_details': {'audio': 0, 'reasoning': 0}})]}\n",
      "{'messages': [AIMessage(content='', additional_kwargs={'tool_calls': [{'id': 'call_Xcs9HpOyILWx6tBpbrSpO4Oy', 'function': {'arguments': '{\"query\":\"current weather in Los Angeles\"}', 'name': 'tavily_search_results_json'}, 'type': 'function'}], 'refusal': None}, response_metadata={'token_usage': {'completion_tokens': 22, 'prompt_tokens': 150, 'total_tokens': 172, 'completion_tokens_details': {'accepted_prediction_tokens': 0, 'audio_tokens': 0, 'reasoning_tokens': 0, 'rejected_prediction_tokens': 0}, 'prompt_tokens_details': {'audio_tokens': 0, 'cached_tokens': 0}}, 'model_name': 'gpt-4o-mini-2024-07-18', 'system_fingerprint': 'fp_34a54ae93c', 'id': 'chatcmpl-C2B1LxYLxm92snb6UnaO1Cd1bOGb1', 'service_tier': 'default', 'finish_reason': 'tool_calls', 'logprobs': None}, id='run--c6557b38-df2b-4850-acf5-5c5ea695ef87-0', tool_calls=[{'name': 'tavily_search_results_json', 'args': {'query': 'current weather in Los Angeles'}, 'id': 'call_Xcs9HpOyILWx6tBpbrSpO4Oy', 'type': 'tool_call'}], usage_metadata={'input_tokens': 150, 'output_tokens': 22, 'total_tokens': 172, 'input_token_details': {'audio': 0, 'cache_read': 0}, 'output_token_details': {'audio': 0, 'reasoning': 0}})]}\n",
      "()\n"
     ]
    }
   ],
   "source": [
    "messages = [HumanMessage(\"Whats the weather in LA?\")]\n",
    "thread = {\"configurable\": {\"thread_id\": \"3\"}}\n",
    "for event in abot.graph.stream({\"messages\": messages}, thread):\n",
    "    for v in event.values():\n",
    "        print(v)"
   ]
  },
  {
   "cell_type": "code",
   "execution_count": 91,
   "id": "bf4dcb93-6298-4cfd-b3ce-61dfac7fb35f",
   "metadata": {},
   "outputs": [
    {
     "name": "stdout",
     "output_type": "stream",
     "text": [
      "================================\u001b[1m Human Message \u001b[0m=================================\n",
      "\n",
      "Whats the weather in LA?\n",
      "==================================\u001b[1m Ai Message \u001b[0m==================================\n",
      "Tool Calls:\n",
      "  tavily_search_results_json (call_Xcs9HpOyILWx6tBpbrSpO4Oy)\n",
      " Call ID: call_Xcs9HpOyILWx6tBpbrSpO4Oy\n",
      "  Args:\n",
      "    query: current weather in Los Angeles\n"
     ]
    }
   ],
   "source": [
    "snapshot = abot.graph.get_state(thread)\n",
    "show_messages_in_snapshot(snapshot)"
   ]
  },
  {
   "cell_type": "code",
   "execution_count": 92,
   "id": "932883a4-c722-42bb-aec0-b4f41c5c81a4",
   "metadata": {},
   "outputs": [],
   "source": [
    "current_values = abot.graph.get_state(thread)"
   ]
  },
  {
   "cell_type": "code",
   "execution_count": 93,
   "id": "ff362f49-dcf1-4ea1-a86c-e516e9ab897d",
   "metadata": {},
   "outputs": [
    {
     "data": {
      "text/plain": [
       "AIMessage(content='', additional_kwargs={'tool_calls': [{'id': 'call_Xcs9HpOyILWx6tBpbrSpO4Oy', 'function': {'arguments': '{\"query\":\"current weather in Los Angeles\"}', 'name': 'tavily_search_results_json'}, 'type': 'function'}], 'refusal': None}, response_metadata={'token_usage': {'completion_tokens': 22, 'prompt_tokens': 150, 'total_tokens': 172, 'completion_tokens_details': {'accepted_prediction_tokens': 0, 'audio_tokens': 0, 'reasoning_tokens': 0, 'rejected_prediction_tokens': 0}, 'prompt_tokens_details': {'audio_tokens': 0, 'cached_tokens': 0}}, 'model_name': 'gpt-4o-mini-2024-07-18', 'system_fingerprint': 'fp_34a54ae93c', 'id': 'chatcmpl-C2B1LxYLxm92snb6UnaO1Cd1bOGb1', 'service_tier': 'default', 'finish_reason': 'tool_calls', 'logprobs': None}, id='run--c6557b38-df2b-4850-acf5-5c5ea695ef87-0', tool_calls=[{'name': 'tavily_search_results_json', 'args': {'query': 'current weather in Los Angeles'}, 'id': 'call_Xcs9HpOyILWx6tBpbrSpO4Oy', 'type': 'tool_call'}], usage_metadata={'input_tokens': 150, 'output_tokens': 22, 'total_tokens': 172, 'input_token_details': {'audio': 0, 'cache_read': 0}, 'output_token_details': {'audio': 0, 'reasoning': 0}})"
      ]
     },
     "execution_count": 93,
     "metadata": {},
     "output_type": "execute_result"
    }
   ],
   "source": [
    "current_values.values['messages'][-1]"
   ]
  },
  {
   "cell_type": "code",
   "execution_count": 94,
   "id": "a7e15a20-83d7-434c-8551-bce8dcc32be0",
   "metadata": {},
   "outputs": [
    {
     "data": {
      "text/plain": [
       "[{'name': 'tavily_search_results_json',\n",
       "  'args': {'query': 'current weather in Los Angeles'},\n",
       "  'id': 'call_Xcs9HpOyILWx6tBpbrSpO4Oy',\n",
       "  'type': 'tool_call'}]"
      ]
     },
     "execution_count": 94,
     "metadata": {},
     "output_type": "execute_result"
    }
   ],
   "source": [
    "current_values.values['messages'][-1].tool_calls"
   ]
  },
  {
   "cell_type": "code",
   "execution_count": 95,
   "id": "54ab2c74-f32e-490c-a85d-932d11444210",
   "metadata": {},
   "outputs": [],
   "source": [
    "_id = current_values.values['messages'][-1].tool_calls[0]['id']\n",
    "current_values.values['messages'][-1].tool_calls = [\n",
    "    {'name': 'tavily_search_results_json',\n",
    "  'args': {'query': 'current weather in New York, accuweather'},\n",
    "  'id': _id}\n",
    "]"
   ]
  },
  {
   "cell_type": "code",
   "execution_count": 96,
   "id": "a833d3ce-bd31-4319-811d-decff226b970",
   "metadata": {},
   "outputs": [
    {
     "name": "stdout",
     "output_type": "stream",
     "text": [
      "{'messages': [HumanMessage(content='Whats the weather in LA?', additional_kwargs={}, response_metadata={}, id='3c4a93d8-4504-43be-8f1f-f982bdf91b45'), AIMessage(content='', additional_kwargs={'tool_calls': [{'id': 'call_Xcs9HpOyILWx6tBpbrSpO4Oy', 'function': {'arguments': '{\"query\":\"current weather in Los Angeles\"}', 'name': 'tavily_search_results_json'}, 'type': 'function'}], 'refusal': None}, response_metadata={'token_usage': {'completion_tokens': 22, 'prompt_tokens': 150, 'total_tokens': 172, 'completion_tokens_details': {'accepted_prediction_tokens': 0, 'audio_tokens': 0, 'reasoning_tokens': 0, 'rejected_prediction_tokens': 0}, 'prompt_tokens_details': {'audio_tokens': 0, 'cached_tokens': 0}}, 'model_name': 'gpt-4o-mini-2024-07-18', 'system_fingerprint': 'fp_34a54ae93c', 'id': 'chatcmpl-C2B1LxYLxm92snb6UnaO1Cd1bOGb1', 'service_tier': 'default', 'finish_reason': 'tool_calls', 'logprobs': None}, id='run--c6557b38-df2b-4850-acf5-5c5ea695ef87-0', tool_calls=[{'name': 'tavily_search_results_json', 'args': {'query': 'current weather in New York, accuweather'}, 'id': 'call_Xcs9HpOyILWx6tBpbrSpO4Oy'}], usage_metadata={'input_tokens': 150, 'output_tokens': 22, 'total_tokens': 172, 'input_token_details': {'audio': 0, 'cache_read': 0}, 'output_token_details': {'audio': 0, 'reasoning': 0}})]}\n"
     ]
    },
    {
     "data": {
      "text/plain": [
       "{'configurable': {'thread_id': '3',\n",
       "  'checkpoint_ns': '',\n",
       "  'checkpoint_id': '1f074235-3a5f-63dc-8002-205cdd7b7067'}}"
      ]
     },
     "execution_count": 96,
     "metadata": {},
     "output_type": "execute_result"
    }
   ],
   "source": [
    "abot.graph.update_state(thread, current_values.values)"
   ]
  },
  {
   "cell_type": "code",
   "execution_count": 97,
   "id": "76e93cce-6eab-4c7c-ac64-e9993fdb30d6",
   "metadata": {},
   "outputs": [
    {
     "name": "stdout",
     "output_type": "stream",
     "text": [
      "================================\u001b[1m Human Message \u001b[0m=================================\n",
      "\n",
      "Whats the weather in LA?\n",
      "==================================\u001b[1m Ai Message \u001b[0m==================================\n",
      "Tool Calls:\n",
      "  tavily_search_results_json (call_Xcs9HpOyILWx6tBpbrSpO4Oy)\n",
      " Call ID: call_Xcs9HpOyILWx6tBpbrSpO4Oy\n",
      "  Args:\n",
      "    query: current weather in New York, accuweather\n"
     ]
    }
   ],
   "source": [
    "snapshot = abot.graph.get_state(thread)\n",
    "show_messages_in_snapshot(snapshot)"
   ]
  },
  {
   "cell_type": "code",
   "execution_count": 98,
   "id": "fd2d0990-a932-423f-9ff3-5cada58c5f32",
   "metadata": {},
   "outputs": [
    {
     "name": "stdout",
     "output_type": "stream",
     "text": [
      "Calling: {'name': 'tavily_search_results_json', 'args': {'query': 'current weather in New York, accuweather'}, 'id': 'call_Xcs9HpOyILWx6tBpbrSpO4Oy', 'type': 'tool_call'}\n",
      "Back to the model!\n",
      "{'messages': [ToolMessage(content=\"[{'title': 'New York weather in August 2025 - Weather25.com', 'url': 'https://www.weather25.com/north-america/usa/new-york?page=month&month=August', 'content': 'weather25.com\\\\nSearch\\\\nweather in United States\\\\nRemove from your favorite locations\\\\nAdd to my locations\\\\nShare\\\\nweather in United States\\\\n\\\\n# New York weather in August 2025\\\\n\\\\nClear\\\\nClear\\\\nCloudy\\\\nClear\\\\nPatchy light drizzle\\\\nPatchy rain possible\\\\nHeavy rain at times\\\\nPatchy rain possible\\\\nLight rain shower\\\\nOvercast\\\\nClear\\\\nClear\\\\nPatchy light drizzle\\\\nPatchy rain possible\\\\n\\\\n## The average weather in New York in August\\\\n\\\\nThe weather in New York in August is hot. The average temperatures are between 20°C and 28°C. [...] | Sun | Mon | Tue | Wed | Thu | Fri | Sat |\\\\n| --- | --- | --- | --- | --- | --- | --- |\\\\n|  |  |  |  |  | 1 Partly cloudy 28° /17° | 2 Mist 29° /17° |\\\\n| 3 Sunny 29° /17° | 4 Partly cloudy 29° /18° | 5 Partly cloudy 30° /18° | 6 Overcast 29° /18° | 7 Light rain shower 27° /19° | 8 Sunny 30° /17° | 9 Sunny 29° /16° | [...] | 24 Sunny 28° /17° | 25 Partly cloudy 30° /18° | 26 Partly cloudy 29° /17° | 27 Partly cloudy 30° /17° | 28 Moderate or heavy rain shower 27° /18° | 29 Patchy rain possible 25° /18° | 30 Patchy rain possible 28° /17° |\\\\n| 31 Overcast 26° /16° |  |  |  |  |  |  |', 'score': 0.80844593}, {'title': 'New York, NY Monthly Weather', 'url': 'https://www.accuweather.com/en/us/new-york/10021/august-weather/349727', 'content': '# New York, NY\\\\n\\\\nNew York\\\\n\\\\nNew York\\\\n\\\\n## Around the Globe\\\\n\\\\nAround the Globe\\\\n\\\\n### Hurricane Tracker\\\\n\\\\n### Severe Weather\\\\n\\\\n### Radar & Maps\\\\n\\\\n### News & Features\\\\n\\\\n### Astronomy\\\\n\\\\n### Business\\\\n\\\\n### Climate\\\\n\\\\n### Health\\\\n\\\\n### Recreation\\\\n\\\\n### Sports\\\\n\\\\n### Travel\\\\n\\\\n### Warnings\\\\n\\\\n### Data Suite\\\\n\\\\n### Forensics\\\\n\\\\n### Advertising\\\\n\\\\n### Superior Accuracy™\\\\n\\\\n### Video\\\\n\\\\n### Winter Center\\\\n\\\\n## Monthly\\\\n\\\\n## August\\\\n\\\\n## 2025\\\\n\\\\n## Daily\\\\n\\\\n## Temperature Graph\\\\n\\\\n## Further Ahead\\\\n\\\\nFurther Ahead\\\\n\\\\n### September 2025\\\\n\\\\n### October 2025 [...] ### November 2025\\\\n\\\\n## Around the Globe\\\\n\\\\nAround the Globe\\\\n\\\\n### Hurricane Tracker\\\\n\\\\n### Severe Weather\\\\n\\\\n### Radar & Maps\\\\n\\\\n### News\\\\n\\\\n### Video\\\\n\\\\n### Winter Center\\\\n\\\\nTop Stories\\\\n\\\\nWeather Forecasts\\\\n\\\\nFall forecast 2025: Warmth to fuel fires, storms before chill hits US\\\\n\\\\n1 day ago\\\\n\\\\nHurricane\\\\n\\\\nAtlantic to teem with tropical activity, concerns for Caribbean, US\\\\n\\\\n14 hours ago\\\\n\\\\nWeather News\\\\n\\\\nLos Angeles wildfires may be linked to 440 deaths, research estimates\\\\n\\\\n19 hours ago\\\\n\\\\nAstronomy [...] Days are getting shorter: How much daylight disappears in August\\\\n\\\\n13 hours ago\\\\n\\\\nWeather News\\\\n\\\\nRare winter rescue from brutal Antarctica conditions tests flight crew\\\\n\\\\n14 hours ago\\\\n\\\\nFeatured Stories\\\\n\\\\nWeather News\\\\n\\\\nRead the Coast Guard report on the implosion of the Titan submersible\\\\n\\\\n1 day ago\\\\n\\\\nTravel\\\\n\\\\nThe next leg of the fastest transatlantic ocean liner’s journey\\\\n\\\\n19 hours ago\\\\n\\\\nAstronomy\\\\n\\\\nNASA astronaut shares surreal photo of Earth, 3 galaxies\\\\n\\\\n3 days ago\\\\n\\\\nWeather News', 'score': 0.45217365}]\", name='tavily_search_results_json', id='1f6a4803-ff49-4288-8647-942d7ecaebd0', tool_call_id='call_Xcs9HpOyILWx6tBpbrSpO4Oy')]}\n",
      "{'messages': [HumanMessage(content='Whats the weather in LA?', additional_kwargs={}, response_metadata={}, id='3c4a93d8-4504-43be-8f1f-f982bdf91b45'), AIMessage(content='', additional_kwargs={'tool_calls': [{'id': 'call_Xcs9HpOyILWx6tBpbrSpO4Oy', 'function': {'arguments': '{\"query\":\"current weather in Los Angeles\"}', 'name': 'tavily_search_results_json'}, 'type': 'function'}], 'refusal': None}, response_metadata={'token_usage': {'completion_tokens': 22, 'prompt_tokens': 150, 'total_tokens': 172, 'completion_tokens_details': {'accepted_prediction_tokens': 0, 'audio_tokens': 0, 'reasoning_tokens': 0, 'rejected_prediction_tokens': 0}, 'prompt_tokens_details': {'audio_tokens': 0, 'cached_tokens': 0}}, 'model_name': 'gpt-4o-mini-2024-07-18', 'system_fingerprint': 'fp_34a54ae93c', 'id': 'chatcmpl-C2B1LxYLxm92snb6UnaO1Cd1bOGb1', 'service_tier': 'default', 'finish_reason': 'tool_calls', 'logprobs': None}, id='run--c6557b38-df2b-4850-acf5-5c5ea695ef87-0', tool_calls=[{'name': 'tavily_search_results_json', 'args': {'query': 'current weather in New York, accuweather'}, 'id': 'call_Xcs9HpOyILWx6tBpbrSpO4Oy', 'type': 'tool_call'}], usage_metadata={'input_tokens': 150, 'output_tokens': 22, 'total_tokens': 172, 'input_token_details': {'audio': 0, 'cache_read': 0}, 'output_token_details': {'audio': 0, 'reasoning': 0}}), ToolMessage(content=\"[{'title': 'New York weather in August 2025 - Weather25.com', 'url': 'https://www.weather25.com/north-america/usa/new-york?page=month&month=August', 'content': 'weather25.com\\\\nSearch\\\\nweather in United States\\\\nRemove from your favorite locations\\\\nAdd to my locations\\\\nShare\\\\nweather in United States\\\\n\\\\n# New York weather in August 2025\\\\n\\\\nClear\\\\nClear\\\\nCloudy\\\\nClear\\\\nPatchy light drizzle\\\\nPatchy rain possible\\\\nHeavy rain at times\\\\nPatchy rain possible\\\\nLight rain shower\\\\nOvercast\\\\nClear\\\\nClear\\\\nPatchy light drizzle\\\\nPatchy rain possible\\\\n\\\\n## The average weather in New York in August\\\\n\\\\nThe weather in New York in August is hot. The average temperatures are between 20°C and 28°C. [...] | Sun | Mon | Tue | Wed | Thu | Fri | Sat |\\\\n| --- | --- | --- | --- | --- | --- | --- |\\\\n|  |  |  |  |  | 1 Partly cloudy 28° /17° | 2 Mist 29° /17° |\\\\n| 3 Sunny 29° /17° | 4 Partly cloudy 29° /18° | 5 Partly cloudy 30° /18° | 6 Overcast 29° /18° | 7 Light rain shower 27° /19° | 8 Sunny 30° /17° | 9 Sunny 29° /16° | [...] | 24 Sunny 28° /17° | 25 Partly cloudy 30° /18° | 26 Partly cloudy 29° /17° | 27 Partly cloudy 30° /17° | 28 Moderate or heavy rain shower 27° /18° | 29 Patchy rain possible 25° /18° | 30 Patchy rain possible 28° /17° |\\\\n| 31 Overcast 26° /16° |  |  |  |  |  |  |', 'score': 0.80844593}, {'title': 'New York, NY Monthly Weather', 'url': 'https://www.accuweather.com/en/us/new-york/10021/august-weather/349727', 'content': '# New York, NY\\\\n\\\\nNew York\\\\n\\\\nNew York\\\\n\\\\n## Around the Globe\\\\n\\\\nAround the Globe\\\\n\\\\n### Hurricane Tracker\\\\n\\\\n### Severe Weather\\\\n\\\\n### Radar & Maps\\\\n\\\\n### News & Features\\\\n\\\\n### Astronomy\\\\n\\\\n### Business\\\\n\\\\n### Climate\\\\n\\\\n### Health\\\\n\\\\n### Recreation\\\\n\\\\n### Sports\\\\n\\\\n### Travel\\\\n\\\\n### Warnings\\\\n\\\\n### Data Suite\\\\n\\\\n### Forensics\\\\n\\\\n### Advertising\\\\n\\\\n### Superior Accuracy™\\\\n\\\\n### Video\\\\n\\\\n### Winter Center\\\\n\\\\n## Monthly\\\\n\\\\n## August\\\\n\\\\n## 2025\\\\n\\\\n## Daily\\\\n\\\\n## Temperature Graph\\\\n\\\\n## Further Ahead\\\\n\\\\nFurther Ahead\\\\n\\\\n### September 2025\\\\n\\\\n### October 2025 [...] ### November 2025\\\\n\\\\n## Around the Globe\\\\n\\\\nAround the Globe\\\\n\\\\n### Hurricane Tracker\\\\n\\\\n### Severe Weather\\\\n\\\\n### Radar & Maps\\\\n\\\\n### News\\\\n\\\\n### Video\\\\n\\\\n### Winter Center\\\\n\\\\nTop Stories\\\\n\\\\nWeather Forecasts\\\\n\\\\nFall forecast 2025: Warmth to fuel fires, storms before chill hits US\\\\n\\\\n1 day ago\\\\n\\\\nHurricane\\\\n\\\\nAtlantic to teem with tropical activity, concerns for Caribbean, US\\\\n\\\\n14 hours ago\\\\n\\\\nWeather News\\\\n\\\\nLos Angeles wildfires may be linked to 440 deaths, research estimates\\\\n\\\\n19 hours ago\\\\n\\\\nAstronomy [...] Days are getting shorter: How much daylight disappears in August\\\\n\\\\n13 hours ago\\\\n\\\\nWeather News\\\\n\\\\nRare winter rescue from brutal Antarctica conditions tests flight crew\\\\n\\\\n14 hours ago\\\\n\\\\nFeatured Stories\\\\n\\\\nWeather News\\\\n\\\\nRead the Coast Guard report on the implosion of the Titan submersible\\\\n\\\\n1 day ago\\\\n\\\\nTravel\\\\n\\\\nThe next leg of the fastest transatlantic ocean liner’s journey\\\\n\\\\n19 hours ago\\\\n\\\\nAstronomy\\\\n\\\\nNASA astronaut shares surreal photo of Earth, 3 galaxies\\\\n\\\\n3 days ago\\\\n\\\\nWeather News', 'score': 0.45217365}]\", name='tavily_search_results_json', id='1f6a4803-ff49-4288-8647-942d7ecaebd0', tool_call_id='call_Xcs9HpOyILWx6tBpbrSpO4Oy'), AIMessage(content='', additional_kwargs={'tool_calls': [{'id': 'call_SLaSP3TM5jSR5qwyCXJqrThf', 'function': {'arguments': '{\"query\":\"current weather in Los Angeles\"}', 'name': 'tavily_search_results_json'}, 'type': 'function'}], 'refusal': None}, response_metadata={'token_usage': {'completion_tokens': 22, 'prompt_tokens': 1087, 'total_tokens': 1109, 'completion_tokens_details': {'accepted_prediction_tokens': 0, 'audio_tokens': 0, 'reasoning_tokens': 0, 'rejected_prediction_tokens': 0}, 'prompt_tokens_details': {'audio_tokens': 0, 'cached_tokens': 0}}, 'model_name': 'gpt-4o-mini-2024-07-18', 'system_fingerprint': 'fp_34a54ae93c', 'id': 'chatcmpl-C2B9l93bYYQpiTqSxfhqaJ1TAGIo4', 'service_tier': 'default', 'finish_reason': 'tool_calls', 'logprobs': None}, id='run--c1f85461-1cd8-4aa1-b69d-3b37498afe8f-0', tool_calls=[{'name': 'tavily_search_results_json', 'args': {'query': 'current weather in Los Angeles'}, 'id': 'call_SLaSP3TM5jSR5qwyCXJqrThf', 'type': 'tool_call'}], usage_metadata={'input_tokens': 1087, 'output_tokens': 22, 'total_tokens': 1109, 'input_token_details': {'audio': 0, 'cache_read': 0}, 'output_token_details': {'audio': 0, 'reasoning': 0}})]}\n",
      "{'messages': [AIMessage(content='', additional_kwargs={'tool_calls': [{'id': 'call_SLaSP3TM5jSR5qwyCXJqrThf', 'function': {'arguments': '{\"query\":\"current weather in Los Angeles\"}', 'name': 'tavily_search_results_json'}, 'type': 'function'}], 'refusal': None}, response_metadata={'token_usage': {'completion_tokens': 22, 'prompt_tokens': 1087, 'total_tokens': 1109, 'completion_tokens_details': {'accepted_prediction_tokens': 0, 'audio_tokens': 0, 'reasoning_tokens': 0, 'rejected_prediction_tokens': 0}, 'prompt_tokens_details': {'audio_tokens': 0, 'cached_tokens': 0}}, 'model_name': 'gpt-4o-mini-2024-07-18', 'system_fingerprint': 'fp_34a54ae93c', 'id': 'chatcmpl-C2B9l93bYYQpiTqSxfhqaJ1TAGIo4', 'service_tier': 'default', 'finish_reason': 'tool_calls', 'logprobs': None}, id='run--c1f85461-1cd8-4aa1-b69d-3b37498afe8f-0', tool_calls=[{'name': 'tavily_search_results_json', 'args': {'query': 'current weather in Los Angeles'}, 'id': 'call_SLaSP3TM5jSR5qwyCXJqrThf', 'type': 'tool_call'}], usage_metadata={'input_tokens': 1087, 'output_tokens': 22, 'total_tokens': 1109, 'input_token_details': {'audio': 0, 'cache_read': 0}, 'output_token_details': {'audio': 0, 'reasoning': 0}})]}\n",
      "()\n"
     ]
    }
   ],
   "source": [
    "for event in abot.graph.stream(None, thread):\n",
    "    for v in event.values():\n",
    "        print(v)"
   ]
  },
  {
   "cell_type": "markdown",
   "id": "e75b870b-e0df-46f1-b29b-fb151ebcbcc3",
   "metadata": {},
   "source": [
    "## Time Travel"
   ]
  },
  {
   "cell_type": "code",
   "execution_count": 100,
   "id": "27cde654-64e2-48bc-80a9-0ed668ccb7dc",
   "metadata": {},
   "outputs": [
    {
     "name": "stdout",
     "output_type": "stream",
     "text": [
      "snapshot 0\n",
      "================================\u001b[1m Human Message \u001b[0m=================================\n",
      "\n",
      "Whats the weather in LA?\n",
      "==================================\u001b[1m Ai Message \u001b[0m==================================\n",
      "Tool Calls:\n",
      "  tavily_search_results_json (call_Xcs9HpOyILWx6tBpbrSpO4Oy)\n",
      " Call ID: call_Xcs9HpOyILWx6tBpbrSpO4Oy\n",
      "  Args:\n",
      "    query: current weather in New York, accuweather\n",
      "=================================\u001b[1m Tool Message \u001b[0m=================================\n",
      "Name: tavily_search_results_json\n",
      "\n",
      "[{'title': 'New York weather in August 2025 - Weather25.com', 'url': 'https://www.weather25.com/north-america/usa/new-york?page=month&month=August', 'content': 'weather25.com\\nSearch\\nweather in United States\\nRemove from your favorite locations\\nAdd to my locations\\nShare\\nweather in United States\\n\\n# New York weather in August 2025\\n\\nClear\\nClear\\nCloudy\\nClear\\nPatchy light drizzle\\nPatchy rain possible\\nHeavy rain at times\\nPatchy rain possible\\nLight rain shower\\nOvercast\\nClear\\nClear\\nPatchy light drizzle\\nPatchy rain possible\\n\\n## The average weather in New York in August\\n\\nThe weather in New York in August is hot. The average temperatures are between 20°C and 28°C. [...] | Sun | Mon | Tue | Wed | Thu | Fri | Sat |\\n| --- | --- | --- | --- | --- | --- | --- |\\n|  |  |  |  |  | 1 Partly cloudy 28° /17° | 2 Mist 29° /17° |\\n| 3 Sunny 29° /17° | 4 Partly cloudy 29° /18° | 5 Partly cloudy 30° /18° | 6 Overcast 29° /18° | 7 Light rain shower 27° /19° | 8 Sunny 30° /17° | 9 Sunny 29° /16° | [...] | 24 Sunny 28° /17° | 25 Partly cloudy 30° /18° | 26 Partly cloudy 29° /17° | 27 Partly cloudy 30° /17° | 28 Moderate or heavy rain shower 27° /18° | 29 Patchy rain possible 25° /18° | 30 Patchy rain possible 28° /17° |\\n| 31 Overcast 26° /16° |  |  |  |  |  |  |', 'score': 0.80844593}, {'title': 'New York, NY Monthly Weather', 'url': 'https://www.accuweather.com/en/us/new-york/10021/august-weather/349727', 'content': '# New York, NY\\n\\nNew York\\n\\nNew York\\n\\n## Around the Globe\\n\\nAround the Globe\\n\\n### Hurricane Tracker\\n\\n### Severe Weather\\n\\n### Radar & Maps\\n\\n### News & Features\\n\\n### Astronomy\\n\\n### Business\\n\\n### Climate\\n\\n### Health\\n\\n### Recreation\\n\\n### Sports\\n\\n### Travel\\n\\n### Warnings\\n\\n### Data Suite\\n\\n### Forensics\\n\\n### Advertising\\n\\n### Superior Accuracy™\\n\\n### Video\\n\\n### Winter Center\\n\\n## Monthly\\n\\n## August\\n\\n## 2025\\n\\n## Daily\\n\\n## Temperature Graph\\n\\n## Further Ahead\\n\\nFurther Ahead\\n\\n### September 2025\\n\\n### October 2025 [...] ### November 2025\\n\\n## Around the Globe\\n\\nAround the Globe\\n\\n### Hurricane Tracker\\n\\n### Severe Weather\\n\\n### Radar & Maps\\n\\n### News\\n\\n### Video\\n\\n### Winter Center\\n\\nTop Stories\\n\\nWeather Forecasts\\n\\nFall forecast 2025: Warmth to fuel fires, storms before chill hits US\\n\\n1 day ago\\n\\nHurricane\\n\\nAtlantic to teem with tropical activity, concerns for Caribbean, US\\n\\n14 hours ago\\n\\nWeather News\\n\\nLos Angeles wildfires may be linked to 440 deaths, research estimates\\n\\n19 hours ago\\n\\nAstronomy [...] Days are getting shorter: How much daylight disappears in August\\n\\n13 hours ago\\n\\nWeather News\\n\\nRare winter rescue from brutal Antarctica conditions tests flight crew\\n\\n14 hours ago\\n\\nFeatured Stories\\n\\nWeather News\\n\\nRead the Coast Guard report on the implosion of the Titan submersible\\n\\n1 day ago\\n\\nTravel\\n\\nThe next leg of the fastest transatlantic ocean liner’s journey\\n\\n19 hours ago\\n\\nAstronomy\\n\\nNASA astronaut shares surreal photo of Earth, 3 galaxies\\n\\n3 days ago\\n\\nWeather News', 'score': 0.45217365}]\n",
      "==================================\u001b[1m Ai Message \u001b[0m==================================\n",
      "Tool Calls:\n",
      "  tavily_search_results_json (call_SLaSP3TM5jSR5qwyCXJqrThf)\n",
      " Call ID: call_SLaSP3TM5jSR5qwyCXJqrThf\n",
      "  Args:\n",
      "    query: current weather in Los Angeles\n",
      "************************************************************\n",
      "snapshot 1\n",
      "================================\u001b[1m Human Message \u001b[0m=================================\n",
      "\n",
      "Whats the weather in LA?\n",
      "==================================\u001b[1m Ai Message \u001b[0m==================================\n",
      "Tool Calls:\n",
      "  tavily_search_results_json (call_Xcs9HpOyILWx6tBpbrSpO4Oy)\n",
      " Call ID: call_Xcs9HpOyILWx6tBpbrSpO4Oy\n",
      "  Args:\n",
      "    query: current weather in New York, accuweather\n",
      "=================================\u001b[1m Tool Message \u001b[0m=================================\n",
      "Name: tavily_search_results_json\n",
      "\n",
      "[{'title': 'New York weather in August 2025 - Weather25.com', 'url': 'https://www.weather25.com/north-america/usa/new-york?page=month&month=August', 'content': 'weather25.com\\nSearch\\nweather in United States\\nRemove from your favorite locations\\nAdd to my locations\\nShare\\nweather in United States\\n\\n# New York weather in August 2025\\n\\nClear\\nClear\\nCloudy\\nClear\\nPatchy light drizzle\\nPatchy rain possible\\nHeavy rain at times\\nPatchy rain possible\\nLight rain shower\\nOvercast\\nClear\\nClear\\nPatchy light drizzle\\nPatchy rain possible\\n\\n## The average weather in New York in August\\n\\nThe weather in New York in August is hot. The average temperatures are between 20°C and 28°C. [...] | Sun | Mon | Tue | Wed | Thu | Fri | Sat |\\n| --- | --- | --- | --- | --- | --- | --- |\\n|  |  |  |  |  | 1 Partly cloudy 28° /17° | 2 Mist 29° /17° |\\n| 3 Sunny 29° /17° | 4 Partly cloudy 29° /18° | 5 Partly cloudy 30° /18° | 6 Overcast 29° /18° | 7 Light rain shower 27° /19° | 8 Sunny 30° /17° | 9 Sunny 29° /16° | [...] | 24 Sunny 28° /17° | 25 Partly cloudy 30° /18° | 26 Partly cloudy 29° /17° | 27 Partly cloudy 30° /17° | 28 Moderate or heavy rain shower 27° /18° | 29 Patchy rain possible 25° /18° | 30 Patchy rain possible 28° /17° |\\n| 31 Overcast 26° /16° |  |  |  |  |  |  |', 'score': 0.80844593}, {'title': 'New York, NY Monthly Weather', 'url': 'https://www.accuweather.com/en/us/new-york/10021/august-weather/349727', 'content': '# New York, NY\\n\\nNew York\\n\\nNew York\\n\\n## Around the Globe\\n\\nAround the Globe\\n\\n### Hurricane Tracker\\n\\n### Severe Weather\\n\\n### Radar & Maps\\n\\n### News & Features\\n\\n### Astronomy\\n\\n### Business\\n\\n### Climate\\n\\n### Health\\n\\n### Recreation\\n\\n### Sports\\n\\n### Travel\\n\\n### Warnings\\n\\n### Data Suite\\n\\n### Forensics\\n\\n### Advertising\\n\\n### Superior Accuracy™\\n\\n### Video\\n\\n### Winter Center\\n\\n## Monthly\\n\\n## August\\n\\n## 2025\\n\\n## Daily\\n\\n## Temperature Graph\\n\\n## Further Ahead\\n\\nFurther Ahead\\n\\n### September 2025\\n\\n### October 2025 [...] ### November 2025\\n\\n## Around the Globe\\n\\nAround the Globe\\n\\n### Hurricane Tracker\\n\\n### Severe Weather\\n\\n### Radar & Maps\\n\\n### News\\n\\n### Video\\n\\n### Winter Center\\n\\nTop Stories\\n\\nWeather Forecasts\\n\\nFall forecast 2025: Warmth to fuel fires, storms before chill hits US\\n\\n1 day ago\\n\\nHurricane\\n\\nAtlantic to teem with tropical activity, concerns for Caribbean, US\\n\\n14 hours ago\\n\\nWeather News\\n\\nLos Angeles wildfires may be linked to 440 deaths, research estimates\\n\\n19 hours ago\\n\\nAstronomy [...] Days are getting shorter: How much daylight disappears in August\\n\\n13 hours ago\\n\\nWeather News\\n\\nRare winter rescue from brutal Antarctica conditions tests flight crew\\n\\n14 hours ago\\n\\nFeatured Stories\\n\\nWeather News\\n\\nRead the Coast Guard report on the implosion of the Titan submersible\\n\\n1 day ago\\n\\nTravel\\n\\nThe next leg of the fastest transatlantic ocean liner’s journey\\n\\n19 hours ago\\n\\nAstronomy\\n\\nNASA astronaut shares surreal photo of Earth, 3 galaxies\\n\\n3 days ago\\n\\nWeather News', 'score': 0.45217365}]\n",
      "************************************************************\n",
      "snapshot 2\n",
      "================================\u001b[1m Human Message \u001b[0m=================================\n",
      "\n",
      "Whats the weather in LA?\n",
      "==================================\u001b[1m Ai Message \u001b[0m==================================\n",
      "Tool Calls:\n",
      "  tavily_search_results_json (call_Xcs9HpOyILWx6tBpbrSpO4Oy)\n",
      " Call ID: call_Xcs9HpOyILWx6tBpbrSpO4Oy\n",
      "  Args:\n",
      "    query: current weather in New York, accuweather\n",
      "************************************************************\n",
      "snapshot 3\n",
      "================================\u001b[1m Human Message \u001b[0m=================================\n",
      "\n",
      "Whats the weather in LA?\n",
      "==================================\u001b[1m Ai Message \u001b[0m==================================\n",
      "Tool Calls:\n",
      "  tavily_search_results_json (call_Xcs9HpOyILWx6tBpbrSpO4Oy)\n",
      " Call ID: call_Xcs9HpOyILWx6tBpbrSpO4Oy\n",
      "  Args:\n",
      "    query: current weather in Los Angeles\n",
      "************************************************************\n",
      "snapshot 4\n",
      "================================\u001b[1m Human Message \u001b[0m=================================\n",
      "\n",
      "Whats the weather in LA?\n",
      "************************************************************\n",
      "snapshot 5\n",
      "************************************************************\n"
     ]
    }
   ],
   "source": [
    "states = []\n",
    "for index, state in enumerate(abot.graph.get_state_history(thread)):\n",
    "    print(f\"snapshot {index}\")\n",
    "    show_messages_in_snapshot(state)\n",
    "    print('***'*20)\n",
    "    states.append(state)"
   ]
  },
  {
   "cell_type": "markdown",
   "id": "449896c8-6ec6-4166-b640-9cd1530336a0",
   "metadata": {},
   "source": [
    "To fetch the same state as was filmed, the offset below is changed to `-3` from `-1`. This accounts for the initial state `__start__` and the first state that are now stored to state memory with the latest version of software."
   ]
  },
  {
   "cell_type": "code",
   "execution_count": 101,
   "id": "4871f644-b131-4065-b7ce-b82c20a41f11",
   "metadata": {},
   "outputs": [],
   "source": [
    "to_replay = states[-3]"
   ]
  },
  {
   "cell_type": "code",
   "execution_count": 102,
   "id": "8c3d8070-3f36-4cf0-a677-508e54359c8f",
   "metadata": {},
   "outputs": [
    {
     "name": "stdout",
     "output_type": "stream",
     "text": [
      "================================\u001b[1m Human Message \u001b[0m=================================\n",
      "\n",
      "Whats the weather in LA?\n",
      "==================================\u001b[1m Ai Message \u001b[0m==================================\n",
      "Tool Calls:\n",
      "  tavily_search_results_json (call_Xcs9HpOyILWx6tBpbrSpO4Oy)\n",
      " Call ID: call_Xcs9HpOyILWx6tBpbrSpO4Oy\n",
      "  Args:\n",
      "    query: current weather in Los Angeles\n"
     ]
    },
    {
     "data": {
      "text/plain": [
       "{'configurable': {'thread_id': '3',\n",
       "  'checkpoint_ns': '',\n",
       "  'checkpoint_id': '1f074222-b736-655e-8001-caff76f63da6'}}"
      ]
     },
     "execution_count": 102,
     "metadata": {},
     "output_type": "execute_result"
    }
   ],
   "source": [
    "to_replay\n",
    "show_messages_in_snapshot(to_replay)\n",
    "to_replay.config"
   ]
  },
  {
   "cell_type": "code",
   "execution_count": 103,
   "id": "98f3be1d-cc4c-41fa-9863-3e386e88e305",
   "metadata": {},
   "outputs": [
    {
     "name": "stdout",
     "output_type": "stream",
     "text": [
      "Calling: {'name': 'tavily_search_results_json', 'args': {'query': 'current weather in Los Angeles'}, 'id': 'call_Xcs9HpOyILWx6tBpbrSpO4Oy', 'type': 'tool_call'}\n",
      "Back to the model!\n",
      "{'messages': [ToolMessage(content='[{\\'title\\': \\'Weather Forecast and Conditions for Los Angeles, CA\\', \\'url\\': \\'https://weather.com/weather/today/l/Los+Angeles+CA?canonicalCityId=7d3c65d8b80674fb48647ddbc936bb8b\\', \\'content\\': \"© The Weather Company, LLC 2025 [...] ## Recent Locations\\\\n\\\\nMenu\\\\n\\\\n## Weather Forecasts\\\\n\\\\n## Radar & Maps\\\\n\\\\n## News & Media\\\\n\\\\n## Products & Account\\\\n\\\\n## Lifestyle\\\\n\\\\n### Specialty Forecasts\\\\n\\\\n# Los Angeles, CA\\\\n\\\\n## Weather Today in Los Angeles, CA\\\\n\\\\n6:09 am\\\\n\\\\n7:47 pm\\\\n\\\\n# Hourly Weather-Los Angeles, CA\\\\n\\\\n## Now\\\\n\\\\nClear\\\\n\\\\n## 1 am\\\\n\\\\nClear\\\\n\\\\n## 2 am\\\\n\\\\nClear\\\\n\\\\n## 3 am\\\\n\\\\nClear\\\\n\\\\nChart small gif\\\\n\\\\n## Don\\'t Miss\\\\n\\\\n## Seasonal Hub\\\\n\\\\n# 10 Day Weather-Los Angeles, CA\\\\n\\\\n## Tonight\\\\n\\\\n## Night\\\\n\\\\nClear to partly cloudy. Low 64F. Winds light and variable.\\\\n\\\\n## Fri 08\\\\n\\\\n## Day [...] Sunny skies. High around 90F. Winds light and variable.\\\\n\\\\n## Night\\\\n\\\\nPartly cloudy. Low 63F. Winds light and variable.\\\\n\\\\n## Sat 09\\\\n\\\\n## Day\\\\n\\\\nPartly cloudy skies. High 86F. Winds light and variable.\\\\n\\\\n## Night\\\\n\\\\nMainly clear early, then a few clouds later on. Low 62F. Winds light and variable.\\\\n\\\\n## Sun 10\\\\n\\\\n## Day\\\\n\\\\nA few passing clouds, otherwise generally sunny. High 87F. Winds light and variable.\\\\n\\\\n## Night\\\\n\\\\nClear skies. Low around 65F. Winds light and variable.\\\\n\\\\n## Radar\\\\n\\\\n## Travel\", \\'score\\': 0.5455042}, {\\'title\\': \\'Los Angeles, CA Weather Forecast\\', \\'url\\': \\'https://www.accuweather.com/en/us/los-angeles/90012/weather-forecast/347625\\', \\'content\\': \\'Thu\\\\n\\\\n8/14\\\\n\\\\nSunny and less humid\\\\n\\\\nClear\\\\n\\\\nFri\\\\n\\\\n8/15\\\\n\\\\nPlenty of sunshine\\\\n\\\\nMainly clear\\\\n\\\\nSat\\\\n\\\\n8/16\\\\n\\\\nSunny\\\\n\\\\nClear\\\\n\\\\n## Sun & Moon\\\\n\\\\n## Air Quality\\\\n\\\\nThe air has reached a high level of pollution and is unhealthy for sensitive groups. Reduce time spent outside if you are feeling symptoms such as difficulty breathing or throat irritation.\\\\n\\\\n## Allergy Outlook\\\\n\\\\nTop Stories\\\\n\\\\nWeather Forecasts\\\\n\\\\nFall forecast 2025: Warmth to fuel fires, storms before chill hits US\\\\n\\\\n1 day ago\\\\n\\\\nHurricane [...] 11:54 PM\\\\n\\\\n## Los Angeles Weather Radar\\\\n\\\\nLos Angeles Weather Radar\\\\n\\\\n## Hourly Weather\\\\n\\\\nrain drop\\\\n\\\\nrain drop\\\\n\\\\nrain drop\\\\n\\\\nrain drop\\\\n\\\\nrain drop\\\\n\\\\nrain drop\\\\n\\\\nrain drop\\\\n\\\\nrain drop\\\\n\\\\nrain drop\\\\n\\\\nrain drop\\\\n\\\\nrain drop\\\\n\\\\nrain drop\\\\n\\\\n## 10-Day Weather Forecast\\\\n\\\\nTonight\\\\n\\\\n8/7\\\\n\\\\nClear\\\\n\\\\nFri\\\\n\\\\n8/8\\\\n\\\\nWarm with plenty of sun\\\\n\\\\nNight: Clear\\\\n\\\\nSat\\\\n\\\\n8/9\\\\n\\\\nPlenty of sun\\\\n\\\\nClear\\\\n\\\\nSun\\\\n\\\\n8/10\\\\n\\\\nPlenty of sunshine\\\\n\\\\nClear\\\\n\\\\nMon\\\\n\\\\n8/11\\\\n\\\\nPlenty of sunshine\\\\n\\\\nClear\\\\n\\\\nTue\\\\n\\\\n8/12\\\\n\\\\nPlenty of sunshine\\\\n\\\\nClear\\\\n\\\\nWed\\\\n\\\\n8/13\\\\n\\\\nPlenty of sunshine\\\\n\\\\nClear [...] Atlantic to teem with tropical activity, concerns for Caribbean, US\\\\n\\\\n14 hours ago\\\\n\\\\nWeather News\\\\n\\\\nLos Angeles wildfires may be linked to 440 deaths, research estimates\\\\n\\\\n19 hours ago\\\\n\\\\nAstronomy\\\\n\\\\nDays are getting shorter: How much daylight disappears in August\\\\n\\\\n14 hours ago\\\\n\\\\nWeather News\\\\n\\\\nRare winter rescue from brutal Antarctica conditions tests flight crew\\\\n\\\\n14 hours ago\\\\n\\\\nFeatured Stories\\\\n\\\\nWeather News\\\\n\\\\nRead the Coast Guard report on the implosion of the Titan submersible\\\\n\\\\n1 day ago\\\\n\\\\nTravel\\', \\'score\\': 0.528607}]', name='tavily_search_results_json', id='e91df275-ac99-4743-98f6-b193fc60aa4f', tool_call_id='call_Xcs9HpOyILWx6tBpbrSpO4Oy')]}\n",
      "{'messages': [HumanMessage(content='Whats the weather in LA?', additional_kwargs={}, response_metadata={}, id='3c4a93d8-4504-43be-8f1f-f982bdf91b45'), AIMessage(content='', additional_kwargs={'tool_calls': [{'id': 'call_Xcs9HpOyILWx6tBpbrSpO4Oy', 'function': {'arguments': '{\"query\":\"current weather in Los Angeles\"}', 'name': 'tavily_search_results_json'}, 'type': 'function'}], 'refusal': None}, response_metadata={'token_usage': {'completion_tokens': 22, 'prompt_tokens': 150, 'total_tokens': 172, 'completion_tokens_details': {'accepted_prediction_tokens': 0, 'audio_tokens': 0, 'reasoning_tokens': 0, 'rejected_prediction_tokens': 0}, 'prompt_tokens_details': {'audio_tokens': 0, 'cached_tokens': 0}}, 'model_name': 'gpt-4o-mini-2024-07-18', 'system_fingerprint': 'fp_34a54ae93c', 'id': 'chatcmpl-C2B1LxYLxm92snb6UnaO1Cd1bOGb1', 'service_tier': 'default', 'finish_reason': 'tool_calls', 'logprobs': None}, id='run--c6557b38-df2b-4850-acf5-5c5ea695ef87-0', tool_calls=[{'name': 'tavily_search_results_json', 'args': {'query': 'current weather in Los Angeles'}, 'id': 'call_Xcs9HpOyILWx6tBpbrSpO4Oy', 'type': 'tool_call'}], usage_metadata={'input_tokens': 150, 'output_tokens': 22, 'total_tokens': 172, 'input_token_details': {'audio': 0, 'cache_read': 0}, 'output_token_details': {'audio': 0, 'reasoning': 0}}), ToolMessage(content='[{\\'title\\': \\'Weather Forecast and Conditions for Los Angeles, CA\\', \\'url\\': \\'https://weather.com/weather/today/l/Los+Angeles+CA?canonicalCityId=7d3c65d8b80674fb48647ddbc936bb8b\\', \\'content\\': \"© The Weather Company, LLC 2025 [...] ## Recent Locations\\\\n\\\\nMenu\\\\n\\\\n## Weather Forecasts\\\\n\\\\n## Radar & Maps\\\\n\\\\n## News & Media\\\\n\\\\n## Products & Account\\\\n\\\\n## Lifestyle\\\\n\\\\n### Specialty Forecasts\\\\n\\\\n# Los Angeles, CA\\\\n\\\\n## Weather Today in Los Angeles, CA\\\\n\\\\n6:09 am\\\\n\\\\n7:47 pm\\\\n\\\\n# Hourly Weather-Los Angeles, CA\\\\n\\\\n## Now\\\\n\\\\nClear\\\\n\\\\n## 1 am\\\\n\\\\nClear\\\\n\\\\n## 2 am\\\\n\\\\nClear\\\\n\\\\n## 3 am\\\\n\\\\nClear\\\\n\\\\nChart small gif\\\\n\\\\n## Don\\'t Miss\\\\n\\\\n## Seasonal Hub\\\\n\\\\n# 10 Day Weather-Los Angeles, CA\\\\n\\\\n## Tonight\\\\n\\\\n## Night\\\\n\\\\nClear to partly cloudy. Low 64F. Winds light and variable.\\\\n\\\\n## Fri 08\\\\n\\\\n## Day [...] Sunny skies. High around 90F. Winds light and variable.\\\\n\\\\n## Night\\\\n\\\\nPartly cloudy. Low 63F. Winds light and variable.\\\\n\\\\n## Sat 09\\\\n\\\\n## Day\\\\n\\\\nPartly cloudy skies. High 86F. Winds light and variable.\\\\n\\\\n## Night\\\\n\\\\nMainly clear early, then a few clouds later on. Low 62F. Winds light and variable.\\\\n\\\\n## Sun 10\\\\n\\\\n## Day\\\\n\\\\nA few passing clouds, otherwise generally sunny. High 87F. Winds light and variable.\\\\n\\\\n## Night\\\\n\\\\nClear skies. Low around 65F. Winds light and variable.\\\\n\\\\n## Radar\\\\n\\\\n## Travel\", \\'score\\': 0.5455042}, {\\'title\\': \\'Los Angeles, CA Weather Forecast\\', \\'url\\': \\'https://www.accuweather.com/en/us/los-angeles/90012/weather-forecast/347625\\', \\'content\\': \\'Thu\\\\n\\\\n8/14\\\\n\\\\nSunny and less humid\\\\n\\\\nClear\\\\n\\\\nFri\\\\n\\\\n8/15\\\\n\\\\nPlenty of sunshine\\\\n\\\\nMainly clear\\\\n\\\\nSat\\\\n\\\\n8/16\\\\n\\\\nSunny\\\\n\\\\nClear\\\\n\\\\n## Sun & Moon\\\\n\\\\n## Air Quality\\\\n\\\\nThe air has reached a high level of pollution and is unhealthy for sensitive groups. Reduce time spent outside if you are feeling symptoms such as difficulty breathing or throat irritation.\\\\n\\\\n## Allergy Outlook\\\\n\\\\nTop Stories\\\\n\\\\nWeather Forecasts\\\\n\\\\nFall forecast 2025: Warmth to fuel fires, storms before chill hits US\\\\n\\\\n1 day ago\\\\n\\\\nHurricane [...] 11:54 PM\\\\n\\\\n## Los Angeles Weather Radar\\\\n\\\\nLos Angeles Weather Radar\\\\n\\\\n## Hourly Weather\\\\n\\\\nrain drop\\\\n\\\\nrain drop\\\\n\\\\nrain drop\\\\n\\\\nrain drop\\\\n\\\\nrain drop\\\\n\\\\nrain drop\\\\n\\\\nrain drop\\\\n\\\\nrain drop\\\\n\\\\nrain drop\\\\n\\\\nrain drop\\\\n\\\\nrain drop\\\\n\\\\nrain drop\\\\n\\\\n## 10-Day Weather Forecast\\\\n\\\\nTonight\\\\n\\\\n8/7\\\\n\\\\nClear\\\\n\\\\nFri\\\\n\\\\n8/8\\\\n\\\\nWarm with plenty of sun\\\\n\\\\nNight: Clear\\\\n\\\\nSat\\\\n\\\\n8/9\\\\n\\\\nPlenty of sun\\\\n\\\\nClear\\\\n\\\\nSun\\\\n\\\\n8/10\\\\n\\\\nPlenty of sunshine\\\\n\\\\nClear\\\\n\\\\nMon\\\\n\\\\n8/11\\\\n\\\\nPlenty of sunshine\\\\n\\\\nClear\\\\n\\\\nTue\\\\n\\\\n8/12\\\\n\\\\nPlenty of sunshine\\\\n\\\\nClear\\\\n\\\\nWed\\\\n\\\\n8/13\\\\n\\\\nPlenty of sunshine\\\\n\\\\nClear [...] Atlantic to teem with tropical activity, concerns for Caribbean, US\\\\n\\\\n14 hours ago\\\\n\\\\nWeather News\\\\n\\\\nLos Angeles wildfires may be linked to 440 deaths, research estimates\\\\n\\\\n19 hours ago\\\\n\\\\nAstronomy\\\\n\\\\nDays are getting shorter: How much daylight disappears in August\\\\n\\\\n14 hours ago\\\\n\\\\nWeather News\\\\n\\\\nRare winter rescue from brutal Antarctica conditions tests flight crew\\\\n\\\\n14 hours ago\\\\n\\\\nFeatured Stories\\\\n\\\\nWeather News\\\\n\\\\nRead the Coast Guard report on the implosion of the Titan submersible\\\\n\\\\n1 day ago\\\\n\\\\nTravel\\', \\'score\\': 0.528607}]', name='tavily_search_results_json', id='e91df275-ac99-4743-98f6-b193fc60aa4f', tool_call_id='call_Xcs9HpOyILWx6tBpbrSpO4Oy'), AIMessage(content='The current weather in Los Angeles is clear. Tonight, the weather is expected to be clear to partly cloudy with a low around 64°F. \\n\\nFor more detailed weather information, you can check the full forecast on [The Weather Company](https://weather.com/weather/today/l/Los+Angeles+CA?canonicalCityId=7d3c65d8b80674fb48647ddbc936bb8b) or [AccuWeather](https://www.accuweather.com/en/us/los-angeles/90012/weather-forecast/347625).', additional_kwargs={'refusal': None}, response_metadata={'token_usage': {'completion_tokens': 118, 'prompt_tokens': 1097, 'total_tokens': 1215, 'completion_tokens_details': {'accepted_prediction_tokens': 0, 'audio_tokens': 0, 'reasoning_tokens': 0, 'rejected_prediction_tokens': 0}, 'prompt_tokens_details': {'audio_tokens': 0, 'cached_tokens': 0}}, 'model_name': 'gpt-4o-mini-2024-07-18', 'system_fingerprint': 'fp_34a54ae93c', 'id': 'chatcmpl-C2BHUH2tpFD87Kp6q0rqddkXGzGGJ', 'service_tier': 'default', 'finish_reason': 'stop', 'logprobs': None}, id='run--6363a12d-dc63-4015-b0ec-c3afd625422b-0', usage_metadata={'input_tokens': 1097, 'output_tokens': 118, 'total_tokens': 1215, 'input_token_details': {'audio': 0, 'cache_read': 0}, 'output_token_details': {'audio': 0, 'reasoning': 0}})]}\n",
      "{'messages': [AIMessage(content='The current weather in Los Angeles is clear. Tonight, the weather is expected to be clear to partly cloudy with a low around 64°F. \\n\\nFor more detailed weather information, you can check the full forecast on [The Weather Company](https://weather.com/weather/today/l/Los+Angeles+CA?canonicalCityId=7d3c65d8b80674fb48647ddbc936bb8b) or [AccuWeather](https://www.accuweather.com/en/us/los-angeles/90012/weather-forecast/347625).', additional_kwargs={'refusal': None}, response_metadata={'token_usage': {'completion_tokens': 118, 'prompt_tokens': 1097, 'total_tokens': 1215, 'completion_tokens_details': {'accepted_prediction_tokens': 0, 'audio_tokens': 0, 'reasoning_tokens': 0, 'rejected_prediction_tokens': 0}, 'prompt_tokens_details': {'audio_tokens': 0, 'cached_tokens': 0}}, 'model_name': 'gpt-4o-mini-2024-07-18', 'system_fingerprint': 'fp_34a54ae93c', 'id': 'chatcmpl-C2BHUH2tpFD87Kp6q0rqddkXGzGGJ', 'service_tier': 'default', 'finish_reason': 'stop', 'logprobs': None}, id='run--6363a12d-dc63-4015-b0ec-c3afd625422b-0', usage_metadata={'input_tokens': 1097, 'output_tokens': 118, 'total_tokens': 1215, 'input_token_details': {'audio': 0, 'cache_read': 0}, 'output_token_details': {'audio': 0, 'reasoning': 0}})]}\n"
     ]
    }
   ],
   "source": [
    "for event in abot.graph.stream(None, to_replay.config):\n",
    "    for k, v in event.items():\n",
    "        print(v)"
   ]
  },
  {
   "cell_type": "markdown",
   "id": "005353dc-630b-4b40-ab19-56c57ac06611",
   "metadata": {},
   "source": [
    "## Go back in time and edit"
   ]
  },
  {
   "cell_type": "code",
   "execution_count": 114,
   "id": "0ad8a6cc-65d4-4ce7-87aa-4e67d7c23d7b",
   "metadata": {},
   "outputs": [
    {
     "name": "stdout",
     "output_type": "stream",
     "text": [
      "================================\u001b[1m Human Message \u001b[0m=================================\n",
      "\n",
      "Whats the weather in LA?\n",
      "==================================\u001b[1m Ai Message \u001b[0m==================================\n",
      "Tool Calls:\n",
      "  tavily_search_results_json (call_Xcs9HpOyILWx6tBpbrSpO4Oy)\n",
      " Call ID: call_Xcs9HpOyILWx6tBpbrSpO4Oy\n",
      "  Args:\n",
      "    query: current weather in Hanoi, accuweather\n"
     ]
    },
    {
     "data": {
      "text/plain": [
       "{'configurable': {'thread_id': '3',\n",
       "  'checkpoint_ns': '',\n",
       "  'checkpoint_id': '1f074222-b736-655e-8001-caff76f63da6'}}"
      ]
     },
     "execution_count": 114,
     "metadata": {},
     "output_type": "execute_result"
    }
   ],
   "source": [
    "to_replay\n",
    "show_messages_in_snapshot(to_replay)\n",
    "# to_replay.values['messages']\n",
    "to_replay.config\n"
   ]
  },
  {
   "cell_type": "code",
   "execution_count": 113,
   "id": "592b5e62-a203-433c-92a0-3783f490cde1",
   "metadata": {},
   "outputs": [
    {
     "name": "stdout",
     "output_type": "stream",
     "text": [
      "checkpoint_id: call_Xcs9HpOyILWx6tBpbrSpO4Oy\n"
     ]
    }
   ],
   "source": [
    "_id = to_replay.values['messages'][-1].tool_calls[0]['id']\n",
    "to_replay.values['messages'][-1].tool_calls = [{'name': 'tavily_search_results_json',\n",
    "  'args': {'query': 'current weather in Hanoi, accuweather'},\n",
    "  'id': _id}]\n",
    "print(f\"checkpoint_id: {_id}\")"
   ]
  },
  {
   "cell_type": "code",
   "execution_count": 116,
   "id": "14fa923c-7e4f-42d1-965f-0f8ccd50fbd7",
   "metadata": {},
   "outputs": [
    {
     "name": "stdout",
     "output_type": "stream",
     "text": [
      "{'messages': [HumanMessage(content='Whats the weather in LA?', additional_kwargs={}, response_metadata={}, id='3c4a93d8-4504-43be-8f1f-f982bdf91b45'), AIMessage(content='', additional_kwargs={'tool_calls': [{'id': 'call_Xcs9HpOyILWx6tBpbrSpO4Oy', 'function': {'arguments': '{\"query\":\"current weather in Los Angeles\"}', 'name': 'tavily_search_results_json'}, 'type': 'function'}], 'refusal': None}, response_metadata={'token_usage': {'completion_tokens': 22, 'prompt_tokens': 150, 'total_tokens': 172, 'completion_tokens_details': {'accepted_prediction_tokens': 0, 'audio_tokens': 0, 'reasoning_tokens': 0, 'rejected_prediction_tokens': 0}, 'prompt_tokens_details': {'audio_tokens': 0, 'cached_tokens': 0}}, 'model_name': 'gpt-4o-mini-2024-07-18', 'system_fingerprint': 'fp_34a54ae93c', 'id': 'chatcmpl-C2B1LxYLxm92snb6UnaO1Cd1bOGb1', 'service_tier': 'default', 'finish_reason': 'tool_calls', 'logprobs': None}, id='run--c6557b38-df2b-4850-acf5-5c5ea695ef87-0', tool_calls=[{'name': 'tavily_search_results_json', 'args': {'query': 'current weather in Hanoi, accuweather'}, 'id': 'call_Xcs9HpOyILWx6tBpbrSpO4Oy'}], usage_metadata={'input_tokens': 150, 'output_tokens': 22, 'total_tokens': 172, 'input_token_details': {'audio': 0, 'cache_read': 0}, 'output_token_details': {'audio': 0, 'reasoning': 0}})]}\n"
     ]
    }
   ],
   "source": [
    "branch_state = abot.graph.update_state(to_replay.config, to_replay.values)\n",
    "# show_messages_in_snapshot(branch_state)"
   ]
  },
  {
   "cell_type": "code",
   "execution_count": 117,
   "id": "570c6245-2837-4ac5-983b-95f61f3ac10d",
   "metadata": {},
   "outputs": [
    {
     "name": "stdout",
     "output_type": "stream",
     "text": [
      "Calling: {'name': 'tavily_search_results_json', 'args': {'query': 'current weather in Hanoi, accuweather'}, 'id': 'call_Xcs9HpOyILWx6tBpbrSpO4Oy', 'type': 'tool_call'}\n",
      "Back to the model!\n",
      "{'messages': [ToolMessage(content=\"[{'title': 'August - Hanoi, Hanoi, Vietnam Monthly Weather | AccuWeather', 'url': 'https://www.accuweather.com/en/vn/hanoi/353412/august-weather/353412', 'content': 'Get the monthly weather forecast for Hanoi, Hanoi, Vietnam, including daily high/low, historical averages, to help you plan ahead.', 'score': 0.98596}, {'title': 'Hanoi, Hanoi, Vietnam Weather Forecast', 'url': 'https://www.accuweather.com/en/vn/hanoi/353412/weather-forecast/353412', 'content': 'Hanoi, Hanoi, Vietnam Weather Forecast, with current conditions, wind, air quality, and what to expect for the next 3 days.', 'score': 0.98555}]\", name='tavily_search_results_json', id='edb45641-990f-4257-8750-7ad4ce2341a7', tool_call_id='call_Xcs9HpOyILWx6tBpbrSpO4Oy')]}\n",
      "{'messages': [HumanMessage(content='Whats the weather in LA?', additional_kwargs={}, response_metadata={}, id='3c4a93d8-4504-43be-8f1f-f982bdf91b45'), AIMessage(content='', additional_kwargs={'tool_calls': [{'id': 'call_Xcs9HpOyILWx6tBpbrSpO4Oy', 'function': {'arguments': '{\"query\":\"current weather in Los Angeles\"}', 'name': 'tavily_search_results_json'}, 'type': 'function'}], 'refusal': None}, response_metadata={'token_usage': {'completion_tokens': 22, 'prompt_tokens': 150, 'total_tokens': 172, 'completion_tokens_details': {'accepted_prediction_tokens': 0, 'audio_tokens': 0, 'reasoning_tokens': 0, 'rejected_prediction_tokens': 0}, 'prompt_tokens_details': {'audio_tokens': 0, 'cached_tokens': 0}}, 'model_name': 'gpt-4o-mini-2024-07-18', 'system_fingerprint': 'fp_34a54ae93c', 'id': 'chatcmpl-C2B1LxYLxm92snb6UnaO1Cd1bOGb1', 'service_tier': 'default', 'finish_reason': 'tool_calls', 'logprobs': None}, id='run--c6557b38-df2b-4850-acf5-5c5ea695ef87-0', tool_calls=[{'name': 'tavily_search_results_json', 'args': {'query': 'current weather in Hanoi, accuweather'}, 'id': 'call_Xcs9HpOyILWx6tBpbrSpO4Oy', 'type': 'tool_call'}], usage_metadata={'input_tokens': 150, 'output_tokens': 22, 'total_tokens': 172, 'input_token_details': {'audio': 0, 'cache_read': 0}, 'output_token_details': {'audio': 0, 'reasoning': 0}}), ToolMessage(content=\"[{'title': 'August - Hanoi, Hanoi, Vietnam Monthly Weather | AccuWeather', 'url': 'https://www.accuweather.com/en/vn/hanoi/353412/august-weather/353412', 'content': 'Get the monthly weather forecast for Hanoi, Hanoi, Vietnam, including daily high/low, historical averages, to help you plan ahead.', 'score': 0.98596}, {'title': 'Hanoi, Hanoi, Vietnam Weather Forecast', 'url': 'https://www.accuweather.com/en/vn/hanoi/353412/weather-forecast/353412', 'content': 'Hanoi, Hanoi, Vietnam Weather Forecast, with current conditions, wind, air quality, and what to expect for the next 3 days.', 'score': 0.98555}]\", name='tavily_search_results_json', id='edb45641-990f-4257-8750-7ad4ce2341a7', tool_call_id='call_Xcs9HpOyILWx6tBpbrSpO4Oy'), AIMessage(content='', additional_kwargs={'tool_calls': [{'id': 'call_LPYCdEtAuMXmlJy9Lc4uSVPu', 'function': {'arguments': '{\"query\":\"current weather in Los Angeles\"}', 'name': 'tavily_search_results_json'}, 'type': 'function'}], 'refusal': None}, response_metadata={'token_usage': {'completion_tokens': 22, 'prompt_tokens': 354, 'total_tokens': 376, 'completion_tokens_details': {'accepted_prediction_tokens': 0, 'audio_tokens': 0, 'reasoning_tokens': 0, 'rejected_prediction_tokens': 0}, 'prompt_tokens_details': {'audio_tokens': 0, 'cached_tokens': 0}}, 'model_name': 'gpt-4o-mini-2024-07-18', 'system_fingerprint': 'fp_34a54ae93c', 'id': 'chatcmpl-C2BPPUeKz70OFBHooaNbwFIl639sF', 'service_tier': 'default', 'finish_reason': 'tool_calls', 'logprobs': None}, id='run--068eaf57-6a4f-4136-888b-01864f38bf4d-0', tool_calls=[{'name': 'tavily_search_results_json', 'args': {'query': 'current weather in Los Angeles'}, 'id': 'call_LPYCdEtAuMXmlJy9Lc4uSVPu', 'type': 'tool_call'}], usage_metadata={'input_tokens': 354, 'output_tokens': 22, 'total_tokens': 376, 'input_token_details': {'audio': 0, 'cache_read': 0}, 'output_token_details': {'audio': 0, 'reasoning': 0}})]}\n",
      "{'messages': [AIMessage(content='', additional_kwargs={'tool_calls': [{'id': 'call_LPYCdEtAuMXmlJy9Lc4uSVPu', 'function': {'arguments': '{\"query\":\"current weather in Los Angeles\"}', 'name': 'tavily_search_results_json'}, 'type': 'function'}], 'refusal': None}, response_metadata={'token_usage': {'completion_tokens': 22, 'prompt_tokens': 354, 'total_tokens': 376, 'completion_tokens_details': {'accepted_prediction_tokens': 0, 'audio_tokens': 0, 'reasoning_tokens': 0, 'rejected_prediction_tokens': 0}, 'prompt_tokens_details': {'audio_tokens': 0, 'cached_tokens': 0}}, 'model_name': 'gpt-4o-mini-2024-07-18', 'system_fingerprint': 'fp_34a54ae93c', 'id': 'chatcmpl-C2BPPUeKz70OFBHooaNbwFIl639sF', 'service_tier': 'default', 'finish_reason': 'tool_calls', 'logprobs': None}, id='run--068eaf57-6a4f-4136-888b-01864f38bf4d-0', tool_calls=[{'name': 'tavily_search_results_json', 'args': {'query': 'current weather in Los Angeles'}, 'id': 'call_LPYCdEtAuMXmlJy9Lc4uSVPu', 'type': 'tool_call'}], usage_metadata={'input_tokens': 354, 'output_tokens': 22, 'total_tokens': 376, 'input_token_details': {'audio': 0, 'cache_read': 0}, 'output_token_details': {'audio': 0, 'reasoning': 0}})]}\n",
      "()\n"
     ]
    }
   ],
   "source": [
    "for event in abot.graph.stream(None, branch_state):\n",
    "    for k, v in event.items():\n",
    "        if k != \"__end__\":\n",
    "            print(v)"
   ]
  },
  {
   "cell_type": "markdown",
   "id": "f1016ce7-368d-4922-9044-fcdfd47c273b",
   "metadata": {},
   "source": [
    "## Add message to a state at a given time"
   ]
  },
  {
   "cell_type": "code",
   "execution_count": 119,
   "id": "6b910915-b087-4d35-afff-0ec30a5852f1",
   "metadata": {},
   "outputs": [
    {
     "name": "stdout",
     "output_type": "stream",
     "text": [
      "================================\u001b[1m Human Message \u001b[0m=================================\n",
      "\n",
      "Whats the weather in LA?\n",
      "==================================\u001b[1m Ai Message \u001b[0m==================================\n",
      "Tool Calls:\n",
      "  tavily_search_results_json (call_Xcs9HpOyILWx6tBpbrSpO4Oy)\n",
      " Call ID: call_Xcs9HpOyILWx6tBpbrSpO4Oy\n",
      "  Args:\n",
      "    query: current weather in Hanoi, accuweather\n"
     ]
    }
   ],
   "source": [
    "to_replay\n",
    "show_messages_in_snapshot(to_replay)"
   ]
  },
  {
   "cell_type": "code",
   "execution_count": 120,
   "id": "eecbbacd",
   "metadata": {},
   "outputs": [
    {
     "name": "stdout",
     "output_type": "stream",
     "text": [
      "16\n",
      "snapshot 0\n",
      "================================\u001b[1m Human Message \u001b[0m=================================\n",
      "\n",
      "Whats the weather in LA?\n",
      "==================================\u001b[1m Ai Message \u001b[0m==================================\n",
      "Tool Calls:\n",
      "  tavily_search_results_json (call_Xcs9HpOyILWx6tBpbrSpO4Oy)\n",
      " Call ID: call_Xcs9HpOyILWx6tBpbrSpO4Oy\n",
      "  Args:\n",
      "    query: current weather in Hanoi, accuweather\n",
      "=================================\u001b[1m Tool Message \u001b[0m=================================\n",
      "Name: tavily_search_results_json\n",
      "\n",
      "[{'title': 'August - Hanoi, Hanoi, Vietnam Monthly Weather | AccuWeather', 'url': 'https://www.accuweather.com/en/vn/hanoi/353412/august-weather/353412', 'content': 'Get the monthly weather forecast for Hanoi, Hanoi, Vietnam, including daily high/low, historical averages, to help you plan ahead.', 'score': 0.98596}, {'title': 'Hanoi, Hanoi, Vietnam Weather Forecast', 'url': 'https://www.accuweather.com/en/vn/hanoi/353412/weather-forecast/353412', 'content': 'Hanoi, Hanoi, Vietnam Weather Forecast, with current conditions, wind, air quality, and what to expect for the next 3 days.', 'score': 0.98555}]\n",
      "==================================\u001b[1m Ai Message \u001b[0m==================================\n",
      "Tool Calls:\n",
      "  tavily_search_results_json (call_LPYCdEtAuMXmlJy9Lc4uSVPu)\n",
      " Call ID: call_LPYCdEtAuMXmlJy9Lc4uSVPu\n",
      "  Args:\n",
      "    query: current weather in Los Angeles\n",
      "************************************************************\n",
      "snapshot 1\n",
      "================================\u001b[1m Human Message \u001b[0m=================================\n",
      "\n",
      "Whats the weather in LA?\n",
      "==================================\u001b[1m Ai Message \u001b[0m==================================\n",
      "Tool Calls:\n",
      "  tavily_search_results_json (call_Xcs9HpOyILWx6tBpbrSpO4Oy)\n",
      " Call ID: call_Xcs9HpOyILWx6tBpbrSpO4Oy\n",
      "  Args:\n",
      "    query: current weather in Hanoi, accuweather\n",
      "=================================\u001b[1m Tool Message \u001b[0m=================================\n",
      "Name: tavily_search_results_json\n",
      "\n",
      "[{'title': 'August - Hanoi, Hanoi, Vietnam Monthly Weather | AccuWeather', 'url': 'https://www.accuweather.com/en/vn/hanoi/353412/august-weather/353412', 'content': 'Get the monthly weather forecast for Hanoi, Hanoi, Vietnam, including daily high/low, historical averages, to help you plan ahead.', 'score': 0.98596}, {'title': 'Hanoi, Hanoi, Vietnam Weather Forecast', 'url': 'https://www.accuweather.com/en/vn/hanoi/353412/weather-forecast/353412', 'content': 'Hanoi, Hanoi, Vietnam Weather Forecast, with current conditions, wind, air quality, and what to expect for the next 3 days.', 'score': 0.98555}]\n",
      "************************************************************\n",
      "snapshot 2\n",
      "================================\u001b[1m Human Message \u001b[0m=================================\n",
      "\n",
      "Whats the weather in LA?\n",
      "==================================\u001b[1m Ai Message \u001b[0m==================================\n",
      "Tool Calls:\n",
      "  tavily_search_results_json (call_Xcs9HpOyILWx6tBpbrSpO4Oy)\n",
      " Call ID: call_Xcs9HpOyILWx6tBpbrSpO4Oy\n",
      "  Args:\n",
      "    query: current weather in Hanoi, accuweather\n",
      "************************************************************\n",
      "snapshot 3\n",
      "================================\u001b[1m Human Message \u001b[0m=================================\n",
      "\n",
      "Whats the weather in LA?\n",
      "==================================\u001b[1m Ai Message \u001b[0m==================================\n",
      "Tool Calls:\n",
      "  tavily_search_results_json (call_Xcs9HpOyILWx6tBpbrSpO4Oy)\n",
      " Call ID: call_Xcs9HpOyILWx6tBpbrSpO4Oy\n",
      "  Args:\n",
      "    query: current weather in Hanoi, accuweather\n",
      "************************************************************\n",
      "snapshot 4\n",
      "================================\u001b[1m Human Message \u001b[0m=================================\n",
      "\n",
      "Whats the weather in LA?\n",
      "==================================\u001b[1m Ai Message \u001b[0m==================================\n",
      "Tool Calls:\n",
      "  tavily_search_results_json (call_Xcs9HpOyILWx6tBpbrSpO4Oy)\n",
      " Call ID: call_Xcs9HpOyILWx6tBpbrSpO4Oy\n",
      "  Args:\n",
      "    query: current weather in Hanoi, accuweather\n",
      "************************************************************\n",
      "snapshot 5\n",
      "================================\u001b[1m Human Message \u001b[0m=================================\n",
      "\n",
      "Whats the weather in LA?\n",
      "==================================\u001b[1m Ai Message \u001b[0m==================================\n",
      "Tool Calls:\n",
      "  tavily_search_results_json (call_Xcs9HpOyILWx6tBpbrSpO4Oy)\n",
      " Call ID: call_Xcs9HpOyILWx6tBpbrSpO4Oy\n",
      "  Args:\n",
      "    query: current weather in Saigon, accuweather\n",
      "************************************************************\n",
      "snapshot 6\n",
      "================================\u001b[1m Human Message \u001b[0m=================================\n",
      "\n",
      "Whats the weather in LA?\n",
      "==================================\u001b[1m Ai Message \u001b[0m==================================\n",
      "Tool Calls:\n",
      "  tavily_search_results_json (call_Xcs9HpOyILWx6tBpbrSpO4Oy)\n",
      " Call ID: call_Xcs9HpOyILWx6tBpbrSpO4Oy\n",
      "  Args:\n",
      "    query: current weather in Saigon, accuweather\n",
      "************************************************************\n",
      "snapshot 7\n",
      "================================\u001b[1m Human Message \u001b[0m=================================\n",
      "\n",
      "Whats the weather in LA?\n",
      "==================================\u001b[1m Ai Message \u001b[0m==================================\n",
      "Tool Calls:\n",
      "  tavily_search_results_json (call_Xcs9HpOyILWx6tBpbrSpO4Oy)\n",
      " Call ID: call_Xcs9HpOyILWx6tBpbrSpO4Oy\n",
      "  Args:\n",
      "    query: current weather in Saigon, accuweather\n",
      "************************************************************\n",
      "snapshot 8\n",
      "================================\u001b[1m Human Message \u001b[0m=================================\n",
      "\n",
      "Whats the weather in LA?\n",
      "==================================\u001b[1m Ai Message \u001b[0m==================================\n",
      "Tool Calls:\n",
      "  tavily_search_results_json (call_Xcs9HpOyILWx6tBpbrSpO4Oy)\n",
      " Call ID: call_Xcs9HpOyILWx6tBpbrSpO4Oy\n",
      "  Args:\n",
      "    query: current weather in Los Angeles\n",
      "=================================\u001b[1m Tool Message \u001b[0m=================================\n",
      "Name: tavily_search_results_json\n",
      "\n",
      "[{'title': 'Weather Forecast and Conditions for Los Angeles, CA', 'url': 'https://weather.com/weather/today/l/Los+Angeles+CA?canonicalCityId=7d3c65d8b80674fb48647ddbc936bb8b', 'content': \"© The Weather Company, LLC 2025 [...] ## Recent Locations\\n\\nMenu\\n\\n## Weather Forecasts\\n\\n## Radar & Maps\\n\\n## News & Media\\n\\n## Products & Account\\n\\n## Lifestyle\\n\\n### Specialty Forecasts\\n\\n# Los Angeles, CA\\n\\n## Weather Today in Los Angeles, CA\\n\\n6:09 am\\n\\n7:47 pm\\n\\n# Hourly Weather-Los Angeles, CA\\n\\n## Now\\n\\nClear\\n\\n## 1 am\\n\\nClear\\n\\n## 2 am\\n\\nClear\\n\\n## 3 am\\n\\nClear\\n\\nChart small gif\\n\\n## Don't Miss\\n\\n## Seasonal Hub\\n\\n# 10 Day Weather-Los Angeles, CA\\n\\n## Tonight\\n\\n## Night\\n\\nClear to partly cloudy. Low 64F. Winds light and variable.\\n\\n## Fri 08\\n\\n## Day [...] Sunny skies. High around 90F. Winds light and variable.\\n\\n## Night\\n\\nPartly cloudy. Low 63F. Winds light and variable.\\n\\n## Sat 09\\n\\n## Day\\n\\nPartly cloudy skies. High 86F. Winds light and variable.\\n\\n## Night\\n\\nMainly clear early, then a few clouds later on. Low 62F. Winds light and variable.\\n\\n## Sun 10\\n\\n## Day\\n\\nA few passing clouds, otherwise generally sunny. High 87F. Winds light and variable.\\n\\n## Night\\n\\nClear skies. Low around 65F. Winds light and variable.\\n\\n## Radar\\n\\n## Travel\", 'score': 0.5455042}, {'title': 'Los Angeles, CA Weather Forecast', 'url': 'https://www.accuweather.com/en/us/los-angeles/90012/weather-forecast/347625', 'content': 'Thu\\n\\n8/14\\n\\nSunny and less humid\\n\\nClear\\n\\nFri\\n\\n8/15\\n\\nPlenty of sunshine\\n\\nMainly clear\\n\\nSat\\n\\n8/16\\n\\nSunny\\n\\nClear\\n\\n## Sun & Moon\\n\\n## Air Quality\\n\\nThe air has reached a high level of pollution and is unhealthy for sensitive groups. Reduce time spent outside if you are feeling symptoms such as difficulty breathing or throat irritation.\\n\\n## Allergy Outlook\\n\\nTop Stories\\n\\nWeather Forecasts\\n\\nFall forecast 2025: Warmth to fuel fires, storms before chill hits US\\n\\n1 day ago\\n\\nHurricane [...] 11:54 PM\\n\\n## Los Angeles Weather Radar\\n\\nLos Angeles Weather Radar\\n\\n## Hourly Weather\\n\\nrain drop\\n\\nrain drop\\n\\nrain drop\\n\\nrain drop\\n\\nrain drop\\n\\nrain drop\\n\\nrain drop\\n\\nrain drop\\n\\nrain drop\\n\\nrain drop\\n\\nrain drop\\n\\nrain drop\\n\\n## 10-Day Weather Forecast\\n\\nTonight\\n\\n8/7\\n\\nClear\\n\\nFri\\n\\n8/8\\n\\nWarm with plenty of sun\\n\\nNight: Clear\\n\\nSat\\n\\n8/9\\n\\nPlenty of sun\\n\\nClear\\n\\nSun\\n\\n8/10\\n\\nPlenty of sunshine\\n\\nClear\\n\\nMon\\n\\n8/11\\n\\nPlenty of sunshine\\n\\nClear\\n\\nTue\\n\\n8/12\\n\\nPlenty of sunshine\\n\\nClear\\n\\nWed\\n\\n8/13\\n\\nPlenty of sunshine\\n\\nClear [...] Atlantic to teem with tropical activity, concerns for Caribbean, US\\n\\n14 hours ago\\n\\nWeather News\\n\\nLos Angeles wildfires may be linked to 440 deaths, research estimates\\n\\n19 hours ago\\n\\nAstronomy\\n\\nDays are getting shorter: How much daylight disappears in August\\n\\n14 hours ago\\n\\nWeather News\\n\\nRare winter rescue from brutal Antarctica conditions tests flight crew\\n\\n14 hours ago\\n\\nFeatured Stories\\n\\nWeather News\\n\\nRead the Coast Guard report on the implosion of the Titan submersible\\n\\n1 day ago\\n\\nTravel', 'score': 0.528607}]\n",
      "==================================\u001b[1m Ai Message \u001b[0m==================================\n",
      "\n",
      "The current weather in Los Angeles is clear. Tonight, the weather is expected to be clear to partly cloudy with a low around 64°F. \n",
      "\n",
      "For more detailed weather information, you can check the full forecast on [The Weather Company](https://weather.com/weather/today/l/Los+Angeles+CA?canonicalCityId=7d3c65d8b80674fb48647ddbc936bb8b) or [AccuWeather](https://www.accuweather.com/en/us/los-angeles/90012/weather-forecast/347625).\n",
      "************************************************************\n",
      "snapshot 9\n",
      "================================\u001b[1m Human Message \u001b[0m=================================\n",
      "\n",
      "Whats the weather in LA?\n",
      "==================================\u001b[1m Ai Message \u001b[0m==================================\n",
      "Tool Calls:\n",
      "  tavily_search_results_json (call_Xcs9HpOyILWx6tBpbrSpO4Oy)\n",
      " Call ID: call_Xcs9HpOyILWx6tBpbrSpO4Oy\n",
      "  Args:\n",
      "    query: current weather in Los Angeles\n",
      "=================================\u001b[1m Tool Message \u001b[0m=================================\n",
      "Name: tavily_search_results_json\n",
      "\n",
      "[{'title': 'Weather Forecast and Conditions for Los Angeles, CA', 'url': 'https://weather.com/weather/today/l/Los+Angeles+CA?canonicalCityId=7d3c65d8b80674fb48647ddbc936bb8b', 'content': \"© The Weather Company, LLC 2025 [...] ## Recent Locations\\n\\nMenu\\n\\n## Weather Forecasts\\n\\n## Radar & Maps\\n\\n## News & Media\\n\\n## Products & Account\\n\\n## Lifestyle\\n\\n### Specialty Forecasts\\n\\n# Los Angeles, CA\\n\\n## Weather Today in Los Angeles, CA\\n\\n6:09 am\\n\\n7:47 pm\\n\\n# Hourly Weather-Los Angeles, CA\\n\\n## Now\\n\\nClear\\n\\n## 1 am\\n\\nClear\\n\\n## 2 am\\n\\nClear\\n\\n## 3 am\\n\\nClear\\n\\nChart small gif\\n\\n## Don't Miss\\n\\n## Seasonal Hub\\n\\n# 10 Day Weather-Los Angeles, CA\\n\\n## Tonight\\n\\n## Night\\n\\nClear to partly cloudy. Low 64F. Winds light and variable.\\n\\n## Fri 08\\n\\n## Day [...] Sunny skies. High around 90F. Winds light and variable.\\n\\n## Night\\n\\nPartly cloudy. Low 63F. Winds light and variable.\\n\\n## Sat 09\\n\\n## Day\\n\\nPartly cloudy skies. High 86F. Winds light and variable.\\n\\n## Night\\n\\nMainly clear early, then a few clouds later on. Low 62F. Winds light and variable.\\n\\n## Sun 10\\n\\n## Day\\n\\nA few passing clouds, otherwise generally sunny. High 87F. Winds light and variable.\\n\\n## Night\\n\\nClear skies. Low around 65F. Winds light and variable.\\n\\n## Radar\\n\\n## Travel\", 'score': 0.5455042}, {'title': 'Los Angeles, CA Weather Forecast', 'url': 'https://www.accuweather.com/en/us/los-angeles/90012/weather-forecast/347625', 'content': 'Thu\\n\\n8/14\\n\\nSunny and less humid\\n\\nClear\\n\\nFri\\n\\n8/15\\n\\nPlenty of sunshine\\n\\nMainly clear\\n\\nSat\\n\\n8/16\\n\\nSunny\\n\\nClear\\n\\n## Sun & Moon\\n\\n## Air Quality\\n\\nThe air has reached a high level of pollution and is unhealthy for sensitive groups. Reduce time spent outside if you are feeling symptoms such as difficulty breathing or throat irritation.\\n\\n## Allergy Outlook\\n\\nTop Stories\\n\\nWeather Forecasts\\n\\nFall forecast 2025: Warmth to fuel fires, storms before chill hits US\\n\\n1 day ago\\n\\nHurricane [...] 11:54 PM\\n\\n## Los Angeles Weather Radar\\n\\nLos Angeles Weather Radar\\n\\n## Hourly Weather\\n\\nrain drop\\n\\nrain drop\\n\\nrain drop\\n\\nrain drop\\n\\nrain drop\\n\\nrain drop\\n\\nrain drop\\n\\nrain drop\\n\\nrain drop\\n\\nrain drop\\n\\nrain drop\\n\\nrain drop\\n\\n## 10-Day Weather Forecast\\n\\nTonight\\n\\n8/7\\n\\nClear\\n\\nFri\\n\\n8/8\\n\\nWarm with plenty of sun\\n\\nNight: Clear\\n\\nSat\\n\\n8/9\\n\\nPlenty of sun\\n\\nClear\\n\\nSun\\n\\n8/10\\n\\nPlenty of sunshine\\n\\nClear\\n\\nMon\\n\\n8/11\\n\\nPlenty of sunshine\\n\\nClear\\n\\nTue\\n\\n8/12\\n\\nPlenty of sunshine\\n\\nClear\\n\\nWed\\n\\n8/13\\n\\nPlenty of sunshine\\n\\nClear [...] Atlantic to teem with tropical activity, concerns for Caribbean, US\\n\\n14 hours ago\\n\\nWeather News\\n\\nLos Angeles wildfires may be linked to 440 deaths, research estimates\\n\\n19 hours ago\\n\\nAstronomy\\n\\nDays are getting shorter: How much daylight disappears in August\\n\\n14 hours ago\\n\\nWeather News\\n\\nRare winter rescue from brutal Antarctica conditions tests flight crew\\n\\n14 hours ago\\n\\nFeatured Stories\\n\\nWeather News\\n\\nRead the Coast Guard report on the implosion of the Titan submersible\\n\\n1 day ago\\n\\nTravel', 'score': 0.528607}]\n",
      "************************************************************\n",
      "snapshot 10\n",
      "================================\u001b[1m Human Message \u001b[0m=================================\n",
      "\n",
      "Whats the weather in LA?\n",
      "==================================\u001b[1m Ai Message \u001b[0m==================================\n",
      "Tool Calls:\n",
      "  tavily_search_results_json (call_Xcs9HpOyILWx6tBpbrSpO4Oy)\n",
      " Call ID: call_Xcs9HpOyILWx6tBpbrSpO4Oy\n",
      "  Args:\n",
      "    query: current weather in New York, accuweather\n",
      "=================================\u001b[1m Tool Message \u001b[0m=================================\n",
      "Name: tavily_search_results_json\n",
      "\n",
      "[{'title': 'New York weather in August 2025 - Weather25.com', 'url': 'https://www.weather25.com/north-america/usa/new-york?page=month&month=August', 'content': 'weather25.com\\nSearch\\nweather in United States\\nRemove from your favorite locations\\nAdd to my locations\\nShare\\nweather in United States\\n\\n# New York weather in August 2025\\n\\nClear\\nClear\\nCloudy\\nClear\\nPatchy light drizzle\\nPatchy rain possible\\nHeavy rain at times\\nPatchy rain possible\\nLight rain shower\\nOvercast\\nClear\\nClear\\nPatchy light drizzle\\nPatchy rain possible\\n\\n## The average weather in New York in August\\n\\nThe weather in New York in August is hot. The average temperatures are between 20°C and 28°C. [...] | Sun | Mon | Tue | Wed | Thu | Fri | Sat |\\n| --- | --- | --- | --- | --- | --- | --- |\\n|  |  |  |  |  | 1 Partly cloudy 28° /17° | 2 Mist 29° /17° |\\n| 3 Sunny 29° /17° | 4 Partly cloudy 29° /18° | 5 Partly cloudy 30° /18° | 6 Overcast 29° /18° | 7 Light rain shower 27° /19° | 8 Sunny 30° /17° | 9 Sunny 29° /16° | [...] | 24 Sunny 28° /17° | 25 Partly cloudy 30° /18° | 26 Partly cloudy 29° /17° | 27 Partly cloudy 30° /17° | 28 Moderate or heavy rain shower 27° /18° | 29 Patchy rain possible 25° /18° | 30 Patchy rain possible 28° /17° |\\n| 31 Overcast 26° /16° |  |  |  |  |  |  |', 'score': 0.80844593}, {'title': 'New York, NY Monthly Weather', 'url': 'https://www.accuweather.com/en/us/new-york/10021/august-weather/349727', 'content': '# New York, NY\\n\\nNew York\\n\\nNew York\\n\\n## Around the Globe\\n\\nAround the Globe\\n\\n### Hurricane Tracker\\n\\n### Severe Weather\\n\\n### Radar & Maps\\n\\n### News & Features\\n\\n### Astronomy\\n\\n### Business\\n\\n### Climate\\n\\n### Health\\n\\n### Recreation\\n\\n### Sports\\n\\n### Travel\\n\\n### Warnings\\n\\n### Data Suite\\n\\n### Forensics\\n\\n### Advertising\\n\\n### Superior Accuracy™\\n\\n### Video\\n\\n### Winter Center\\n\\n## Monthly\\n\\n## August\\n\\n## 2025\\n\\n## Daily\\n\\n## Temperature Graph\\n\\n## Further Ahead\\n\\nFurther Ahead\\n\\n### September 2025\\n\\n### October 2025 [...] ### November 2025\\n\\n## Around the Globe\\n\\nAround the Globe\\n\\n### Hurricane Tracker\\n\\n### Severe Weather\\n\\n### Radar & Maps\\n\\n### News\\n\\n### Video\\n\\n### Winter Center\\n\\nTop Stories\\n\\nWeather Forecasts\\n\\nFall forecast 2025: Warmth to fuel fires, storms before chill hits US\\n\\n1 day ago\\n\\nHurricane\\n\\nAtlantic to teem with tropical activity, concerns for Caribbean, US\\n\\n14 hours ago\\n\\nWeather News\\n\\nLos Angeles wildfires may be linked to 440 deaths, research estimates\\n\\n19 hours ago\\n\\nAstronomy [...] Days are getting shorter: How much daylight disappears in August\\n\\n13 hours ago\\n\\nWeather News\\n\\nRare winter rescue from brutal Antarctica conditions tests flight crew\\n\\n14 hours ago\\n\\nFeatured Stories\\n\\nWeather News\\n\\nRead the Coast Guard report on the implosion of the Titan submersible\\n\\n1 day ago\\n\\nTravel\\n\\nThe next leg of the fastest transatlantic ocean liner’s journey\\n\\n19 hours ago\\n\\nAstronomy\\n\\nNASA astronaut shares surreal photo of Earth, 3 galaxies\\n\\n3 days ago\\n\\nWeather News', 'score': 0.45217365}]\n",
      "==================================\u001b[1m Ai Message \u001b[0m==================================\n",
      "Tool Calls:\n",
      "  tavily_search_results_json (call_SLaSP3TM5jSR5qwyCXJqrThf)\n",
      " Call ID: call_SLaSP3TM5jSR5qwyCXJqrThf\n",
      "  Args:\n",
      "    query: current weather in Los Angeles\n",
      "************************************************************\n",
      "snapshot 11\n",
      "================================\u001b[1m Human Message \u001b[0m=================================\n",
      "\n",
      "Whats the weather in LA?\n",
      "==================================\u001b[1m Ai Message \u001b[0m==================================\n",
      "Tool Calls:\n",
      "  tavily_search_results_json (call_Xcs9HpOyILWx6tBpbrSpO4Oy)\n",
      " Call ID: call_Xcs9HpOyILWx6tBpbrSpO4Oy\n",
      "  Args:\n",
      "    query: current weather in New York, accuweather\n",
      "=================================\u001b[1m Tool Message \u001b[0m=================================\n",
      "Name: tavily_search_results_json\n",
      "\n",
      "[{'title': 'New York weather in August 2025 - Weather25.com', 'url': 'https://www.weather25.com/north-america/usa/new-york?page=month&month=August', 'content': 'weather25.com\\nSearch\\nweather in United States\\nRemove from your favorite locations\\nAdd to my locations\\nShare\\nweather in United States\\n\\n# New York weather in August 2025\\n\\nClear\\nClear\\nCloudy\\nClear\\nPatchy light drizzle\\nPatchy rain possible\\nHeavy rain at times\\nPatchy rain possible\\nLight rain shower\\nOvercast\\nClear\\nClear\\nPatchy light drizzle\\nPatchy rain possible\\n\\n## The average weather in New York in August\\n\\nThe weather in New York in August is hot. The average temperatures are between 20°C and 28°C. [...] | Sun | Mon | Tue | Wed | Thu | Fri | Sat |\\n| --- | --- | --- | --- | --- | --- | --- |\\n|  |  |  |  |  | 1 Partly cloudy 28° /17° | 2 Mist 29° /17° |\\n| 3 Sunny 29° /17° | 4 Partly cloudy 29° /18° | 5 Partly cloudy 30° /18° | 6 Overcast 29° /18° | 7 Light rain shower 27° /19° | 8 Sunny 30° /17° | 9 Sunny 29° /16° | [...] | 24 Sunny 28° /17° | 25 Partly cloudy 30° /18° | 26 Partly cloudy 29° /17° | 27 Partly cloudy 30° /17° | 28 Moderate or heavy rain shower 27° /18° | 29 Patchy rain possible 25° /18° | 30 Patchy rain possible 28° /17° |\\n| 31 Overcast 26° /16° |  |  |  |  |  |  |', 'score': 0.80844593}, {'title': 'New York, NY Monthly Weather', 'url': 'https://www.accuweather.com/en/us/new-york/10021/august-weather/349727', 'content': '# New York, NY\\n\\nNew York\\n\\nNew York\\n\\n## Around the Globe\\n\\nAround the Globe\\n\\n### Hurricane Tracker\\n\\n### Severe Weather\\n\\n### Radar & Maps\\n\\n### News & Features\\n\\n### Astronomy\\n\\n### Business\\n\\n### Climate\\n\\n### Health\\n\\n### Recreation\\n\\n### Sports\\n\\n### Travel\\n\\n### Warnings\\n\\n### Data Suite\\n\\n### Forensics\\n\\n### Advertising\\n\\n### Superior Accuracy™\\n\\n### Video\\n\\n### Winter Center\\n\\n## Monthly\\n\\n## August\\n\\n## 2025\\n\\n## Daily\\n\\n## Temperature Graph\\n\\n## Further Ahead\\n\\nFurther Ahead\\n\\n### September 2025\\n\\n### October 2025 [...] ### November 2025\\n\\n## Around the Globe\\n\\nAround the Globe\\n\\n### Hurricane Tracker\\n\\n### Severe Weather\\n\\n### Radar & Maps\\n\\n### News\\n\\n### Video\\n\\n### Winter Center\\n\\nTop Stories\\n\\nWeather Forecasts\\n\\nFall forecast 2025: Warmth to fuel fires, storms before chill hits US\\n\\n1 day ago\\n\\nHurricane\\n\\nAtlantic to teem with tropical activity, concerns for Caribbean, US\\n\\n14 hours ago\\n\\nWeather News\\n\\nLos Angeles wildfires may be linked to 440 deaths, research estimates\\n\\n19 hours ago\\n\\nAstronomy [...] Days are getting shorter: How much daylight disappears in August\\n\\n13 hours ago\\n\\nWeather News\\n\\nRare winter rescue from brutal Antarctica conditions tests flight crew\\n\\n14 hours ago\\n\\nFeatured Stories\\n\\nWeather News\\n\\nRead the Coast Guard report on the implosion of the Titan submersible\\n\\n1 day ago\\n\\nTravel\\n\\nThe next leg of the fastest transatlantic ocean liner’s journey\\n\\n19 hours ago\\n\\nAstronomy\\n\\nNASA astronaut shares surreal photo of Earth, 3 galaxies\\n\\n3 days ago\\n\\nWeather News', 'score': 0.45217365}]\n",
      "************************************************************\n",
      "snapshot 12\n",
      "================================\u001b[1m Human Message \u001b[0m=================================\n",
      "\n",
      "Whats the weather in LA?\n",
      "==================================\u001b[1m Ai Message \u001b[0m==================================\n",
      "Tool Calls:\n",
      "  tavily_search_results_json (call_Xcs9HpOyILWx6tBpbrSpO4Oy)\n",
      " Call ID: call_Xcs9HpOyILWx6tBpbrSpO4Oy\n",
      "  Args:\n",
      "    query: current weather in New York, accuweather\n",
      "************************************************************\n",
      "snapshot 13\n",
      "================================\u001b[1m Human Message \u001b[0m=================================\n",
      "\n",
      "Whats the weather in LA?\n",
      "==================================\u001b[1m Ai Message \u001b[0m==================================\n",
      "Tool Calls:\n",
      "  tavily_search_results_json (call_Xcs9HpOyILWx6tBpbrSpO4Oy)\n",
      " Call ID: call_Xcs9HpOyILWx6tBpbrSpO4Oy\n",
      "  Args:\n",
      "    query: current weather in Los Angeles\n",
      "************************************************************\n",
      "snapshot 14\n",
      "================================\u001b[1m Human Message \u001b[0m=================================\n",
      "\n",
      "Whats the weather in LA?\n",
      "************************************************************\n",
      "snapshot 15\n",
      "************************************************************\n"
     ]
    }
   ],
   "source": [
    "snapshots = list(abot.graph.get_state_history(thread))\n",
    "print(len(snapshots))\n",
    "for index, snapshot in enumerate(snapshots):\n",
    "    print(f\"snapshot {index}\")\n",
    "    show_messages_in_snapshot(snapshot)\n",
    "    print('***'*20)"
   ]
  },
  {
   "cell_type": "code",
   "execution_count": 121,
   "id": "c4feb6cc-5129-4a99-bb45-851bc07b5709",
   "metadata": {},
   "outputs": [],
   "source": [
    "_id = to_replay.values['messages'][-1].tool_calls[0]['id']"
   ]
  },
  {
   "cell_type": "code",
   "execution_count": 122,
   "id": "e85a02b4-96cc-4b01-8792-397a774eb499",
   "metadata": {},
   "outputs": [],
   "source": [
    "state_update = {\"messages\": [ToolMessage(\n",
    "    tool_call_id=_id,\n",
    "    name=\"tavily_search_results_json\",\n",
    "    content=\"54 degree celcius\",\n",
    ")]}"
   ]
  },
  {
   "cell_type": "code",
   "execution_count": 124,
   "id": "ae8b86a6-5e20-4252-b1d8-009b8318345a",
   "metadata": {},
   "outputs": [],
   "source": [
    "branch_and_add = abot.graph.update_state(\n",
    "    to_replay.config, \n",
    "    state_update, \n",
    "    as_node=\"action\")"
   ]
  },
  {
   "cell_type": "code",
   "execution_count": 125,
   "id": "af925917-b746-48c9-ac74-62fefbe5246c",
   "metadata": {},
   "outputs": [
    {
     "name": "stdout",
     "output_type": "stream",
     "text": [
      "{'messages': [HumanMessage(content='Whats the weather in LA?', additional_kwargs={}, response_metadata={}, id='3c4a93d8-4504-43be-8f1f-f982bdf91b45'), AIMessage(content='', additional_kwargs={'tool_calls': [{'id': 'call_Xcs9HpOyILWx6tBpbrSpO4Oy', 'function': {'arguments': '{\"query\":\"current weather in Los Angeles\"}', 'name': 'tavily_search_results_json'}, 'type': 'function'}], 'refusal': None}, response_metadata={'token_usage': {'completion_tokens': 22, 'prompt_tokens': 150, 'total_tokens': 172, 'completion_tokens_details': {'accepted_prediction_tokens': 0, 'audio_tokens': 0, 'reasoning_tokens': 0, 'rejected_prediction_tokens': 0}, 'prompt_tokens_details': {'audio_tokens': 0, 'cached_tokens': 0}}, 'model_name': 'gpt-4o-mini-2024-07-18', 'system_fingerprint': 'fp_34a54ae93c', 'id': 'chatcmpl-C2B1LxYLxm92snb6UnaO1Cd1bOGb1', 'service_tier': 'default', 'finish_reason': 'tool_calls', 'logprobs': None}, id='run--c6557b38-df2b-4850-acf5-5c5ea695ef87-0', tool_calls=[{'name': 'tavily_search_results_json', 'args': {'query': 'current weather in Los Angeles'}, 'id': 'call_Xcs9HpOyILWx6tBpbrSpO4Oy', 'type': 'tool_call'}], usage_metadata={'input_tokens': 150, 'output_tokens': 22, 'total_tokens': 172, 'input_token_details': {'audio': 0, 'cache_read': 0}, 'output_token_details': {'audio': 0, 'reasoning': 0}}), ToolMessage(content='54 degree celcius', name='tavily_search_results_json', id='d592ae95-f5c3-480a-b5e0-ce0c24d61f96', tool_call_id='call_Xcs9HpOyILWx6tBpbrSpO4Oy'), AIMessage(content='The current weather in Los Angeles is 54 degrees Celsius. However, this temperature seems unusually high for Los Angeles. Would you like me to verify this information or check for more specific weather details?', additional_kwargs={'refusal': None}, response_metadata={'token_usage': {'completion_tokens': 40, 'prompt_tokens': 188, 'total_tokens': 228, 'completion_tokens_details': {'accepted_prediction_tokens': 0, 'audio_tokens': 0, 'reasoning_tokens': 0, 'rejected_prediction_tokens': 0}, 'prompt_tokens_details': {'audio_tokens': 0, 'cached_tokens': 0}}, 'model_name': 'gpt-4o-mini-2024-07-18', 'system_fingerprint': 'fp_34a54ae93c', 'id': 'chatcmpl-C2BVuqyktym2BuNtH9wVhGPpMgUcm', 'service_tier': 'default', 'finish_reason': 'stop', 'logprobs': None}, id='run--69b2ca7d-e41c-4af3-b2f2-202b619ba746-0', usage_metadata={'input_tokens': 188, 'output_tokens': 40, 'total_tokens': 228, 'input_token_details': {'audio': 0, 'cache_read': 0}, 'output_token_details': {'audio': 0, 'reasoning': 0}})]}\n",
      "{'messages': [AIMessage(content='The current weather in Los Angeles is 54 degrees Celsius. However, this temperature seems unusually high for Los Angeles. Would you like me to verify this information or check for more specific weather details?', additional_kwargs={'refusal': None}, response_metadata={'token_usage': {'completion_tokens': 40, 'prompt_tokens': 188, 'total_tokens': 228, 'completion_tokens_details': {'accepted_prediction_tokens': 0, 'audio_tokens': 0, 'reasoning_tokens': 0, 'rejected_prediction_tokens': 0}, 'prompt_tokens_details': {'audio_tokens': 0, 'cached_tokens': 0}}, 'model_name': 'gpt-4o-mini-2024-07-18', 'system_fingerprint': 'fp_34a54ae93c', 'id': 'chatcmpl-C2BVuqyktym2BuNtH9wVhGPpMgUcm', 'service_tier': 'default', 'finish_reason': 'stop', 'logprobs': None}, id='run--69b2ca7d-e41c-4af3-b2f2-202b619ba746-0', usage_metadata={'input_tokens': 188, 'output_tokens': 40, 'total_tokens': 228, 'input_token_details': {'audio': 0, 'cache_read': 0}, 'output_token_details': {'audio': 0, 'reasoning': 0}})]}\n"
     ]
    }
   ],
   "source": [
    "for event in abot.graph.stream(None, branch_and_add):\n",
    "    for k, v in event.items():\n",
    "        print(v)"
   ]
  },
  {
   "cell_type": "markdown",
   "id": "a6b1de51-f1dd-4719-89e6-01c21d2b304e",
   "metadata": {},
   "source": [
    "# Extra Practice"
   ]
  },
  {
   "cell_type": "markdown",
   "id": "31e06033-59fd-4d6b-8891-fb8bc2d7a037",
   "metadata": {},
   "source": [
    "## Build a small graph\n",
    "This is a small simple graph you can tinker with if you want more insight into controlling state memory."
   ]
  },
  {
   "cell_type": "code",
   "execution_count": 126,
   "id": "7614683e-1c13-4518-b464-263fb91be761",
   "metadata": {},
   "outputs": [],
   "source": [
    "from dotenv import load_dotenv\n",
    "\n",
    "_ = load_dotenv()"
   ]
  },
  {
   "cell_type": "code",
   "execution_count": 127,
   "id": "efbef86a-75fe-416f-99ab-70b181d934dc",
   "metadata": {},
   "outputs": [],
   "source": [
    "from langgraph.graph import StateGraph, END\n",
    "from typing import TypedDict, Annotated\n",
    "import operator\n",
    "from langgraph.checkpoint.sqlite import SqliteSaver"
   ]
  },
  {
   "cell_type": "markdown",
   "id": "67c972f7-5a14-49da-9d82-37105a6637ed",
   "metadata": {},
   "source": [
    "Define a simple 2 node graph with the following state:\n",
    "-`lnode`: last node\n",
    "-`scratch`: a scratchpad location\n",
    "-`count` : a counter that is incremented each step"
   ]
  },
  {
   "cell_type": "code",
   "execution_count": 128,
   "id": "b846f637-5e98-4a7d-9ca0-5144302b7cef",
   "metadata": {},
   "outputs": [],
   "source": [
    "class AgentState(TypedDict):\n",
    "    lnode: str\n",
    "    scratch: str\n",
    "    count: Annotated[int, operator.add]"
   ]
  },
  {
   "cell_type": "code",
   "execution_count": 129,
   "id": "b8bb1c6d-41b7-4f5b-807b-ecbdec82d8d6",
   "metadata": {},
   "outputs": [],
   "source": [
    "def node1(state: AgentState):\n",
    "    print(f\"node1, count:{state['count']}\")\n",
    "    return {\"lnode\": \"node_1\",\n",
    "            \"count\": 1,\n",
    "           }\n",
    "def node2(state: AgentState):\n",
    "    print(f\"node2, count:{state['count']}\")\n",
    "    return {\"lnode\": \"node_2\",\n",
    "            \"count\": 1,\n",
    "           }"
   ]
  },
  {
   "cell_type": "markdown",
   "id": "6adc403b-10d2-4a6c-bd21-c84bb8e0c8fc",
   "metadata": {},
   "source": [
    "The graph goes N1->N2->N1... but breaks after count reaches 3."
   ]
  },
  {
   "cell_type": "code",
   "execution_count": 130,
   "id": "b2c6d249-4793-41c5-8e80-40f1eedc4baf",
   "metadata": {},
   "outputs": [],
   "source": [
    "def should_continue(state):\n",
    "    return state[\"count\"] < 3"
   ]
  },
  {
   "cell_type": "code",
   "execution_count": 131,
   "id": "4e3721d9-4508-48fa-9be0-93af20144072",
   "metadata": {},
   "outputs": [
    {
     "data": {
      "text/plain": [
       "<langgraph.graph.state.StateGraph at 0x220a3c2e310>"
      ]
     },
     "execution_count": 131,
     "metadata": {},
     "output_type": "execute_result"
    }
   ],
   "source": [
    "builder = StateGraph(AgentState)\n",
    "builder.add_node(\"Node1\", node1)\n",
    "builder.add_node(\"Node2\", node2)\n",
    "\n",
    "builder.add_edge(\"Node1\", \"Node2\")\n",
    "builder.add_conditional_edges(\"Node2\", \n",
    "                              should_continue, \n",
    "                              {True: \"Node1\", False: END})\n",
    "builder.set_entry_point(\"Node1\")"
   ]
  },
  {
   "cell_type": "code",
   "execution_count": 135,
   "id": "8d35d70c-daeb-49c1-9b7c-90cc2a7ca142",
   "metadata": {},
   "outputs": [],
   "source": [
    "conn = sqlite3.connect(\"checkpoints_simple.sqlite\", check_same_thread=False)\n",
    "memory = SqliteSaver(conn=conn)\n",
    "graph = builder.compile(checkpointer=memory)"
   ]
  },
  {
   "cell_type": "code",
   "execution_count": 140,
   "id": "25164d14",
   "metadata": {},
   "outputs": [
    {
     "data": {
      "image/png": "[encoded data removed]",
      "text/plain": [
       "<langgraph.graph.state.CompiledStateGraph object at 0x00000220A56F4B90>"
      ]
     },
     "execution_count": 140,
     "metadata": {},
     "output_type": "execute_result"
    }
   ],
   "source": [
    "graph"
   ]
  },
  {
   "cell_type": "markdown",
   "id": "c57051f5-f7fb-4be5-a2f5-21cb1aa4fecb",
   "metadata": {},
   "source": [
    "### Run it!\n",
    "Now, set the thread and run!"
   ]
  },
  {
   "cell_type": "code",
   "execution_count": 136,
   "id": "edba3a1a-84a7-45eb-a6ee-74a612b68d54",
   "metadata": {},
   "outputs": [
    {
     "name": "stdout",
     "output_type": "stream",
     "text": [
      "node1, count:0\n",
      "node2, count:1\n",
      "node1, count:2\n",
      "node2, count:3\n"
     ]
    },
    {
     "data": {
      "text/plain": [
       "{'lnode': 'node_2', 'scratch': 'hi', 'count': 4}"
      ]
     },
     "execution_count": 136,
     "metadata": {},
     "output_type": "execute_result"
    }
   ],
   "source": [
    "thread = {\"configurable\": {\"thread_id\": str(1)}}\n",
    "graph.invoke({\"count\":0, \"scratch\":\"hi\"},thread)"
   ]
  },
  {
   "cell_type": "markdown",
   "id": "2ce7b035-bfdb-4642-8750-47d188277423",
   "metadata": {},
   "source": [
    "### Look at current state"
   ]
  },
  {
   "cell_type": "markdown",
   "id": "43324904-a6f4-4299-86de-e0218e4cb225",
   "metadata": {},
   "source": [
    "Get the current state. Note the `values` which are the AgentState. Note the `config` and the `thread_ts`. You will be using those to refer to snapshots below."
   ]
  },
  {
   "cell_type": "code",
   "execution_count": 141,
   "id": "f2513b41-31b2-46e6-84f6-0c519f697973",
   "metadata": {},
   "outputs": [
    {
     "name": "stdout",
     "output_type": "stream",
     "text": [
      "State: {'count': 0}\n",
      "************************************************************\n"
     ]
    }
   ],
   "source": [
    "snapshot = graph.get_state(thread)\n",
    "def show_state_in_snapshot(snapshot):\n",
    "    print(f\"State: {state.values}\")\n",
    "    print(\"***\"*20)\n",
    "show_state_in_snapshot(snapshot)"
   ]
  },
  {
   "cell_type": "markdown",
   "id": "7f7be4ae-24f0-4362-bd99-55ad38fe0112",
   "metadata": {},
   "source": [
    "View all the statesnapshots in memory. You can use the displayed `count` agentstate variable to help track what you see. Notice the most recent snapshots are returned by the iterator first. Also note that there is a handy `step` variable in the metadata that counts the number of steps in the graph execution. This is a bit detailed - but you can also notice that the *parent_config* is the *config* of the previous node. At initial startup, additional states are inserted into memory to create a parent. This is something to check when you branch or *time travel* below."
   ]
  },
  {
   "cell_type": "markdown",
   "id": "18647be0-c7c6-4ec5-9454-54a034fcd053",
   "metadata": {},
   "source": [
    "### Look at state history"
   ]
  },
  {
   "cell_type": "code",
   "execution_count": 143,
   "id": "686fa197-c97f-4ae6-82d2-938bbe5542c1",
   "metadata": {},
   "outputs": [
    {
     "name": "stdout",
     "output_type": "stream",
     "text": [
      "State: {'lnode': 'node_2', 'scratch': 'hi', 'count': 4}\n",
      "************************************************************\n",
      "State: {'lnode': 'node_1', 'scratch': 'hi', 'count': 3}\n",
      "************************************************************\n",
      "State: {'lnode': 'node_2', 'scratch': 'hi', 'count': 2}\n",
      "************************************************************\n",
      "State: {'lnode': 'node_1', 'scratch': 'hi', 'count': 1}\n",
      "************************************************************\n",
      "State: {'scratch': 'hi', 'count': 0}\n",
      "************************************************************\n",
      "State: {'count': 0}\n",
      "************************************************************\n"
     ]
    }
   ],
   "source": [
    "for state in graph.get_state_history(thread):\n",
    "    show_state_in_snapshot(state)\n",
    "    # print(state, \"\\n\")"
   ]
  },
  {
   "cell_type": "markdown",
   "id": "dd7850ff-0748-43d7-8956-074fa9fd819f",
   "metadata": {},
   "source": [
    "Store just the `config` into an list. Note the sequence of counts on the right. `get_state_history` returns the most recent snapshots first."
   ]
  },
  {
   "cell_type": "code",
   "execution_count": 144,
   "id": "9f68e604-4f53-46c0-8f06-e7726ec9dcf6",
   "metadata": {},
   "outputs": [
    {
     "name": "stdout",
     "output_type": "stream",
     "text": [
      "{'configurable': {'thread_id': '1', 'checkpoint_ns': '', 'checkpoint_id': '1f074271-1304-65fc-8004-29e55ec53eca'}} 4\n",
      "{'configurable': {'thread_id': '1', 'checkpoint_ns': '', 'checkpoint_id': '1f074271-1301-6ef8-8003-836753407bea'}} 3\n",
      "{'configurable': {'thread_id': '1', 'checkpoint_ns': '', 'checkpoint_id': '1f074271-12fd-60a2-8002-7679ae77a784'}} 2\n",
      "{'configurable': {'thread_id': '1', 'checkpoint_ns': '', 'checkpoint_id': '1f074271-12f5-62db-8001-02e5ff013ca8'}} 1\n",
      "{'configurable': {'thread_id': '1', 'checkpoint_ns': '', 'checkpoint_id': '1f074271-12f5-62da-8000-d5e9ca8eba1c'}} 0\n",
      "{'configurable': {'thread_id': '1', 'checkpoint_ns': '', 'checkpoint_id': '1f074271-12f5-62d9-bfff-984924eaa013'}} 0\n"
     ]
    }
   ],
   "source": [
    "states = []\n",
    "for state in graph.get_state_history(thread):\n",
    "    states.append(state.config)\n",
    "    print(state.config, state.values['count'])"
   ]
  },
  {
   "cell_type": "markdown",
   "id": "90790095-4080-4e76-b538-47caac7d9699",
   "metadata": {},
   "source": [
    "Grab an early state."
   ]
  },
  {
   "cell_type": "code",
   "execution_count": 145,
   "id": "e1db574e-f158-44cf-b921-f1f4466c314d",
   "metadata": {},
   "outputs": [
    {
     "data": {
      "text/plain": [
       "{'configurable': {'thread_id': '1',\n",
       "  'checkpoint_ns': '',\n",
       "  'checkpoint_id': '1f074271-12f5-62db-8001-02e5ff013ca8'}}"
      ]
     },
     "execution_count": 145,
     "metadata": {},
     "output_type": "execute_result"
    }
   ],
   "source": [
    "states[-3]"
   ]
  },
  {
   "cell_type": "markdown",
   "id": "2cc233eb-f388-4ecd-bfb5-dac3568d37ce",
   "metadata": {},
   "source": [
    "This is the state after Node1 completed for the first time. Note `next` is `Node2`and `count` is 1."
   ]
  },
  {
   "cell_type": "code",
   "execution_count": 146,
   "id": "240f5039-7916-4c2a-88d5-d363b2898e70",
   "metadata": {},
   "outputs": [
    {
     "name": "stdout",
     "output_type": "stream",
     "text": [
      "State: {'lnode': 'node_1', 'scratch': 'hi', 'count': 1}\n",
      "************************************************************\n"
     ]
    }
   ],
   "source": [
    "state = graph.get_state(states[-3])\n",
    "show_state_in_snapshot(state)"
   ]
  },
  {
   "cell_type": "markdown",
   "id": "4872468e-4d23-4840-ae14-c06c1ab4f161",
   "metadata": {},
   "source": [
    "### Go Back in Time\n",
    "Use that state in `invoke` to go back in time. Notice it uses states[-3] as *current_state* and continues to node2,"
   ]
  },
  {
   "cell_type": "code",
   "execution_count": 147,
   "id": "e3049179-b901-4557-a9c4-78afb3d53d27",
   "metadata": {},
   "outputs": [
    {
     "name": "stdout",
     "output_type": "stream",
     "text": [
      "node2, count:1\n",
      "node1, count:2\n",
      "node2, count:3\n"
     ]
    },
    {
     "data": {
      "text/plain": [
       "{'lnode': 'node_2', 'scratch': 'hi', 'count': 4}"
      ]
     },
     "execution_count": 147,
     "metadata": {},
     "output_type": "execute_result"
    }
   ],
   "source": [
    "graph.invoke(None, states[-3])"
   ]
  },
  {
   "cell_type": "markdown",
   "id": "5bf7789a-df3d-4c7e-8899-d96a99d45717",
   "metadata": {},
   "source": [
    "Notice the new states are now in state history. Notice the counts on the far right."
   ]
  },
  {
   "cell_type": "code",
   "execution_count": 148,
   "id": "37fa44ec-9bd1-484b-a415-cc5f50b6e799",
   "metadata": {},
   "outputs": [
    {
     "name": "stdout",
     "output_type": "stream",
     "text": [
      "{'configurable': {'thread_id': '1', 'checkpoint_ns': '', 'checkpoint_id': '1f074285-114b-6613-8004-b0f593f3c5dc'}} 4\n",
      "{'configurable': {'thread_id': '1', 'checkpoint_ns': '', 'checkpoint_id': '1f074285-1148-6d45-8003-07e96e31d8f1'}} 3\n",
      "{'configurable': {'thread_id': '1', 'checkpoint_ns': '', 'checkpoint_id': '1f074285-1143-691d-8002-6dba5830e603'}} 2\n",
      "{'configurable': {'thread_id': '1', 'checkpoint_ns': '', 'checkpoint_id': '1f074271-1304-65fc-8004-29e55ec53eca'}} 4\n",
      "{'configurable': {'thread_id': '1', 'checkpoint_ns': '', 'checkpoint_id': '1f074271-1301-6ef8-8003-836753407bea'}} 3\n",
      "{'configurable': {'thread_id': '1', 'checkpoint_ns': '', 'checkpoint_id': '1f074271-12fd-60a2-8002-7679ae77a784'}} 2\n",
      "{'configurable': {'thread_id': '1', 'checkpoint_ns': '', 'checkpoint_id': '1f074271-12f5-62db-8001-02e5ff013ca8'}} 1\n",
      "{'configurable': {'thread_id': '1', 'checkpoint_ns': '', 'checkpoint_id': '1f074271-12f5-62da-8000-d5e9ca8eba1c'}} 0\n",
      "{'configurable': {'thread_id': '1', 'checkpoint_ns': '', 'checkpoint_id': '1f074271-12f5-62d9-bfff-984924eaa013'}} 0\n"
     ]
    }
   ],
   "source": [
    "thread = {\"configurable\": {\"thread_id\": str(1)}}\n",
    "for state in graph.get_state_history(thread):\n",
    "    print(state.config, state.values['count'])"
   ]
  },
  {
   "cell_type": "markdown",
   "id": "d3c8d305-6752-4cf6-a8cb-7babf3bbd643",
   "metadata": {},
   "source": [
    "You can see the details below. Lots of text, but try to find the node that start the new branch. Notice the parent *config* is not the previous entry in the stack, but is the entry from state[-3]."
   ]
  },
  {
   "cell_type": "code",
   "execution_count": 149,
   "id": "07d25697-fcf0-4a26-9485-3e195b0af225",
   "metadata": {},
   "outputs": [
    {
     "name": "stdout",
     "output_type": "stream",
     "text": [
      "StateSnapshot(values={'lnode': 'node_2', 'scratch': 'hi', 'count': 4}, next=(), config={'configurable': {'thread_id': '1', 'checkpoint_ns': '', 'checkpoint_id': '1f074285-114b-6613-8004-b0f593f3c5dc'}}, metadata={'source': 'loop', 'step': 4, 'parents': {}}, created_at='2025-08-08T07:21:35.631105+00:00', parent_config={'configurable': {'thread_id': '1', 'checkpoint_ns': '', 'checkpoint_id': '1f074285-1148-6d45-8003-07e96e31d8f1'}}, tasks=(), interrupts=()) \n",
      "\n",
      "StateSnapshot(values={'lnode': 'node_1', 'scratch': 'hi', 'count': 3}, next=('Node2',), config={'configurable': {'thread_id': '1', 'checkpoint_ns': '', 'checkpoint_id': '1f074285-1148-6d45-8003-07e96e31d8f1'}}, metadata={'source': 'loop', 'step': 3, 'parents': {}}, created_at='2025-08-08T07:21:35.630061+00:00', parent_config={'configurable': {'thread_id': '1', 'checkpoint_ns': '', 'checkpoint_id': '1f074285-1143-691d-8002-6dba5830e603'}}, tasks=(PregelTask(id='4da5f1aa-604d-588e-e232-2622dc21b928', name='Node2', path=('__pregel_pull', 'Node2'), error=None, interrupts=(), state=None, result={'lnode': 'node_2', 'count': 1}),), interrupts=()) \n",
      "\n",
      "StateSnapshot(values={'lnode': 'node_2', 'scratch': 'hi', 'count': 2}, next=('Node1',), config={'configurable': {'thread_id': '1', 'checkpoint_ns': '', 'checkpoint_id': '1f074285-1143-691d-8002-6dba5830e603'}}, metadata={'source': 'loop', 'step': 2, 'parents': {}}, created_at='2025-08-08T07:21:35.627906+00:00', parent_config={'configurable': {'thread_id': '1', 'checkpoint_ns': '', 'checkpoint_id': '1f074271-12f5-62db-8001-02e5ff013ca8'}}, tasks=(PregelTask(id='192d1eee-b772-b21f-b55f-871e17bd1c58', name='Node1', path=('__pregel_pull', 'Node1'), error=None, interrupts=(), state=None, result={'lnode': 'node_1', 'count': 1}),), interrupts=()) \n",
      "\n",
      "StateSnapshot(values={'lnode': 'node_2', 'scratch': 'hi', 'count': 4}, next=(), config={'configurable': {'thread_id': '1', 'checkpoint_ns': '', 'checkpoint_id': '1f074271-1304-65fc-8004-29e55ec53eca'}}, metadata={'source': 'loop', 'step': 4, 'parents': {}}, created_at='2025-08-08T07:12:38.940825+00:00', parent_config={'configurable': {'thread_id': '1', 'checkpoint_ns': '', 'checkpoint_id': '1f074271-1301-6ef8-8003-836753407bea'}}, tasks=(), interrupts=()) \n",
      "\n",
      "StateSnapshot(values={'lnode': 'node_1', 'scratch': 'hi', 'count': 3}, next=('Node2',), config={'configurable': {'thread_id': '1', 'checkpoint_ns': '', 'checkpoint_id': '1f074271-1301-6ef8-8003-836753407bea'}}, metadata={'source': 'loop', 'step': 3, 'parents': {}}, created_at='2025-08-08T07:12:38.939826+00:00', parent_config={'configurable': {'thread_id': '1', 'checkpoint_ns': '', 'checkpoint_id': '1f074271-12fd-60a2-8002-7679ae77a784'}}, tasks=(PregelTask(id='85d94752-3502-2a7e-22b4-daac810409c9', name='Node2', path=('__pregel_pull', 'Node2'), error=None, interrupts=(), state=None, result={'lnode': 'node_2', 'count': 1}),), interrupts=()) \n",
      "\n",
      "StateSnapshot(values={'lnode': 'node_2', 'scratch': 'hi', 'count': 2}, next=('Node1',), config={'configurable': {'thread_id': '1', 'checkpoint_ns': '', 'checkpoint_id': '1f074271-12fd-60a2-8002-7679ae77a784'}}, metadata={'source': 'loop', 'step': 2, 'parents': {}}, created_at='2025-08-08T07:12:38.937821+00:00', parent_config={'configurable': {'thread_id': '1', 'checkpoint_ns': '', 'checkpoint_id': '1f074271-12f5-62db-8001-02e5ff013ca8'}}, tasks=(PregelTask(id='41a15f3e-26dc-039a-7bee-44239a52e271', name='Node1', path=('__pregel_pull', 'Node1'), error=None, interrupts=(), state=None, result={'lnode': 'node_1', 'count': 1}),), interrupts=()) \n",
      "\n",
      "StateSnapshot(values={'lnode': 'node_1', 'scratch': 'hi', 'count': 1}, next=('Node2',), config={'configurable': {'thread_id': '1', 'checkpoint_ns': '', 'checkpoint_id': '1f074271-12f5-62db-8001-02e5ff013ca8'}}, metadata={'source': 'loop', 'step': 1, 'parents': {}}, created_at='2025-08-08T07:12:38.934600+00:00', parent_config={'configurable': {'thread_id': '1', 'checkpoint_ns': '', 'checkpoint_id': '1f074271-12f5-62da-8000-d5e9ca8eba1c'}}, tasks=(PregelTask(id='6b938b97-d76d-5c02-306e-054798acb046', name='Node2', path=('__pregel_pull', 'Node2'), error=None, interrupts=(), state=None, result={'lnode': 'node_2', 'count': 1}),), interrupts=()) \n",
      "\n",
      "StateSnapshot(values={'scratch': 'hi', 'count': 0}, next=('Node1',), config={'configurable': {'thread_id': '1', 'checkpoint_ns': '', 'checkpoint_id': '1f074271-12f5-62da-8000-d5e9ca8eba1c'}}, metadata={'source': 'loop', 'step': 0, 'parents': {}}, created_at='2025-08-08T07:12:38.934600+00:00', parent_config={'configurable': {'thread_id': '1', 'checkpoint_ns': '', 'checkpoint_id': '1f074271-12f5-62d9-bfff-984924eaa013'}}, tasks=(PregelTask(id='807da588-717c-59ae-3ae0-277e9d00635a', name='Node1', path=('__pregel_pull', 'Node1'), error=None, interrupts=(), state=None, result={'lnode': 'node_1', 'count': 1}),), interrupts=()) \n",
      "\n",
      "StateSnapshot(values={'count': 0}, next=('__start__',), config={'configurable': {'thread_id': '1', 'checkpoint_ns': '', 'checkpoint_id': '1f074271-12f5-62d9-bfff-984924eaa013'}}, metadata={'source': 'input', 'step': -1, 'parents': {}}, created_at='2025-08-08T07:12:38.934600+00:00', parent_config=None, tasks=(PregelTask(id='fc5a8f62-49cc-f9c5-362f-7314db3f9a20', name='__start__', path=('__pregel_pull', '__start__'), error=None, interrupts=(), state=None, result={'count': 0, 'scratch': 'hi'}),), interrupts=()) \n",
      "\n"
     ]
    }
   ],
   "source": [
    "thread = {\"configurable\": {\"thread_id\": str(1)}}\n",
    "for state in graph.get_state_history(thread):\n",
    "    print(state,\"\\n\")"
   ]
  },
  {
   "cell_type": "markdown",
   "id": "d4653f91-761c-4185-8ca2-83de758308c7",
   "metadata": {},
   "source": [
    "### Modify State\n",
    "Let's start by starting a fresh thread and running to clean out history."
   ]
  },
  {
   "cell_type": "code",
   "execution_count": 150,
   "id": "0eaf346c-ce22-4b6a-b18f-d200dfd991de",
   "metadata": {},
   "outputs": [
    {
     "name": "stdout",
     "output_type": "stream",
     "text": [
      "node1, count:0\n",
      "node2, count:1\n",
      "node1, count:2\n",
      "node2, count:3\n"
     ]
    },
    {
     "data": {
      "text/plain": [
       "{'lnode': 'node_2', 'scratch': 'hi', 'count': 4}"
      ]
     },
     "execution_count": 150,
     "metadata": {},
     "output_type": "execute_result"
    }
   ],
   "source": [
    "thread2 = {\"configurable\": {\"thread_id\": str(2)}}\n",
    "graph.invoke({\"count\":0, \"scratch\":\"hi\"},thread2)"
   ]
  },
  {
   "cell_type": "code",
   "execution_count": 152,
   "id": "90fc1797-25e6-4931-b173-2e520b71c372",
   "metadata": {},
   "outputs": [
    {
     "data": {
      "image/png": "[encoded data removed]",
      "text/plain": [
       "<IPython.core.display.Image object>"
      ]
     },
     "execution_count": 152,
     "metadata": {},
     "output_type": "execute_result"
    }
   ],
   "source": [
    "from IPython.display import Image\n",
    "\n",
    "Image(graph.get_graph().draw_mermaid_png())"
   ]
  },
  {
   "cell_type": "code",
   "execution_count": 153,
   "id": "4ede9215-3133-4ad9-8dd5-6a8288ebe055",
   "metadata": {},
   "outputs": [
    {
     "name": "stdout",
     "output_type": "stream",
     "text": [
      "{'configurable': {'thread_id': '2', 'checkpoint_ns': '', 'checkpoint_id': '1f074287-3371-6f42-8004-123c3ab8d998'}} 4\n",
      "{'configurable': {'thread_id': '2', 'checkpoint_ns': '', 'checkpoint_id': '1f074287-336f-6605-8003-e632ee298e05'}} 3\n",
      "{'configurable': {'thread_id': '2', 'checkpoint_ns': '', 'checkpoint_id': '1f074287-336c-6d4a-8002-adbec1108656'}} 2\n",
      "{'configurable': {'thread_id': '2', 'checkpoint_ns': '', 'checkpoint_id': '1f074287-3365-6230-8001-60a173136130'}} 1\n",
      "{'configurable': {'thread_id': '2', 'checkpoint_ns': '', 'checkpoint_id': '1f074287-3362-67a6-8000-3a84d9416b68'}} 0\n",
      "{'configurable': {'thread_id': '2', 'checkpoint_ns': '', 'checkpoint_id': '1f074287-335e-6438-bfff-ed6cdcc801b5'}} 0\n"
     ]
    }
   ],
   "source": [
    "states2 = []\n",
    "for state in graph.get_state_history(thread2):\n",
    "    states2.append(state.config)\n",
    "    print(state.config, state.values['count'])   "
   ]
  },
  {
   "cell_type": "markdown",
   "id": "23ab2c5f-cb1d-4851-8925-ce0af1f12a40",
   "metadata": {},
   "source": [
    "Start by grabbing a state."
   ]
  },
  {
   "cell_type": "code",
   "execution_count": 154,
   "id": "65313f6a-c7a9-49e3-aab2-0eb905e74a91",
   "metadata": {},
   "outputs": [
    {
     "data": {
      "text/plain": [
       "StateSnapshot(values={'lnode': 'node_1', 'scratch': 'hi', 'count': 1}, next=('Node2',), config={'configurable': {'thread_id': '2', 'checkpoint_ns': '', 'checkpoint_id': '1f074287-3365-6230-8001-60a173136130'}}, metadata={'source': 'loop', 'step': 1, 'parents': {}}, created_at='2025-08-08T07:22:32.893905+00:00', parent_config={'configurable': {'thread_id': '2', 'checkpoint_ns': '', 'checkpoint_id': '1f074287-3362-67a6-8000-3a84d9416b68'}}, tasks=(PregelTask(id='90b46929-1f62-58b4-5990-bcdea52b12e6', name='Node2', path=('__pregel_pull', 'Node2'), error=None, interrupts=(), state=None, result={'lnode': 'node_2', 'count': 1}),), interrupts=())"
      ]
     },
     "execution_count": 154,
     "metadata": {},
     "output_type": "execute_result"
    }
   ],
   "source": [
    "save_state = graph.get_state(states2[-3])\n",
    "save_state"
   ]
  },
  {
   "cell_type": "markdown",
   "id": "c81b354b-8c2d-4150-9150-ac9d8486af02",
   "metadata": {},
   "source": [
    "Now modify the values. One subtle item to note: Recall when agent state was defined, `count` used `operator.add` to indicate that values are *added* to the current value. Here, `-3` will be added to the current count value rather than replace it."
   ]
  },
  {
   "cell_type": "code",
   "execution_count": 155,
   "id": "dae6527b-912f-4f86-a07b-1fae684aaa77",
   "metadata": {},
   "outputs": [
    {
     "data": {
      "text/plain": [
       "StateSnapshot(values={'lnode': 'node_1', 'scratch': 'hello', 'count': -3}, next=('Node2',), config={'configurable': {'thread_id': '2', 'checkpoint_ns': '', 'checkpoint_id': '1f074287-3365-6230-8001-60a173136130'}}, metadata={'source': 'loop', 'step': 1, 'parents': {}}, created_at='2025-08-08T07:22:32.893905+00:00', parent_config={'configurable': {'thread_id': '2', 'checkpoint_ns': '', 'checkpoint_id': '1f074287-3362-67a6-8000-3a84d9416b68'}}, tasks=(PregelTask(id='90b46929-1f62-58b4-5990-bcdea52b12e6', name='Node2', path=('__pregel_pull', 'Node2'), error=None, interrupts=(), state=None, result={'lnode': 'node_2', 'count': 1}),), interrupts=())"
      ]
     },
     "execution_count": 155,
     "metadata": {},
     "output_type": "execute_result"
    }
   ],
   "source": [
    "save_state.values[\"count\"] = -3\n",
    "save_state.values[\"scratch\"] = \"hello\"\n",
    "save_state"
   ]
  },
  {
   "cell_type": "markdown",
   "id": "904bb1eb-2e39-472f-ae56-d8e95e2f1ab6",
   "metadata": {},
   "source": [
    "Now update the state. This creates a new entry at the *top*, or *latest* entry in memory. This will become the current state."
   ]
  },
  {
   "cell_type": "code",
   "execution_count": 156,
   "id": "bcd78670-b119-45fa-934b-2ce2d477b4c2",
   "metadata": {},
   "outputs": [
    {
     "data": {
      "text/plain": [
       "{'configurable': {'thread_id': '2',\n",
       "  'checkpoint_ns': '',\n",
       "  'checkpoint_id': '1f07428a-51a8-6e05-8005-9aee33287987'}}"
      ]
     },
     "execution_count": 156,
     "metadata": {},
     "output_type": "execute_result"
    }
   ],
   "source": [
    "graph.update_state(thread2,save_state.values)"
   ]
  },
  {
   "cell_type": "markdown",
   "id": "1bb3beed-1c44-4364-bde9-b29ea5e8ca30",
   "metadata": {},
   "source": [
    "Current state is at the top. You can match the `thread_ts`.\n",
    "Notice the `parent_config`, `thread_ts` of the new node - it is the previous node."
   ]
  },
  {
   "cell_type": "code",
   "execution_count": 160,
   "id": "231c7011-afe4-44bf-9e19-16220004912f",
   "metadata": {},
   "outputs": [
    {
     "name": "stdout",
     "output_type": "stream",
     "text": [
      "StateSnapshot(values={'lnode': 'node_1', 'scratch': 'hello', 'count': -2}, next=('Node2',), config={'configurable': {'thread_id': '2', 'checkpoint_ns': '', 'checkpoint_id': '1f07428b-b04a-6ac8-8006-6ac1082d01ff'}}, metadata={'source': 'update', 'step': 6, 'parents': {}}, created_at='2025-08-08T07:24:33.364448+00:00', parent_config={'configurable': {'thread_id': '2', 'checkpoint_ns': '', 'checkpoint_id': '1f07428a-51a8-6e05-8005-9aee33287987'}}, tasks=(PregelTask(id='0122f1f4-f9f1-86aa-ba44-a93de889e6b7', name='Node2', path=('__pregel_pull', 'Node2'), error=None, interrupts=(), state=None, result=None),), interrupts=()) \n",
      "\n",
      "StateSnapshot(values={'lnode': 'node_1', 'scratch': 'hello', 'count': 1}, next=('Node1',), config={'configurable': {'thread_id': '2', 'checkpoint_ns': '', 'checkpoint_id': '1f07428a-51a8-6e05-8005-9aee33287987'}}, metadata={'source': 'update', 'step': 5, 'parents': {}}, created_at='2025-08-08T07:23:56.598016+00:00', parent_config={'configurable': {'thread_id': '2', 'checkpoint_ns': '', 'checkpoint_id': '1f074287-3371-6f42-8004-123c3ab8d998'}}, tasks=(PregelTask(id='fc44aafd-6161-10f9-bfee-78d2f8179f49', name='Node1', path=('__pregel_pull', 'Node1'), error=None, interrupts=(), state=None, result=None),), interrupts=()) \n",
      "\n",
      "StateSnapshot(values={'lnode': 'node_2', 'scratch': 'hi', 'count': 4}, next=(), config={'configurable': {'thread_id': '2', 'checkpoint_ns': '', 'checkpoint_id': '1f074287-3371-6f42-8004-123c3ab8d998'}}, metadata={'source': 'loop', 'step': 4, 'parents': {}}, created_at='2025-08-08T07:22:32.899155+00:00', parent_config={'configurable': {'thread_id': '2', 'checkpoint_ns': '', 'checkpoint_id': '1f074287-336f-6605-8003-e632ee298e05'}}, tasks=(), interrupts=()) \n",
      "\n"
     ]
    }
   ],
   "source": [
    "for i, state in enumerate(graph.get_state_history(thread2)):\n",
    "    if i >= 3:  #print latest 3\n",
    "        break\n",
    "    print(state, '\\n')"
   ]
  },
  {
   "cell_type": "markdown",
   "id": "62d34cd8-99b6-4224-b345-fe8475f2a602",
   "metadata": {},
   "source": [
    "### Try again with `as_node`\n",
    "When writing using `update_state()`, you want to define to the graph logic which node should be assumed as the writer. What this does is allow th graph logic to find the node on the graph. After writing the values, the `next()` value is computed by travesing the graph using the new state. In this case, the state we have was written by `Node1`. The graph can then compute the next state as being `Node2`. Note that in some graphs, this may involve going through conditional edges!  Let's try this out."
   ]
  },
  {
   "cell_type": "code",
   "execution_count": 161,
   "id": "7bfda2f6-5887-40fa-a733-a4357ad857d8",
   "metadata": {},
   "outputs": [
    {
     "data": {
      "text/plain": [
       "{'configurable': {'thread_id': '2',\n",
       "  'checkpoint_ns': '',\n",
       "  'checkpoint_id': '1f074291-22e0-6a9b-8007-17865b62a816'}}"
      ]
     },
     "execution_count": 161,
     "metadata": {},
     "output_type": "execute_result"
    }
   ],
   "source": [
    "graph.update_state(thread2,save_state.values, as_node=\"Node1\")"
   ]
  },
  {
   "cell_type": "code",
   "execution_count": 162,
   "id": "0788ac0f-5f64-49b2-b335-3094bbb19143",
   "metadata": {},
   "outputs": [
    {
     "name": "stdout",
     "output_type": "stream",
     "text": [
      "StateSnapshot(values={'lnode': 'node_1', 'scratch': 'hello', 'count': -5}, next=('Node2',), config={'configurable': {'thread_id': '2', 'checkpoint_ns': '', 'checkpoint_id': '1f074291-22e0-6a9b-8007-17865b62a816'}}, metadata={'source': 'update', 'step': 7, 'parents': {}}, created_at='2025-08-08T07:26:59.597378+00:00', parent_config={'configurable': {'thread_id': '2', 'checkpoint_ns': '', 'checkpoint_id': '1f07428b-b04a-6ac8-8006-6ac1082d01ff'}}, tasks=(PregelTask(id='93ad2a10-e8aa-4c53-9e07-1f3fa54ab1d3', name='Node2', path=('__pregel_pull', 'Node2'), error=None, interrupts=(), state=None, result=None),), interrupts=()) \n",
      "\n",
      "StateSnapshot(values={'lnode': 'node_1', 'scratch': 'hello', 'count': -2}, next=('Node2',), config={'configurable': {'thread_id': '2', 'checkpoint_ns': '', 'checkpoint_id': '1f07428b-b04a-6ac8-8006-6ac1082d01ff'}}, metadata={'source': 'update', 'step': 6, 'parents': {}}, created_at='2025-08-08T07:24:33.364448+00:00', parent_config={'configurable': {'thread_id': '2', 'checkpoint_ns': '', 'checkpoint_id': '1f07428a-51a8-6e05-8005-9aee33287987'}}, tasks=(PregelTask(id='0122f1f4-f9f1-86aa-ba44-a93de889e6b7', name='Node2', path=('__pregel_pull', 'Node2'), error=None, interrupts=(), state=None, result=None),), interrupts=()) \n",
      "\n",
      "StateSnapshot(values={'lnode': 'node_1', 'scratch': 'hello', 'count': 1}, next=('Node1',), config={'configurable': {'thread_id': '2', 'checkpoint_ns': '', 'checkpoint_id': '1f07428a-51a8-6e05-8005-9aee33287987'}}, metadata={'source': 'update', 'step': 5, 'parents': {}}, created_at='2025-08-08T07:23:56.598016+00:00', parent_config={'configurable': {'thread_id': '2', 'checkpoint_ns': '', 'checkpoint_id': '1f074287-3371-6f42-8004-123c3ab8d998'}}, tasks=(PregelTask(id='fc44aafd-6161-10f9-bfee-78d2f8179f49', name='Node1', path=('__pregel_pull', 'Node1'), error=None, interrupts=(), state=None, result=None),), interrupts=()) \n",
      "\n"
     ]
    }
   ],
   "source": [
    "for i, state in enumerate(graph.get_state_history(thread2)):\n",
    "    if i >= 3:  #print latest 3\n",
    "        break\n",
    "    print(state, '\\n')"
   ]
  },
  {
   "cell_type": "markdown",
   "id": "18a8f52e-d1a6-46a0-a519-6fda0cb91624",
   "metadata": {},
   "source": [
    "`invoke` will run from the current state if not given a particular `thread_ts`. This is now the entry that was just added."
   ]
  },
  {
   "cell_type": "code",
   "execution_count": 163,
   "id": "9650d355-07c1-4a7d-a21d-4231673a7ee9",
   "metadata": {},
   "outputs": [
    {
     "name": "stdout",
     "output_type": "stream",
     "text": [
      "node2, count:-5\n",
      "node1, count:-4\n",
      "node2, count:-3\n",
      "node1, count:-2\n",
      "node2, count:-1\n",
      "node1, count:0\n",
      "node2, count:1\n",
      "node1, count:2\n",
      "node2, count:3\n"
     ]
    },
    {
     "data": {
      "text/plain": [
       "{'lnode': 'node_2', 'scratch': 'hello', 'count': 4}"
      ]
     },
     "execution_count": 163,
     "metadata": {},
     "output_type": "execute_result"
    }
   ],
   "source": [
    "graph.invoke(None,thread2)"
   ]
  },
  {
   "cell_type": "markdown",
   "id": "c59d3069-8fe7-4a05-9bfd-8e3a2e4590ad",
   "metadata": {},
   "source": [
    "Print out the state history, notice the `scratch` value change on the latest entries."
   ]
  },
  {
   "cell_type": "code",
   "execution_count": 164,
   "id": "35088704-2b18-4d44-ba0e-dccbfde6ed9e",
   "metadata": {},
   "outputs": [
    {
     "name": "stdout",
     "output_type": "stream",
     "text": [
      "StateSnapshot(values={'lnode': 'node_2', 'scratch': 'hello', 'count': 4}, next=(), config={'configurable': {'thread_id': '2', 'checkpoint_ns': '', 'checkpoint_id': '1f074291-e929-6af4-8010-139d26afdec0'}}, metadata={'source': 'loop', 'step': 16, 'parents': {}}, created_at='2025-08-08T07:27:20.389093+00:00', parent_config={'configurable': {'thread_id': '2', 'checkpoint_ns': '', 'checkpoint_id': '1f074291-e925-6a5e-800f-42ff90b8c463'}}, tasks=(), interrupts=()) \n",
      "\n",
      "StateSnapshot(values={'lnode': 'node_1', 'scratch': 'hello', 'count': 3}, next=('Node2',), config={'configurable': {'thread_id': '2', 'checkpoint_ns': '', 'checkpoint_id': '1f074291-e925-6a5e-800f-42ff90b8c463'}}, metadata={'source': 'loop', 'step': 15, 'parents': {}}, created_at='2025-08-08T07:27:20.387439+00:00', parent_config={'configurable': {'thread_id': '2', 'checkpoint_ns': '', 'checkpoint_id': '1f074291-e923-61dd-800e-5edf19a01442'}}, tasks=(PregelTask(id='b94698b3-8057-7e72-8881-2d6b787d2d85', name='Node2', path=('__pregel_pull', 'Node2'), error=None, interrupts=(), state=None, result={'lnode': 'node_2', 'count': 1}),), interrupts=()) \n",
      "\n",
      "StateSnapshot(values={'lnode': 'node_2', 'scratch': 'hello', 'count': 2}, next=('Node1',), config={'configurable': {'thread_id': '2', 'checkpoint_ns': '', 'checkpoint_id': '1f074291-e923-61dd-800e-5edf19a01442'}}, metadata={'source': 'loop', 'step': 14, 'parents': {}}, created_at='2025-08-08T07:27:20.386402+00:00', parent_config={'configurable': {'thread_id': '2', 'checkpoint_ns': '', 'checkpoint_id': '1f074291-e91f-6532-800d-86faf6988518'}}, tasks=(PregelTask(id='0b8fe6c2-f207-3fe1-275f-176088e2f305', name='Node1', path=('__pregel_pull', 'Node1'), error=None, interrupts=(), state=None, result={'lnode': 'node_1', 'count': 1}),), interrupts=()) \n",
      "\n",
      "StateSnapshot(values={'lnode': 'node_1', 'scratch': 'hello', 'count': 1}, next=('Node2',), config={'configurable': {'thread_id': '2', 'checkpoint_ns': '', 'checkpoint_id': '1f074291-e91f-6532-800d-86faf6988518'}}, metadata={'source': 'loop', 'step': 13, 'parents': {}}, created_at='2025-08-08T07:27:20.384849+00:00', parent_config={'configurable': {'thread_id': '2', 'checkpoint_ns': '', 'checkpoint_id': '1f074291-e91d-6ff7-800c-596899fb0271'}}, tasks=(PregelTask(id='faedb033-f0bb-3286-3582-7b12f6605e43', name='Node2', path=('__pregel_pull', 'Node2'), error=None, interrupts=(), state=None, result={'lnode': 'node_2', 'count': 1}),), interrupts=()) \n",
      "\n",
      "StateSnapshot(values={'lnode': 'node_2', 'scratch': 'hello', 'count': 0}, next=('Node1',), config={'configurable': {'thread_id': '2', 'checkpoint_ns': '', 'checkpoint_id': '1f074291-e91d-6ff7-800c-596899fb0271'}}, metadata={'source': 'loop', 'step': 12, 'parents': {}}, created_at='2025-08-08T07:27:20.384306+00:00', parent_config={'configurable': {'thread_id': '2', 'checkpoint_ns': '', 'checkpoint_id': '1f074291-e91a-640d-800b-5a329d66dea6'}}, tasks=(PregelTask(id='72f48282-b860-242c-fed5-f832b03c45c6', name='Node1', path=('__pregel_pull', 'Node1'), error=None, interrupts=(), state=None, result={'lnode': 'node_1', 'count': 1}),), interrupts=()) \n",
      "\n",
      "StateSnapshot(values={'lnode': 'node_1', 'scratch': 'hello', 'count': -1}, next=('Node2',), config={'configurable': {'thread_id': '2', 'checkpoint_ns': '', 'checkpoint_id': '1f074291-e91a-640d-800b-5a329d66dea6'}}, metadata={'source': 'loop', 'step': 11, 'parents': {}}, created_at='2025-08-08T07:27:20.382772+00:00', parent_config={'configurable': {'thread_id': '2', 'checkpoint_ns': '', 'checkpoint_id': '1f074291-e918-6c88-800a-0f87794145e8'}}, tasks=(PregelTask(id='781f8f02-8b9a-eb0a-ddfd-0b35574aa560', name='Node2', path=('__pregel_pull', 'Node2'), error=None, interrupts=(), state=None, result={'lnode': 'node_2', 'count': 1}),), interrupts=()) \n",
      "\n",
      "StateSnapshot(values={'lnode': 'node_2', 'scratch': 'hello', 'count': -2}, next=('Node1',), config={'configurable': {'thread_id': '2', 'checkpoint_ns': '', 'checkpoint_id': '1f074291-e918-6c88-800a-0f87794145e8'}}, metadata={'source': 'loop', 'step': 10, 'parents': {}}, created_at='2025-08-08T07:27:20.382170+00:00', parent_config={'configurable': {'thread_id': '2', 'checkpoint_ns': '', 'checkpoint_id': '1f074291-e915-6383-8009-10308a27f886'}}, tasks=(PregelTask(id='5618c298-07e5-a0c4-3ab4-167ce48c3216', name='Node1', path=('__pregel_pull', 'Node1'), error=None, interrupts=(), state=None, result={'lnode': 'node_1', 'count': 1}),), interrupts=()) \n",
      "\n",
      "StateSnapshot(values={'lnode': 'node_1', 'scratch': 'hello', 'count': -3}, next=('Node2',), config={'configurable': {'thread_id': '2', 'checkpoint_ns': '', 'checkpoint_id': '1f074291-e915-6383-8009-10308a27f886'}}, metadata={'source': 'loop', 'step': 9, 'parents': {}}, created_at='2025-08-08T07:27:20.380710+00:00', parent_config={'configurable': {'thread_id': '2', 'checkpoint_ns': '', 'checkpoint_id': '1f074291-e912-6ae1-8008-2d4dc9925d38'}}, tasks=(PregelTask(id='6d0f226a-12d2-89c8-412a-988746c56509', name='Node2', path=('__pregel_pull', 'Node2'), error=None, interrupts=(), state=None, result={'lnode': 'node_2', 'count': 1}),), interrupts=()) \n",
      "\n",
      "StateSnapshot(values={'lnode': 'node_2', 'scratch': 'hello', 'count': -4}, next=('Node1',), config={'configurable': {'thread_id': '2', 'checkpoint_ns': '', 'checkpoint_id': '1f074291-e912-6ae1-8008-2d4dc9925d38'}}, metadata={'source': 'loop', 'step': 8, 'parents': {}}, created_at='2025-08-08T07:27:20.379152+00:00', parent_config={'configurable': {'thread_id': '2', 'checkpoint_ns': '', 'checkpoint_id': '1f074291-22e0-6a9b-8007-17865b62a816'}}, tasks=(PregelTask(id='09e8700b-1c8c-a591-ff66-9f8817e31a1b', name='Node1', path=('__pregel_pull', 'Node1'), error=None, interrupts=(), state=None, result={'lnode': 'node_1', 'count': 1}),), interrupts=()) \n",
      "\n",
      "StateSnapshot(values={'lnode': 'node_1', 'scratch': 'hello', 'count': -5}, next=('Node2',), config={'configurable': {'thread_id': '2', 'checkpoint_ns': '', 'checkpoint_id': '1f074291-22e0-6a9b-8007-17865b62a816'}}, metadata={'source': 'update', 'step': 7, 'parents': {}}, created_at='2025-08-08T07:26:59.597378+00:00', parent_config={'configurable': {'thread_id': '2', 'checkpoint_ns': '', 'checkpoint_id': '1f07428b-b04a-6ac8-8006-6ac1082d01ff'}}, tasks=(PregelTask(id='93ad2a10-e8aa-4c53-9e07-1f3fa54ab1d3', name='Node2', path=('__pregel_pull', 'Node2'), error=None, interrupts=(), state=None, result={'lnode': 'node_2', 'count': 1}),), interrupts=()) \n",
      "\n",
      "StateSnapshot(values={'lnode': 'node_1', 'scratch': 'hello', 'count': -2}, next=('Node2',), config={'configurable': {'thread_id': '2', 'checkpoint_ns': '', 'checkpoint_id': '1f07428b-b04a-6ac8-8006-6ac1082d01ff'}}, metadata={'source': 'update', 'step': 6, 'parents': {}}, created_at='2025-08-08T07:24:33.364448+00:00', parent_config={'configurable': {'thread_id': '2', 'checkpoint_ns': '', 'checkpoint_id': '1f07428a-51a8-6e05-8005-9aee33287987'}}, tasks=(PregelTask(id='0122f1f4-f9f1-86aa-ba44-a93de889e6b7', name='Node2', path=('__pregel_pull', 'Node2'), error=None, interrupts=(), state=None, result=None),), interrupts=()) \n",
      "\n",
      "StateSnapshot(values={'lnode': 'node_1', 'scratch': 'hello', 'count': 1}, next=('Node1',), config={'configurable': {'thread_id': '2', 'checkpoint_ns': '', 'checkpoint_id': '1f07428a-51a8-6e05-8005-9aee33287987'}}, metadata={'source': 'update', 'step': 5, 'parents': {}}, created_at='2025-08-08T07:23:56.598016+00:00', parent_config={'configurable': {'thread_id': '2', 'checkpoint_ns': '', 'checkpoint_id': '1f074287-3371-6f42-8004-123c3ab8d998'}}, tasks=(PregelTask(id='fc44aafd-6161-10f9-bfee-78d2f8179f49', name='Node1', path=('__pregel_pull', 'Node1'), error=None, interrupts=(), state=None, result=None),), interrupts=()) \n",
      "\n",
      "StateSnapshot(values={'lnode': 'node_2', 'scratch': 'hi', 'count': 4}, next=(), config={'configurable': {'thread_id': '2', 'checkpoint_ns': '', 'checkpoint_id': '1f074287-3371-6f42-8004-123c3ab8d998'}}, metadata={'source': 'loop', 'step': 4, 'parents': {}}, created_at='2025-08-08T07:22:32.899155+00:00', parent_config={'configurable': {'thread_id': '2', 'checkpoint_ns': '', 'checkpoint_id': '1f074287-336f-6605-8003-e632ee298e05'}}, tasks=(), interrupts=()) \n",
      "\n",
      "StateSnapshot(values={'lnode': 'node_1', 'scratch': 'hi', 'count': 3}, next=('Node2',), config={'configurable': {'thread_id': '2', 'checkpoint_ns': '', 'checkpoint_id': '1f074287-336f-6605-8003-e632ee298e05'}}, metadata={'source': 'loop', 'step': 3, 'parents': {}}, created_at='2025-08-08T07:22:32.898099+00:00', parent_config={'configurable': {'thread_id': '2', 'checkpoint_ns': '', 'checkpoint_id': '1f074287-336c-6d4a-8002-adbec1108656'}}, tasks=(PregelTask(id='346663bd-528f-da51-02c3-290a3236e383', name='Node2', path=('__pregel_pull', 'Node2'), error=None, interrupts=(), state=None, result={'lnode': 'node_2', 'count': 1}),), interrupts=()) \n",
      "\n",
      "StateSnapshot(values={'lnode': 'node_2', 'scratch': 'hi', 'count': 2}, next=('Node1',), config={'configurable': {'thread_id': '2', 'checkpoint_ns': '', 'checkpoint_id': '1f074287-336c-6d4a-8002-adbec1108656'}}, metadata={'source': 'loop', 'step': 2, 'parents': {}}, created_at='2025-08-08T07:22:32.897057+00:00', parent_config={'configurable': {'thread_id': '2', 'checkpoint_ns': '', 'checkpoint_id': '1f074287-3365-6230-8001-60a173136130'}}, tasks=(PregelTask(id='82904d31-470f-04b2-945d-f4ef6668c0cc', name='Node1', path=('__pregel_pull', 'Node1'), error=None, interrupts=(), state=None, result={'lnode': 'node_1', 'count': 1}),), interrupts=()) \n",
      "\n",
      "StateSnapshot(values={'lnode': 'node_1', 'scratch': 'hi', 'count': 1}, next=('Node2',), config={'configurable': {'thread_id': '2', 'checkpoint_ns': '', 'checkpoint_id': '1f074287-3365-6230-8001-60a173136130'}}, metadata={'source': 'loop', 'step': 1, 'parents': {}}, created_at='2025-08-08T07:22:32.893905+00:00', parent_config={'configurable': {'thread_id': '2', 'checkpoint_ns': '', 'checkpoint_id': '1f074287-3362-67a6-8000-3a84d9416b68'}}, tasks=(PregelTask(id='90b46929-1f62-58b4-5990-bcdea52b12e6', name='Node2', path=('__pregel_pull', 'Node2'), error=None, interrupts=(), state=None, result={'lnode': 'node_2', 'count': 1}),), interrupts=()) \n",
      "\n",
      "StateSnapshot(values={'scratch': 'hi', 'count': 0}, next=('Node1',), config={'configurable': {'thread_id': '2', 'checkpoint_ns': '', 'checkpoint_id': '1f074287-3362-67a6-8000-3a84d9416b68'}}, metadata={'source': 'loop', 'step': 0, 'parents': {}}, created_at='2025-08-08T07:22:32.892816+00:00', parent_config={'configurable': {'thread_id': '2', 'checkpoint_ns': '', 'checkpoint_id': '1f074287-335e-6438-bfff-ed6cdcc801b5'}}, tasks=(PregelTask(id='350f96d0-4a8c-d9cc-c4de-a0b9eaa1597c', name='Node1', path=('__pregel_pull', 'Node1'), error=None, interrupts=(), state=None, result={'lnode': 'node_1', 'count': 1}),), interrupts=()) \n",
      "\n",
      "StateSnapshot(values={'count': 0}, next=('__start__',), config={'configurable': {'thread_id': '2', 'checkpoint_ns': '', 'checkpoint_id': '1f074287-335e-6438-bfff-ed6cdcc801b5'}}, metadata={'source': 'input', 'step': -1, 'parents': {}}, created_at='2025-08-08T07:22:32.891090+00:00', parent_config=None, tasks=(PregelTask(id='86e469c9-1a2b-deed-e125-72d662b7d140', name='__start__', path=('__pregel_pull', '__start__'), error=None, interrupts=(), state=None, result={'count': 0, 'scratch': 'hi'}),), interrupts=()) \n",
      "\n"
     ]
    }
   ],
   "source": [
    "for state in graph.get_state_history(thread2):\n",
    "    print(state,\"\\n\")"
   ]
  },
  {
   "cell_type": "markdown",
   "id": "a5ea1bba-cf12-4493-948b-08b300054742",
   "metadata": {},
   "source": [
    "Continue to experiment!"
   ]
  },
  {
   "cell_type": "code",
   "execution_count": null,
   "id": "393f7f1f-68b4-4462-bfa5-b6472ef1304a",
   "metadata": {},
   "outputs": [],
   "source": []
  },
  {
   "cell_type": "code",
   "execution_count": null,
   "id": "43ac0aa9-baa7-4b58-889d-2118cc00c6b5",
   "metadata": {},
   "outputs": [],
   "source": []
  },
  {
   "cell_type": "code",
   "execution_count": null,
   "id": "ed6098b9-e2a9-4767-8cb5-346db835c8d2",
   "metadata": {},
   "outputs": [],
   "source": []
  },
  {
   "cell_type": "code",
   "execution_count": null,
   "id": "2d23cf2a-a179-44dc-9ae3-2eddda4b67b4",
   "metadata": {},
   "outputs": [],
   "source": []
  },
  {
   "cell_type": "code",
   "execution_count": null,
   "id": "14a6005b-0221-4f5e-9be0-0580c1d03126",
   "metadata": {},
   "outputs": [],
   "source": []
  },
  {
   "cell_type": "code",
   "execution_count": null,
   "id": "41c1ec12-f1c8-41ae-bb3e-5f28997b9b99",
   "metadata": {},
   "outputs": [],
   "source": []
  },
  {
   "cell_type": "code",
   "execution_count": null,
   "id": "5c8c07d7-be17-4c17-82c5-6fe1db028b8b",
   "metadata": {},
   "outputs": [],
   "source": []
  },
  {
   "cell_type": "code",
   "execution_count": null,
   "id": "04592c8e-1cfe-4b26-93b5-caf1ed1e7d24",
   "metadata": {},
   "outputs": [],
   "source": []
  },
  {
   "cell_type": "code",
   "execution_count": null,
   "id": "6181c4a9-0e71-4f67-b71f-18a225e37202",
   "metadata": {},
   "outputs": [],
   "source": []
  },
  {
   "cell_type": "code",
   "execution_count": null,
   "id": "e1c478a9-7bfe-49e2-8a7d-1536271f45a6",
   "metadata": {},
   "outputs": [],
   "source": []
  },
  {
   "cell_type": "code",
   "execution_count": null,
   "id": "0a6d6771-3fad-4f37-9b32-45b36ad85c59",
   "metadata": {},
   "outputs": [],
   "source": []
  },
  {
   "cell_type": "code",
   "execution_count": null,
   "id": "a3629eb3-655d-467a-b413-63f547c2de08",
   "metadata": {},
   "outputs": [],
   "source": []
  },
  {
   "cell_type": "code",
   "execution_count": null,
   "id": "f772f251-2b61-4d10-97c5-61cef9207a76",
   "metadata": {},
   "outputs": [],
   "source": []
  },
  {
   "cell_type": "code",
   "execution_count": null,
   "id": "0de92979-7ac5-4a7c-91c1-10806b7d529c",
   "metadata": {},
   "outputs": [],
   "source": []
  },
  {
   "cell_type": "code",
   "execution_count": null,
   "id": "479c4325-f625-4bbf-9d74-cc58f10763f2",
   "metadata": {},
   "outputs": [],
   "source": []
  },
  {
   "cell_type": "code",
   "execution_count": null,
   "id": "c4070be7-72da-42f9-a25d-8a6c628788b8",
   "metadata": {},
   "outputs": [],
   "source": []
  },
  {
   "cell_type": "code",
   "execution_count": null,
   "id": "9289efbe-7033-4f32-8482-2039c5f9db90",
   "metadata": {},
   "outputs": [],
   "source": []
  },
  {
   "cell_type": "code",
   "execution_count": null,
   "id": "25e480bb-22ab-4acb-a42c-71da3d04a5b1",
   "metadata": {},
   "outputs": [],
   "source": []
  },
  {
   "cell_type": "code",
   "execution_count": null,
   "id": "90dea35c-7483-4b3d-b5e3-76eb3a0fe536",
   "metadata": {},
   "outputs": [],
   "source": []
  },
  {
   "cell_type": "code",
   "execution_count": null,
   "id": "e9ac5730-a9d5-4ea4-8546-ebcb265cf1da",
   "metadata": {},
   "outputs": [],
   "source": []
  },
  {
   "cell_type": "code",
   "execution_count": null,
   "id": "96e1f28b-46d8-4bcd-b2e4-730376ee7ccf",
   "metadata": {},
   "outputs": [],
   "source": []
  },
  {
   "cell_type": "code",
   "execution_count": null,
   "id": "22ac7020-b4f4-4bd2-a875-ccee93f83d83",
   "metadata": {},
   "outputs": [],
   "source": []
  },
  {
   "cell_type": "code",
   "execution_count": null,
   "id": "61f79eb9-d1c9-44b0-9efd-a8f9b380332a",
   "metadata": {},
   "outputs": [],
   "source": []
  },
  {
   "cell_type": "code",
   "execution_count": null,
   "id": "ce509206-bde1-43e4-a88f-8a565539d357",
   "metadata": {},
   "outputs": [],
   "source": []
  },
  {
   "cell_type": "code",
   "execution_count": null,
   "id": "bdba1590-9e7b-4c0f-9492-81a07d286c55",
   "metadata": {},
   "outputs": [],
   "source": []
  },
  {
   "cell_type": "code",
   "execution_count": null,
   "id": "aa8fe4a8-5372-479d-b248-af7a295c86c1",
   "metadata": {},
   "outputs": [],
   "source": []
  },
  {
   "cell_type": "code",
   "execution_count": null,
   "id": "7514720a-14bc-4552-ade5-fa03f86f4c73",
   "metadata": {},
   "outputs": [],
   "source": []
  }
 ],
 "metadata": {
  "kernelspec": {
   "display_name": ".venv",
   "language": "python",
   "name": "python3"
  },
  "language_info": {
   "codemirror_mode": {
    "name": "ipython",
    "version": 3
   },
   "file_extension": ".py",
   "mimetype": "text/x-python",
   "name": "python",
   "nbconvert_exporter": "python",
   "pygments_lexer": "ipython3",
   "version": "3.11.9"
  }
 },
 "nbformat": 4,
 "nbformat_minor": 5
}
