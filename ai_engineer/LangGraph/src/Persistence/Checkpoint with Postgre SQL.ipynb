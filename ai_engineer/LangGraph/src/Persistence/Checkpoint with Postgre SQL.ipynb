{
 "cells": [
  {
   "cell_type": "markdown",
   "id": "84df7c6b",
   "metadata": {},
   "source": [
    "## Create PostgresSaver manually"
   ]
  },
  {
   "cell_type": "code",
   "execution_count": 1,
   "id": "42f33848",
   "metadata": {},
   "outputs": [
    {
     "name": "stdout",
     "output_type": "stream",
     "text": [
      "{'messages': ['DTT work with PostgresSaver', 'Echo: DTT work with PostgresSaver']}\n",
      "StateSnapshot(values={'messages': ['DTT work with PostgresSaver', 'Echo: DTT work with PostgresSaver']}, next=(), config={'configurable': {'thread_id': 'thread-1', 'checkpoint_ns': '', 'checkpoint_id': '1f07365b-cdcf-643e-8004-e9b0c2825353'}}, metadata={'step': 4, 'source': 'loop', 'parents': {}}, created_at='2025-08-07T08:08:44.596351+00:00', parent_config={'configurable': {'thread_id': 'thread-1', 'checkpoint_ns': '', 'checkpoint_id': '1f07365b-cdc3-6094-8003-30e3b1c44185'}}, tasks=(), interrupts=())\n"
     ]
    }
   ],
   "source": [
    "import os\n",
    "from psycopg import Connection\n",
    "from psycopg_pool import ConnectionPool\n",
    "from langgraph.checkpoint.postgres import PostgresSaver\n",
    "from langgraph.graph import StateGraph, START\n",
    "from typing_extensions import TypedDict\n",
    "\n",
    "class State(TypedDict):\n",
    "    messages: list[str]\n",
    "\n",
    "DB_URI = os.environ.get(\"DATABASE_URI\")\n",
    "\n",
    "# Use psycopg pool with autocommit and row_factory=dict_row\n",
    "pool = ConnectionPool(conninfo=DB_URI)\n",
    "\n",
    "with pool.connection() as conn:  # or using PostgresSaver.from_conn_string\n",
    "    conn.row_factory = \"dict_row\"\n",
    "    conn.autocommit = True  # Enable autocommit for CREATE INDEX CONCURRENTLY\n",
    "    \n",
    "    checkpointer = PostgresSaver(conn)\n",
    "    # On first run, create needed tables\n",
    "    checkpointer.setup()\n",
    "\n",
    "    def chat_node(state: State) -> State:\n",
    "        state[\"messages\"].append(\"Echo: \" + state[\"messages\"][-1])\n",
    "        return state\n",
    "\n",
    "    builder = StateGraph(State)\n",
    "    builder.add_node(\"chat\", chat_node)\n",
    "    builder.add_edge(START, \"chat\")\n",
    "    graph = builder.compile(checkpointer=checkpointer)\n",
    "\n",
    "    config = {\"configurable\": {\"thread_id\": \"thread-1\"}}\n",
    "    input_state = {\"messages\": [\"DTT work with PostgresSaver\"]}\n",
    "    result = graph.invoke(input_state, config=config)\n",
    "    print(result)\n",
    "\n",
    "    print(graph.get_state(config = {\"configurable\": {\"thread_id\": \"thread-1\"}}))\n"
   ]
  },
  {
   "cell_type": "code",
   "execution_count": null,
   "id": "22de9111",
   "metadata": {},
   "outputs": [],
   "source": []
  },
  {
   "cell_type": "markdown",
   "id": "c77e4eef",
   "metadata": {},
   "source": [
    "## Create PostgresSave from PostgresSaver.from_conn_string"
   ]
  },
  {
   "cell_type": "code",
   "execution_count": 2,
   "id": "0e150141",
   "metadata": {},
   "outputs": [
    {
     "name": "stdout",
     "output_type": "stream",
     "text": [
      "{'messages': ['DTT work with PostgresSaver', 'Echo: DTT work with PostgresSaver']}\n",
      "StateSnapshot(values={'messages': ['DTT work with PostgresSaver', 'Echo: DTT work with PostgresSaver']}, next=(), config={'configurable': {'thread_id': 'thread-1', 'checkpoint_ns': '', 'checkpoint_id': '1f07365b-f890-6e04-8007-7c7ff607011c'}}, metadata={'step': 7, 'source': 'loop', 'parents': {}}, created_at='2025-08-07T08:08:49.080678+00:00', parent_config={'configurable': {'thread_id': 'thread-1', 'checkpoint_ns': '', 'checkpoint_id': '1f07365b-f887-61c5-8006-97be7274228a'}}, tasks=(), interrupts=())\n"
     ]
    }
   ],
   "source": [
    "import os\n",
    "from langgraph.checkpoint.postgres import PostgresSaver\n",
    "from langgraph.graph import StateGraph, START\n",
    "from typing_extensions import TypedDict\n",
    "\n",
    "class State(TypedDict):\n",
    "    messages: list[str]\n",
    "\n",
    "DB_URI = os.environ.get(\"DATABASE_URI\")\n",
    "\n",
    "with PostgresSaver.from_conn_string(DB_URI) as checkpointer:\n",
    "    checkpointer.setup() # Ensure tables are created\n",
    "\n",
    "    def chat_node(state: State) -> State:\n",
    "        state[\"messages\"].append(\"Echo: \" + state[\"messages\"][-1])\n",
    "        return state\n",
    "\n",
    "    builder = StateGraph(State)\n",
    "    builder.add_node(\"chat\", chat_node)\n",
    "    builder.add_edge(START, \"chat\")\n",
    "    graph = builder.compile(checkpointer=checkpointer)\n",
    "\n",
    "    config = {\"configurable\": {\"thread_id\": \"thread-1\"}}\n",
    "    input_state = {\"messages\": [\"DTT work with PostgresSaver\"]}\n",
    "    result = graph.invoke(input_state, config=config)\n",
    "    print(result)\n",
    "\n",
    "    print(graph.get_state(config = {\"configurable\": {\"thread_id\": \"thread-1\"}}))\n"
   ]
  },
  {
   "cell_type": "markdown",
   "id": "d4943fab",
   "metadata": {},
   "source": [
    "## Checkpoint with SQLLite"
   ]
  },
  {
   "cell_type": "code",
   "execution_count": 17,
   "id": "2434f233",
   "metadata": {},
   "outputs": [
    {
     "data": {
      "text/plain": [
       "StateSnapshot(values=4, next=(), config={'configurable': {'thread_id': '1', 'checkpoint_ns': '', 'checkpoint_id': '1f073643-ec9a-6f18-8001-f62d1ef86600'}}, metadata={'source': 'loop', 'step': 1, 'parents': {}}, created_at='2025-08-07T07:58:03.581416+00:00', parent_config={'configurable': {'thread_id': '1', 'checkpoint_ns': '', 'checkpoint_id': '1f073643-ec95-67d2-8000-0081759ed203'}}, tasks=(), interrupts=())"
      ]
     },
     "execution_count": 17,
     "metadata": {},
     "output_type": "execute_result"
    }
   ],
   "source": [
    "import sqlite3\n",
    "from langgraph.checkpoint.sqlite import SqliteSaver\n",
    "from langgraph.graph import StateGraph\n",
    "\n",
    "builder = StateGraph(int)\n",
    "builder.add_node(\"add_one\", lambda x: x + 1)\n",
    "builder.set_entry_point(\"add_one\")\n",
    "builder.set_finish_point(\"add_one\")\n",
    "# Create a new SqliteSaver instance\n",
    "# Note: check_same_thread=False is OK as the implementation uses a lock\n",
    "# to ensure thread safety.\n",
    "conn = sqlite3.connect(\"checkpoints.sqlite\", check_same_thread=False)\n",
    "memory = SqliteSaver(conn)\n",
    "graph = builder.compile(checkpointer=memory)\n",
    "config = {\"configurable\": {\"thread_id\": \"1\"}}\n",
    "graph.get_state(config)\n",
    "result = graph.invoke(3, config)\n",
    "graph.get_state(config)\n"
   ]
  },
  {
   "cell_type": "markdown",
   "id": "1b05bc22",
   "metadata": {},
   "source": [
    "## Combine checkpoint and store"
   ]
  },
  {
   "cell_type": "code",
   "execution_count": 17,
   "id": "9345349d",
   "metadata": {},
   "outputs": [],
   "source": [
    "from langgraph.store.base import BaseStore\n",
    "from langgraph.config import RunnableConfig\n",
    "from langgraph.graph import MessagesState\n",
    "import uuid\n",
    "\n",
    "def update_memory(state: MessagesState, config: RunnableConfig, *, store: BaseStore):\n",
    "\n",
    "    # Get the user id from the config\n",
    "    user_id = config[\"configurable\"][\"user_id\"]\n",
    "\n",
    "    # Namespace the memory\n",
    "    namespace = (user_id, \"user_profile\")\n",
    "\n",
    "    # ... Analyze conversation and create a new memory\n",
    "\n",
    "    # Create a new memory ID\n",
    "    memory_id = str(uuid.uuid4())\n",
    "\n",
    "    # We create a new memory\n",
    "    store.put(namespace, memory_id, {\"username\": \"dtt\", \"full_name\": \"Dinh Trung Thao\"})"
   ]
  },
  {
   "cell_type": "code",
   "execution_count": 18,
   "id": "c45c3cb6",
   "metadata": {},
   "outputs": [],
   "source": [
    "from langgraph.store.base import BaseStore\n",
    "from langgraph.config import RunnableConfig\n",
    "from langgraph.graph import MessagesState\n",
    "\n",
    "def get_memory(state: MessagesState, config: RunnableConfig, *, store: BaseStore):\n",
    "    # Get the user id from the config\n",
    "    user_id = config[\"configurable\"][\"user_id\"]\n",
    "\n",
    "    # Namespace the memory\n",
    "    namespace = (user_id, \"user_profile\")\n",
    "    \n",
    "    # We create a new memory\n",
    "    userprofile = store.search(namespace, query={\"username\": \"dtt\", \"full_name\": \"Dinh Trung Thao\"})\n",
    "    print(userprofile)"
   ]
  },
  {
   "cell_type": "code",
   "execution_count": null,
   "id": "83f4a189",
   "metadata": {},
   "outputs": [],
   "source": [
    "import os\n",
    "from typing_extensions import TypedDict\n",
    "from langgraph.graph import StateGraph, START, END\n",
    "from langgraph.checkpoint.postgres import PostgresSaver\n",
    "from psycopg_pool import ConnectionPool\n",
    "from langgraph.store.postgres import PostgresStore\n",
    "import uuid\n",
    "\n",
    "# Step 1: Define shared state\n",
    "class State(TypedDict):\n",
    "    messages: list[str]\n",
    "\n",
    "# Step 2: Define your DB URI\n",
    "DB_URI = os.environ.get(\"DATABASE_URI\")\n",
    "\n",
    "# Step 3: Set up psycopg3 connection pool\n",
    "pool = ConnectionPool(conninfo=DB_URI)\n",
    "\n",
    "# Step 5: Define a LangGraph node that uses memory store\n",
    "def chat_node(state: State, ) -> State:\n",
    "    last_msg = state[\"messages\"][-1]\n",
    "\n",
    "    # Store the last message (as a dummy memory entry)\n",
    "    record_id = uuid.uuid4()\n",
    "    store.put((\"user_id\", \"user_profile\"), record_id, {\"text\": last_msg})\n",
    "    store.mset([(f\"user:msg:{last_msg}\", {\"text\": last_msg})])\n",
    "\n",
    "    # Echo and return new state\n",
    "    echo = f\"Echo: {last_msg}\"\n",
    "    state[\"messages\"].append(echo)\n",
    "    return state\n",
    "\n",
    "# Step 4: Use connection to set up both Saver and Store\n",
    "with pool.connection() as conn:\n",
    "    conn.row_factory = \"dict_row\"\n",
    "\n",
    "    # LangGraph checkpointer\n",
    "    checkpointer = PostgresSaver(conn)\n",
    "    checkpointer.setup()\n",
    "\n",
    "    # LangChain vector/memory store\n",
    "    with PostgresStore.from_conn_string(DB_URI) as store:\n",
    "        store.setup()  # Create memory table if needed\n",
    "\n",
    "\n",
    "        workflow = StateGraph(MessagesState)\n",
    "        workflow.add_node(update_memory)\n",
    "        workflow.add_node(get_memory)\n",
    "        workflow.add_edge(START, \"update_memory\")\n",
    "        workflow.add_edge(\"update_memory\", \"get_memory\")\n",
    "        workflow.add_edge(\"get_memory\", END)\n",
    "\n",
    "        graph = workflow.compile(checkpointer=checkpointer, store=store)\n",
    "\n",
    "        user_id = \"1\"\n",
    "        config = {\"configurable\": {\"thread_id\": \"1\", \"user_id\": user_id}}\n",
    "\n",
    "        # First let's just say hi to the AI\n",
    "        for update in graph.stream(\n",
    "            {\"messages\": [{\"role\": \"user\", \"content\": \"Hello store\"}]}, config, stream_mode=\"updates\"\n",
    "        ):\n",
    "            print(update)\n"
   ]
  }
 ],
 "metadata": {
  "kernelspec": {
   "display_name": ".venv",
   "language": "python",
   "name": "python3"
  },
  "language_info": {
   "codemirror_mode": {
    "name": "ipython",
    "version": 3
   },
   "file_extension": ".py",
   "mimetype": "text/x-python",
   "name": "python",
   "nbconvert_exporter": "python",
   "pygments_lexer": "ipython3",
   "version": "3.11.5"
  }
 },
 "nbformat": 4,
 "nbformat_minor": 5
}
