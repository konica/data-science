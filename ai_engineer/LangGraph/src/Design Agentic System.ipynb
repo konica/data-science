{
 "cells": [
  {
   "cell_type": "code",
   "execution_count": 1,
   "id": "d24f3f6f",
   "metadata": {},
   "outputs": [],
   "source": [
    "# Modules for structuring text\n",
    "from typing import Annotated\n",
    "from typing_extensions import TypedDict\n",
    "\n",
    "# LangGraph modules for defining graphs\n",
    "from langgraph.graph import StateGraph, START, END\n",
    "from langgraph.graph.message import add_messages\n",
    "\n",
    "# Module for setting up OpenAI\n",
    "# from langchain_openai import ChatOpenAI\n",
    "\n"
   ]
  },
  {
   "cell_type": "code",
   "execution_count": 2,
   "id": "3c0e33da",
   "metadata": {},
   "outputs": [],
   "source": [
    "import getpass\n",
    "import os\n",
    "\n",
    "if not os.environ.get(\"GOOGLE_API_KEY\"):\n",
    "  os.environ[\"GOOGLE_API_KEY\"] = getpass.getpass(\"Enter API key for Google Gemini: \")\n",
    "\n",
    "from langchain.chat_models import init_chat_model\n",
    "\n",
    "llm = init_chat_model(\"gemini-2.0-flash\", model_provider=\"google_genai\")"
   ]
  },
  {
   "cell_type": "markdown",
   "id": "24cdfe5b",
   "metadata": {},
   "source": [
    "## Building graph and agent states\n"
   ]
  },
  {
   "cell_type": "code",
   "execution_count": 3,
   "id": "0dc19e05",
   "metadata": {},
   "outputs": [],
   "source": [
    "# Define the State\n",
    "class State(TypedDict):\n",
    "    # Define messages with metadata    \n",
    "    messages: Annotated[list, add_messages]\n",
    "# Initialize StateGraph\n",
    "graph_builder = StateGraph(State)\n"
   ]
  },
  {
   "cell_type": "markdown",
   "id": "2f795d60",
   "metadata": {},
   "source": [
    "Adding nodes and edges"
   ]
  },
  {
   "cell_type": "code",
   "execution_count": 4,
   "id": "ba841056",
   "metadata": {},
   "outputs": [],
   "source": [
    "# Define chatbot function to respond# with the model\n",
    "def chatbot(state: State):\n",
    "    response = llm.invoke(state[\"messages\"])\n",
    "    return {\"messages\":  [response]}\n",
    "# Add chatbot node to the graph\n",
    "graph_builder.add_node(\"chatbot\", chatbot)\n",
    "\n",
    "## Connect the graph nodes: START -> chatbot -> END\n",
    "graph_builder.add_edge(START, \"chatbot\")\n",
    "graph_builder.add_edge(\"chatbot\", END)\n",
    "\n",
    "# Compile the graph\n",
    "graph = graph_builder.compile()\n"
   ]
  },
  {
   "cell_type": "code",
   "execution_count": null,
   "id": "83179dd0",
   "metadata": {},
   "outputs": [
    {
     "data": {
      "text/plain": [
       "{'messages': [HumanMessage(content='Hello, how are you?', additional_kwargs={}, response_metadata={}, id='7b6b05bf-7e8d-4b5d-8fab-da8d6c22c211'),\n",
       "  AIMessage(content='I am doing well, thank you for asking! How are you today?', additional_kwargs={}, response_metadata={'prompt_feedback': {'block_reason': 0, 'safety_ratings': []}, 'finish_reason': 'STOP', 'model_name': 'gemini-2.0-flash', 'safety_ratings': []}, id='run--aef54fea-6327-4cba-ab38-f97519080f69-0', usage_metadata={'input_tokens': 6, 'output_tokens': 16, 'total_tokens': 22, 'input_token_details': {'cache_read': 0}})]}"
      ]
     },
     "execution_count": 5,
     "metadata": {},
     "output_type": "execute_result"
    }
   ],
   "source": [
    "graph.invoke({\"messages\": [\"Hello, my name is Trung Thao. How are you?\"]})\n",
    "graph.invoke({\"messages\": [\"Can you tell my name?\"]})"
   ]
  },
  {
   "cell_type": "markdown",
   "id": "548ba9b2",
   "metadata": {},
   "source": [
    "## Streaming LLM responses\n"
   ]
  },
  {
   "cell_type": "code",
   "execution_count": 24,
   "id": "1ef7fb38",
   "metadata": {},
   "outputs": [
    {
     "name": "stdout",
     "output_type": "stream",
     "text": [
      "Agent: [AIMessage(content=\"Dinh Trung Thao is a Vietnamese politician. He is currently the Vice Chairman of the Standing Committee of the National Assembly of Vietnam. He is also a member of the Communist Party of Vietnam's Central Committee.\", additional_kwargs={}, response_metadata={'prompt_feedback': {'block_reason': 0, 'safety_ratings': []}, 'finish_reason': 'STOP', 'model_name': 'gemini-2.0-flash', 'safety_ratings': []}, id='run--c3f593ce-261a-4ae1-b990-ff8f57fd50c0-0', usage_metadata={'input_tokens': 8, 'output_tokens': 44, 'total_tokens': 52, 'input_token_details': {'cache_read': 0}})]|"
     ]
    }
   ],
   "source": [
    "def stream_graph_updates(user_input: str):\n",
    "    # Start streaming events from the graph with the user's input\n",
    "    for event in graph.stream({\"messages\": [(\"user\", user_input)]}):\n",
    "        # Retrieve and print the chatbot node responses\n",
    "        for value in event.values():\n",
    "            print(\"Agent:\", value[\"messages\"], end=\"|\")\n",
    "\n",
    "# Define the user query and run the chatbot\n",
    "user_query = \"Who is Dinh Trung Thao?\"\n",
    "stream_graph_updates(user_query)"
   ]
  },
  {
   "cell_type": "markdown",
   "id": "27a2d049",
   "metadata": {},
   "source": [
    "## Generate a LangGraph diagram\n"
   ]
  },
  {
   "cell_type": "code",
   "execution_count": 25,
   "id": "b61e8214",
   "metadata": {},
   "outputs": [
    {
     "ename": "KeyboardInterrupt",
     "evalue": "",
     "output_type": "error",
     "traceback": [
      "\u001b[31m---------------------------------------------------------------------------\u001b[39m",
      "\u001b[31mKeyboardInterrupt\u001b[39m                         Traceback (most recent call last)",
      "\u001b[36mCell\u001b[39m\u001b[36m \u001b[39m\u001b[32mIn[25]\u001b[39m\u001b[32m, line 4\u001b[39m\n\u001b[32m      2\u001b[39m \u001b[38;5;66;03m# Try generating and displaying # the graph diagram\u001b[39;00m\n\u001b[32m      3\u001b[39m \u001b[38;5;28;01mtry\u001b[39;00m:    \n\u001b[32m----> \u001b[39m\u001b[32m4\u001b[39m     display(Image(\u001b[43mgraph\u001b[49m\u001b[43m.\u001b[49m\u001b[43mget_graph\u001b[49m\u001b[43m(\u001b[49m\u001b[43m)\u001b[49m\u001b[43m.\u001b[49m\u001b[43mdraw_mermaid_png\u001b[49m\u001b[43m(\u001b[49m\u001b[43m)\u001b[49m))\n\u001b[32m      5\u001b[39m     \u001b[38;5;66;03m# Return an exception if necessary  \u001b[39;00m\n\u001b[32m      6\u001b[39m \u001b[38;5;28;01mexcept\u001b[39;00m \u001b[38;5;167;01mException\u001b[39;00m:\n",
      "\u001b[36mFile \u001b[39m\u001b[32md:\\GitHub\\Open source\\data-science\\ai_engineer\\LangGraph\\.venv\\Lib\\site-packages\\langchain_core\\runnables\\graph.py:693\u001b[39m, in \u001b[36mGraph.draw_mermaid_png\u001b[39m\u001b[34m(self, curve_style, node_colors, wrap_label_n_words, output_file_path, draw_method, background_color, padding, max_retries, retry_delay, frontmatter_config)\u001b[39m\n\u001b[32m    685\u001b[39m \u001b[38;5;28;01mfrom\u001b[39;00m\u001b[38;5;250m \u001b[39m\u001b[34;01mlangchain_core\u001b[39;00m\u001b[34;01m.\u001b[39;00m\u001b[34;01mrunnables\u001b[39;00m\u001b[34;01m.\u001b[39;00m\u001b[34;01mgraph_mermaid\u001b[39;00m\u001b[38;5;250m \u001b[39m\u001b[38;5;28;01mimport\u001b[39;00m draw_mermaid_png\n\u001b[32m    687\u001b[39m mermaid_syntax = \u001b[38;5;28mself\u001b[39m.draw_mermaid(\n\u001b[32m    688\u001b[39m     curve_style=curve_style,\n\u001b[32m    689\u001b[39m     node_colors=node_colors,\n\u001b[32m    690\u001b[39m     wrap_label_n_words=wrap_label_n_words,\n\u001b[32m    691\u001b[39m     frontmatter_config=frontmatter_config,\n\u001b[32m    692\u001b[39m )\n\u001b[32m--> \u001b[39m\u001b[32m693\u001b[39m \u001b[38;5;28;01mreturn\u001b[39;00m \u001b[43mdraw_mermaid_png\u001b[49m\u001b[43m(\u001b[49m\n\u001b[32m    694\u001b[39m \u001b[43m    \u001b[49m\u001b[43mmermaid_syntax\u001b[49m\u001b[43m=\u001b[49m\u001b[43mmermaid_syntax\u001b[49m\u001b[43m,\u001b[49m\n\u001b[32m    695\u001b[39m \u001b[43m    \u001b[49m\u001b[43moutput_file_path\u001b[49m\u001b[43m=\u001b[49m\u001b[43moutput_file_path\u001b[49m\u001b[43m,\u001b[49m\n\u001b[32m    696\u001b[39m \u001b[43m    \u001b[49m\u001b[43mdraw_method\u001b[49m\u001b[43m=\u001b[49m\u001b[43mdraw_method\u001b[49m\u001b[43m,\u001b[49m\n\u001b[32m    697\u001b[39m \u001b[43m    \u001b[49m\u001b[43mbackground_color\u001b[49m\u001b[43m=\u001b[49m\u001b[43mbackground_color\u001b[49m\u001b[43m,\u001b[49m\n\u001b[32m    698\u001b[39m \u001b[43m    \u001b[49m\u001b[43mpadding\u001b[49m\u001b[43m=\u001b[49m\u001b[43mpadding\u001b[49m\u001b[43m,\u001b[49m\n\u001b[32m    699\u001b[39m \u001b[43m    \u001b[49m\u001b[43mmax_retries\u001b[49m\u001b[43m=\u001b[49m\u001b[43mmax_retries\u001b[49m\u001b[43m,\u001b[49m\n\u001b[32m    700\u001b[39m \u001b[43m    \u001b[49m\u001b[43mretry_delay\u001b[49m\u001b[43m=\u001b[49m\u001b[43mretry_delay\u001b[49m\u001b[43m,\u001b[49m\n\u001b[32m    701\u001b[39m \u001b[43m\u001b[49m\u001b[43m)\u001b[49m\n",
      "\u001b[36mFile \u001b[39m\u001b[32md:\\GitHub\\Open source\\data-science\\ai_engineer\\LangGraph\\.venv\\Lib\\site-packages\\langchain_core\\runnables\\graph_mermaid.py:293\u001b[39m, in \u001b[36mdraw_mermaid_png\u001b[39m\u001b[34m(mermaid_syntax, output_file_path, draw_method, background_color, padding, max_retries, retry_delay)\u001b[39m\n\u001b[32m    287\u001b[39m     img_bytes = asyncio.run(\n\u001b[32m    288\u001b[39m         _render_mermaid_using_pyppeteer(\n\u001b[32m    289\u001b[39m             mermaid_syntax, output_file_path, background_color, padding\n\u001b[32m    290\u001b[39m         )\n\u001b[32m    291\u001b[39m     )\n\u001b[32m    292\u001b[39m \u001b[38;5;28;01melif\u001b[39;00m draw_method == MermaidDrawMethod.API:\n\u001b[32m--> \u001b[39m\u001b[32m293\u001b[39m     img_bytes = \u001b[43m_render_mermaid_using_api\u001b[49m\u001b[43m(\u001b[49m\n\u001b[32m    294\u001b[39m \u001b[43m        \u001b[49m\u001b[43mmermaid_syntax\u001b[49m\u001b[43m,\u001b[49m\n\u001b[32m    295\u001b[39m \u001b[43m        \u001b[49m\u001b[43moutput_file_path\u001b[49m\u001b[43m=\u001b[49m\u001b[43moutput_file_path\u001b[49m\u001b[43m,\u001b[49m\n\u001b[32m    296\u001b[39m \u001b[43m        \u001b[49m\u001b[43mbackground_color\u001b[49m\u001b[43m=\u001b[49m\u001b[43mbackground_color\u001b[49m\u001b[43m,\u001b[49m\n\u001b[32m    297\u001b[39m \u001b[43m        \u001b[49m\u001b[43mmax_retries\u001b[49m\u001b[43m=\u001b[49m\u001b[43mmax_retries\u001b[49m\u001b[43m,\u001b[49m\n\u001b[32m    298\u001b[39m \u001b[43m        \u001b[49m\u001b[43mretry_delay\u001b[49m\u001b[43m=\u001b[49m\u001b[43mretry_delay\u001b[49m\u001b[43m,\u001b[49m\n\u001b[32m    299\u001b[39m \u001b[43m    \u001b[49m\u001b[43m)\u001b[49m\n\u001b[32m    300\u001b[39m \u001b[38;5;28;01melse\u001b[39;00m:\n\u001b[32m    301\u001b[39m     supported_methods = \u001b[33m\"\u001b[39m\u001b[33m, \u001b[39m\u001b[33m\"\u001b[39m.join([m.value \u001b[38;5;28;01mfor\u001b[39;00m m \u001b[38;5;129;01min\u001b[39;00m MermaidDrawMethod])\n",
      "\u001b[36mFile \u001b[39m\u001b[32md:\\GitHub\\Open source\\data-science\\ai_engineer\\LangGraph\\.venv\\Lib\\site-packages\\langchain_core\\runnables\\graph_mermaid.py:430\u001b[39m, in \u001b[36m_render_mermaid_using_api\u001b[39m\u001b[34m(mermaid_syntax, output_file_path, background_color, file_type, max_retries, retry_delay)\u001b[39m\n\u001b[32m    428\u001b[39m \u001b[38;5;28;01mfor\u001b[39;00m attempt \u001b[38;5;129;01min\u001b[39;00m \u001b[38;5;28mrange\u001b[39m(max_retries + \u001b[32m1\u001b[39m):\n\u001b[32m    429\u001b[39m     \u001b[38;5;28;01mtry\u001b[39;00m:\n\u001b[32m--> \u001b[39m\u001b[32m430\u001b[39m         response = \u001b[43mrequests\u001b[49m\u001b[43m.\u001b[49m\u001b[43mget\u001b[49m\u001b[43m(\u001b[49m\u001b[43mimage_url\u001b[49m\u001b[43m,\u001b[49m\u001b[43m \u001b[49m\u001b[43mtimeout\u001b[49m\u001b[43m=\u001b[49m\u001b[32;43m10\u001b[39;49m\u001b[43m)\u001b[49m\n\u001b[32m    431\u001b[39m         \u001b[38;5;28;01mif\u001b[39;00m response.status_code == requests.codes.ok:\n\u001b[32m    432\u001b[39m             img_bytes = response.content\n",
      "\u001b[36mFile \u001b[39m\u001b[32md:\\GitHub\\Open source\\data-science\\ai_engineer\\LangGraph\\.venv\\Lib\\site-packages\\requests\\api.py:73\u001b[39m, in \u001b[36mget\u001b[39m\u001b[34m(url, params, **kwargs)\u001b[39m\n\u001b[32m     62\u001b[39m \u001b[38;5;28;01mdef\u001b[39;00m\u001b[38;5;250m \u001b[39m\u001b[34mget\u001b[39m(url, params=\u001b[38;5;28;01mNone\u001b[39;00m, **kwargs):\n\u001b[32m     63\u001b[39m \u001b[38;5;250m    \u001b[39m\u001b[33mr\u001b[39m\u001b[33;03m\"\"\"Sends a GET request.\u001b[39;00m\n\u001b[32m     64\u001b[39m \n\u001b[32m     65\u001b[39m \u001b[33;03m    :param url: URL for the new :class:`Request` object.\u001b[39;00m\n\u001b[32m   (...)\u001b[39m\u001b[32m     70\u001b[39m \u001b[33;03m    :rtype: requests.Response\u001b[39;00m\n\u001b[32m     71\u001b[39m \u001b[33;03m    \"\"\"\u001b[39;00m\n\u001b[32m---> \u001b[39m\u001b[32m73\u001b[39m     \u001b[38;5;28;01mreturn\u001b[39;00m \u001b[43mrequest\u001b[49m\u001b[43m(\u001b[49m\u001b[33;43m\"\u001b[39;49m\u001b[33;43mget\u001b[39;49m\u001b[33;43m\"\u001b[39;49m\u001b[43m,\u001b[49m\u001b[43m \u001b[49m\u001b[43murl\u001b[49m\u001b[43m,\u001b[49m\u001b[43m \u001b[49m\u001b[43mparams\u001b[49m\u001b[43m=\u001b[49m\u001b[43mparams\u001b[49m\u001b[43m,\u001b[49m\u001b[43m \u001b[49m\u001b[43m*\u001b[49m\u001b[43m*\u001b[49m\u001b[43mkwargs\u001b[49m\u001b[43m)\u001b[49m\n",
      "\u001b[36mFile \u001b[39m\u001b[32md:\\GitHub\\Open source\\data-science\\ai_engineer\\LangGraph\\.venv\\Lib\\site-packages\\requests\\api.py:59\u001b[39m, in \u001b[36mrequest\u001b[39m\u001b[34m(method, url, **kwargs)\u001b[39m\n\u001b[32m     55\u001b[39m \u001b[38;5;66;03m# By using the 'with' statement we are sure the session is closed, thus we\u001b[39;00m\n\u001b[32m     56\u001b[39m \u001b[38;5;66;03m# avoid leaving sockets open which can trigger a ResourceWarning in some\u001b[39;00m\n\u001b[32m     57\u001b[39m \u001b[38;5;66;03m# cases, and look like a memory leak in others.\u001b[39;00m\n\u001b[32m     58\u001b[39m \u001b[38;5;28;01mwith\u001b[39;00m sessions.Session() \u001b[38;5;28;01mas\u001b[39;00m session:\n\u001b[32m---> \u001b[39m\u001b[32m59\u001b[39m     \u001b[38;5;28;01mreturn\u001b[39;00m \u001b[43msession\u001b[49m\u001b[43m.\u001b[49m\u001b[43mrequest\u001b[49m\u001b[43m(\u001b[49m\u001b[43mmethod\u001b[49m\u001b[43m=\u001b[49m\u001b[43mmethod\u001b[49m\u001b[43m,\u001b[49m\u001b[43m \u001b[49m\u001b[43murl\u001b[49m\u001b[43m=\u001b[49m\u001b[43murl\u001b[49m\u001b[43m,\u001b[49m\u001b[43m \u001b[49m\u001b[43m*\u001b[49m\u001b[43m*\u001b[49m\u001b[43mkwargs\u001b[49m\u001b[43m)\u001b[49m\n",
      "\u001b[36mFile \u001b[39m\u001b[32md:\\GitHub\\Open source\\data-science\\ai_engineer\\LangGraph\\.venv\\Lib\\site-packages\\requests\\sessions.py:589\u001b[39m, in \u001b[36mSession.request\u001b[39m\u001b[34m(self, method, url, params, data, headers, cookies, files, auth, timeout, allow_redirects, proxies, hooks, stream, verify, cert, json)\u001b[39m\n\u001b[32m    584\u001b[39m send_kwargs = {\n\u001b[32m    585\u001b[39m     \u001b[33m\"\u001b[39m\u001b[33mtimeout\u001b[39m\u001b[33m\"\u001b[39m: timeout,\n\u001b[32m    586\u001b[39m     \u001b[33m\"\u001b[39m\u001b[33mallow_redirects\u001b[39m\u001b[33m\"\u001b[39m: allow_redirects,\n\u001b[32m    587\u001b[39m }\n\u001b[32m    588\u001b[39m send_kwargs.update(settings)\n\u001b[32m--> \u001b[39m\u001b[32m589\u001b[39m resp = \u001b[38;5;28;43mself\u001b[39;49m\u001b[43m.\u001b[49m\u001b[43msend\u001b[49m\u001b[43m(\u001b[49m\u001b[43mprep\u001b[49m\u001b[43m,\u001b[49m\u001b[43m \u001b[49m\u001b[43m*\u001b[49m\u001b[43m*\u001b[49m\u001b[43msend_kwargs\u001b[49m\u001b[43m)\u001b[49m\n\u001b[32m    591\u001b[39m \u001b[38;5;28;01mreturn\u001b[39;00m resp\n",
      "\u001b[36mFile \u001b[39m\u001b[32md:\\GitHub\\Open source\\data-science\\ai_engineer\\LangGraph\\.venv\\Lib\\site-packages\\requests\\sessions.py:703\u001b[39m, in \u001b[36mSession.send\u001b[39m\u001b[34m(self, request, **kwargs)\u001b[39m\n\u001b[32m    700\u001b[39m start = preferred_clock()\n\u001b[32m    702\u001b[39m \u001b[38;5;66;03m# Send the request\u001b[39;00m\n\u001b[32m--> \u001b[39m\u001b[32m703\u001b[39m r = \u001b[43madapter\u001b[49m\u001b[43m.\u001b[49m\u001b[43msend\u001b[49m\u001b[43m(\u001b[49m\u001b[43mrequest\u001b[49m\u001b[43m,\u001b[49m\u001b[43m \u001b[49m\u001b[43m*\u001b[49m\u001b[43m*\u001b[49m\u001b[43mkwargs\u001b[49m\u001b[43m)\u001b[49m\n\u001b[32m    705\u001b[39m \u001b[38;5;66;03m# Total elapsed time of the request (approximately)\u001b[39;00m\n\u001b[32m    706\u001b[39m elapsed = preferred_clock() - start\n",
      "\u001b[36mFile \u001b[39m\u001b[32md:\\GitHub\\Open source\\data-science\\ai_engineer\\LangGraph\\.venv\\Lib\\site-packages\\requests\\adapters.py:667\u001b[39m, in \u001b[36mHTTPAdapter.send\u001b[39m\u001b[34m(self, request, stream, timeout, verify, cert, proxies)\u001b[39m\n\u001b[32m    664\u001b[39m     timeout = TimeoutSauce(connect=timeout, read=timeout)\n\u001b[32m    666\u001b[39m \u001b[38;5;28;01mtry\u001b[39;00m:\n\u001b[32m--> \u001b[39m\u001b[32m667\u001b[39m     resp = \u001b[43mconn\u001b[49m\u001b[43m.\u001b[49m\u001b[43murlopen\u001b[49m\u001b[43m(\u001b[49m\n\u001b[32m    668\u001b[39m \u001b[43m        \u001b[49m\u001b[43mmethod\u001b[49m\u001b[43m=\u001b[49m\u001b[43mrequest\u001b[49m\u001b[43m.\u001b[49m\u001b[43mmethod\u001b[49m\u001b[43m,\u001b[49m\n\u001b[32m    669\u001b[39m \u001b[43m        \u001b[49m\u001b[43murl\u001b[49m\u001b[43m=\u001b[49m\u001b[43murl\u001b[49m\u001b[43m,\u001b[49m\n\u001b[32m    670\u001b[39m \u001b[43m        \u001b[49m\u001b[43mbody\u001b[49m\u001b[43m=\u001b[49m\u001b[43mrequest\u001b[49m\u001b[43m.\u001b[49m\u001b[43mbody\u001b[49m\u001b[43m,\u001b[49m\n\u001b[32m    671\u001b[39m \u001b[43m        \u001b[49m\u001b[43mheaders\u001b[49m\u001b[43m=\u001b[49m\u001b[43mrequest\u001b[49m\u001b[43m.\u001b[49m\u001b[43mheaders\u001b[49m\u001b[43m,\u001b[49m\n\u001b[32m    672\u001b[39m \u001b[43m        \u001b[49m\u001b[43mredirect\u001b[49m\u001b[43m=\u001b[49m\u001b[38;5;28;43;01mFalse\u001b[39;49;00m\u001b[43m,\u001b[49m\n\u001b[32m    673\u001b[39m \u001b[43m        \u001b[49m\u001b[43massert_same_host\u001b[49m\u001b[43m=\u001b[49m\u001b[38;5;28;43;01mFalse\u001b[39;49;00m\u001b[43m,\u001b[49m\n\u001b[32m    674\u001b[39m \u001b[43m        \u001b[49m\u001b[43mpreload_content\u001b[49m\u001b[43m=\u001b[49m\u001b[38;5;28;43;01mFalse\u001b[39;49;00m\u001b[43m,\u001b[49m\n\u001b[32m    675\u001b[39m \u001b[43m        \u001b[49m\u001b[43mdecode_content\u001b[49m\u001b[43m=\u001b[49m\u001b[38;5;28;43;01mFalse\u001b[39;49;00m\u001b[43m,\u001b[49m\n\u001b[32m    676\u001b[39m \u001b[43m        \u001b[49m\u001b[43mretries\u001b[49m\u001b[43m=\u001b[49m\u001b[38;5;28;43mself\u001b[39;49m\u001b[43m.\u001b[49m\u001b[43mmax_retries\u001b[49m\u001b[43m,\u001b[49m\n\u001b[32m    677\u001b[39m \u001b[43m        \u001b[49m\u001b[43mtimeout\u001b[49m\u001b[43m=\u001b[49m\u001b[43mtimeout\u001b[49m\u001b[43m,\u001b[49m\n\u001b[32m    678\u001b[39m \u001b[43m        \u001b[49m\u001b[43mchunked\u001b[49m\u001b[43m=\u001b[49m\u001b[43mchunked\u001b[49m\u001b[43m,\u001b[49m\n\u001b[32m    679\u001b[39m \u001b[43m    \u001b[49m\u001b[43m)\u001b[49m\n\u001b[32m    681\u001b[39m \u001b[38;5;28;01mexcept\u001b[39;00m (ProtocolError, \u001b[38;5;167;01mOSError\u001b[39;00m) \u001b[38;5;28;01mas\u001b[39;00m err:\n\u001b[32m    682\u001b[39m     \u001b[38;5;28;01mraise\u001b[39;00m \u001b[38;5;167;01mConnectionError\u001b[39;00m(err, request=request)\n",
      "\u001b[36mFile \u001b[39m\u001b[32md:\\GitHub\\Open source\\data-science\\ai_engineer\\LangGraph\\.venv\\Lib\\site-packages\\urllib3\\connectionpool.py:787\u001b[39m, in \u001b[36mHTTPConnectionPool.urlopen\u001b[39m\u001b[34m(self, method, url, body, headers, retries, redirect, assert_same_host, timeout, pool_timeout, release_conn, chunked, body_pos, preload_content, decode_content, **response_kw)\u001b[39m\n\u001b[32m    784\u001b[39m response_conn = conn \u001b[38;5;28;01mif\u001b[39;00m \u001b[38;5;129;01mnot\u001b[39;00m release_conn \u001b[38;5;28;01melse\u001b[39;00m \u001b[38;5;28;01mNone\u001b[39;00m\n\u001b[32m    786\u001b[39m \u001b[38;5;66;03m# Make the request on the HTTPConnection object\u001b[39;00m\n\u001b[32m--> \u001b[39m\u001b[32m787\u001b[39m response = \u001b[38;5;28;43mself\u001b[39;49m\u001b[43m.\u001b[49m\u001b[43m_make_request\u001b[49m\u001b[43m(\u001b[49m\n\u001b[32m    788\u001b[39m \u001b[43m    \u001b[49m\u001b[43mconn\u001b[49m\u001b[43m,\u001b[49m\n\u001b[32m    789\u001b[39m \u001b[43m    \u001b[49m\u001b[43mmethod\u001b[49m\u001b[43m,\u001b[49m\n\u001b[32m    790\u001b[39m \u001b[43m    \u001b[49m\u001b[43murl\u001b[49m\u001b[43m,\u001b[49m\n\u001b[32m    791\u001b[39m \u001b[43m    \u001b[49m\u001b[43mtimeout\u001b[49m\u001b[43m=\u001b[49m\u001b[43mtimeout_obj\u001b[49m\u001b[43m,\u001b[49m\n\u001b[32m    792\u001b[39m \u001b[43m    \u001b[49m\u001b[43mbody\u001b[49m\u001b[43m=\u001b[49m\u001b[43mbody\u001b[49m\u001b[43m,\u001b[49m\n\u001b[32m    793\u001b[39m \u001b[43m    \u001b[49m\u001b[43mheaders\u001b[49m\u001b[43m=\u001b[49m\u001b[43mheaders\u001b[49m\u001b[43m,\u001b[49m\n\u001b[32m    794\u001b[39m \u001b[43m    \u001b[49m\u001b[43mchunked\u001b[49m\u001b[43m=\u001b[49m\u001b[43mchunked\u001b[49m\u001b[43m,\u001b[49m\n\u001b[32m    795\u001b[39m \u001b[43m    \u001b[49m\u001b[43mretries\u001b[49m\u001b[43m=\u001b[49m\u001b[43mretries\u001b[49m\u001b[43m,\u001b[49m\n\u001b[32m    796\u001b[39m \u001b[43m    \u001b[49m\u001b[43mresponse_conn\u001b[49m\u001b[43m=\u001b[49m\u001b[43mresponse_conn\u001b[49m\u001b[43m,\u001b[49m\n\u001b[32m    797\u001b[39m \u001b[43m    \u001b[49m\u001b[43mpreload_content\u001b[49m\u001b[43m=\u001b[49m\u001b[43mpreload_content\u001b[49m\u001b[43m,\u001b[49m\n\u001b[32m    798\u001b[39m \u001b[43m    \u001b[49m\u001b[43mdecode_content\u001b[49m\u001b[43m=\u001b[49m\u001b[43mdecode_content\u001b[49m\u001b[43m,\u001b[49m\n\u001b[32m    799\u001b[39m \u001b[43m    \u001b[49m\u001b[43m*\u001b[49m\u001b[43m*\u001b[49m\u001b[43mresponse_kw\u001b[49m\u001b[43m,\u001b[49m\n\u001b[32m    800\u001b[39m \u001b[43m\u001b[49m\u001b[43m)\u001b[49m\n\u001b[32m    802\u001b[39m \u001b[38;5;66;03m# Everything went great!\u001b[39;00m\n\u001b[32m    803\u001b[39m clean_exit = \u001b[38;5;28;01mTrue\u001b[39;00m\n",
      "\u001b[36mFile \u001b[39m\u001b[32md:\\GitHub\\Open source\\data-science\\ai_engineer\\LangGraph\\.venv\\Lib\\site-packages\\urllib3\\connectionpool.py:534\u001b[39m, in \u001b[36mHTTPConnectionPool._make_request\u001b[39m\u001b[34m(self, conn, method, url, body, headers, retries, timeout, chunked, response_conn, preload_content, decode_content, enforce_content_length)\u001b[39m\n\u001b[32m    532\u001b[39m \u001b[38;5;66;03m# Receive the response from the server\u001b[39;00m\n\u001b[32m    533\u001b[39m \u001b[38;5;28;01mtry\u001b[39;00m:\n\u001b[32m--> \u001b[39m\u001b[32m534\u001b[39m     response = \u001b[43mconn\u001b[49m\u001b[43m.\u001b[49m\u001b[43mgetresponse\u001b[49m\u001b[43m(\u001b[49m\u001b[43m)\u001b[49m\n\u001b[32m    535\u001b[39m \u001b[38;5;28;01mexcept\u001b[39;00m (BaseSSLError, \u001b[38;5;167;01mOSError\u001b[39;00m) \u001b[38;5;28;01mas\u001b[39;00m e:\n\u001b[32m    536\u001b[39m     \u001b[38;5;28mself\u001b[39m._raise_timeout(err=e, url=url, timeout_value=read_timeout)\n",
      "\u001b[36mFile \u001b[39m\u001b[32md:\\GitHub\\Open source\\data-science\\ai_engineer\\LangGraph\\.venv\\Lib\\site-packages\\urllib3\\connection.py:565\u001b[39m, in \u001b[36mHTTPConnection.getresponse\u001b[39m\u001b[34m(self)\u001b[39m\n\u001b[32m    562\u001b[39m _shutdown = \u001b[38;5;28mgetattr\u001b[39m(\u001b[38;5;28mself\u001b[39m.sock, \u001b[33m\"\u001b[39m\u001b[33mshutdown\u001b[39m\u001b[33m\"\u001b[39m, \u001b[38;5;28;01mNone\u001b[39;00m)\n\u001b[32m    564\u001b[39m \u001b[38;5;66;03m# Get the response from http.client.HTTPConnection\u001b[39;00m\n\u001b[32m--> \u001b[39m\u001b[32m565\u001b[39m httplib_response = \u001b[38;5;28;43msuper\u001b[39;49m\u001b[43m(\u001b[49m\u001b[43m)\u001b[49m\u001b[43m.\u001b[49m\u001b[43mgetresponse\u001b[49m\u001b[43m(\u001b[49m\u001b[43m)\u001b[49m\n\u001b[32m    567\u001b[39m \u001b[38;5;28;01mtry\u001b[39;00m:\n\u001b[32m    568\u001b[39m     assert_header_parsing(httplib_response.msg)\n",
      "\u001b[36mFile \u001b[39m\u001b[32m~\\AppData\\Local\\Programs\\Python\\Python311\\Lib\\http\\client.py:1395\u001b[39m, in \u001b[36mHTTPConnection.getresponse\u001b[39m\u001b[34m(self)\u001b[39m\n\u001b[32m   1393\u001b[39m \u001b[38;5;28;01mtry\u001b[39;00m:\n\u001b[32m   1394\u001b[39m     \u001b[38;5;28;01mtry\u001b[39;00m:\n\u001b[32m-> \u001b[39m\u001b[32m1395\u001b[39m         \u001b[43mresponse\u001b[49m\u001b[43m.\u001b[49m\u001b[43mbegin\u001b[49m\u001b[43m(\u001b[49m\u001b[43m)\u001b[49m\n\u001b[32m   1396\u001b[39m     \u001b[38;5;28;01mexcept\u001b[39;00m \u001b[38;5;167;01mConnectionError\u001b[39;00m:\n\u001b[32m   1397\u001b[39m         \u001b[38;5;28mself\u001b[39m.close()\n",
      "\u001b[36mFile \u001b[39m\u001b[32m~\\AppData\\Local\\Programs\\Python\\Python311\\Lib\\http\\client.py:325\u001b[39m, in \u001b[36mHTTPResponse.begin\u001b[39m\u001b[34m(self)\u001b[39m\n\u001b[32m    323\u001b[39m \u001b[38;5;66;03m# read until we get a non-100 response\u001b[39;00m\n\u001b[32m    324\u001b[39m \u001b[38;5;28;01mwhile\u001b[39;00m \u001b[38;5;28;01mTrue\u001b[39;00m:\n\u001b[32m--> \u001b[39m\u001b[32m325\u001b[39m     version, status, reason = \u001b[38;5;28;43mself\u001b[39;49m\u001b[43m.\u001b[49m\u001b[43m_read_status\u001b[49m\u001b[43m(\u001b[49m\u001b[43m)\u001b[49m\n\u001b[32m    326\u001b[39m     \u001b[38;5;28;01mif\u001b[39;00m status != CONTINUE:\n\u001b[32m    327\u001b[39m         \u001b[38;5;28;01mbreak\u001b[39;00m\n",
      "\u001b[36mFile \u001b[39m\u001b[32m~\\AppData\\Local\\Programs\\Python\\Python311\\Lib\\http\\client.py:286\u001b[39m, in \u001b[36mHTTPResponse._read_status\u001b[39m\u001b[34m(self)\u001b[39m\n\u001b[32m    285\u001b[39m \u001b[38;5;28;01mdef\u001b[39;00m\u001b[38;5;250m \u001b[39m\u001b[34m_read_status\u001b[39m(\u001b[38;5;28mself\u001b[39m):\n\u001b[32m--> \u001b[39m\u001b[32m286\u001b[39m     line = \u001b[38;5;28mstr\u001b[39m(\u001b[38;5;28mself\u001b[39m.fp.readline(_MAXLINE + \u001b[32m1\u001b[39m), \u001b[33m\"\u001b[39m\u001b[33miso-8859-1\u001b[39m\u001b[33m\"\u001b[39m)\n\u001b[32m    287\u001b[39m     \u001b[38;5;28;01mif\u001b[39;00m \u001b[38;5;28mlen\u001b[39m(line) > _MAXLINE:\n\u001b[32m    288\u001b[39m         \u001b[38;5;28;01mraise\u001b[39;00m LineTooLong(\u001b[33m\"\u001b[39m\u001b[33mstatus line\u001b[39m\u001b[33m\"\u001b[39m)\n",
      "\u001b[36mFile \u001b[39m\u001b[32m~\\AppData\\Local\\Programs\\Python\\Python311\\Lib\\socket.py:706\u001b[39m, in \u001b[36mSocketIO.readinto\u001b[39m\u001b[34m(self, b)\u001b[39m\n\u001b[32m    704\u001b[39m \u001b[38;5;28;01mwhile\u001b[39;00m \u001b[38;5;28;01mTrue\u001b[39;00m:\n\u001b[32m    705\u001b[39m     \u001b[38;5;28;01mtry\u001b[39;00m:\n\u001b[32m--> \u001b[39m\u001b[32m706\u001b[39m         \u001b[38;5;28;01mreturn\u001b[39;00m \u001b[38;5;28;43mself\u001b[39;49m\u001b[43m.\u001b[49m\u001b[43m_sock\u001b[49m\u001b[43m.\u001b[49m\u001b[43mrecv_into\u001b[49m\u001b[43m(\u001b[49m\u001b[43mb\u001b[49m\u001b[43m)\u001b[49m\n\u001b[32m    707\u001b[39m     \u001b[38;5;28;01mexcept\u001b[39;00m timeout:\n\u001b[32m    708\u001b[39m         \u001b[38;5;28mself\u001b[39m._timeout_occurred = \u001b[38;5;28;01mTrue\u001b[39;00m\n",
      "\u001b[36mFile \u001b[39m\u001b[32m~\\AppData\\Local\\Programs\\Python\\Python311\\Lib\\ssl.py:1314\u001b[39m, in \u001b[36mSSLSocket.recv_into\u001b[39m\u001b[34m(self, buffer, nbytes, flags)\u001b[39m\n\u001b[32m   1310\u001b[39m     \u001b[38;5;28;01mif\u001b[39;00m flags != \u001b[32m0\u001b[39m:\n\u001b[32m   1311\u001b[39m         \u001b[38;5;28;01mraise\u001b[39;00m \u001b[38;5;167;01mValueError\u001b[39;00m(\n\u001b[32m   1312\u001b[39m           \u001b[33m\"\u001b[39m\u001b[33mnon-zero flags not allowed in calls to recv_into() on \u001b[39m\u001b[38;5;132;01m%s\u001b[39;00m\u001b[33m\"\u001b[39m %\n\u001b[32m   1313\u001b[39m           \u001b[38;5;28mself\u001b[39m.\u001b[34m__class__\u001b[39m)\n\u001b[32m-> \u001b[39m\u001b[32m1314\u001b[39m     \u001b[38;5;28;01mreturn\u001b[39;00m \u001b[38;5;28;43mself\u001b[39;49m\u001b[43m.\u001b[49m\u001b[43mread\u001b[49m\u001b[43m(\u001b[49m\u001b[43mnbytes\u001b[49m\u001b[43m,\u001b[49m\u001b[43m \u001b[49m\u001b[43mbuffer\u001b[49m\u001b[43m)\u001b[49m\n\u001b[32m   1315\u001b[39m \u001b[38;5;28;01melse\u001b[39;00m:\n\u001b[32m   1316\u001b[39m     \u001b[38;5;28;01mreturn\u001b[39;00m \u001b[38;5;28msuper\u001b[39m().recv_into(buffer, nbytes, flags)\n",
      "\u001b[36mFile \u001b[39m\u001b[32m~\\AppData\\Local\\Programs\\Python\\Python311\\Lib\\ssl.py:1166\u001b[39m, in \u001b[36mSSLSocket.read\u001b[39m\u001b[34m(self, len, buffer)\u001b[39m\n\u001b[32m   1164\u001b[39m \u001b[38;5;28;01mtry\u001b[39;00m:\n\u001b[32m   1165\u001b[39m     \u001b[38;5;28;01mif\u001b[39;00m buffer \u001b[38;5;129;01mis\u001b[39;00m \u001b[38;5;129;01mnot\u001b[39;00m \u001b[38;5;28;01mNone\u001b[39;00m:\n\u001b[32m-> \u001b[39m\u001b[32m1166\u001b[39m         \u001b[38;5;28;01mreturn\u001b[39;00m \u001b[38;5;28;43mself\u001b[39;49m\u001b[43m.\u001b[49m\u001b[43m_sslobj\u001b[49m\u001b[43m.\u001b[49m\u001b[43mread\u001b[49m\u001b[43m(\u001b[49m\u001b[38;5;28;43mlen\u001b[39;49m\u001b[43m,\u001b[49m\u001b[43m \u001b[49m\u001b[43mbuffer\u001b[49m\u001b[43m)\u001b[49m\n\u001b[32m   1167\u001b[39m     \u001b[38;5;28;01melse\u001b[39;00m:\n\u001b[32m   1168\u001b[39m         \u001b[38;5;28;01mreturn\u001b[39;00m \u001b[38;5;28mself\u001b[39m._sslobj.read(\u001b[38;5;28mlen\u001b[39m)\n",
      "\u001b[31mKeyboardInterrupt\u001b[39m: "
     ]
    }
   ],
   "source": [
    "from IPython.display import Image, display\n",
    "# Try generating and displaying # the graph diagram\n",
    "try:    \n",
    "    display(Image(graph.get_graph().draw_mermaid_png()))\n",
    "    # Return an exception if necessary  \n",
    "except Exception:\n",
    "    print(\"Additional dependencies required.\")\n"
   ]
  },
  {
   "cell_type": "markdown",
   "id": "c6742c8e",
   "metadata": {},
   "source": [
    "# Adding external tools to a chatbot"
   ]
  },
  {
   "cell_type": "markdown",
   "id": "52f5fb8f",
   "metadata": {},
   "source": [
    "Adding a Wikipedia tool"
   ]
  },
  {
   "cell_type": "code",
   "execution_count": 6,
   "id": "48a3cbfd",
   "metadata": {},
   "outputs": [
    {
     "name": "stdout",
     "output_type": "stream",
     "text": [
      "Requirement already satisfied: wikipedia in d:\\github\\open source\\data-science\\ai_engineer\\langgraph\\.venv\\lib\\site-packages (1.4.0)\n",
      "Requirement already satisfied: beautifulsoup4 in d:\\github\\open source\\data-science\\ai_engineer\\langgraph\\.venv\\lib\\site-packages (from wikipedia) (4.13.4)\n",
      "Requirement already satisfied: requests<3.0.0,>=2.0.0 in d:\\github\\open source\\data-science\\ai_engineer\\langgraph\\.venv\\lib\\site-packages (from wikipedia) (2.32.4)\n",
      "Requirement already satisfied: charset_normalizer<4,>=2 in d:\\github\\open source\\data-science\\ai_engineer\\langgraph\\.venv\\lib\\site-packages (from requests<3.0.0,>=2.0.0->wikipedia) (3.4.2)\n",
      "Requirement already satisfied: idna<4,>=2.5 in d:\\github\\open source\\data-science\\ai_engineer\\langgraph\\.venv\\lib\\site-packages (from requests<3.0.0,>=2.0.0->wikipedia) (3.10)\n",
      "Requirement already satisfied: urllib3<3,>=1.21.1 in d:\\github\\open source\\data-science\\ai_engineer\\langgraph\\.venv\\lib\\site-packages (from requests<3.0.0,>=2.0.0->wikipedia) (2.5.0)\n",
      "Requirement already satisfied: certifi>=2017.4.17 in d:\\github\\open source\\data-science\\ai_engineer\\langgraph\\.venv\\lib\\site-packages (from requests<3.0.0,>=2.0.0->wikipedia) (2025.7.14)\n",
      "Requirement already satisfied: soupsieve>1.2 in d:\\github\\open source\\data-science\\ai_engineer\\langgraph\\.venv\\lib\\site-packages (from beautifulsoup4->wikipedia) (2.7)\n",
      "Requirement already satisfied: typing-extensions>=4.0.0 in d:\\github\\open source\\data-science\\ai_engineer\\langgraph\\.venv\\lib\\site-packages (from beautifulsoup4->wikipedia) (4.14.1)\n",
      "Note: you may need to restart the kernel to use updated packages.\n",
      "Requirement already satisfied: langchain-community in d:\\github\\open source\\data-science\\ai_engineer\\langgraph\\.venv\\lib\\site-packages (0.3.27)\n",
      "Requirement already satisfied: langchain-core<1.0.0,>=0.3.66 in d:\\github\\open source\\data-science\\ai_engineer\\langgraph\\.venv\\lib\\site-packages (from langchain-community) (0.3.72)\n",
      "Requirement already satisfied: langchain<1.0.0,>=0.3.26 in d:\\github\\open source\\data-science\\ai_engineer\\langgraph\\.venv\\lib\\site-packages (from langchain-community) (0.3.27)\n",
      "Requirement already satisfied: SQLAlchemy<3,>=1.4 in d:\\github\\open source\\data-science\\ai_engineer\\langgraph\\.venv\\lib\\site-packages (from langchain-community) (2.0.41)\n",
      "Requirement already satisfied: requests<3,>=2 in d:\\github\\open source\\data-science\\ai_engineer\\langgraph\\.venv\\lib\\site-packages (from langchain-community) (2.32.4)\n",
      "Requirement already satisfied: PyYAML>=5.3 in d:\\github\\open source\\data-science\\ai_engineer\\langgraph\\.venv\\lib\\site-packages (from langchain-community) (6.0.2)\n",
      "Requirement already satisfied: aiohttp<4.0.0,>=3.8.3 in d:\\github\\open source\\data-science\\ai_engineer\\langgraph\\.venv\\lib\\site-packages (from langchain-community) (3.12.14)\n",
      "Requirement already satisfied: tenacity!=8.4.0,<10,>=8.1.0 in d:\\github\\open source\\data-science\\ai_engineer\\langgraph\\.venv\\lib\\site-packages (from langchain-community) (9.1.2)\n",
      "Requirement already satisfied: dataclasses-json<0.7,>=0.5.7 in d:\\github\\open source\\data-science\\ai_engineer\\langgraph\\.venv\\lib\\site-packages (from langchain-community) (0.6.7)\n",
      "Requirement already satisfied: pydantic-settings<3.0.0,>=2.4.0 in d:\\github\\open source\\data-science\\ai_engineer\\langgraph\\.venv\\lib\\site-packages (from langchain-community) (2.10.1)\n",
      "Requirement already satisfied: langsmith>=0.1.125 in d:\\github\\open source\\data-science\\ai_engineer\\langgraph\\.venv\\lib\\site-packages (from langchain-community) (0.4.8)\n",
      "Requirement already satisfied: httpx-sse<1.0.0,>=0.4.0 in d:\\github\\open source\\data-science\\ai_engineer\\langgraph\\.venv\\lib\\site-packages (from langchain-community) (0.4.1)\n",
      "Requirement already satisfied: numpy>=1.26.2 in d:\\github\\open source\\data-science\\ai_engineer\\langgraph\\.venv\\lib\\site-packages (from langchain-community) (2.3.2)\n",
      "Requirement already satisfied: aiohappyeyeballs>=2.5.0 in d:\\github\\open source\\data-science\\ai_engineer\\langgraph\\.venv\\lib\\site-packages (from aiohttp<4.0.0,>=3.8.3->langchain-community) (2.6.1)\n",
      "Requirement already satisfied: aiosignal>=1.4.0 in d:\\github\\open source\\data-science\\ai_engineer\\langgraph\\.venv\\lib\\site-packages (from aiohttp<4.0.0,>=3.8.3->langchain-community) (1.4.0)\n",
      "Requirement already satisfied: attrs>=17.3.0 in d:\\github\\open source\\data-science\\ai_engineer\\langgraph\\.venv\\lib\\site-packages (from aiohttp<4.0.0,>=3.8.3->langchain-community) (25.3.0)\n",
      "Requirement already satisfied: frozenlist>=1.1.1 in d:\\github\\open source\\data-science\\ai_engineer\\langgraph\\.venv\\lib\\site-packages (from aiohttp<4.0.0,>=3.8.3->langchain-community) (1.7.0)\n",
      "Requirement already satisfied: multidict<7.0,>=4.5 in d:\\github\\open source\\data-science\\ai_engineer\\langgraph\\.venv\\lib\\site-packages (from aiohttp<4.0.0,>=3.8.3->langchain-community) (6.6.3)\n",
      "Requirement already satisfied: propcache>=0.2.0 in d:\\github\\open source\\data-science\\ai_engineer\\langgraph\\.venv\\lib\\site-packages (from aiohttp<4.0.0,>=3.8.3->langchain-community) (0.3.2)\n",
      "Requirement already satisfied: yarl<2.0,>=1.17.0 in d:\\github\\open source\\data-science\\ai_engineer\\langgraph\\.venv\\lib\\site-packages (from aiohttp<4.0.0,>=3.8.3->langchain-community) (1.20.1)\n",
      "Requirement already satisfied: marshmallow<4.0.0,>=3.18.0 in d:\\github\\open source\\data-science\\ai_engineer\\langgraph\\.venv\\lib\\site-packages (from dataclasses-json<0.7,>=0.5.7->langchain-community) (3.26.1)\n",
      "Requirement already satisfied: typing-inspect<1,>=0.4.0 in d:\\github\\open source\\data-science\\ai_engineer\\langgraph\\.venv\\lib\\site-packages (from dataclasses-json<0.7,>=0.5.7->langchain-community) (0.9.0)\n",
      "Requirement already satisfied: langchain-text-splitters<1.0.0,>=0.3.9 in d:\\github\\open source\\data-science\\ai_engineer\\langgraph\\.venv\\lib\\site-packages (from langchain<1.0.0,>=0.3.26->langchain-community) (0.3.9)\n",
      "Requirement already satisfied: pydantic<3.0.0,>=2.7.4 in d:\\github\\open source\\data-science\\ai_engineer\\langgraph\\.venv\\lib\\site-packages (from langchain<1.0.0,>=0.3.26->langchain-community) (2.11.7)\n",
      "Requirement already satisfied: jsonpatch<2.0,>=1.33 in d:\\github\\open source\\data-science\\ai_engineer\\langgraph\\.venv\\lib\\site-packages (from langchain-core<1.0.0,>=0.3.66->langchain-community) (1.33)\n",
      "Requirement already satisfied: typing-extensions>=4.7 in d:\\github\\open source\\data-science\\ai_engineer\\langgraph\\.venv\\lib\\site-packages (from langchain-core<1.0.0,>=0.3.66->langchain-community) (4.14.1)\n",
      "Requirement already satisfied: packaging>=23.2 in d:\\github\\open source\\data-science\\ai_engineer\\langgraph\\.venv\\lib\\site-packages (from langchain-core<1.0.0,>=0.3.66->langchain-community) (25.0)\n",
      "Requirement already satisfied: jsonpointer>=1.9 in d:\\github\\open source\\data-science\\ai_engineer\\langgraph\\.venv\\lib\\site-packages (from jsonpatch<2.0,>=1.33->langchain-core<1.0.0,>=0.3.66->langchain-community) (3.0.0)\n",
      "Requirement already satisfied: annotated-types>=0.6.0 in d:\\github\\open source\\data-science\\ai_engineer\\langgraph\\.venv\\lib\\site-packages (from pydantic<3.0.0,>=2.7.4->langchain<1.0.0,>=0.3.26->langchain-community) (0.7.0)\n",
      "Requirement already satisfied: pydantic-core==2.33.2 in d:\\github\\open source\\data-science\\ai_engineer\\langgraph\\.venv\\lib\\site-packages (from pydantic<3.0.0,>=2.7.4->langchain<1.0.0,>=0.3.26->langchain-community) (2.33.2)\n",
      "Requirement already satisfied: typing-inspection>=0.4.0 in d:\\github\\open source\\data-science\\ai_engineer\\langgraph\\.venv\\lib\\site-packages (from pydantic<3.0.0,>=2.7.4->langchain<1.0.0,>=0.3.26->langchain-community) (0.4.1)\n",
      "Requirement already satisfied: python-dotenv>=0.21.0 in d:\\github\\open source\\data-science\\ai_engineer\\langgraph\\.venv\\lib\\site-packages (from pydantic-settings<3.0.0,>=2.4.0->langchain-community) (1.1.1)\n",
      "Requirement already satisfied: charset_normalizer<4,>=2 in d:\\github\\open source\\data-science\\ai_engineer\\langgraph\\.venv\\lib\\site-packages (from requests<3,>=2->langchain-community) (3.4.2)\n",
      "Requirement already satisfied: idna<4,>=2.5 in d:\\github\\open source\\data-science\\ai_engineer\\langgraph\\.venv\\lib\\site-packages (from requests<3,>=2->langchain-community) (3.10)\n",
      "Requirement already satisfied: urllib3<3,>=1.21.1 in d:\\github\\open source\\data-science\\ai_engineer\\langgraph\\.venv\\lib\\site-packages (from requests<3,>=2->langchain-community) (2.5.0)\n",
      "Requirement already satisfied: certifi>=2017.4.17 in d:\\github\\open source\\data-science\\ai_engineer\\langgraph\\.venv\\lib\\site-packages (from requests<3,>=2->langchain-community) (2025.7.14)\n",
      "Requirement already satisfied: greenlet>=1 in d:\\github\\open source\\data-science\\ai_engineer\\langgraph\\.venv\\lib\\site-packages (from SQLAlchemy<3,>=1.4->langchain-community) (3.2.3)\n",
      "Requirement already satisfied: mypy-extensions>=0.3.0 in d:\\github\\open source\\data-science\\ai_engineer\\langgraph\\.venv\\lib\\site-packages (from typing-inspect<1,>=0.4.0->dataclasses-json<0.7,>=0.5.7->langchain-community) (1.1.0)\n",
      "Requirement already satisfied: httpx<1,>=0.23.0 in d:\\github\\open source\\data-science\\ai_engineer\\langgraph\\.venv\\lib\\site-packages (from langsmith>=0.1.125->langchain-community) (0.28.1)\n",
      "Requirement already satisfied: orjson<4.0.0,>=3.9.14 in d:\\github\\open source\\data-science\\ai_engineer\\langgraph\\.venv\\lib\\site-packages (from langsmith>=0.1.125->langchain-community) (3.11.1)\n",
      "Requirement already satisfied: requests-toolbelt<2.0.0,>=1.0.0 in d:\\github\\open source\\data-science\\ai_engineer\\langgraph\\.venv\\lib\\site-packages (from langsmith>=0.1.125->langchain-community) (1.0.0)\n",
      "Requirement already satisfied: zstandard<0.24.0,>=0.23.0 in d:\\github\\open source\\data-science\\ai_engineer\\langgraph\\.venv\\lib\\site-packages (from langsmith>=0.1.125->langchain-community) (0.23.0)\n",
      "Requirement already satisfied: anyio in d:\\github\\open source\\data-science\\ai_engineer\\langgraph\\.venv\\lib\\site-packages (from httpx<1,>=0.23.0->langsmith>=0.1.125->langchain-community) (4.9.0)\n",
      "Requirement already satisfied: httpcore==1.* in d:\\github\\open source\\data-science\\ai_engineer\\langgraph\\.venv\\lib\\site-packages (from httpx<1,>=0.23.0->langsmith>=0.1.125->langchain-community) (1.0.9)\n",
      "Requirement already satisfied: h11>=0.16 in d:\\github\\open source\\data-science\\ai_engineer\\langgraph\\.venv\\lib\\site-packages (from httpcore==1.*->httpx<1,>=0.23.0->langsmith>=0.1.125->langchain-community) (0.16.0)\n",
      "Requirement already satisfied: sniffio>=1.1 in d:\\github\\open source\\data-science\\ai_engineer\\langgraph\\.venv\\lib\\site-packages (from anyio->httpx<1,>=0.23.0->langsmith>=0.1.125->langchain-community) (1.3.1)\n",
      "Note: you may need to restart the kernel to use updated packages.\n"
     ]
    }
   ],
   "source": [
    "%pip install wikipedia\n",
    "%pip install langchain-community\n",
    "\n",
    "from langchain_community.utilities import WikipediaAPIWrapper\n",
    "from langchain_community.tools import WikipediaQueryRun\n",
    "\n",
    "# Initialize Wikipedia API wrapper to fetch top 1 result\n",
    "api_wrapper = WikipediaAPIWrapper(top_k_results=1)\n",
    "# Create a Wikipedia query tool using the API wrapper\n",
    "\n",
    "wikipedia_tool = WikipediaQueryRun(api_wrapper=api_wrapper)\n",
    "tools = [wikipedia_tool]"
   ]
  },
  {
   "cell_type": "code",
   "execution_count": 22,
   "id": "6002a979",
   "metadata": {},
   "outputs": [],
   "source": [
    "# Bind the Wikipedia tool to \n",
    "# the language model\n",
    "llm_with_tools = llm.bind_tools(tools)\n",
    "\n",
    "# Modify chatbot function to respond with Wikipedia\n",
    "def chatbot(state: State):\n",
    "    response = llm_with_tools.invoke(state[\"messages\"])\n",
    "    return {\"messages\": [response]}"
   ]
  },
  {
   "cell_type": "markdown",
   "id": "9d97a7f1",
   "metadata": {},
   "source": [
    "## Adding tool nodes\n",
    "\n"
   ]
  },
  {
   "cell_type": "code",
   "execution_count": 35,
   "id": "2c137e96",
   "metadata": {},
   "outputs": [
    {
     "data": {
      "text/plain": [
       "<langgraph.graph.state.StateGraph at 0x213cbf00b50>"
      ]
     },
     "execution_count": 35,
     "metadata": {},
     "output_type": "execute_result"
    }
   ],
   "source": [
    "#Modules for adding tool conditions # and nodes\n",
    "from langgraph.prebuilt import ToolNode, tools_condition\n",
    "\n",
    "graph_builder = StateGraph(State)\n",
    "\n",
    "# Add chatbot node to the graph\n",
    "graph_builder.add_node(\"chatbot\", chatbot)"
   ]
  },
  {
   "cell_type": "code",
   "execution_count": 36,
   "id": "f5e3d3f7",
   "metadata": {},
   "outputs": [
    {
     "data": {
      "text/plain": [
       "<langgraph.graph.state.StateGraph at 0x213cbf00b50>"
      ]
     },
     "execution_count": 36,
     "metadata": {},
     "output_type": "execute_result"
    }
   ],
   "source": [
    "# Create a ToolNode to handle tool calls # and add it to the graph\n",
    "tool_node = ToolNode(tools=[wikipedia_tool])\n",
    "graph_builder.add_node(\"tools\", tool_node)"
   ]
  },
  {
   "cell_type": "markdown",
   "id": "a5367132",
   "metadata": {},
   "source": [
    "### Add conditional edge"
   ]
  },
  {
   "cell_type": "code",
   "execution_count": 37,
   "id": "6355bc8c",
   "metadata": {},
   "outputs": [
    {
     "data": {
      "text/plain": [
       "<langgraph.graph.state.StateGraph at 0x213cbf00b50>"
      ]
     },
     "execution_count": 37,
     "metadata": {},
     "output_type": "execute_result"
    }
   ],
   "source": [
    "# Set up a condition to direct from chatbot to tool or end node\n",
    "graph_builder.add_conditional_edges(\"chatbot\", tools_condition)"
   ]
  },
  {
   "cell_type": "code",
   "execution_count": 38,
   "id": "9e5ffe25",
   "metadata": {},
   "outputs": [
    {
     "data": {
      "text/plain": [
       "<langgraph.graph.state.StateGraph at 0x213cbf00b50>"
      ]
     },
     "execution_count": 38,
     "metadata": {},
     "output_type": "execute_result"
    }
   ],
   "source": [
    "# Connect tools back to chatbot and  add START and END nodes\n",
    "graph_builder.add_edge(\"tools\", \"chatbot\")\n",
    "graph_builder.add_edge(START, \"chatbot\")\n",
    "graph_builder.add_edge(\"chatbot\", END)\n"
   ]
  },
  {
   "cell_type": "code",
   "execution_count": 39,
   "id": "0002a62b",
   "metadata": {},
   "outputs": [],
   "source": [
    "graph = graph_builder.compile()"
   ]
  },
  {
   "cell_type": "code",
   "execution_count": 40,
   "id": "ca3a607e",
   "metadata": {},
   "outputs": [
    {
     "data": {
      "image/png": "[encoded data removed]",
      "text/plain": [
       "<IPython.core.display.Image object>"
      ]
     },
     "metadata": {},
     "output_type": "display_data"
    }
   ],
   "source": [
    "from IPython.display import Image, display\n",
    "# Try generating and displaying # the graph diagram\n",
    "try:    \n",
    "    display(Image(graph.get_graph().draw_mermaid_png()))\n",
    "    # Return an exception if necessary  \n",
    "except Exception:\n",
    "    print(\"Additional dependencies required.\")\n"
   ]
  },
  {
   "cell_type": "code",
   "execution_count": 41,
   "id": "56ba3b40",
   "metadata": {},
   "outputs": [],
   "source": [
    "def stream_tool_responses(user_input: str):\n",
    "    # Start streaming events from the graph with the user's input\n",
    "    for event in graph.stream({\n",
    "            \"messages\": [(\"user\", user_input)],\n",
    "            \n",
    "        }):\n",
    "        # Retrieve and print the chatbot node responses\n",
    "        for value in event.values():\n",
    "            print(\"Agent:\", value[\"messages\"], end=\"\\n\")"
   ]
  },
  {
   "cell_type": "code",
   "execution_count": 42,
   "id": "5208f038",
   "metadata": {},
   "outputs": [
    {
     "name": "stdout",
     "output_type": "stream",
     "text": [
      "Agent: [AIMessage(content='', additional_kwargs={'function_call': {'name': 'wikipedia', 'arguments': '{\"query\": \"House of Lords\"}'}}, response_metadata={'prompt_feedback': {'block_reason': 0, 'safety_ratings': []}, 'finish_reason': 'STOP', 'model_name': 'gemini-2.0-flash', 'safety_ratings': []}, id='run--2e1f3ee3-c180-4e89-8329-6ff8f98f806c-0', tool_calls=[{'name': 'wikipedia', 'args': {'query': 'House of Lords'}, 'id': 'de8bf1d1-785d-49dd-a010-b55900767bd3', 'type': 'tool_call'}], usage_metadata={'input_tokens': 51, 'output_tokens': 5, 'total_tokens': 56, 'input_token_details': {'cache_read': 0}})]\n",
      "Agent: [ToolMessage(content='Page: House of Lords\\nSummary: The House of Lords is the upper house of the Parliament of the United Kingdom. Like the lower house, the House of Commons, it meets in the Palace of Westminster in London, England. One of the oldest extant institutions in the world, its origins lie in the early 11th century and the emergence of bicameralism in the 13th century.\\nIn contrast to the House of Commons, membership of the Lords is not generally acquired by election. Most members are appointed for life, on either a political or non-political basis.  Hereditary membership was limited in 1999 to 92 excepted hereditary peers: 90 elected through internal by-elections, plus the Earl Marshal and Lord Great Chamberlain as members ex officio. No members directly inherit their seats any longer. The House of Lords also includes up to 26 archbishops and bishops of the Church of England, known as Lords Spiritual. Since 2014, membership may be voluntarily relinquished or terminated upon expulsion.\\nAs the upper house of Parliament, the House of Lords has many similar functions to the House of Commons. It scrutinises legislation, holds the government to account, and considers and reports upon public policy. Peers may also seek to introduce legislation or propose amendments to bills. While it is unable to prevent bills passing into law, except in certain limited circumstances, it may delay the enactment of bills for up to one year. In this capacity, as a body independent from the pressures of the political process, the House of Lords is said to act as a \"revising chamber\" focusing on legislative detail, while occasionally asking the House of Commons to reconsider its plans.\\nWhile peers may also serve as government ministers, they are typically only selected to serve as junior ministers, except for the Leader of the House of Lords. The House of Lords does not control the term of the prime minister or of the government; only the Commons may vote to require the prime minister to resign or call an election. Unlike the House of Commons, which has a defined number of seats, the number of members in the House of Lords is not fixed. As of 25 July 2025, it has 832 sitting members. \\nThe King\\'s Speech is delivered in the House of Lords chamber during the State Opening of Parliament. In addition to its role as the upper house, the House of Lords, through the Law Lords, acted as the final court of appeal in the United Kingdom judicial system until the establishment of the Supreme Court in 2009. \\nThe House of Lords is the only upper house of any bicameral parliament in the world to be larger than its lower house. It is the second-largest legislative chamber in the world, behind the National People\\'s Congress of China.  \\nThe House of Lords also has a Church of England role, in that Church Measures must be tabled within the House by the Lords Spiritual. The United Kingdom is one of only two countries in the world to award religious figures a permanent seat in the legislature, the other being Iran.', name='wikipedia', id='64e3f3b1-8a59-40de-bfa0-7d2f6aa904f5', tool_call_id='de8bf1d1-785d-49dd-a010-b55900767bd3')]\n",
      "Agent: [AIMessage(content=\"The House of Lords is the upper house of the Parliament of the United Kingdom. It is one of the oldest extant institutions in the world, and its origins lie in the early 11th century. Unlike the House of Commons, membership of the Lords is not generally acquired by election. Most members are appointed for life, on either a political or non-political basis. As of 25 July 2025, it has 832 sitting members. The House of Lords is the only upper house of any bicameral parliament in the world to be larger than its lower house. It is the second-largest legislative chamber in the world, behind the National People's Congress of China.\", additional_kwargs={}, response_metadata={'prompt_feedback': {'block_reason': 0, 'safety_ratings': []}, 'finish_reason': 'STOP', 'model_name': 'gemini-2.0-flash', 'safety_ratings': []}, id='run--1201205c-b9b7-44a3-b92b-043d1b3fe982-0', usage_metadata={'input_tokens': 697, 'output_tokens': 145, 'total_tokens': 842, 'input_token_details': {'cache_read': 0}})]\n"
     ]
    }
   ],
   "source": [
    "user_query = \"House of Lords\"\n",
    "stream_tool_responses(user_query)\n"
   ]
  },
  {
   "cell_type": "code",
   "execution_count": 43,
   "id": "ec4c6400",
   "metadata": {},
   "outputs": [
    {
     "name": "stdout",
     "output_type": "stream",
     "text": [
      "Agent: [AIMessage(content='', additional_kwargs={'function_call': {'name': 'wikipedia', 'arguments': '{\"query\": \"Hung King\"}'}}, response_metadata={'prompt_feedback': {'block_reason': 0, 'safety_ratings': []}, 'finish_reason': 'STOP', 'model_name': 'gemini-2.0-flash', 'safety_ratings': []}, id='run--8e50951d-866e-4ca7-885e-12c213c0f2df-0', tool_calls=[{'name': 'wikipedia', 'args': {'query': 'Hung King'}, 'id': '9415c699-8df6-40e3-b0b3-26e57d26b365', 'type': 'tool_call'}], usage_metadata={'input_tokens': 50, 'output_tokens': 4, 'total_tokens': 54, 'input_token_details': {'cache_read': 0}})]\n",
      "Agent: [ToolMessage(content='Page: Hùng king\\nSummary: Hùng king (2879 BC – 258 BC; Chữ Hán: 雄王; Vietnamese: Hùng Vương (雄王) or vua Hùng (𤤰雄); Vương means \"king\" and vua means \"monarch; could mean emperor or king\") is the title given to the ancient Vietnamese rulers of the Hồng Bàng period.', name='wikipedia', id='8fd189de-cdd2-4930-bb61-5dc0793a0512', tool_call_id='9415c699-8df6-40e3-b0b3-26e57d26b365')]\n",
      "Agent: [AIMessage(content='Hùng king (2879 BC – 258 BC) is the title given to the ancient Vietnamese rulers of the Hồng Bàng period.', additional_kwargs={}, response_metadata={'prompt_feedback': {'block_reason': 0, 'safety_ratings': []}, 'finish_reason': 'STOP', 'model_name': 'gemini-2.0-flash', 'safety_ratings': []}, id='run--0557b1dc-6577-46c5-9cfe-00ac6300198f-0', usage_metadata={'input_tokens': 142, 'output_tokens': 33, 'total_tokens': 175, 'input_token_details': {'cache_read': 0}})]\n"
     ]
    }
   ],
   "source": [
    "user_query = \"Hung King\"\n",
    "stream_tool_responses(user_query)"
   ]
  },
  {
   "cell_type": "markdown",
   "id": "5ae0f15d",
   "metadata": {},
   "source": [
    "## Adding memory"
   ]
  },
  {
   "cell_type": "code",
   "execution_count": 49,
   "id": "af3dc6e2",
   "metadata": {},
   "outputs": [],
   "source": [
    "# Import the modules for saving memory\n",
    "from langgraph.checkpoint.memory import MemorySaver\n",
    "# Modify the graph with memory checkpointing\n",
    "memory = MemorySaver()  # Compile the graph passing in memory\n",
    "graph = graph_builder.compile(checkpointer=memory)\n",
    "# graph = graph_builder.compile()\n"
   ]
  },
  {
   "cell_type": "code",
   "execution_count": 48,
   "id": "915187c7",
   "metadata": {},
   "outputs": [
    {
     "name": "stdout",
     "output_type": "stream",
     "text": [
      "Agent: [AIMessage(content='', additional_kwargs={'function_call': {'name': 'wikipedia', 'arguments': '{\"query\": \"Colosseum\"}'}}, response_metadata={'prompt_feedback': {'block_reason': 0, 'safety_ratings': []}, 'finish_reason': 'STOP', 'model_name': 'gemini-2.0-flash', 'safety_ratings': []}, id='run--0b090ec9-fa61-492e-a50c-e374da047684-0', tool_calls=[{'name': 'wikipedia', 'args': {'query': 'Colosseum'}, 'id': 'c575cddc-7e9b-4aa5-8cfb-030fe01dff2d', 'type': 'tool_call'}], usage_metadata={'input_tokens': 54, 'output_tokens': 4, 'total_tokens': 58, 'input_token_details': {'cache_read': 0}})]\n",
      "Agent: [ToolMessage(content='Page: Colosseum\\nSummary: The Colosseum ( KOL-ə-SEE-əm; Italian: Colosseo [kolosˈsɛːo], ultimately from Ancient Greek word \"kolossos\" meaning a large statue or giant) is an elliptical amphitheatre in the centre of the city of Rome, Italy, just east of the Roman Forum. It is the largest ancient amphitheatre ever built, and is still the largest standing amphitheatre in the world, despite its age. Construction began under the Emperor Vespasian (r.\\u200969–79 AD) in 72 and was completed in AD 80 under his successor and heir, Titus (r.\\u200979–81). Further modifications were made during the reign of Domitian (r.\\u200981–96). The three emperors who were patrons of the work are known as the Flavian dynasty, and the amphitheatre was named the Flavian Amphitheatre (Latin: Amphitheatrum Flavium; Italian: Anfiteatro Flavio [aɱfiteˈaːtro ˈflaːvjo]) by later classicists and archaeologists for its association with their family name (Flavius).\\nThe Colosseum is built of travertine limestone, tuff (volcanic rock), and brick-faced concrete. It could hold an estimated 50,000 to 80,000 spectators at various points in its history, having an average audience of some 65,000; it was used for gladiatorial contests and public spectacles including animal hunts, executions, re-enactments of famous battles, dramas based on Roman mythology, and briefly mock sea battles. The building ceased to be used for entertainment in the early medieval era. It was later reused for such purposes as housing, workshops, quarters for a religious order, a fortress, a quarry, and a Christian shrine.\\nAlthough substantially ruined by earthquakes and stone robbers taking spolia, the Colosseum is still a renowned symbol of Imperial Rome and was listed as one of the New 7 Wonders of the World. It is one of Rome\\'s most popular tourist attractions and has links to the Catholic Church, as each Good Friday the Pope leads a torchlit \"Way of the Cross\" procession that starts in the area around the Colosseum. The Colosseum is depicted on the Italian version of the 5 euro cent coin.', name='wikipedia', id='9f90b254-db11-4709-bcb1-152e2f4cf3d4', tool_call_id='c575cddc-7e9b-4aa5-8cfb-030fe01dff2d')]\n",
      "Agent: [AIMessage(content='The Colosseum is an elliptical amphitheatre in the centre of Rome, Italy, just east of the Roman Forum. It is the largest ancient amphitheatre ever built, and is still the largest standing amphitheatre in the world. Construction began in 72 AD under the Emperor Vespasian and was completed in AD 80 under his successor and heir, Titus. It was used for gladiatorial contests and public spectacles including animal hunts, executions, re-enactments of famous battles, dramas based on Roman mythology, and briefly mock sea battles.', additional_kwargs={}, response_metadata={'prompt_feedback': {'block_reason': 0, 'safety_ratings': []}, 'finish_reason': 'STOP', 'model_name': 'gemini-2.0-flash', 'safety_ratings': []}, id='run--95f4d88f-8e8c-4020-aaf0-36974470e965-0', usage_metadata={'input_tokens': 550, 'output_tokens': 112, 'total_tokens': 662, 'input_token_details': {'cache_read': 0}})]\n",
      "Agent: [AIMessage(content=\"Could you please specify what you are referring to? I need more context to understand what you're asking about.\", additional_kwargs={}, response_metadata={'prompt_feedback': {'block_reason': 0, 'safety_ratings': []}, 'finish_reason': 'STOP', 'model_name': 'gemini-2.0-flash', 'safety_ratings': []}, id='run--21f07c27-1f5b-46bc-8bdb-051f0efffe01-0', usage_metadata={'input_tokens': 52, 'output_tokens': 24, 'total_tokens': 76, 'input_token_details': {'cache_read': 0}})]\n"
     ]
    }
   ],
   "source": [
    "# Set up a streaming function for a single user\n",
    "def stream_memory_responses(user_input: str):    \n",
    "    config = {\"configurable\": {\"thread_id\": \"single_session_memory\"}}\n",
    "    # Stream the events in the graph\n",
    "    for event in graph.stream({\"messages\": [(\"user\", user_input)]}, config):\n",
    "        # Return the agent's last response\n",
    "        for value in event.values():\n",
    "            if \"messages\"in value and value[\"messages\"]:\n",
    "                print(\"Agent:\", value[\"messages\"])\n",
    "                \n",
    "stream_memory_responses(\"What is the Colosseum?\")\n",
    "\n",
    "stream_memory_responses(\"Who built it?\")\n"
   ]
  },
  {
   "cell_type": "markdown",
   "id": "c5d6ecbc",
   "metadata": {},
   "source": [
    "# Build Dynamic Chat Agents\n"
   ]
  },
  {
   "cell_type": "markdown",
   "id": "665528cb",
   "metadata": {},
   "source": [
    "## Define multiple tools\n",
    "### Historical events tool"
   ]
  },
  {
   "cell_type": "code",
   "execution_count": null,
   "id": "2b1bb222",
   "metadata": {},
   "outputs": [],
   "source": [
    "from langchain.tools import tool\n",
    "\n",
    "# Use a decorator to label the tool and set the input format to string\n",
    "@tool\n",
    "def date_checker(date: str) -> str:\n",
    "    \"\"\"Provide a list of important historical events for a given date in any format.\"\"\"\n",
    "    try:\n",
    "        # Invoke the LLM to interpret the date and generate historical events        \n",
    "        answer = llm.invoke(f\"List important historical events that occurred on {date}.\")\n",
    "        \n",
    "        # Return the response\n",
    "        return answer.content\n",
    "    # Set an exception block for errors in retrieval\n",
    "    except Exception as e:\n",
    "        return f\"Error retrieving events: {str(e)}\"\n"
   ]
  },
  {
   "cell_type": "code",
   "execution_count": 54,
   "id": "d82d4cc8",
   "metadata": {},
   "outputs": [],
   "source": [
    "@tool\n",
    "# Set input format to string\n",
    "def check_palindrome(text: str):\n",
    "    \"\"\"Check if a word or phrase is a palindrome.\"\"\"\n",
    "    # Remove non-alphanumeric characters and convert to lowercase    \n",
    "    cleaned = ''.join(char.lower() for char in text if char.isalnum())\n",
    "    # Check if the reversed text is the same as original text\n",
    "    if cleaned == cleaned[::-1]:\n",
    "        return f\"The phrase or word '{text}' is a palindrome.\"\n",
    "    else:\n",
    "        return f\"The phrase or word '{text}' is not a palindrome.\"\n"
   ]
  },
  {
   "cell_type": "markdown",
   "id": "f9df3e00",
   "metadata": {},
   "source": [
    "### Binding multiple tools\n"
   ]
  },
  {
   "cell_type": "code",
   "execution_count": 55,
   "id": "8604bf7a",
   "metadata": {},
   "outputs": [],
   "source": [
    "# Import modules required for defining tool nodes\n",
    "from langgraph.prebuilt import ToolNode\n",
    "# List of tools\n",
    "tools = [wikipedia_tool, date_checker, check_palindrome] \n",
    "# Pass the tools to the ToolNode()\n",
    "\n",
    "tool_node = ToolNode(tools)\n",
    "# Bind tools to the LLM\n",
    "model_with_tools = llm.bind_tools(tools)"
   ]
  },
  {
   "attachments": {
    "{CBDDA849-A360-4143-8E25-3FF74C627672}.png": {
     "image/png": "[encoded data removed]"
    }
   },
   "cell_type": "markdown",
   "id": "74f18ca6",
   "metadata": {},
   "source": [
    "<div style=\"display: flex; gap: 2em;\">\n",
    "\n",
    "<div style=\"flex: 1;\">\n",
    "\n",
    "## Define workflow functions\n",
    "- Create a stop function between chatbot and tools\n",
    "    - Check for tool calls\n",
    "    - End conversation if none\n",
    "- Create a dynamic tool caller\n",
    "    - Return a tool response if tool call present\n",
    "    - Invoke the LLM with just the chatbotnode if no tool calls\n",
    "- Compile the full graph\n",
    "\n",
    "</div>\n",
    "\n",
    "<div style=\"flex: 1;\">\n",
    "\n",
    "![{CBDDA849-A360-4143-8E25-3FF74C627672}.png](attachment:{CBDDA849-A360-4143-8E25-3FF74C627672}.png)\n",
    "\n",
    "</div>\n",
    "</div>\n"
   ]
  },
  {
   "cell_type": "markdown",
   "id": "d8e2d3fa",
   "metadata": {},
   "source": [
    "### Create stop function"
   ]
  },
  {
   "cell_type": "code",
   "execution_count": null,
   "id": "84a05b34",
   "metadata": {},
   "outputs": [],
   "source": [
    "from langgraph.graph import MessagesState, START, END\n",
    "# Use MessagesState to define the state of the stopping function\n",
    "def should_continue(state: MessagesState):\n",
    "    # Get the last message from the state \n",
    "    last_message = state[\"messages\"][-1]\n",
    "    # Check if the last message includes tool calls\n",
    "    if last_message.tool_calls:\n",
    "        return \"tools\" \n",
    "    # End the conversation if no tool calls are present\n",
    "    return END\n",
    "\n",
    "\n"
   ]
  },
  {
   "cell_type": "markdown",
   "id": "334fca27",
   "metadata": {},
   "source": [
    "### Create a dynamic tool caller"
   ]
  },
  {
   "cell_type": "code",
   "execution_count": 57,
   "id": "541010a0",
   "metadata": {},
   "outputs": [],
   "source": [
    "from langgraph.graph import MessagesState\n",
    "from langchain.schema import AIMessage\n",
    "\n",
    "# Extract the last message from the history\n",
    "def call_model(state: MessagesState):\n",
    "    last_message = state[\"messages\"][-1]\n",
    "    \n",
    "    # If the last message has tool calls, return the tool's response\n",
    "    if isinstance(last_message, AIMessage) and last_message.tool_calls:\n",
    "        # Return the messages from the tool call\n",
    "        return { \"messages\": [AIMessage(content=last_message.tool_calls[0][\"response\"])] }\n",
    "    \n",
    "    # Otherwise, proceed with a regular LLM response\n",
    "    return { \"messages\": [model_with_tools.invoke(state[\"messages\"])] }\n"
   ]
  },
  {
   "cell_type": "markdown",
   "id": "24c30b40",
   "metadata": {},
   "source": [
    "### Create the graph"
   ]
  },
  {
   "cell_type": "code",
   "execution_count": 59,
   "id": "033b2216",
   "metadata": {},
   "outputs": [],
   "source": [
    "from langgraph.graph import StateGraph, START, END\n",
    "from langgraph.graph.message import MessagesState\n",
    "\n",
    "workflow = StateGraph(MessagesState)\n",
    "\n",
    "# Add nodes for chatbot and tools\n",
    "workflow.add_node(\"chatbot\", call_model)\n",
    "workflow.add_node(\"tools\", tool_node)\n",
    "\n",
    "# Connect the START node to the chatbot\n",
    "workflow.add_edge(START, \"chatbot\")\n",
    "\n",
    "# Define conditions, then loop back to chatbot\n",
    "workflow.add_conditional_edges(\"chatbot\", should_continue, [\"tools\", END])\n",
    "\n",
    "workflow.add_edge(\"tools\", \"chatbot\")\n",
    "\n",
    "# Set up memory and compile the workflow\n",
    "memory = MemorySaver()\n",
    "app = workflow.compile(checkpointer=memory)\n",
    "\n"
   ]
  },
  {
   "cell_type": "code",
   "execution_count": 60,
   "id": "e43df3ce",
   "metadata": {},
   "outputs": [
    {
     "data": {
      "image/png": "[encoded data removed]",
      "text/plain": [
       "<IPython.core.display.Image object>"
      ]
     },
     "metadata": {},
     "output_type": "display_data"
    }
   ],
   "source": [
    "display(Image(app.get_graph().draw_mermaid_png()))"
   ]
  },
  {
   "cell_type": "markdown",
   "id": "5d77b6d8",
   "metadata": {},
   "source": [
    "### Streaming multiple tool outputs\n"
   ]
  },
  {
   "cell_type": "code",
   "execution_count": 62,
   "id": "76258e65",
   "metadata": {},
   "outputs": [],
   "source": [
    "from langchain_core.messages import AIMessage, HumanMessage\n",
    "config = { \"configurable\": {\"thread_id\": \"1\"} }\n",
    "# Create input message with the user's query\n",
    "def multi_tool_output(query): \n",
    "    inputs = {\"messages\": [HumanMessage(content=query)]}\n",
    "    \n",
    "    # Stream messages and metadata from the chatbot application    \n",
    "    for msg, metadata in app.stream(inputs, config, stream_mode=\"messages\"):\n",
    "        # Check if the message has content and is not from a human\n",
    "        if msg.content and not isinstance(msg, HumanMessage):\n",
    "            print(msg.content, end=\"\", flush=True)\n",
    "            print(\"\\n\")\n"
   ]
  },
  {
   "cell_type": "markdown",
   "id": "567c3d9f",
   "metadata": {},
   "source": [
    "### Test with multiple tools"
   ]
  },
  {
   "cell_type": "code",
   "execution_count": 63,
   "id": "2dbb2b54",
   "metadata": {},
   "outputs": [
    {
     "name": "stdout",
     "output_type": "stream",
     "text": [
      "The phrase or word 'Stella won no wallets' is a palindrome.\n",
      "\n",
      "Yes, \n",
      "\n",
      "`Stella won no wallets` is a palindrome.\n",
      "\n",
      "\n",
      "The\n",
      "\n",
      " most significant historical event that occurred on April 12th, 195\n",
      "\n",
      "5 was:\n",
      "\n",
      "*   **The announcement that the Salk polio vaccine was\n",
      "\n",
      " safe and effective.** This was a monumental moment in medical history, as polio had been a devastating disease, particularly affecting children. The announcement sparked widespread celebration and relief\n",
      "\n",
      ".\n",
      "\n",
      "While the Salk vaccine announcement overshadows everything else, it's worth noting that other events may have occurred on that date, but they are less\n",
      "\n",
      " globally significant.\n",
      "\n",
      "\n",
      "The most significant historical event that occurred on April 12th, 1955 was:\n",
      "\n",
      "*   **The announcement that the Salk polio vaccine was safe and effective.** This was a monumental moment in medical history, as polio had been a devastating disease, particularly affecting children. The announcement sparked widespread celebration and relief.\n",
      "\n",
      "While the Salk vaccine announcement overshadows everything else, it's worth noting that other events may have occurred on that date, but they are less globally significant.\n",
      "\n",
      "\n",
      "On\n",
      "\n",
      " April 12th, 1955, the Salk polio vaccine was\n",
      "\n",
      " announced as safe and effective.\n",
      "\n",
      "\n"
     ]
    }
   ],
   "source": [
    "multi_tool_output(\"Is `Stella won no wallets` a palindrome?\")\n",
    "multi_tool_output(\"What happened on April 12th, 1955?\")\n"
   ]
  },
  {
   "cell_type": "markdown",
   "id": "412a2fd5",
   "metadata": {},
   "source": [
    "### Follow-up questions with multiple tools\n"
   ]
  },
  {
   "cell_type": "code",
   "execution_count": 66,
   "id": "76a7c75e",
   "metadata": {},
   "outputs": [],
   "source": [
    "# Print the user query first for every interaction\n",
    "def user_agent_multiturn(queries):\n",
    "    for query in queries:\n",
    "        print(f\"User: {query}\")\n",
    "    \n",
    "        # Stream through messages corresponding to queries, excluding metadata \n",
    "        contents = []\n",
    "        for msg, metadata in app.stream(\n",
    "            {\"messages\": [HumanMessage(content=query)]}, config, stream_mode=\"messages\"\n",
    "        ):\n",
    "            # Collect the content of the messages\n",
    "            if msg.content and not isinstance(msg, HumanMessage):\n",
    "                contents.append(msg.content)\n",
    "        # Print the agent's response\n",
    "        print(\"Agent: \" + \"\".join(contents) + \"\\n\")\n",
    "    \n",
    "\n"
   ]
  },
  {
   "cell_type": "code",
   "execution_count": 67,
   "id": "895eb2ca",
   "metadata": {},
   "outputs": [
    {
     "name": "stdout",
     "output_type": "stream",
     "text": [
      "User: What happened on the 12 April 1961?\n",
      "Agent: The single most important historical event that occurred on April 12, 1961, was:\n",
      "\n",
      "*   **Yuri Gagarin became the first human in space.** He completed one orbit of the Earth in the Vostok 1 spacecraft, a monumental achievement in the Space Race between the Soviet Union and the United States.\n",
      "\n",
      "While this event overshadows everything else that happened on that day, there likely were other events of local or regional significance. However, Gagarin's flight is the defining event of April 12, 1961.\n",
      "The single most important historical event that occurred on April 12, 1961, was:\n",
      "\n",
      "*   **Yuri Gagarin became the first human in space.** He completed one orbit of the Earth in the Vostok 1 spacecraft, a monumental achievement in the Space Race between the Soviet Union and the United States.\n",
      "\n",
      "While this event overshadows everything else that happened on that day, there likely were other events of local or regional significance. However, Gagarin's flight is the defining event of April 12, 1961.\n",
      "On April 12, 1961, Yuri Gagarin became the first human in space.\n",
      "\n",
      "\n",
      "User: What about 10 December 1948?\n",
      "Agent: The most significant historical event that occurred on December 10, 1948 was the adoption of the **Universal Declaration of Human Rights** by the United Nations General Assembly.\n",
      "\n",
      "While other events may have occurred on that day, the Universal Declaration of Human Rights is by far the most historically important and impactful. It set a common standard of achievements for all peoples and all nations.\n",
      "The most significant historical event that occurred on December 10, 1948 was the adoption of the **Universal Declaration of Human Rights** by the United Nations General Assembly.\n",
      "\n",
      "While other events may have occurred on that day, the Universal Declaration of Human Rights is by far the most historically important and impactful. It set a common standard of achievements for all peoples and all nations.\n",
      "On December 10, 1948, the Universal Declaration of Human Rights was adopted by the United Nations General Assembly.\n",
      "\n",
      "\n",
      "User: Is `Mr. Owl ate my metal worm?` a palindrome?\n",
      "Agent: The phrase or word 'Mr. Owl ate my metal worm?' is a palindrome.Yes, `Mr. Owl ate my metal worm?` is a palindrome.\n",
      "\n",
      "\n",
      "User: What about 'palladium stadium?'\n",
      "Agent: The phrase or word 'palladium stadium' is not a palindrome.No, 'palladium stadium' is not a palindrome.\n",
      "\n",
      "\n"
     ]
    }
   ],
   "source": [
    "queries = [\"What happened on the 12 April 1961?\", \"What about 10 December 1948?\", \n",
    "           \"Is `Mr. Owl ate my metal worm?` a palindrome?\", \"What about 'palladium stadium?'\"]\n",
    "user_agent_multiturn(queries)"
   ]
  }
 ],
 "metadata": {
  "kernelspec": {
   "display_name": ".venv",
   "language": "python",
   "name": "python3"
  },
  "language_info": {
   "codemirror_mode": {
    "name": "ipython",
    "version": 3
   },
   "file_extension": ".py",
   "mimetype": "text/x-python",
   "name": "python",
   "nbconvert_exporter": "python",
   "pygments_lexer": "ipython3",
   "version": "3.11.9"
  }
 },
 "nbformat": 4,
 "nbformat_minor": 5
}
