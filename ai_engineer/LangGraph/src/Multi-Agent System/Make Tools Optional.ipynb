{
 "cells": [
  {
   "cell_type": "markdown",
   "id": "d7b265c2-73df-4a46-add0-67cad208b100",
   "metadata": {},
   "source": [
    "![](images/graph_with_conditional_edges.png)\n",
    "\n",
    "### 🪚 Making tools optional\n",
    "\n",
    "In the last exercise, you saw how the linear workflow directed all LLM outputs into the tool node, irrespective of whether a tool call was required. Let's change this so our system can handle user inputs that don't require tool calls."
   ]
  },
  {
   "cell_type": "markdown",
   "id": "4825ac52-6b23-4ef2-a24b-8610121419ca",
   "metadata": {},
   "source": [
    "**Re-run the two cells below to create the environment and define the tools.**"
   ]
  },
  {
   "cell_type": "code",
   "execution_count": null,
   "id": "2ce4430b-9e12-42d0-b4d5-909067dd3e40",
   "metadata": {
    "collapsed": true,
    "executionCancelledAt": null,
    "executionTime": 3057,
    "jupyter": {
     "outputs_hidden": true,
     "source_hidden": false
    },
    "lastExecutedAt": 1754000257451,
    "lastExecutedByKernel": "c04082a5-ef29-4854-9462-851866860582",
    "lastScheduledRunId": null,
    "lastSuccessfullyExecutedCode": "!pip install --quiet wikipedia==1.4.0 langchain-core==0.3.59 langgraph==0.5.3 langchain-openai==0.3.16 langchain-experimental==0.3.4",
    "outputsMetadata": {
     "0": {
      "height": 80,
      "type": "stream"
     }
    }
   },
   "outputs": [
    {
     "name": "stdout",
     "output_type": "stream",
     "text": [
      "\n",
      "\u001b[1m[\u001b[0m\u001b[34;49mnotice\u001b[0m\u001b[1;39;49m]\u001b[0m\u001b[39;49m A new release of pip is available: \u001b[0m\u001b[31;49m25.0.1\u001b[0m\u001b[39;49m -> \u001b[0m\u001b[32;49m25.2\u001b[0m\n",
      "\u001b[1m[\u001b[0m\u001b[34;49mnotice\u001b[0m\u001b[1;39;49m]\u001b[0m\u001b[39;49m To update, run: \u001b[0m\u001b[32;49mpython3 -m pip install --upgrade pip\u001b[0m\n"
     ]
    }
   ],
   "source": [
    "# !pip install --quiet wikipedia==1.4.0 langchain-core==0.3.59 langgraph==0.5.3 langchain-openai==0.3.16 langchain-experimental==0.3.4"
   ]
  },
  {
   "cell_type": "code",
   "execution_count": 1,
   "id": "9a13184f-f26c-458d-af96-c0db734e88f4",
   "metadata": {
    "executionCancelledAt": null,
    "executionTime": 63,
    "lastExecutedAt": 1754000257516,
    "lastExecutedByKernel": "c04082a5-ef29-4854-9462-851866860582",
    "lastScheduledRunId": null,
    "lastSuccessfullyExecutedCode": "from typing import Annotated\nimport wikipedia\nfrom langchain_core.tools import tool\nimport pandas as pd\nimport os\n\n@tool\ndef wikipedia_tool(\n    query: Annotated[str, \"The Wikipedia search to execute to find key summary information.\"],\n):\n    \"\"\"Use this to search Wikipedia for factual information.\"\"\"\n    try:\n        # Step 1: Search using query\n        results = wikipedia.search(query)\n        \n        if not results:\n            return \"No results found on Wikipedia.\"\n        \n        # Step 2: Retrieve page title\n        title = results[0]\n\n        # Step 3: Fetch summary\n        summary = wikipedia.summary(title, sentences=8, auto_suggest=False, redirect=True)\n    except BaseException as e:\n        return f\"Failed to execute. Error: {repr(e)}\"\n    return f\"Successfully executed:\\nWikipedia summary: {summary}\"\n\n@tool\ndef stock_data_tool(\n    company_ticker: Annotated[str, \"The ticker symbol of the company to retrieve their stock performance data.\"], \n    num_days: Annotated[int, \"The number of business days of stock data required to respond to the user query.\"]\n) -> str:\n    \"\"\"\n    Use this to look-up stock performance data for companies to retrieve a table from a CSV. You may need to convert company names into ticker symbols to call this function, e.g, Apple Inc. -> AAPL, and you may need to convert weeks, months, and years, into days.\n    \"\"\"\n    \n    # Load the CSV for the company requested\n    file_path = f\"data/{company_ticker}.csv\"\n\n    if os.path.exists(file_path) is False:\n        return f\"Sorry, but data for company {company_ticker} is not available. Please try Apple, Amazon, Meta, Microsoft, Netflix, or Tesla.\"\n    \n    stock_df = pd.read_csv(file_path, index_col='Date', parse_dates=True)\n\n    # Ensure the index is in date format\n    stock_df.index = stock_df.index.date\n    \n    # Maximum num_days supported by the dataset\n    max_num_days = (stock_df.index.max() - stock_df.index.min()).days\n    \n    if num_days > max_num_days:\n        return \"Sorry, but this time period exceeds the data available. Please reduce it to continue.\"\n    \n    # Get the most recent date in the DataFrame\n    final_date = stock_df.index.max()\n\n    # Filter the DataFrame to get the last num_days of stock data\n    filtered_df = stock_df[stock_df.index > (final_date - pd.Timedelta(days=num_days))]\n\n    return f\"Successfully executed the stock performance data retrieval tool to retrieve the last *{num_days} days* of data for company **{company_ticker}**:\\n\\n{filtered_df.to_markdown()}\"\n\nfrom langchain_experimental.utilities import PythonREPL\n\nrepl = PythonREPL()\n\n@tool\ndef python_repl_tool(\n    code: Annotated[str, \"The python code to execute to generate your chart.\"],\n):\n    \"\"\"Use this to execute python code. If you want to see the output of a value,\n    you should print it out with `print(...)`. This is visible to the user. The chart should be displayed using `plt.show()`.\"\"\"\n    try:\n        result = repl.run(code)\n    except BaseException as e:\n        return f\"Failed to execute. Error: {repr(e)}\"\n    return f\"Successfully executed the Python REPL tool.\\n\\nPython code executed:\\n\\`\\`\\`python\\n{code}\\n\\`\\`\\`\\n\\nCode output:\\n\\`\\`\\`\\n{result}\\`\\`\\`\""
   },
   "outputs": [],
   "source": [
    "from typing import Annotated\n",
    "import wikipedia\n",
    "from langchain_core.tools import tool\n",
    "import pandas as pd\n",
    "import os\n",
    "\n",
    "@tool\n",
    "def wikipedia_tool(\n",
    "    query: Annotated[str, \"The Wikipedia search to execute to find key summary information.\"],\n",
    "):\n",
    "    \"\"\"Use this to search Wikipedia for factual information.\"\"\"\n",
    "    try:\n",
    "        # Step 1: Search using query\n",
    "        results = wikipedia.search(query)\n",
    "        \n",
    "        if not results:\n",
    "            return \"No results found on Wikipedia.\"\n",
    "        \n",
    "        # Step 2: Retrieve page title\n",
    "        title = results[0]\n",
    "\n",
    "        # Step 3: Fetch summary\n",
    "        summary = wikipedia.summary(title, sentences=8, auto_suggest=False, redirect=True)\n",
    "    except BaseException as e:\n",
    "        return f\"Failed to execute. Error: {repr(e)}\"\n",
    "    return f\"Successfully executed:\\nWikipedia summary: {summary}\"\n",
    "\n",
    "@tool\n",
    "def stock_data_tool(\n",
    "    company_ticker: Annotated[str, \"The ticker symbol of the company to retrieve their stock performance data.\"], \n",
    "    num_days: Annotated[int, \"The number of business days of stock data required to respond to the user query.\"]\n",
    ") -> str:\n",
    "    \"\"\"\n",
    "    Use this to look-up stock performance data for companies to retrieve a table from a CSV. You may need to convert company names into ticker symbols to call this function, e.g, Apple Inc. -> AAPL, and you may need to convert weeks, months, and years, into days.\n",
    "    \"\"\"\n",
    "    \n",
    "    # Load the CSV for the company requested\n",
    "    file_path = f\"data/{company_ticker}.csv\"\n",
    "\n",
    "    if os.path.exists(file_path) is False:\n",
    "        return f\"Sorry, but data for company {company_ticker} is not available. Please try Apple, Amazon, Meta, Microsoft, Netflix, or Tesla.\"\n",
    "    \n",
    "    stock_df = pd.read_csv(file_path, index_col='Date', parse_dates=True)\n",
    "\n",
    "    # Ensure the index is in date format\n",
    "    stock_df.index = stock_df.index.date\n",
    "    \n",
    "    # Maximum num_days supported by the dataset\n",
    "    max_num_days = (stock_df.index.max() - stock_df.index.min()).days\n",
    "    \n",
    "    if num_days > max_num_days:\n",
    "        return \"Sorry, but this time period exceeds the data available. Please reduce it to continue.\"\n",
    "    \n",
    "    # Get the most recent date in the DataFrame\n",
    "    final_date = stock_df.index.max()\n",
    "\n",
    "    # Filter the DataFrame to get the last num_days of stock data\n",
    "    filtered_df = stock_df[stock_df.index > (final_date - pd.Timedelta(days=num_days))]\n",
    "\n",
    "    return f\"Successfully executed the stock performance data retrieval tool to retrieve the last *{num_days} days* of data for company **{company_ticker}**:\\n\\n{filtered_df.to_markdown()}\"\n",
    "\n",
    "from langchain_experimental.utilities import PythonREPL\n",
    "\n",
    "repl = PythonREPL()\n",
    "\n",
    "@tool\n",
    "def python_repl_tool(\n",
    "    code: Annotated[str, \"The python code to execute to generate your chart.\"],\n",
    "):\n",
    "    \"\"\"Use this to execute python code. If you want to see the output of a value,\n",
    "    you should print it out with `print(...)`. This is visible to the user. The chart should be displayed using `plt.show()`.\"\"\"\n",
    "    try:\n",
    "        result = repl.run(code)\n",
    "    except BaseException as e:\n",
    "        return f\"Failed to execute. Error: {repr(e)}\"\n",
    "    return f\"Successfully executed the Python REPL tool.\\n\\nPython code executed:\\n\\`\\`\\`python\\n{code}\\n\\`\\`\\`\\n\\nCode output:\\n\\`\\`\\`\\n{result}\\`\\`\\`\""
   ]
  },
  {
   "cell_type": "markdown",
   "id": "57c0fc5a-7689-49fc-999e-0b5db5f041e8",
   "metadata": {},
   "source": [
    "### ❓Introducing conditional edges\n",
    "\n",
    "One of the problems with our current agentic system is that the chatbot node was always directed into the tools node, regardless of whether the user input requires the tools or not. This means that the LLM isn't really making a decision, as there is no other choice but to proceed.\n",
    "\n",
    "LangGraph provides ***conditional edges***, which are like splits in the workflow where the agent can choose which way to go."
   ]
  },
  {
   "cell_type": "markdown",
   "id": "288ba76c-68a6-46ab-b397-320240b531c2",
   "metadata": {},
   "source": [
    "**Re-bind the tools to the LLM and re-define the `llm_node()` function.**"
   ]
  },
  {
   "cell_type": "code",
   "execution_count": 2,
   "id": "0f8f8764-dc83-42ed-bec2-f7307162db3f",
   "metadata": {
    "executionCancelledAt": null,
    "executionTime": 107,
    "lastExecutedAt": 1754000257624,
    "lastExecutedByKernel": "c04082a5-ef29-4854-9462-851866860582",
    "lastScheduledRunId": null,
    "lastSuccessfullyExecutedCode": "from typing import Annotated\nfrom typing_extensions import TypedDict\nfrom langgraph.graph import StateGraph, START, END\nfrom langgraph.graph.message import add_messages\nfrom langchain_openai import ChatOpenAI\n\nclass State(TypedDict):\n    messages: Annotated[list, add_messages]\n\ngraph_builder = StateGraph(State)\n\n# Add three tools to the list: wikipedia_tool, stock_data_tool, and python_repl_tool\ntools = [wikipedia_tool, stock_data_tool, python_repl_tool]\n\nllm = ChatOpenAI(model=\"gpt-4o-mini\")\n\n# Tell the LLM which tools it can call\nllm_with_tools = llm.bind_tools(tools)\n\ndef llm_node(state: State):\n    return {\"messages\": [llm_with_tools.invoke(state[\"messages\"])]}"
   },
   "outputs": [],
   "source": [
    "from typing import Annotated\n",
    "from typing_extensions import TypedDict\n",
    "from langgraph.graph import StateGraph, START, END\n",
    "from langgraph.graph.message import add_messages\n",
    "from langchain_openai import ChatOpenAI\n",
    "\n",
    "class State(TypedDict):\n",
    "    messages: Annotated[list, add_messages]\n",
    "\n",
    "graph_builder = StateGraph(State)\n",
    "\n",
    "# Add three tools to the list: wikipedia_tool, stock_data_tool, and python_repl_tool\n",
    "tools = [wikipedia_tool, stock_data_tool, python_repl_tool]\n",
    "\n",
    "llm = ChatOpenAI(model=\"gpt-4o-mini\")\n",
    "\n",
    "# Tell the LLM which tools it can call\n",
    "llm_with_tools = llm.bind_tools(tools)\n",
    "\n",
    "def llm_node(state: State):\n",
    "    return {\"messages\": [llm_with_tools.invoke(state[\"messages\"])]}"
   ]
  },
  {
   "cell_type": "markdown",
   "id": "6b338ff4-a8d7-4b4f-81af-333fe9e1bfc6",
   "metadata": {},
   "source": [
    "### ➕ Adding the conditional edge\n",
    "\n",
    "Now to build the graph! We need to build `\"llm\"` and `\"tools\"` nodes as before, but this time, you need to add a conditional edge to the `\"llm\"` node, so it can use the `tools_condition` function to decide whether to trigger the tools or end. `\"tools\"` must also be connected back to `\"llm\"` so the LLM can decide whether it is able to end the task or trigger another tool.\n",
    "\n",
    "The `.add_conditional_edges()` method is similar to `.add_edge()`, taking a source node to start at, but then it takes a function to evaluate how to proceed, and a dictionary indicating which nodes to continue to, depending on the evaluation.\n",
    "\n",
    "The following code uses the built-in `tools_condition`, which asks the model to decide if a tool is required; if so, it moves to the `\"tools\"` node, if not, it moves to the `END` node (which is named `__end__`).\n",
    "\n",
    "```py\n",
    "graph_builder.add_conditional_edges(START, tools_condition, {\"tools\", END})\n",
    "```"
   ]
  },
  {
   "cell_type": "markdown",
   "id": "77a2e71d-f6cd-4c4f-b2b2-3dfcc32cdbbf",
   "metadata": {},
   "source": [
    "**Complete the code to define the graph containing conditional edges from the LLM node to the tool node.**"
   ]
  },
  {
   "cell_type": "code",
   "execution_count": 3,
   "id": "4fcafade-6c28-4099-afdc-02e25fbd5b2e",
   "metadata": {
    "executionCancelledAt": null,
    "executionTime": 50,
    "lastExecutedAt": 1754000257676,
    "lastExecutedByKernel": "c04082a5-ef29-4854-9462-851866860582",
    "lastScheduledRunId": null,
    "lastSuccessfullyExecutedCode": "from langgraph.prebuilt import ToolNode, tools_condition\n\n# Create the llm and tools nodes\ngraph_builder.add_node('llm', llm_node)\ntool_node = ToolNode(tools=tools)\ngraph_builder.add_node('tools', tool_node)\n\n# Add the edges\ngraph_builder.add_edge(START, 'llm')\ngraph_builder.add_conditional_edges('llm', tools_condition, {'tools', END})\ngraph_builder.add_edge('tools', 'llm')\n\ngraph = graph_builder.compile()"
   },
   "outputs": [],
   "source": [
    "from langgraph.prebuilt import ToolNode, tools_condition\n",
    "\n",
    "# Create the llm and tools nodes\n",
    "graph_builder.add_node('llm', llm_node)\n",
    "tool_node = ToolNode(tools=tools)\n",
    "graph_builder.add_node('tools', tool_node)\n",
    "\n",
    "# Add the edges\n",
    "graph_builder.add_edge(START, 'llm')\n",
    "graph_builder.add_conditional_edges('llm', tools_condition, {'tools', END})\n",
    "graph_builder.add_edge('tools', 'llm')\n",
    "\n",
    "graph = graph_builder.compile()"
   ]
  },
  {
   "cell_type": "markdown",
   "id": "b4464fda-9578-484b-bf0a-aeedb9b3a978",
   "metadata": {},
   "source": [
    "Run the code to visualize the updated graph!"
   ]
  },
  {
   "cell_type": "code",
   "execution_count": 17,
   "id": "beecaaa1-e082-420d-8e3d-6fd94018eb62",
   "metadata": {
    "executionCancelledAt": null,
    "executionTime": 54,
    "lastExecutedAt": 1754000257730,
    "lastExecutedByKernel": "c04082a5-ef29-4854-9462-851866860582",
    "lastScheduledRunId": null,
    "lastSuccessfullyExecutedCode": "# Visualize your graph\ngraph"
   },
   "outputs": [
    {
     "data": {
      "image/png": "[encoded data removed]",
      "text/plain": [
       "<langgraph.graph.state.CompiledStateGraph object at 0x7fca295bd210>"
      ]
     },
     "execution_count": 17,
     "metadata": {},
     "output_type": "execute_result"
    }
   ],
   "source": [
    "# Visualize your graph\n",
    "graph"
   ]
  },
  {
   "cell_type": "markdown",
   "id": "e2f7b37a-d6bf-44c5-a093-24ab4d6aab8f",
   "metadata": {},
   "source": [
    "Nicely done! The input is enters the chatbot node, which then decides whether a tool needs to be triggered. If it is required, the tools are called; if not, the chatbot responds using its knowledge and ends the interaction.\n",
    "\n",
    "Try re-running the same inputs as before to spot the difference!\n",
    "\n",
    "1. Tell me about Apple Inc.\n",
    "2. AAPL stock price.\n",
    "3. My name is `<Insert your name>`.\n",
    "4. Plot an Open price time-series of AAPL."
   ]
  },
  {
   "cell_type": "code",
   "execution_count": 4,
   "id": "7734c301-5492-43e4-9d2f-c6aaf9b6cf1e",
   "metadata": {
    "executionCancelledAt": null,
    "executionTime": 5794,
    "lastExecutedAt": 1754000263524,
    "lastExecutedByKernel": "c04082a5-ef29-4854-9462-851866860582",
    "lastScheduledRunId": null,
    "lastSuccessfullyExecutedCode": "from course_helper_functions import pretty_print_messages\n\nfor chunk in graph.stream(\n    {\"messages\": [{\"role\": \"user\", \"content\": \"Tell me about Apple Inc.\"}]}\n):\n    pretty_print_messages(chunk)",
    "outputsMetadata": {
     "0": {
      "height": 495,
      "type": "stream"
     }
    }
   },
   "outputs": [
    {
     "name": "stdout",
     "output_type": "stream",
     "text": [
      "Update from node llm:\n",
      "\n",
      "\n",
      "==================================\u001b[1m Ai Message \u001b[0m==================================\n",
      "Tool Calls:\n",
      "  wikipedia_tool (call_Nj8pQKdTQbMlN898FGbgBbZ1)\n",
      " Call ID: call_Nj8pQKdTQbMlN898FGbgBbZ1\n",
      "  Args:\n",
      "    query: Apple Inc.\n",
      "\n",
      "\n",
      "Update from node tools:\n",
      "\n",
      "\n",
      "=================================\u001b[1m Tool Message \u001b[0m=================================\n",
      "Name: wikipedia_tool\n",
      "\n",
      "Successfully executed:\n",
      "Wikipedia summary: Apple Inc is an American multinational corporation and technology company headquartered in Cupertino, California, in Silicon Valley. It is best known for its consumer electronics, software, and services. Founded in 1976 as Apple Computer Company by Steve Jobs, Steve Wozniak and Ronald Wayne, the company was incorporated by Jobs and Wozniak as Apple Computer Inc the following year. It was renamed Apple Inc in 2007 as the company had expanded its focus from computers to consumer electronics. Apple is the largest technology company by revenue, with US$391.04 billion in the 2024 fiscal year.\n",
      "The company was founded to produce and market Wozniak's Apple I personal computer. Its second computer, the Apple II, became a best seller as one of the first mass-produced microcomputers. Apple introduced the Lisa in 1983 and the Macintosh in 1984, as some of the first computers to use a graphical user interface and a mouse.\n",
      "\n",
      "\n",
      "Update from node llm:\n",
      "\n",
      "\n",
      "==================================\u001b[1m Ai Message \u001b[0m==================================\n",
      "\n",
      "Apple Inc. is an American multinational corporation and technology company headquartered in Cupertino, California, in Silicon Valley. It is widely recognized for its consumer electronics, software, and services. The company was founded in 1976 as Apple Computer Company by Steve Jobs, Steve Wozniak, and Ronald Wayne, and was incorporated by Jobs and Wozniak as Apple Computer Inc. the following year. In 2007, it was renamed Apple Inc. to reflect its broader focus beyond computers to include consumer electronics.\n",
      "\n",
      "As of the 2024 fiscal year, Apple is the largest technology company by revenue, earning approximately $391.04 billion. The company initially aimed to produce and market Wozniak's Apple I personal computer. Its second product, the Apple II, became a bestseller, recognized as one of the first mass-produced microcomputers. Apple later introduced the Lisa in 1983 and the Macintosh in 1984, which were among the first computers to feature a graphical user interface and a mouse.\n",
      "\n",
      "\n"
     ]
    }
   ],
   "source": [
    "from course_helper_functions import pretty_print_messages\n",
    "\n",
    "for chunk in graph.stream(\n",
    "    {\"messages\": [{\"role\": \"user\", \"content\": \"Tell me about Apple Inc.\"}]}\n",
    "):\n",
    "    pretty_print_messages(chunk)"
   ]
  },
  {
   "cell_type": "markdown",
   "id": "f99dea6d-e837-42a1-8873-3b07405281ff",
   "metadata": {},
   "source": [
    "### 💡 What did we learn here?\n",
    "\n",
    "Ok, so there are a few things going on here:\n",
    "\n",
    "- The chatbot now responds to non-tool-related inputs, like telling it our name, rather than breaking.\n",
    "- There are at least two assistant responses for each input, the tool output, and the chatbot's output before it ends. This means the model can intepret the tool outputs and provide something more user-friendly than parsing the raw tool outputs.\n",
    "- Generating plots is still a little dodgy. This is because we have one agent managing all of our tools. Creating agents that specialize in specific tasks in the natural next step, so let's try this out!"
   ]
  }
 ],
 "metadata": {
  "editor": "DataLab",
  "kernelspec": {
   "display_name": ".venv",
   "language": "python",
   "name": "python3"
  },
  "language_info": {
   "codemirror_mode": {
    "name": "ipython",
    "version": 3
   },
   "file_extension": ".py",
   "mimetype": "text/x-python",
   "name": "python",
   "nbconvert_exporter": "python",
   "pygments_lexer": "ipython3",
   "version": "3.11.9"
  }
 },
 "nbformat": 4,
 "nbformat_minor": 5
}
