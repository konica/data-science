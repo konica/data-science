{
 "cells": [
  {
   "cell_type": "markdown",
   "id": "9a46414b-2e42-43b0-aff7-ce153956bba9",
   "metadata": {},
   "source": [
    "# Supervisor agents\n",
    "\n",
    "The supervisor multi-agent architecture introduces the concept of a ***supervisor agent***; that is, an agent whose purpose is to delegate tasks to other agents and respond to the user input.\n",
    "\n",
    "![A supervisor agent delegating tasks to two other agents](images/supervisor.png)\n",
    "\n",
    "This requires a couple of updates to your current implementation:\n",
    "1. Modification of the prompts used in the researcher and analyst worker agents, so they are able to collaborate effectively with the supervisor.\n",
    "2. The creation of a supervisor agent node."
   ]
  },
  {
   "cell_type": "markdown",
   "id": "5e08864a-e9db-445e-94a3-fe961966adc1",
   "metadata": {},
   "source": [
    "**Re-run the two cells below to create the environment and define the tools.**"
   ]
  },
  {
   "cell_type": "code",
   "execution_count": null,
   "id": "762ee609-dc9e-4bde-a609-dc3a56054e5b",
   "metadata": {
    "collapsed": true,
    "executionCancelledAt": null,
    "executionTime": 3013,
    "jupyter": {
     "outputs_hidden": true,
     "source_hidden": false
    },
    "lastExecutedAt": 1754003131189,
    "lastExecutedByKernel": "07fec823-ef86-4d36-8985-8e4acd36b7b6",
    "lastScheduledRunId": null,
    "lastSuccessfullyExecutedCode": "!pip install --quiet wikipedia==1.4.0 langchain-core==0.3.69 langgraph==0.5.3 langchain-openai==0.3.28 langchain-experimental==0.3.4 langgraph-supervisor==0.0.27",
    "outputsMetadata": {
     "0": {
      "height": 80,
      "type": "stream"
     }
    }
   },
   "outputs": [
    {
     "name": "stdout",
     "output_type": "stream",
     "text": [
      "\n",
      "\u001b[1m[\u001b[0m\u001b[34;49mnotice\u001b[0m\u001b[1;39;49m]\u001b[0m\u001b[39;49m A new release of pip is available: \u001b[0m\u001b[31;49m25.0.1\u001b[0m\u001b[39;49m -> \u001b[0m\u001b[32;49m25.2\u001b[0m\n",
      "\u001b[1m[\u001b[0m\u001b[34;49mnotice\u001b[0m\u001b[1;39;49m]\u001b[0m\u001b[39;49m To update, run: \u001b[0m\u001b[32;49mpython3 -m pip install --upgrade pip\u001b[0m\n"
     ]
    }
   ],
   "source": [
    "# !pip install --quiet wikipedia==1.4.0 langchain-core==0.3.69 langgraph==0.5.3 langchain-openai==0.3.28 langchain-experimental==0.3.4 langgraph-supervisor==0.0.27"
   ]
  },
  {
   "cell_type": "code",
   "execution_count": null,
   "id": "007c0df5-0457-4a17-9495-72bb281c7ae5",
   "metadata": {
    "executionCancelledAt": null,
    "executionTime": 63,
    "lastExecutedAt": 1754003131254,
    "lastExecutedByKernel": "07fec823-ef86-4d36-8985-8e4acd36b7b6",
    "lastScheduledRunId": null,
    "lastSuccessfullyExecutedCode": "from typing import Annotated\nimport wikipedia\nfrom langchain_core.tools import tool\nimport pandas as pd\nimport os\n\n@tool\ndef wikipedia_tool(\n    query: Annotated[str, \"The Wikipedia search to execute to find key summary information.\"],\n):\n    \"\"\"Use this to search Wikipedia for factual information.\"\"\"\n    try:\n        # Step 1: Search using query\n        results = wikipedia.search(query)\n        \n        if not results:\n            return \"No results found on Wikipedia.\"\n        \n        # Step 2: Retrieve page title\n        title = results[0]\n\n        # Step 3: Fetch summary\n        summary = wikipedia.summary(title, sentences=8, auto_suggest=False, redirect=True)\n    except BaseException as e:\n        return f\"Failed to execute. Error: {repr(e)}\"\n    return f\"Successfully executed:\\nWikipedia summary: {summary}\"\n\n@tool\ndef stock_data_tool(\n    company_ticker: Annotated[str, \"The ticker symbol of the company to retrieve their stock performance data.\"], \n    num_days: Annotated[int, \"The number of business days of stock data required to respond to the user query.\"]\n) -> str:\n    \"\"\"\n    Use this to look-up stock performance data for companies to retrieve a table from a CSV. You may need to convert company names into ticker symbols to call this function, e.g, Apple Inc. -> AAPL, and you may need to convert weeks, months, and years, into days.\n    \"\"\"\n    \n    # Load the CSV for the company requested\n    file_path = f\"data/{company_ticker}.csv\"\n\n    if os.path.exists(file_path) is False:\n        return f\"Sorry, but data for company {company_ticker} is not available. Please try Apple, Amazon, Meta, Microsoft, Netflix, or Tesla.\"\n    \n    stock_df = pd.read_csv(file_path, index_col='Date', parse_dates=True)\n\n    # Ensure the index is in date format\n    stock_df.index = stock_df.index.date\n    \n    # Maximum num_days supported by the dataset\n    max_num_days = (stock_df.index.max() - stock_df.index.min()).days\n    \n    if num_days > max_num_days:\n        return \"Sorry, but this time period exceeds the data available. Please reduce it to continue.\"\n    \n    # Get the most recent date in the DataFrame\n    final_date = stock_df.index.max()\n\n    # Filter the DataFrame to get the last num_days of stock data\n    filtered_df = stock_df[stock_df.index > (final_date - pd.Timedelta(days=num_days))]\n\n    return f\"Successfully executed the stock performance data retrieval tool to retrieve the last *{num_days} days* of data for company **{company_ticker}**:\\n\\n{filtered_df.to_markdown()}\"\n\nfrom langchain_experimental.utilities import PythonREPL\n\nrepl = PythonREPL()\n\n@tool\ndef python_repl_tool(\n    code: Annotated[str, \"The python code to execute to generate your chart.\"],\n):\n    \"\"\"Use this to execute python code. If you want to see the output of a value,\n    you should print it out with `print(...)`. This is visible to the user. The chart should be displayed using `plt.show()`.\"\"\"\n    try:\n        result = repl.run(code)\n    except BaseException as e:\n        return f\"Failed to execute. Error: {repr(e)}\"\n    return f\"Successfully executed the Python REPL tool.\\n\\nPython code executed:\\n\\`\\`\\`python\\n{code}\\n\\`\\`\\`\\n\\nCode output:\\n\\`\\`\\`\\n{result}\\`\\`\\`\""
   },
   "outputs": [],
   "source": [
    "from typing import Annotated\n",
    "import wikipedia\n",
    "from langchain_core.tools import tool\n",
    "import pandas as pd\n",
    "import os\n",
    "\n",
    "@tool\n",
    "def wikipedia_tool(\n",
    "    query: Annotated[str, \"The Wikipedia search to execute to find key summary information.\"],\n",
    "):\n",
    "    \"\"\"Use this to search Wikipedia for factual information.\"\"\"\n",
    "    try:\n",
    "        # Step 1: Search using query\n",
    "        results = wikipedia.search(query)\n",
    "        \n",
    "        if not results:\n",
    "            return \"No results found on Wikipedia.\"\n",
    "        \n",
    "        # Step 2: Retrieve page title\n",
    "        title = results[0]\n",
    "\n",
    "        # Step 3: Fetch summary\n",
    "        summary = wikipedia.summary(title, sentences=8, auto_suggest=False, redirect=True)\n",
    "    except BaseException as e:\n",
    "        return f\"Failed to execute. Error: {repr(e)}\"\n",
    "    return f\"Successfully executed:\\nWikipedia summary: {summary}\"\n",
    "\n",
    "@tool\n",
    "def stock_data_tool(\n",
    "    company_ticker: Annotated[str, \"The ticker symbol of the company to retrieve their stock performance data.\"], \n",
    "    num_days: Annotated[int, \"The number of business days of stock data required to respond to the user query.\"]\n",
    ") -> str:\n",
    "    \"\"\"\n",
    "    Use this to look-up stock performance data for companies to retrieve a table from a CSV. You may need to convert company names into ticker symbols to call this function, e.g, Apple Inc. -> AAPL, and you may need to convert weeks, months, and years, into days.\n",
    "    \"\"\"\n",
    "    \n",
    "    # Load the CSV for the company requested\n",
    "    file_path = f\"data/{company_ticker}.csv\"\n",
    "\n",
    "    if os.path.exists(file_path) is False:\n",
    "        return f\"Sorry, but data for company {company_ticker} is not available. Please try Apple, Amazon, Meta, Microsoft, Netflix, or Tesla.\"\n",
    "    \n",
    "    stock_df = pd.read_csv(file_path, index_col='Date', parse_dates=True)\n",
    "\n",
    "    # Ensure the index is in date format\n",
    "    stock_df.index = stock_df.index.date\n",
    "    \n",
    "    # Maximum num_days supported by the dataset\n",
    "    max_num_days = (stock_df.index.max() - stock_df.index.min()).days\n",
    "    \n",
    "    if num_days > max_num_days:\n",
    "        return \"Sorry, but this time period exceeds the data available. Please reduce it to continue.\"\n",
    "    \n",
    "    # Get the most recent date in the DataFrame\n",
    "    final_date = stock_df.index.max()\n",
    "\n",
    "    # Filter the DataFrame to get the last num_days of stock data\n",
    "    filtered_df = stock_df[stock_df.index > (final_date - pd.Timedelta(days=num_days))]\n",
    "\n",
    "    return f\"Successfully executed the stock performance data retrieval tool to retrieve the last *{num_days} days* of data for company **{company_ticker}**:\\n\\n{filtered_df.to_markdown()}\"\n",
    "\n",
    "from langchain_experimental.utilities import PythonREPL\n",
    "\n",
    "repl = PythonREPL()\n",
    "\n",
    "@tool\n",
    "def python_repl_tool(\n",
    "    code: Annotated[str, \"The python code to execute to generate your chart.\"],\n",
    "):\n",
    "    \"\"\"Use this to execute python code. If you want to see the output of a value,\n",
    "    you should print it out with `print(...)`. This is visible to the user. The chart should be displayed using `plt.show()`.\"\"\"\n",
    "    try:\n",
    "        result = repl.run(code)\n",
    "    except BaseException as e:\n",
    "        return f\"Failed to execute. Error: {repr(e)}\"\n",
    "    return f\"Successfully executed the Python REPL tool.\\n\\nPython code executed:\\n\\`\\`\\`python\\n{code}\\n\\`\\`\\`\\n\\nCode output:\\n\\`\\`\\`\\n{result}\\`\\`\\`\""
   ]
  },
  {
   "cell_type": "markdown",
   "id": "333be52b-0a17-4dbe-bf92-249865bef7db",
   "metadata": {},
   "source": [
    "### 🔧 Modifying the worker agent prompts\n",
    "\n",
    "Let's first modify these agent prompts to provide specific instructions on how to work with the supervisor agent."
   ]
  },
  {
   "cell_type": "markdown",
   "id": "8a83e91e-9c99-495a-9d51-24989d3ee8f6",
   "metadata": {},
   "source": [
    "**Complete the code to create two one-line agents: a research agent called `\"researcher\"` and an analyst agent called `\"analyst\"`. Use the prompts provided to guide these agents.**"
   ]
  },
  {
   "cell_type": "code",
   "execution_count": null,
   "id": "cea63336-52d3-4ffb-a456-4b544b20976f",
   "metadata": {
    "executionCancelledAt": null,
    "executionTime": 59,
    "lastExecutedAt": 1754003131314,
    "lastExecutedByKernel": "07fec823-ef86-4d36-8985-8e4acd36b7b6",
    "lastScheduledRunId": null,
    "lastSuccessfullyExecutedCode": "from langchain_openai import ChatOpenAI\nfrom langgraph.prebuilt import create_react_agent\n\nllm = ChatOpenAI(model=\"gpt-4o-mini\")\n\n# Research agent\nresearch_agent = create_react_agent(\n    llm,\n    tools=[wikipedia_tool, stock_data_tool],\n    prompt=(\n        \"You are a research agent.\\n\\n\"\n        \"INSTRUCTIONS:\\n\"\n        \"- Assist ONLY with research-related tasks, including looking-up factual information and stock data. DO NOT write any code.\\n\"\n        \"- After you're done with your tasks, respond to the supervisor directly\\n\"\n        \"- Respond ONLY with the results of your work, do NOT include ANY other text.\"\n    ),\n    name=\"researcher\"\n)\n\n# Analyst agent\nanalyst_agent = create_react_agent(\n    llm,\n    [python_repl_tool],\n    prompt=(\n        \"You are an agent that can run arbitrary Python code.\\n\\n\"\n        \"INSTRUCTIONS:\\n\"\n        \"- Assist ONLY with tasks that require running code to produce an output.\\n\"\n        \"- After you're done with your tasks, respond to the supervisor directly\\n\"\n        \"- Respond ONLY with the results of your work, do NOT include ANY other text.\"\n    ),\n    name=\"analyst\"\n)"
   },
   "outputs": [],
   "source": [
    "from langchain_openai import ChatOpenAI\n",
    "from langgraph.prebuilt import create_react_agent\n",
    "\n",
    "llm = ChatOpenAI(model=\"gpt-4o-mini\")\n",
    "\n",
    "# Research agent\n",
    "research_agent = create_react_agent(\n",
    "    llm,\n",
    "    tools=[wikipedia_tool, stock_data_tool],\n",
    "    prompt=(\n",
    "        \"You are a research agent.\\n\\n\"\n",
    "        \"INSTRUCTIONS:\\n\"\n",
    "        \"- Assist ONLY with research-related tasks, including looking-up factual information and stock data. DO NOT write any code.\\n\"\n",
    "        \"- After you're done with your tasks, respond to the supervisor directly\\n\"\n",
    "        \"- Respond ONLY with the results of your work, do NOT include ANY other text.\"\n",
    "    ),\n",
    "    name=\"researcher\"\n",
    ")\n",
    "\n",
    "# Analyst agent\n",
    "analyst_agent = create_react_agent(\n",
    "    llm,\n",
    "    [python_repl_tool],\n",
    "    prompt=(\n",
    "        \"You are an agent that can run arbitrary Python code.\\n\\n\"\n",
    "        \"INSTRUCTIONS:\\n\"\n",
    "        \"- Assist ONLY with tasks that require running code to produce an output.\\n\"\n",
    "        \"- After you're done with your tasks, respond to the supervisor directly\\n\"\n",
    "        \"- Respond ONLY with the results of your work, do NOT include ANY other text.\"\n",
    "    ),\n",
    "    name=\"analyst\"\n",
    ")"
   ]
  },
  {
   "cell_type": "markdown",
   "id": "a4c5cad1-2415-45ae-9ea9-93002c7376a6",
   "metadata": {},
   "source": [
    "![The supervisor multi-agent architecture with the two agents ticked-off.](images/supervisor_agent_defined.png)\n",
    "\n",
    "### 📋 Defining the supervisor agent\n",
    "\n",
    "With the `\"researcher\"` and `\"analyst\"` tools defined, it's time to define the supervisor agent.\n",
    "\n",
    "LangGraph provides the `langgraph-supervisor` library, which provides some useful abstractions to streamline the creation of supervisor multi-agent systems, and we'll be using that here.\n",
    "\n",
    "If, instead, you'd prefer to stick to lower-level, core LangGraph code, check out [this implementation](https://langchain-ai.github.io/langgraph/tutorials/multi_agent/agent_supervisor/#3-create-supervisor-from-scratch) in the LangGraph documentation.\n",
    "\n",
    "The `create_supervisor()` function from `langgraph-supervisor` is analogous to the `create_react_agent()` in `langgraph.prebuilt`. It provides a ready-made class that only requires the agents to manage, an LLM for the generating the text required for supervising the agents and responding to the user, and a `prompt` for dictating how to operate. Everything else, including a mechanism for building a conversation history, a function for deciding when to delegate a task, and more, are already coded into this class.\n",
    "\n",
    "`create_supervisor()` supports many parameters to modify its default behavior, but we'll only use two here:\n",
    "1. `add_handoff_back_messages`: additional messages indicating when a worker agent hands the task back to the supervisor.\n",
    "2. `output_mode`: controls how messages from worker agents are added to the conversation history of the system."
   ]
  },
  {
   "cell_type": "markdown",
   "id": "f8177201-d090-44d3-a44b-a38ff32ccf69",
   "metadata": {},
   "source": [
    "**Create a supervisor multi-agent that delegates tasks to the `research_agent` and `analyst_agent`.**"
   ]
  },
  {
   "cell_type": "code",
   "execution_count": null,
   "id": "af229ddb-a992-4a2d-b9e6-ef0c37ad8ebd",
   "metadata": {
    "executionCancelledAt": null,
    "executionTime": 50,
    "lastExecutedAt": 1754003131366,
    "lastExecutedByKernel": "07fec823-ef86-4d36-8985-8e4acd36b7b6",
    "lastScheduledRunId": null,
    "lastSuccessfullyExecutedCode": "from langgraph_supervisor import create_supervisor\nfrom langgraph.checkpoint.memory import InMemorySaver\n\nconfig = {\"configurable\": {\"thread_id\": \"1\", \"user_id\": \"1\"}}\ncheckpointer = InMemorySaver()\n\nsupervisor = create_supervisor(\n    model=llm,\n    agents=[research_agent, analyst_agent],\n    prompt=(\n        \"You are a supervisor managing two agents:\\n\"\n        \"- a research agent. Assign research and data collection tasks to this agent\\n\"\n        \"- an analyst agent. Assign the creation of visualizations via code to this agent\\n\"\n        \"Assign work to one agent at a time, do not call agents in parallel.\\n\"\n        \"Do not do any work yourself.\"\n    ),\n    add_handoff_back_messages=True,\n    output_mode=\"full_history\",\n).compile(checkpointer=checkpointer)"
   },
   "outputs": [],
   "source": [
    "from langgraph_supervisor import create_supervisor\n",
    "from langgraph.checkpoint.memory import InMemorySaver\n",
    "\n",
    "config = {\"configurable\": {\"thread_id\": \"1\", \"user_id\": \"1\"}}\n",
    "checkpointer = InMemorySaver()\n",
    "\n",
    "supervisor = create_supervisor(\n",
    "    model=llm,\n",
    "    agents=[research_agent, analyst_agent],\n",
    "    prompt=(\n",
    "        \"You are a supervisor managing two agents:\\n\"\n",
    "        \"- a research agent. Assign research and data collection tasks to this agent\\n\"\n",
    "        \"- an analyst agent. Assign the creation of visualizations via code to this agent\\n\"\n",
    "        \"Assign work to one agent at a time, do not call agents in parallel.\\n\"\n",
    "        \"Do not do any work yourself.\"\n",
    "    ),\n",
    "    add_handoff_back_messages=True,\n",
    "    output_mode=\"full_history\",\n",
    ").compile(checkpointer=checkpointer)"
   ]
  },
  {
   "cell_type": "markdown",
   "id": "25aae9e4-5339-462e-a01f-213845dccbb7",
   "metadata": {},
   "source": [
    "![All agents have been defined.](images/supervisor_defined.png)\n",
    "\n",
    "### 👔 Visualizing the supervisor\n",
    "\n",
    "Run the visualization code one final time to see the updated graph!"
   ]
  },
  {
   "cell_type": "code",
   "execution_count": null,
   "id": "bd3c7ab1-3cec-49bd-afce-5a727c763722",
   "metadata": {
    "executionCancelledAt": null,
    "executionTime": 55,
    "lastExecutedAt": 1754003131421,
    "lastExecutedByKernel": "07fec823-ef86-4d36-8985-8e4acd36b7b6",
    "lastScheduledRunId": null,
    "lastSuccessfullyExecutedCode": "# Visualize your graph\nsupervisor"
   },
   "outputs": [
    {
     "data": {
      "image/png": "[encoded data removed]",
      "text/plain": [
       "<langgraph.graph.state.CompiledStateGraph object at 0x7ff3b6f61720>"
      ]
     },
     "execution_count": 11,
     "metadata": {},
     "output_type": "execute_result"
    }
   ],
   "source": [
    "# Visualize your graph\n",
    "supervisor"
   ]
  },
  {
   "cell_type": "markdown",
   "id": "696c2b1b-1a1d-49f2-a502-a2992e5d287e",
   "metadata": {},
   "source": [
    "### 🧪 Testing user inputs\n",
    "\n",
    "Time to call the supervisor agent to test out how it performs!\n",
    "- Who is Apple's CEO?\n",
    "- Has Tesla's share price increased over the last month?\n",
    "\n",
    "We've used a helper function here to generate nicely-formatted outputs, but omitted it from this notebook due to its length. However, you can view it by opening the `course_helper_functions.py` file."
   ]
  },
  {
   "cell_type": "code",
   "execution_count": null,
   "id": "58275808-2306-4ea0-b96b-72bfa256f705",
   "metadata": {
    "executionCancelledAt": null,
    "executionTime": 3820,
    "lastExecutedAt": 1754003135242,
    "lastExecutedByKernel": "07fec823-ef86-4d36-8985-8e4acd36b7b6",
    "lastScheduledRunId": null,
    "lastSuccessfullyExecutedCode": "from course_helper_functions import pretty_print_messages\n\nfor chunk in supervisor.stream(\n    {\"messages\": [{\"role\": \"user\", \"content\": \"Who is Apple's CEO?\"}]}, config\n):\n    pretty_print_messages(chunk)",
    "outputsMetadata": {
     "0": {
      "height": 549,
      "type": "stream"
     },
     "2": {
      "height": 616,
      "type": "stream"
     }
    }
   },
   "outputs": [
    {
     "name": "stdout",
     "output_type": "stream",
     "text": [
      "Update from node supervisor:\n",
      "\n",
      "\n",
      "================================\u001b[1m Human Message \u001b[0m=================================\n",
      "\n",
      "Who is Apple's CEO?\n",
      "==================================\u001b[1m Ai Message \u001b[0m==================================\n",
      "Name: supervisor\n",
      "Tool Calls:\n",
      "  transfer_to_researcher (call_9N0OhGX8LWGMsoYNoe9TAuzc)\n",
      " Call ID: call_9N0OhGX8LWGMsoYNoe9TAuzc\n",
      "  Args:\n",
      "=================================\u001b[1m Tool Message \u001b[0m=================================\n",
      "Name: transfer_to_researcher\n",
      "\n",
      "Successfully transferred to researcher\n",
      "\n",
      "\n",
      "Update from node researcher:\n",
      "\n",
      "\n",
      "================================\u001b[1m Human Message \u001b[0m=================================\n",
      "\n",
      "Who is Apple's CEO?\n",
      "==================================\u001b[1m Ai Message \u001b[0m==================================\n",
      "Name: supervisor\n",
      "Tool Calls:\n",
      "  transfer_to_researcher (call_9N0OhGX8LWGMsoYNoe9TAuzc)\n",
      " Call ID: call_9N0OhGX8LWGMsoYNoe9TAuzc\n",
      "  Args:\n",
      "=================================\u001b[1m Tool Message \u001b[0m=================================\n",
      "Name: transfer_to_researcher\n",
      "\n",
      "Successfully transferred to researcher\n",
      "==================================\u001b[1m Ai Message \u001b[0m==================================\n",
      "Name: researcher\n",
      "Tool Calls:\n",
      "  wikipedia_tool (call_orQiqevRb4KTQLPG7CpiAGQH)\n",
      " Call ID: call_orQiqevRb4KTQLPG7CpiAGQH\n",
      "  Args:\n",
      "    query: Apple Inc. CEO\n",
      "=================================\u001b[1m Tool Message \u001b[0m=================================\n",
      "Name: wikipedia_tool\n",
      "\n",
      "Successfully executed:\n",
      "Wikipedia summary: Timothy Donald Cook (born November 1, 1960) is an American business executive who is the current chief executive officer of Apple Inc. Cook had previously been the company's chief operating officer under its co-founder Steve Jobs. Cook joined Apple in March 1998 as a senior vice president for worldwide operations, and then as vice president for worldwide sales and operations. He was appointed chief executive of Apple on August 24, 2011, after Jobs resigned.\n",
      "During his tenure as the chief executive of Apple and while serving on its board of directors, he has advocated for the political reform of international and domestic surveillance, cybersecurity, national manufacturing, and environmental preservation. Since becoming CEO, Cook has also replaced Jobs' micromanagement with a more liberal style and implemented a collaborative culture at Apple.\n",
      "Since 2011 when he took over Apple, to 2020, Cook doubled the company's revenue and profit, and the company's market value increased from $348 billion to $1.9 trillion. In 2023, Apple was the largest technology company by revenue, with US$394.33 billion.\n",
      "==================================\u001b[1m Ai Message \u001b[0m==================================\n",
      "Name: researcher\n",
      "\n",
      "The current CEO of Apple Inc. is Timothy Donald Cook, who has held the position since August 24, 2011.\n",
      "==================================\u001b[1m Ai Message \u001b[0m==================================\n",
      "Name: researcher\n",
      "\n",
      "Transferring back to supervisor\n",
      "Tool Calls:\n",
      "  transfer_back_to_supervisor (0ae2f07a-482b-4973-b797-1c10f4776e6b)\n",
      " Call ID: 0ae2f07a-482b-4973-b797-1c10f4776e6b\n",
      "  Args:\n",
      "=================================\u001b[1m Tool Message \u001b[0m=================================\n",
      "Name: transfer_back_to_supervisor\n",
      "\n",
      "Successfully transferred back to supervisor\n",
      "\n",
      "\n",
      "Update from node supervisor:\n",
      "\n",
      "\n",
      "================================\u001b[1m Human Message \u001b[0m=================================\n",
      "\n",
      "Who is Apple's CEO?\n",
      "==================================\u001b[1m Ai Message \u001b[0m==================================\n",
      "Name: supervisor\n",
      "Tool Calls:\n",
      "  transfer_to_researcher (call_9N0OhGX8LWGMsoYNoe9TAuzc)\n",
      " Call ID: call_9N0OhGX8LWGMsoYNoe9TAuzc\n",
      "  Args:\n",
      "=================================\u001b[1m Tool Message \u001b[0m=================================\n",
      "Name: transfer_to_researcher\n",
      "\n",
      "Successfully transferred to researcher\n",
      "==================================\u001b[1m Ai Message \u001b[0m==================================\n",
      "Name: researcher\n",
      "Tool Calls:\n",
      "  wikipedia_tool (call_orQiqevRb4KTQLPG7CpiAGQH)\n",
      " Call ID: call_orQiqevRb4KTQLPG7CpiAGQH\n",
      "  Args:\n",
      "    query: Apple Inc. CEO\n",
      "=================================\u001b[1m Tool Message \u001b[0m=================================\n",
      "Name: wikipedia_tool\n",
      "\n",
      "Successfully executed:\n",
      "Wikipedia summary: Timothy Donald Cook (born November 1, 1960) is an American business executive who is the current chief executive officer of Apple Inc. Cook had previously been the company's chief operating officer under its co-founder Steve Jobs. Cook joined Apple in March 1998 as a senior vice president for worldwide operations, and then as vice president for worldwide sales and operations. He was appointed chief executive of Apple on August 24, 2011, after Jobs resigned.\n",
      "During his tenure as the chief executive of Apple and while serving on its board of directors, he has advocated for the political reform of international and domestic surveillance, cybersecurity, national manufacturing, and environmental preservation. Since becoming CEO, Cook has also replaced Jobs' micromanagement with a more liberal style and implemented a collaborative culture at Apple.\n",
      "Since 2011 when he took over Apple, to 2020, Cook doubled the company's revenue and profit, and the company's market value increased from $348 billion to $1.9 trillion. In 2023, Apple was the largest technology company by revenue, with US$394.33 billion.\n",
      "==================================\u001b[1m Ai Message \u001b[0m==================================\n",
      "Name: researcher\n",
      "\n",
      "The current CEO of Apple Inc. is Timothy Donald Cook, who has held the position since August 24, 2011.\n",
      "==================================\u001b[1m Ai Message \u001b[0m==================================\n",
      "Name: researcher\n",
      "\n",
      "Transferring back to supervisor\n",
      "Tool Calls:\n",
      "  transfer_back_to_supervisor (0ae2f07a-482b-4973-b797-1c10f4776e6b)\n",
      " Call ID: 0ae2f07a-482b-4973-b797-1c10f4776e6b\n",
      "  Args:\n",
      "=================================\u001b[1m Tool Message \u001b[0m=================================\n",
      "Name: transfer_back_to_supervisor\n",
      "\n",
      "Successfully transferred back to supervisor\n",
      "==================================\u001b[1m Ai Message \u001b[0m==================================\n",
      "Name: supervisor\n",
      "\n",
      "I have the information: The current CEO of Apple Inc. is Timothy Donald Cook, who has been in the role since August 24, 2011.\n",
      "\n",
      "\n"
     ]
    }
   ],
   "source": [
    "from course_helper_functions import pretty_print_messages\n",
    "\n",
    "for chunk in supervisor.stream(\n",
    "    {\"messages\": [{\"role\": \"user\", \"content\": \"Who is Apple's CEO?\"}]}, config\n",
    "):\n",
    "    pretty_print_messages(chunk)"
   ]
  },
  {
   "cell_type": "markdown",
   "id": "9c85909f-a245-4473-8937-39198f797940",
   "metadata": {},
   "source": [
    "### 💡 What did we learn here?\n",
    "\n",
    "Congratulations on creating your a supervisor multi-agent system! This is an extremely popular choice for multi-agent systems, and there isn't a limit to the number of supervisors you can have.\n",
    "\n",
    "You can also begin to think about agents the same way that you would think about organizing a company, with different departments or business units, each unit with its own supervisor/manager, and teams within those units with their own team leads.\n",
    "\n",
    "![](images/multi_layer_supervisor.png)\n",
    "\n",
    "### 🧠 Some thoughts to finish on\n",
    "\n",
    "- **There's no once-size-fits-all approach to building multi-agent systems**: the best system design is highly use case-dependent, so study the needs closely, build, and test!\n",
    "- **Prompts are very important**: you may have seen while experimenting in this course, that you can connect all of the pieces together correctly, and still not get a performant system. Clear, instructive prompts are paramount for the agents to \"understand\" how to go about their tasks and collaborate with one another.\n",
    "- **LangGraph abstractions are there if you need them**: LangGraph prides itself on providing a low-level syntax, which gives more customizability than to about any other framework. Such low-level syntax isn't for the faint-hearted, so don't be afraid to lean on some of the pre-built functionality when you're building a first-attempt project&mdash;you can always reconfigure it during the experimentation phase if the need is there."
   ]
  }
 ],
 "metadata": {
  "editor": "DataLab",
  "kernelspec": {
   "display_name": "Python 3 (ipykernel)",
   "language": "python",
   "name": "python3"
  },
  "language_info": {
   "codemirror_mode": {
    "name": "ipython",
    "version": 3
   },
   "file_extension": ".py",
   "mimetype": "text/x-python",
   "name": "python",
   "nbconvert_exporter": "python",
   "pygments_lexer": "ipython3",
   "version": "3.10.12"
  }
 },
 "nbformat": 4,
 "nbformat_minor": 5
}
