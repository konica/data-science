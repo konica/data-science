{
 "cells": [
  {
   "cell_type": "markdown",
   "id": "f31f4f3e-aa71-44f8-954a-2ba30c745c7d",
   "metadata": {},
   "source": [
    "# Another agent!\n",
    "\n",
    "![](images/network_multi_agent.png)"
   ]
  },
  {
   "cell_type": "markdown",
   "id": "8d2aadfe-3311-495d-9894-8334fde36a1a",
   "metadata": {},
   "source": [
    "**Re-run the two cells below to create the environment and define the tools.**"
   ]
  },
  {
   "cell_type": "code",
   "execution_count": 1,
   "id": "688c6928-ce07-4b3c-a7eb-06a3d7eb0093",
   "metadata": {
    "collapsed": true,
    "executionCancelledAt": null,
    "executionTime": 2962,
    "jupyter": {
     "outputs_hidden": true,
     "source_hidden": false
    },
    "lastExecutedAt": 1754002749546,
    "lastExecutedByKernel": "8ac172d7-f2c2-4442-aad8-8decd6b5018a",
    "lastScheduledRunId": null,
    "lastSuccessfullyExecutedCode": "!pip install --quiet wikipedia==1.4.0 langchain-core==0.3.69 langgraph==0.5.3 langchain-openai==0.3.28 langchain-experimental==0.3.4 langgraph-swarm==0.0.13",
    "outputsMetadata": {
     "0": {
      "height": 248,
      "type": "stream"
     }
    }
   },
   "outputs": [],
   "source": [
    "# !pip install --quiet wikipedia==1.4.0 langchain-core==0.3.69 langgraph==0.5.3 langchain-openai==0.3.28 langchain-experimental==0.3.4 langgraph-swarm==0.0.13"
   ]
  },
  {
   "cell_type": "code",
   "execution_count": 2,
   "id": "cc57d427-978a-48e3-a7a0-28e764d81975",
   "metadata": {
    "executionCancelledAt": null,
    "executionTime": 62,
    "lastExecutedAt": 1754002749610,
    "lastExecutedByKernel": "8ac172d7-f2c2-4442-aad8-8decd6b5018a",
    "lastScheduledRunId": null,
    "lastSuccessfullyExecutedCode": "from typing import Annotated\nimport wikipedia\nfrom langchain_core.tools import tool\nimport pandas as pd\nimport os\n\n@tool\ndef wikipedia_tool(\n    query: Annotated[str, \"The Wikipedia search to execute to find key summary information.\"],\n):\n    \"\"\"Use this to search Wikipedia for factual information.\"\"\"\n    try:\n        # Step 1: Search using query\n        results = wikipedia.search(query)\n        \n        if not results:\n            return \"No results found on Wikipedia.\"\n        \n        # Step 2: Retrieve page title\n        title = results[0]\n\n        # Step 3: Fetch summary\n        summary = wikipedia.summary(title, sentences=8, auto_suggest=False, redirect=True)\n    except BaseException as e:\n        return f\"Failed to execute. Error: {repr(e)}\"\n    return f\"Successfully executed:\\nWikipedia summary: {summary}\"\n\n@tool\ndef stock_data_tool(\n    company_ticker: Annotated[str, \"The ticker symbol of the company to retrieve their stock performance data.\"], \n    num_days: Annotated[int, \"The number of business days of stock data required to respond to the user query.\"]\n) -> str:\n    \"\"\"\n    Use this to look-up stock performance data for companies to retrieve a table from a CSV. You may need to convert company names into ticker symbols to call this function, e.g, Apple Inc. -> AAPL, and you may need to convert weeks, months, and years, into days.\n    \"\"\"\n    \n    # Load the CSV for the company requested\n    file_path = f\"data/{company_ticker}.csv\"\n\n    if os.path.exists(file_path) is False:\n        return f\"Sorry, but data for company {company_ticker} is not available. Please try Apple, Amazon, Meta, Microsoft, Netflix, or Tesla.\"\n    \n    stock_df = pd.read_csv(file_path, index_col='Date', parse_dates=True)\n\n    # Ensure the index is in date format\n    stock_df.index = stock_df.index.date\n    \n    # Maximum num_days supported by the dataset\n    max_num_days = (stock_df.index.max() - stock_df.index.min()).days\n    \n    if num_days > max_num_days:\n        return \"Sorry, but this time period exceeds the data available. Please reduce it to continue.\"\n    \n    # Get the most recent date in the DataFrame\n    final_date = stock_df.index.max()\n\n    # Filter the DataFrame to get the last num_days of stock data\n    filtered_df = stock_df[stock_df.index > (final_date - pd.Timedelta(days=num_days))]\n\n    return f\"Successfully executed the stock performance data retrieval tool to retrieve the last *{num_days} days* of data for company **{company_ticker}**:\\n\\n{filtered_df.to_markdown()}\"\n\nfrom langchain_experimental.utilities import PythonREPL\n\nrepl = PythonREPL()\n\n@tool\ndef python_repl_tool(\n    code: Annotated[str, \"The python code to execute to generate your chart.\"],\n):\n    \"\"\"Use this to execute python code. If you want to see the output of a value,\n    you should print it out with `print(...)`. This is visible to the user. The chart should be displayed using `plt.show()`.\"\"\"\n    try:\n        result = repl.run(code)\n    except BaseException as e:\n        return f\"Failed to execute. Error: {repr(e)}\"\n    return f\"Successfully executed the Python REPL tool.\\n\\nPython code executed:\\n\\`\\`\\`python\\n{code}\\n\\`\\`\\`\\n\\nCode output:\\n\\`\\`\\`\\n{result}\\`\\`\\`\""
   },
   "outputs": [],
   "source": [
    "from typing import Annotated\n",
    "import wikipedia\n",
    "from langchain_core.tools import tool\n",
    "import pandas as pd\n",
    "import os\n",
    "\n",
    "@tool\n",
    "def wikipedia_tool(\n",
    "    query: Annotated[str, \"The Wikipedia search to execute to find key summary information.\"],\n",
    "):\n",
    "    \"\"\"Use this to search Wikipedia for factual information.\"\"\"\n",
    "    try:\n",
    "        # Step 1: Search using query\n",
    "        results = wikipedia.search(query)\n",
    "        \n",
    "        if not results:\n",
    "            return \"No results found on Wikipedia.\"\n",
    "        \n",
    "        # Step 2: Retrieve page title\n",
    "        title = results[0]\n",
    "\n",
    "        # Step 3: Fetch summary\n",
    "        summary = wikipedia.summary(title, sentences=8, auto_suggest=False, redirect=True)\n",
    "    except BaseException as e:\n",
    "        return f\"Failed to execute. Error: {repr(e)}\"\n",
    "    return f\"Successfully executed:\\nWikipedia summary: {summary}\"\n",
    "\n",
    "@tool\n",
    "def stock_data_tool(\n",
    "    company_ticker: Annotated[str, \"The ticker symbol of the company to retrieve their stock performance data.\"], \n",
    "    num_days: Annotated[int, \"The number of business days of stock data required to respond to the user query.\"]\n",
    ") -> str:\n",
    "    \"\"\"\n",
    "    Use this to look-up stock performance data for companies to retrieve a table from a CSV. You may need to convert company names into ticker symbols to call this function, e.g, Apple Inc. -> AAPL, and you may need to convert weeks, months, and years, into days.\n",
    "    \"\"\"\n",
    "    \n",
    "    # Load the CSV for the company requested\n",
    "    file_path = f\"data/{company_ticker}.csv\"\n",
    "\n",
    "    if os.path.exists(file_path) is False:\n",
    "        return f\"Sorry, but data for company {company_ticker} is not available. Please try Apple, Amazon, Meta, Microsoft, Netflix, or Tesla.\"\n",
    "    \n",
    "    stock_df = pd.read_csv(file_path, index_col='Date', parse_dates=True)\n",
    "\n",
    "    # Ensure the index is in date format\n",
    "    stock_df.index = stock_df.index.date\n",
    "    \n",
    "    # Maximum num_days supported by the dataset\n",
    "    max_num_days = (stock_df.index.max() - stock_df.index.min()).days\n",
    "    \n",
    "    if num_days > max_num_days:\n",
    "        return \"Sorry, but this time period exceeds the data available. Please reduce it to continue.\"\n",
    "    \n",
    "    # Get the most recent date in the DataFrame\n",
    "    final_date = stock_df.index.max()\n",
    "\n",
    "    # Filter the DataFrame to get the last num_days of stock data\n",
    "    filtered_df = stock_df[stock_df.index > (final_date - pd.Timedelta(days=num_days))]\n",
    "\n",
    "    return f\"Successfully executed the stock performance data retrieval tool to retrieve the last *{num_days} days* of data for company **{company_ticker}**:\\n\\n{filtered_df.to_markdown()}\"\n",
    "\n",
    "from langchain_experimental.utilities import PythonREPL\n",
    "\n",
    "repl = PythonREPL()\n",
    "\n",
    "@tool\n",
    "def python_repl_tool(\n",
    "    code: Annotated[str, \"The python code to execute to generate your chart.\"],\n",
    "):\n",
    "    \"\"\"Use this to execute python code. If you want to see the output of a value,\n",
    "    you should print it out with `print(...)`. This is visible to the user. The chart should be displayed using `plt.show()`.\"\"\"\n",
    "    try:\n",
    "        result = repl.run(code)\n",
    "    except BaseException as e:\n",
    "        return f\"Failed to execute. Error: {repr(e)}\"\n",
    "    return f\"Successfully executed the Python REPL tool.\\n\\nPython code executed:\\n\\`\\`\\`python\\n{code}\\n\\`\\`\\`\\n\\nCode output:\\n\\`\\`\\`\\n{result}\\`\\`\\`\""
   ]
  },
  {
   "cell_type": "markdown",
   "id": "d5853cf1-ce0c-4c07-8083-30b4640165ef",
   "metadata": {},
   "source": [
    "![](images/network_multi_agent.png)\n",
    "\n",
    "### 🐝 Starting the swarm\n",
    "Let's upgrade our single-agent system to multi-agent system! We'll start with two agents arranged as a **swarm**: a researcher, that can trigger the Wikipedia tool (`wikipedia_tool()`), and a data analyst, that can trigger the stock performance data and Python REPL tools (`stock_data_tool()` and `python_repl_tool()`, respectively).\n",
    "\n",
    "To get our swarm multi-agent started, we'll create a handoff tool for each agent, so it can choose to use its original toolset, or handoff to the other agent.\n",
    "\n",
    "These tools, like the other tools we've created, need to have clear descriptions so the agent can determine the most appropriate action."
   ]
  },
  {
   "cell_type": "markdown",
   "id": "5b5bcc54-ff40-43a8-9100-3f8052bd3fb1",
   "metadata": {},
   "source": [
    "**Complete the code to define a handoff tool for each agent.**"
   ]
  },
  {
   "cell_type": "code",
   "execution_count": 3,
   "id": "d0da2306-dc20-46d2-ac70-b8f625d81f17",
   "metadata": {
    "executionCancelledAt": null,
    "executionTime": 50,
    "lastExecutedAt": 1754002749662,
    "lastExecutedByKernel": "8ac172d7-f2c2-4442-aad8-8decd6b5018a",
    "lastScheduledRunId": null,
    "lastSuccessfullyExecutedCode": "from langchain_openai import ChatOpenAI\nfrom langgraph_swarm import create_handoff_tool\n\nllm = ChatOpenAI(model=\"gpt-4o-mini\")\n\n# Create a handoff tool for analyst -> researcher\ntransfer_to_researcher = create_handoff_tool(\n    agent_name=\"researcher\",\n    description=\"Transfer user to the analyst assistant, who can create visualizations of provided data.\",\n)\n\n# Create a handoff tool for researcher -> analyst\ntransfer_to_analyst = create_handoff_tool(\n    agent_name=\"analyst\",\n    description=\"Transfer user to the researcher assistant, who can retrieve Wikipedia summaries or load stock performance data from CSV files.\",\n)",
    "outputsMetadata": {
     "0": {
      "height": 59,
      "type": "stream"
     }
    }
   },
   "outputs": [],
   "source": [
    "from langchain_openai import ChatOpenAI\n",
    "from langgraph_swarm import create_handoff_tool\n",
    "\n",
    "llm = ChatOpenAI(model=\"gpt-4o-mini\")\n",
    "\n",
    "# Create a handoff tool for analyst -> researcher\n",
    "transfer_to_researcher = create_handoff_tool(\n",
    "    agent_name=\"researcher\",\n",
    "    description=\"Transfer user to the analyst assistant, who can create visualizations of provided data.\",\n",
    ")\n",
    "\n",
    "# Create a handoff tool for researcher -> analyst\n",
    "transfer_to_analyst = create_handoff_tool(\n",
    "    agent_name=\"analyst\",\n",
    "    description=\"Transfer user to the researcher assistant, who can retrieve Wikipedia summaries or load stock performance data from CSV files.\",\n",
    ")"
   ]
  },
  {
   "cell_type": "markdown",
   "id": "3321f268-2af3-46a1-98c8-4ba5488ec422",
   "metadata": {},
   "source": [
    "These handoff tools can then be added to the tool list like any other tool! To create both of these agents, we'll use LangGraph's `create_react_agent()` function. You can create these agents using the low-level LangGraph node/edge syntax you used earlier, but as we move to the multi-agent case, this code can get quite long."
   ]
  },
  {
   "cell_type": "markdown",
   "id": "7ff0d621-1bd6-44ed-9fc6-d734117728af",
   "metadata": {},
   "source": [
    "**Complete the code to define a research and analyst agent with access to the new handoff tools.**"
   ]
  },
  {
   "cell_type": "code",
   "execution_count": 4,
   "id": "ee936769-0a40-4168-ab9f-d996e6f0de6f",
   "metadata": {
    "executionCancelledAt": null,
    "executionTime": 51,
    "lastExecutedAt": 1754002749714,
    "lastExecutedByKernel": "8ac172d7-f2c2-4442-aad8-8decd6b5018a",
    "lastScheduledRunId": null,
    "lastSuccessfullyExecutedCode": "from langgraph.prebuilt import create_react_agent\n\n# Create a researcher agent with access to two tools + the handoff tool\nresearch_agent = create_react_agent(\n    llm,\n    tools=[wikipedia_tool, stock_data_tool, transfer_to_analyst],\n    prompt=\"You provide summaries from Wikipedia, and can load raw, numerical stock performance data from CSV files.\",\n    name=\"researcher\"\n)\n\n# Create a analyst agent with access to one tool + the handoff tool\nanalyst_agent = create_react_agent(\n    llm,\n    tools=[python_repl_tool, transfer_to_researcher],\n    prompt=\"You generate plots of stock performance data provided by another assistant.\",\n    name=\"analyst\"\n)"
   },
   "outputs": [],
   "source": [
    "from langgraph.prebuilt import create_react_agent\n",
    "\n",
    "# Create a researcher agent with access to two tools + the handoff tool\n",
    "research_agent = create_react_agent(\n",
    "    llm,\n",
    "    tools=[wikipedia_tool, stock_data_tool, transfer_to_analyst],\n",
    "    prompt=\"You provide summaries from Wikipedia, and can load raw, numerical stock performance data from CSV files.\",\n",
    "    name=\"researcher\"\n",
    ")\n",
    "\n",
    "# Create a analyst agent with access to one tool + the handoff tool\n",
    "analyst_agent = create_react_agent(\n",
    "    llm,\n",
    "    tools=[python_repl_tool, transfer_to_researcher],\n",
    "    prompt=\"You generate plots of stock performance data provided by another assistant.\",\n",
    "    name=\"analyst\"\n",
    ")"
   ]
  },
  {
   "cell_type": "markdown",
   "id": "a8890a40-2057-4260-b562-56c2c7669f95",
   "metadata": {},
   "source": [
    "Now to bring the agents together! We'll create a short-term memory so the graph can track which agents have been called, and then create the swarm using the handy `create_swarm()` function, setting the default agent to `\"researcher\"`.\n",
    "\n",
    "The LangGraph `InMemorySaver` class is equivalent to the `State` implementation you wrote for the single-agent case. For multi-agents, having a memory is crucial to enable successful collaboration between agents.\n",
    "\n",
    "The memory is past to the `checkpointer` argument of `.compile()`, and a config is required that has been provided for you."
   ]
  },
  {
   "cell_type": "markdown",
   "id": "930ba4bf-f6f1-4e1f-aa03-fc0e4af63603",
   "metadata": {},
   "source": [
    "**Complete the code to create the swarm multi-agent system, setting the default agent to `\"researcher\"`.**"
   ]
  },
  {
   "cell_type": "code",
   "execution_count": 5,
   "id": "0fb6e47f-eb16-4b19-bdec-4d8172bf5d7f",
   "metadata": {
    "executionCancelledAt": null,
    "executionTime": 50,
    "lastExecutedAt": 1754002749766,
    "lastExecutedByKernel": "8ac172d7-f2c2-4442-aad8-8decd6b5018a",
    "lastScheduledRunId": null,
    "lastSuccessfullyExecutedCode": "from langgraph_swarm import create_swarm\nfrom langgraph.checkpoint.memory import InMemorySaver\n\nconfig = {\"configurable\": {\"thread_id\": \"1\", \"user_id\": \"1\"}}\ncheckpointer = InMemorySaver()\n\n# Create the swarm multi-agent graph and compile it\nswarm = create_swarm(\n    agents=[research_agent, analyst_agent],\n    default_active_agent=\"researcher\"\n).compile(checkpointer=checkpointer)"
   },
   "outputs": [],
   "source": [
    "from langgraph_swarm import create_swarm\n",
    "from langgraph.checkpoint.memory import InMemorySaver\n",
    "\n",
    "config = {\"configurable\": {\"thread_id\": \"1\", \"user_id\": \"1\"}}\n",
    "checkpointer = InMemorySaver()\n",
    "\n",
    "# Create the swarm multi-agent graph and compile it\n",
    "swarm = create_swarm(\n",
    "    agents=[research_agent, analyst_agent],\n",
    "    default_active_agent=\"researcher\"\n",
    ").compile(checkpointer=checkpointer)"
   ]
  },
  {
   "cell_type": "markdown",
   "id": "f440d7eb-3561-4ae6-9b51-63b633008211",
   "metadata": {},
   "source": [
    "Run the two code blocks below to visualize your multi-agent network graph and play around with your system! 🚀\n",
    "\n",
    "Try re-running the same inputs as before to spot the difference!\n",
    "\n",
    "- Tell me about Apple Inc.\n",
    "- AAPL stock price.\n",
    "- My name is <Insert your name>.\n",
    "- Plot an Open price time-series of AAPL."
   ]
  },
  {
   "cell_type": "code",
   "execution_count": 6,
   "id": "5fe95683-bb80-4f6e-bd47-c96b3f366715",
   "metadata": {
    "executionCancelledAt": null,
    "executionTime": 53,
    "lastExecutedAt": 1754002749820,
    "lastExecutedByKernel": "8ac172d7-f2c2-4442-aad8-8decd6b5018a",
    "lastScheduledRunId": null,
    "lastSuccessfullyExecutedCode": "# Visualize your graph\nswarm"
   },
   "outputs": [
    {
     "data": {
      "image/png": "[encoded data removed]",
      "text/plain": [
       "<langgraph.graph.state.CompiledStateGraph object at 0x0000020BE3C1B250>"
      ]
     },
     "execution_count": 6,
     "metadata": {},
     "output_type": "execute_result"
    }
   ],
   "source": [
    "# Visualize your graph\n",
    "swarm"
   ]
  },
  {
   "cell_type": "markdown",
   "id": "64cef197-d288-41ec-88ac-4a61484f50b0",
   "metadata": {},
   "source": [
    "### 🧪 Testing user inputs\n",
    "Time to call the supervisor agent to test out how it performs!\n",
    "\n",
    "- Who is Apple's CEO?\n",
    "- Has Tesla's share price increased over the last month?\n",
    "- Plot a chart of the Google's share price over the last month."
   ]
  },
  {
   "cell_type": "code",
   "execution_count": 7,
   "id": "4b63ccd3-7ff4-460b-97f0-6ab03a21e855",
   "metadata": {
    "executionCancelledAt": null,
    "executionTime": 3511,
    "lastExecutedAt": 1754002753332,
    "lastExecutedByKernel": "8ac172d7-f2c2-4442-aad8-8decd6b5018a",
    "lastScheduledRunId": null,
    "lastSuccessfullyExecutedCode": "from course_helper_functions import pretty_print_messages\n\nfor chunk in swarm.stream(\n    {\"messages\": [{\"role\": \"user\", \"content\": \"Who is Apple's CEO?\"}]}, config\n):\n    pretty_print_messages(chunk)",
    "outputsMetadata": {
     "0": {
      "height": 495,
      "type": "stream"
     },
     "2": {
      "height": 616,
      "type": "stream"
     }
    }
   },
   "outputs": [
    {
     "name": "stderr",
     "output_type": "stream",
     "text": [
      "Failed to multipart ingest runs: langsmith.utils.LangSmithError: Failed to POST https://api.smith.langchain.com/runs/multipart in LangSmith API. HTTPError('403 Client Error: Forbidden for url: https://api.smith.langchain.com/runs/multipart', '{\"error\":\"Forbidden\"}\\n')\n",
      "Failed to send compressed multipart ingest: langsmith.utils.LangSmithError: Failed to POST https://api.smith.langchain.com/runs/multipart in LangSmith API. HTTPError('403 Client Error: Forbidden for url: https://api.smith.langchain.com/runs/multipart', '{\"error\":\"Forbidden\"}\\n')\n",
      "Failed to send compressed multipart ingest: langsmith.utils.LangSmithError: Failed to POST https://api.smith.langchain.com/runs/multipart in LangSmith API. HTTPError('403 Client Error: Forbidden for url: https://api.smith.langchain.com/runs/multipart', '{\"error\":\"Forbidden\"}\\n')\n",
      "Failed to send compressed multipart ingest: langsmith.utils.LangSmithError: Failed to POST https://api.smith.langchain.com/runs/multipart in LangSmith API. HTTPError('403 Client Error: Forbidden for url: https://api.smith.langchain.com/runs/multipart', '{\"error\":\"Forbidden\"}\\n')\n",
      "Failed to send compressed multipart ingest: langsmith.utils.LangSmithError: Failed to POST https://api.smith.langchain.com/runs/multipart in LangSmith API. HTTPError('403 Client Error: Forbidden for url: https://api.smith.langchain.com/runs/multipart', '{\"error\":\"Forbidden\"}\\n')\n"
     ]
    },
    {
     "name": "stdout",
     "output_type": "stream",
     "text": [
      "Update from node researcher:\n",
      "\n",
      "\n",
      "================================\u001b[1m Human Message \u001b[0m=================================\n",
      "\n",
      "Who is Apple's CEO?\n",
      "==================================\u001b[1m Ai Message \u001b[0m==================================\n",
      "Name: researcher\n",
      "Tool Calls:\n",
      "  wikipedia_tool (call_Hh9okucrJP9eydwLCRtbp93x)\n",
      " Call ID: call_Hh9okucrJP9eydwLCRtbp93x\n",
      "  Args:\n",
      "    query: Apple Inc. CEO\n",
      "=================================\u001b[1m Tool Message \u001b[0m=================================\n",
      "Name: wikipedia_tool\n",
      "\n",
      "Successfully executed:\n",
      "Wikipedia summary: Between 1978 and 2007, there were a number of legal disputes between Apple Corps (owned by the Beatles) and the computer manufacturer Apple Computer (now Apple Inc.) over competing trademark rights, specifically over the use of the name \"Apple\" and their respective logos which consist of a profile of an apple. Apple Inc. paid Apple Corps. over three settlements: $80,000 in 1978, $26.5 million in 1991, and $500 million in 2007, when Apple Inc. acquired all the trademarks related to \"Apple\".\n",
      "The disputes provided a notable example of the \"A moron in a hurry\" legal test. They also led to the Guy Goma incident and inspired the Sosumi alert sound.\n",
      "\n",
      "\n",
      "== History of trademark disputes ==\n",
      "\n",
      "\n",
      "=== 1978–1981 ===\n",
      "In 1978, Apple Corps, the Beatles-founded holding company and owner of their record label, Apple Records, filed a lawsuit against Apple Computer for trademark infringement.\n",
      "==================================\u001b[1m Ai Message \u001b[0m==================================\n",
      "Name: researcher\n",
      "Tool Calls:\n",
      "  wikipedia_tool (call_5A1pHmxSv8WWpVHbISYhCiK4)\n",
      " Call ID: call_5A1pHmxSv8WWpVHbISYhCiK4\n",
      "  Args:\n",
      "    query: Tim Cook\n",
      "=================================\u001b[1m Tool Message \u001b[0m=================================\n",
      "Name: wikipedia_tool\n",
      "\n",
      "Successfully executed:\n",
      "Wikipedia summary: Timothy Donald Cook (born November 1, 1960) is an American business executive who is the current chief executive officer of Apple Inc. Cook had previously been the company's chief operating officer under its co-founder Steve Jobs. Cook joined Apple in March 1998 as a senior vice president for worldwide operations, and then as vice president for worldwide sales and operations. He was appointed chief executive of Apple on August 24, 2011, after Jobs resigned.\n",
      "During his tenure as the chief executive of Apple and while serving on its board of directors, he has advocated for the political reform of international and domestic surveillance, cybersecurity, national manufacturing, and environmental preservation. Since becoming CEO, Cook has also replaced Jobs' micromanagement with a more liberal style and implemented a collaborative culture at Apple.\n",
      "Since 2011 when he took over Apple, to 2020, Cook doubled the company's revenue and profit, and the company's market value increased from $348 billion to $1.9 trillion. In 2023, Apple was the largest technology company by revenue, with US$394.33 billion.\n",
      "==================================\u001b[1m Ai Message \u001b[0m==================================\n",
      "Name: researcher\n",
      "\n",
      "The current CEO of Apple Inc. is Timothy Donald Cook, who has been in this position since August 24, 2011. Prior to becoming CEO, Cook served as the company's chief operating officer and had joined Apple in March 1998. Since taking over as CEO, he has significantly increased the company's revenue and market value.\n",
      "\n",
      "\n"
     ]
    },
    {
     "name": "stderr",
     "output_type": "stream",
     "text": [
      "Failed to send compressed multipart ingest: langsmith.utils.LangSmithError: Failed to POST https://api.smith.langchain.com/runs/multipart in LangSmith API. HTTPError('403 Client Error: Forbidden for url: https://api.smith.langchain.com/runs/multipart', '{\"error\":\"Forbidden\"}\\n')\n"
     ]
    }
   ],
   "source": [
    "from course_helper_functions import pretty_print_messages\n",
    "\n",
    "for chunk in swarm.stream(\n",
    "    {\"messages\": [{\"role\": \"user\", \"content\": \"Who is Apple's CEO?\"}]}, config\n",
    "):\n",
    "    pretty_print_messages(chunk)"
   ]
  },
  {
   "cell_type": "markdown",
   "id": "cc408b8a-2d17-4e24-adba-56cb74608780",
   "metadata": {},
   "source": [
    "### 💡 What did we learn here?\n",
    "\n",
    "Congratulations on creating your first multi-agent system! 🤖⛓️🤖\n",
    "\n",
    "Connecting two agents together into a ***swarm*** brought you some results, but there are still a few problems with this approach:\n",
    "\n",
    "1. You had to specifically decide which node the user input should be passed into first. With two nodes, this may be evident, but for more nodes, it may not be, and choosing any one agent may actually limit the functionality or introduce redundancy into the overall system.\n",
    "2. The output of both agents weren't really collated into a final user response in a meaningful way. The user sees the output of the agents, but in cases where both are required, they would likely prefer a single summarized output that responds specifically to their query.\n",
    "\n",
    "We'll now consider a new multi-agent system design to solve these problems: the ***supervisor architecture***!"
   ]
  }
 ],
 "metadata": {
  "editor": "DataLab",
  "kernelspec": {
   "display_name": ".venv",
   "language": "python",
   "name": "python3"
  },
  "language_info": {
   "codemirror_mode": {
    "name": "ipython",
    "version": 3
   },
   "file_extension": ".py",
   "mimetype": "text/x-python",
   "name": "python",
   "nbconvert_exporter": "python",
   "pygments_lexer": "ipython3",
   "version": "3.11.9"
  }
 },
 "nbformat": 4,
 "nbformat_minor": 5
}
